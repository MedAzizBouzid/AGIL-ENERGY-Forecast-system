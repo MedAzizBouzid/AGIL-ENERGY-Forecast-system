{
 "cells": [
  {
   "cell_type": "code",
   "execution_count": 46,
   "metadata": {},
   "outputs": [],
   "source": [
    "import pandas as pd\n",
    "import matplotlib.pyplot as plt\n",
    "import numpy as np\n",
    "import warnings \n",
    "warnings.filterwarnings('ignore')\n",
    "import seaborn as sns\n",
    "\n",
    "import matplotlib.pyplot as plt\n",
    "\n"
   ]
  },
  {
   "cell_type": "code",
   "execution_count": 47,
   "metadata": {},
   "outputs": [],
   "source": [
    "df=pd.read_csv('../../vente_car_bi_hatem.csv',delimiter=';')\n"
   ]
  },
  {
   "cell_type": "code",
   "execution_count": 48,
   "metadata": {},
   "outputs": [
    {
     "name": "stdout",
     "output_type": "stream",
     "text": [
      "<class 'pandas.core.frame.DataFrame'>\n",
      "RangeIndex: 364109 entries, 0 to 364108\n",
      "Data columns (total 8 columns):\n",
      " #   Column  Non-Null Count   Dtype \n",
      "---  ------  --------------   ----- \n",
      " 0   ANCSCP  364109 non-null  int64 \n",
      " 1   NOMCLI  364109 non-null  object\n",
      " 2   DATLIV  364109 non-null  object\n",
      " 3   LIBGVR  364109 non-null  object\n",
      " 4   LIBLOC  364109 non-null  object\n",
      " 5   LIBPRD  364109 non-null  object\n",
      " 6   QTEPRD  364106 non-null  object\n",
      " 7   MNTHT   364106 non-null  object\n",
      "dtypes: int64(1), object(7)\n",
      "memory usage: 22.2+ MB\n"
     ]
    }
   ],
   "source": [
    "df.info()"
   ]
  },
  {
   "cell_type": "code",
   "execution_count": 49,
   "metadata": {},
   "outputs": [
    {
     "data": {
      "text/html": [
       "<div>\n",
       "<style scoped>\n",
       "    .dataframe tbody tr th:only-of-type {\n",
       "        vertical-align: middle;\n",
       "    }\n",
       "\n",
       "    .dataframe tbody tr th {\n",
       "        vertical-align: top;\n",
       "    }\n",
       "\n",
       "    .dataframe thead th {\n",
       "        text-align: right;\n",
       "    }\n",
       "</style>\n",
       "<table border=\"1\" class=\"dataframe\">\n",
       "  <thead>\n",
       "    <tr style=\"text-align: right;\">\n",
       "      <th></th>\n",
       "      <th>ANCSCP</th>\n",
       "      <th>NOMCLI</th>\n",
       "      <th>DATLIV</th>\n",
       "      <th>LIBGVR</th>\n",
       "      <th>LIBLOC</th>\n",
       "      <th>LIBPRD</th>\n",
       "      <th>QTEPRD</th>\n",
       "      <th>MNTHT</th>\n",
       "    </tr>\n",
       "  </thead>\n",
       "  <tbody>\n",
       "    <tr>\n",
       "      <th>0</th>\n",
       "      <td>5452</td>\n",
       "      <td>SADOK BEN SALHA                              ...</td>\n",
       "      <td>02/01/2017</td>\n",
       "      <td>NABEUL</td>\n",
       "      <td>MENZEL TEMIME</td>\n",
       "      <td>PETROLE</td>\n",
       "      <td>4</td>\n",
       "      <td>2737,5</td>\n",
       "    </tr>\n",
       "    <tr>\n",
       "      <th>1</th>\n",
       "      <td>5452</td>\n",
       "      <td>SADOK BEN SALHA                              ...</td>\n",
       "      <td>02/01/2017</td>\n",
       "      <td>NABEUL</td>\n",
       "      <td>MENZEL TEMIME</td>\n",
       "      <td>GASOIL</td>\n",
       "      <td>12</td>\n",
       "      <td>11617,5</td>\n",
       "    </tr>\n",
       "    <tr>\n",
       "      <th>2</th>\n",
       "      <td>5452</td>\n",
       "      <td>SADOK BEN SALHA                              ...</td>\n",
       "      <td>02/01/2017</td>\n",
       "      <td>NABEUL</td>\n",
       "      <td>MENZEL TEMIME</td>\n",
       "      <td>TIMBRE LOI 54 du 19/08/2014</td>\n",
       "      <td>1</td>\n",
       "      <td>0</td>\n",
       "    </tr>\n",
       "    <tr>\n",
       "      <th>3</th>\n",
       "      <td>5452</td>\n",
       "      <td>SADOK BEN SALHA                              ...</td>\n",
       "      <td>20/03/2017</td>\n",
       "      <td>NABEUL</td>\n",
       "      <td>MENZEL TEMIME</td>\n",
       "      <td>TIMBRE LOI 54 du 19/08/2014</td>\n",
       "      <td>1</td>\n",
       "      <td>0</td>\n",
       "    </tr>\n",
       "    <tr>\n",
       "      <th>4</th>\n",
       "      <td>5452</td>\n",
       "      <td>SADOK BEN SALHA                              ...</td>\n",
       "      <td>05/01/2017</td>\n",
       "      <td>NABEUL</td>\n",
       "      <td>MENZEL TEMIME</td>\n",
       "      <td>GASOIL 50</td>\n",
       "      <td>8</td>\n",
       "      <td>9732,144</td>\n",
       "    </tr>\n",
       "  </tbody>\n",
       "</table>\n",
       "</div>"
      ],
      "text/plain": [
       "   ANCSCP                                             NOMCLI      DATLIV  \\\n",
       "0    5452   SADOK BEN SALHA                              ...  02/01/2017   \n",
       "1    5452   SADOK BEN SALHA                              ...  02/01/2017   \n",
       "2    5452   SADOK BEN SALHA                              ...  02/01/2017   \n",
       "3    5452   SADOK BEN SALHA                              ...  20/03/2017   \n",
       "4    5452   SADOK BEN SALHA                              ...  05/01/2017   \n",
       "\n",
       "   LIBGVR         LIBLOC                       LIBPRD QTEPRD     MNTHT  \n",
       "0  NABEUL  MENZEL TEMIME                      PETROLE      4    2737,5  \n",
       "1  NABEUL  MENZEL TEMIME                       GASOIL     12   11617,5  \n",
       "2  NABEUL  MENZEL TEMIME  TIMBRE LOI 54 du 19/08/2014      1         0  \n",
       "3  NABEUL  MENZEL TEMIME  TIMBRE LOI 54 du 19/08/2014      1         0  \n",
       "4  NABEUL  MENZEL TEMIME                    GASOIL 50      8  9732,144  "
      ]
     },
     "execution_count": 49,
     "metadata": {},
     "output_type": "execute_result"
    }
   ],
   "source": [
    "df.head()"
   ]
  },
  {
   "cell_type": "markdown",
   "metadata": {},
   "source": [
    "# 1-Data Prep"
   ]
  },
  {
   "cell_type": "markdown",
   "metadata": {},
   "source": [
    "### 1.1 Remove negative values"
   ]
  },
  {
   "cell_type": "code",
   "execution_count": 50,
   "metadata": {},
   "outputs": [],
   "source": [
    "\n",
    "\n",
    "df['QTEPRD']=df['QTEPRD'].str.replace(',','.')\n",
    "\n",
    "df['QTEPRD']=pd.to_numeric(df['QTEPRD'],errors='raise')\n"
   ]
  },
  {
   "cell_type": "code",
   "execution_count": 51,
   "metadata": {},
   "outputs": [],
   "source": [
    "df['MNTHT']=df['MNTHT'].str.replace(',','.')\n",
    "\n",
    "df['MNTHT']=pd.to_numeric(df['MNTHT'],errors='raise')\n"
   ]
  },
  {
   "cell_type": "code",
   "execution_count": 52,
   "metadata": {},
   "outputs": [],
   "source": [
    "df=df[df['MNTHT']>0]"
   ]
  },
  {
   "cell_type": "code",
   "execution_count": 53,
   "metadata": {},
   "outputs": [],
   "source": [
    "df=df[df['QTEPRD']>0]"
   ]
  },
  {
   "cell_type": "code",
   "execution_count": 54,
   "metadata": {},
   "outputs": [],
   "source": [
    "df.loc[df[\"LIBPRD\"] == \"AGILIX PREMIUM ESSENCE\", \"LIBPRD\"] = \"APS AGILIX PREMIUM ESS.\"\n",
    "df.loc[df[\"LIBPRD\"] == \"AGILIX PREMIUM GASOIL\", \"LIBPRD\"] = \"APG AGILIX PREMIUM GAS.\"\n",
    "valeurs_a_supprimer = [\"B.T.S\", \"PETROLE BUTIMES\", \"FOL\", \"WHITE SPIRIT\",\"PETROLE\"]\n",
    "\n",
    "\n",
    "\n",
    "df = df[~df[\"LIBPRD\"].isin(valeurs_a_supprimer)]"
   ]
  },
  {
   "cell_type": "markdown",
   "metadata": {},
   "source": [
    "#### Add price column"
   ]
  },
  {
   "cell_type": "code",
   "execution_count": 55,
   "metadata": {},
   "outputs": [],
   "source": [
    "df = df.assign(\n",
    "    prixHT=lambda x: x.apply(\n",
    "        lambda row: 0 if row['MNTHT'] < 0 or row['QTEPRD'] == 0 else row['MNTHT'] / row['QTEPRD'], \n",
    "        axis=1\n",
    "    )\n",
    ")"
   ]
  },
  {
   "cell_type": "markdown",
   "metadata": {},
   "source": [
    "### 1.2 Null values"
   ]
  },
  {
   "cell_type": "code",
   "execution_count": 56,
   "metadata": {},
   "outputs": [
    {
     "data": {
      "text/plain": [
       "False"
      ]
     },
     "execution_count": 56,
     "metadata": {},
     "output_type": "execute_result"
    }
   ],
   "source": [
    "df.isnull().values.any()\n"
   ]
  },
  {
   "cell_type": "markdown",
   "metadata": {},
   "source": [
    "### 1.3 Duplicates Values"
   ]
  },
  {
   "cell_type": "code",
   "execution_count": 57,
   "metadata": {},
   "outputs": [
    {
     "name": "stdout",
     "output_type": "stream",
     "text": [
      "Shape of dataset after removing duplicates: (232111, 9)\n"
     ]
    }
   ],
   "source": [
    "df=df.drop_duplicates()\n",
    "print(\"Shape of dataset after removing duplicates:\",df.shape)"
   ]
  },
  {
   "cell_type": "code",
   "execution_count": 58,
   "metadata": {},
   "outputs": [],
   "source": [
    "df=df.drop(columns='NOMCLI')"
   ]
  },
  {
   "cell_type": "markdown",
   "metadata": {},
   "source": [
    "### transform date column for further vizualisation"
   ]
  },
  {
   "cell_type": "code",
   "execution_count": 68,
   "metadata": {},
   "outputs": [
    {
     "data": {
      "text/html": [
       "<div>\n",
       "<style scoped>\n",
       "    .dataframe tbody tr th:only-of-type {\n",
       "        vertical-align: middle;\n",
       "    }\n",
       "\n",
       "    .dataframe tbody tr th {\n",
       "        vertical-align: top;\n",
       "    }\n",
       "\n",
       "    .dataframe thead th {\n",
       "        text-align: right;\n",
       "    }\n",
       "</style>\n",
       "<table border=\"1\" class=\"dataframe\">\n",
       "  <thead>\n",
       "    <tr style=\"text-align: right;\">\n",
       "      <th></th>\n",
       "      <th>ANCSCP</th>\n",
       "      <th>DATLIV</th>\n",
       "      <th>LIBGVR</th>\n",
       "      <th>LIBLOC</th>\n",
       "      <th>LIBPRD</th>\n",
       "      <th>QTEPRD</th>\n",
       "      <th>MNTHT</th>\n",
       "      <th>prixHT</th>\n",
       "      <th>Year</th>\n",
       "      <th>Month</th>\n",
       "      <th>Day</th>\n",
       "      <th>Weekday</th>\n",
       "      <th>Quarter</th>\n",
       "      <th>month_sin</th>\n",
       "      <th>month_cos</th>\n",
       "      <th>day_sin</th>\n",
       "      <th>day_cos</th>\n",
       "      <th>Duration</th>\n",
       "      <th>duration_delivery</th>\n",
       "    </tr>\n",
       "  </thead>\n",
       "  <tbody>\n",
       "    <tr>\n",
       "      <th>135399</th>\n",
       "      <td>5030</td>\n",
       "      <td>2018-07-01</td>\n",
       "      <td>TUNIS</td>\n",
       "      <td>TUNIS VILLE</td>\n",
       "      <td>APS AGILIX PREMIUM ESS.</td>\n",
       "      <td>4.0</td>\n",
       "      <td>6796.976</td>\n",
       "      <td>1699.244</td>\n",
       "      <td>2018</td>\n",
       "      <td>7</td>\n",
       "      <td>1</td>\n",
       "      <td>6</td>\n",
       "      <td>3</td>\n",
       "      <td>-5.000000e-01</td>\n",
       "      <td>-8.660254e-01</td>\n",
       "      <td>0.201299</td>\n",
       "      <td>0.979530</td>\n",
       "      <td>0</td>\n",
       "      <td>0</td>\n",
       "    </tr>\n",
       "    <tr>\n",
       "      <th>135976</th>\n",
       "      <td>5030</td>\n",
       "      <td>2018-07-16</td>\n",
       "      <td>TUNIS</td>\n",
       "      <td>TUNIS VILLE</td>\n",
       "      <td>APS AGILIX PREMIUM ESS.</td>\n",
       "      <td>3.0</td>\n",
       "      <td>5097.732</td>\n",
       "      <td>1699.244</td>\n",
       "      <td>2018</td>\n",
       "      <td>7</td>\n",
       "      <td>16</td>\n",
       "      <td>0</td>\n",
       "      <td>3</td>\n",
       "      <td>-5.000000e-01</td>\n",
       "      <td>-8.660254e-01</td>\n",
       "      <td>-0.101168</td>\n",
       "      <td>-0.994869</td>\n",
       "      <td>15</td>\n",
       "      <td>15</td>\n",
       "    </tr>\n",
       "    <tr>\n",
       "      <th>136048</th>\n",
       "      <td>5030</td>\n",
       "      <td>2018-07-30</td>\n",
       "      <td>TUNIS</td>\n",
       "      <td>TUNIS VILLE</td>\n",
       "      <td>APS AGILIX PREMIUM ESS.</td>\n",
       "      <td>4.0</td>\n",
       "      <td>6796.976</td>\n",
       "      <td>1699.244</td>\n",
       "      <td>2018</td>\n",
       "      <td>7</td>\n",
       "      <td>30</td>\n",
       "      <td>0</td>\n",
       "      <td>3</td>\n",
       "      <td>-5.000000e-01</td>\n",
       "      <td>-8.660254e-01</td>\n",
       "      <td>-0.201299</td>\n",
       "      <td>0.979530</td>\n",
       "      <td>14</td>\n",
       "      <td>14</td>\n",
       "    </tr>\n",
       "    <tr>\n",
       "      <th>136561</th>\n",
       "      <td>5030</td>\n",
       "      <td>2018-08-28</td>\n",
       "      <td>TUNIS</td>\n",
       "      <td>TUNIS VILLE</td>\n",
       "      <td>APS AGILIX PREMIUM ESS.</td>\n",
       "      <td>4.0</td>\n",
       "      <td>6796.976</td>\n",
       "      <td>1699.244</td>\n",
       "      <td>2018</td>\n",
       "      <td>8</td>\n",
       "      <td>28</td>\n",
       "      <td>1</td>\n",
       "      <td>3</td>\n",
       "      <td>-8.660254e-01</td>\n",
       "      <td>-5.000000e-01</td>\n",
       "      <td>-0.571268</td>\n",
       "      <td>0.820763</td>\n",
       "      <td>29</td>\n",
       "      <td>29</td>\n",
       "    </tr>\n",
       "    <tr>\n",
       "      <th>137744</th>\n",
       "      <td>5030</td>\n",
       "      <td>2018-09-08</td>\n",
       "      <td>TUNIS</td>\n",
       "      <td>TUNIS VILLE</td>\n",
       "      <td>APS AGILIX PREMIUM ESS.</td>\n",
       "      <td>3.0</td>\n",
       "      <td>5248.992</td>\n",
       "      <td>1749.664</td>\n",
       "      <td>2018</td>\n",
       "      <td>9</td>\n",
       "      <td>8</td>\n",
       "      <td>5</td>\n",
       "      <td>3</td>\n",
       "      <td>-1.000000e+00</td>\n",
       "      <td>-1.836970e-16</td>\n",
       "      <td>0.998717</td>\n",
       "      <td>-0.050649</td>\n",
       "      <td>11</td>\n",
       "      <td>11</td>\n",
       "    </tr>\n",
       "    <tr>\n",
       "      <th>...</th>\n",
       "      <td>...</td>\n",
       "      <td>...</td>\n",
       "      <td>...</td>\n",
       "      <td>...</td>\n",
       "      <td>...</td>\n",
       "      <td>...</td>\n",
       "      <td>...</td>\n",
       "      <td>...</td>\n",
       "      <td>...</td>\n",
       "      <td>...</td>\n",
       "      <td>...</td>\n",
       "      <td>...</td>\n",
       "      <td>...</td>\n",
       "      <td>...</td>\n",
       "      <td>...</td>\n",
       "      <td>...</td>\n",
       "      <td>...</td>\n",
       "      <td>...</td>\n",
       "      <td>...</td>\n",
       "    </tr>\n",
       "    <tr>\n",
       "      <th>105919</th>\n",
       "      <td>5597</td>\n",
       "      <td>2019-11-29</td>\n",
       "      <td>TATAOUINE</td>\n",
       "      <td>TATAOUINE</td>\n",
       "      <td>SSP SUPER SANS PLOMB</td>\n",
       "      <td>7.0</td>\n",
       "      <td>11681.173</td>\n",
       "      <td>1668.739</td>\n",
       "      <td>2019</td>\n",
       "      <td>11</td>\n",
       "      <td>29</td>\n",
       "      <td>4</td>\n",
       "      <td>4</td>\n",
       "      <td>-5.000000e-01</td>\n",
       "      <td>8.660254e-01</td>\n",
       "      <td>-0.394356</td>\n",
       "      <td>0.918958</td>\n",
       "      <td>7</td>\n",
       "      <td>7</td>\n",
       "    </tr>\n",
       "    <tr>\n",
       "      <th>105962</th>\n",
       "      <td>5597</td>\n",
       "      <td>2019-12-11</td>\n",
       "      <td>TATAOUINE</td>\n",
       "      <td>TATAOUINE</td>\n",
       "      <td>SSP SUPER SANS PLOMB</td>\n",
       "      <td>2.0</td>\n",
       "      <td>3337.478</td>\n",
       "      <td>1668.739</td>\n",
       "      <td>2019</td>\n",
       "      <td>12</td>\n",
       "      <td>11</td>\n",
       "      <td>2</td>\n",
       "      <td>4</td>\n",
       "      <td>-2.449294e-16</td>\n",
       "      <td>1.000000e+00</td>\n",
       "      <td>0.790776</td>\n",
       "      <td>-0.612106</td>\n",
       "      <td>12</td>\n",
       "      <td>12</td>\n",
       "    </tr>\n",
       "    <tr>\n",
       "      <th>105968</th>\n",
       "      <td>5597</td>\n",
       "      <td>2019-12-16</td>\n",
       "      <td>TATAOUINE</td>\n",
       "      <td>TATAOUINE</td>\n",
       "      <td>SSP SUPER SANS PLOMB</td>\n",
       "      <td>4.0</td>\n",
       "      <td>6674.956</td>\n",
       "      <td>1668.739</td>\n",
       "      <td>2019</td>\n",
       "      <td>12</td>\n",
       "      <td>16</td>\n",
       "      <td>0</td>\n",
       "      <td>4</td>\n",
       "      <td>-2.449294e-16</td>\n",
       "      <td>1.000000e+00</td>\n",
       "      <td>-0.101168</td>\n",
       "      <td>-0.994869</td>\n",
       "      <td>5</td>\n",
       "      <td>5</td>\n",
       "    </tr>\n",
       "    <tr>\n",
       "      <th>105941</th>\n",
       "      <td>5597</td>\n",
       "      <td>2019-12-20</td>\n",
       "      <td>TATAOUINE</td>\n",
       "      <td>TATAOUINE</td>\n",
       "      <td>SSP SUPER SANS PLOMB</td>\n",
       "      <td>3.0</td>\n",
       "      <td>5006.217</td>\n",
       "      <td>1668.739</td>\n",
       "      <td>2019</td>\n",
       "      <td>12</td>\n",
       "      <td>20</td>\n",
       "      <td>4</td>\n",
       "      <td>4</td>\n",
       "      <td>-2.449294e-16</td>\n",
       "      <td>1.000000e+00</td>\n",
       "      <td>-0.790776</td>\n",
       "      <td>-0.612106</td>\n",
       "      <td>4</td>\n",
       "      <td>4</td>\n",
       "    </tr>\n",
       "    <tr>\n",
       "      <th>105945</th>\n",
       "      <td>5597</td>\n",
       "      <td>2019-12-26</td>\n",
       "      <td>TATAOUINE</td>\n",
       "      <td>TATAOUINE</td>\n",
       "      <td>SSP SUPER SANS PLOMB</td>\n",
       "      <td>4.0</td>\n",
       "      <td>6674.956</td>\n",
       "      <td>1668.739</td>\n",
       "      <td>2019</td>\n",
       "      <td>12</td>\n",
       "      <td>26</td>\n",
       "      <td>3</td>\n",
       "      <td>4</td>\n",
       "      <td>-2.449294e-16</td>\n",
       "      <td>1.000000e+00</td>\n",
       "      <td>-0.848644</td>\n",
       "      <td>0.528964</td>\n",
       "      <td>6</td>\n",
       "      <td>6</td>\n",
       "    </tr>\n",
       "  </tbody>\n",
       "</table>\n",
       "<p>232111 rows × 19 columns</p>\n",
       "</div>"
      ],
      "text/plain": [
       "        ANCSCP     DATLIV     LIBGVR       LIBLOC                   LIBPRD  \\\n",
       "135399    5030 2018-07-01      TUNIS  TUNIS VILLE  APS AGILIX PREMIUM ESS.   \n",
       "135976    5030 2018-07-16      TUNIS  TUNIS VILLE  APS AGILIX PREMIUM ESS.   \n",
       "136048    5030 2018-07-30      TUNIS  TUNIS VILLE  APS AGILIX PREMIUM ESS.   \n",
       "136561    5030 2018-08-28      TUNIS  TUNIS VILLE  APS AGILIX PREMIUM ESS.   \n",
       "137744    5030 2018-09-08      TUNIS  TUNIS VILLE  APS AGILIX PREMIUM ESS.   \n",
       "...        ...        ...        ...          ...                      ...   \n",
       "105919    5597 2019-11-29  TATAOUINE    TATAOUINE     SSP SUPER SANS PLOMB   \n",
       "105962    5597 2019-12-11  TATAOUINE    TATAOUINE     SSP SUPER SANS PLOMB   \n",
       "105968    5597 2019-12-16  TATAOUINE    TATAOUINE     SSP SUPER SANS PLOMB   \n",
       "105941    5597 2019-12-20  TATAOUINE    TATAOUINE     SSP SUPER SANS PLOMB   \n",
       "105945    5597 2019-12-26  TATAOUINE    TATAOUINE     SSP SUPER SANS PLOMB   \n",
       "\n",
       "        QTEPRD      MNTHT    prixHT  Year  Month  Day  Weekday  Quarter  \\\n",
       "135399     4.0   6796.976  1699.244  2018      7    1        6        3   \n",
       "135976     3.0   5097.732  1699.244  2018      7   16        0        3   \n",
       "136048     4.0   6796.976  1699.244  2018      7   30        0        3   \n",
       "136561     4.0   6796.976  1699.244  2018      8   28        1        3   \n",
       "137744     3.0   5248.992  1749.664  2018      9    8        5        3   \n",
       "...        ...        ...       ...   ...    ...  ...      ...      ...   \n",
       "105919     7.0  11681.173  1668.739  2019     11   29        4        4   \n",
       "105962     2.0   3337.478  1668.739  2019     12   11        2        4   \n",
       "105968     4.0   6674.956  1668.739  2019     12   16        0        4   \n",
       "105941     3.0   5006.217  1668.739  2019     12   20        4        4   \n",
       "105945     4.0   6674.956  1668.739  2019     12   26        3        4   \n",
       "\n",
       "           month_sin     month_cos   day_sin   day_cos  Duration  \\\n",
       "135399 -5.000000e-01 -8.660254e-01  0.201299  0.979530         0   \n",
       "135976 -5.000000e-01 -8.660254e-01 -0.101168 -0.994869        15   \n",
       "136048 -5.000000e-01 -8.660254e-01 -0.201299  0.979530        14   \n",
       "136561 -8.660254e-01 -5.000000e-01 -0.571268  0.820763        29   \n",
       "137744 -1.000000e+00 -1.836970e-16  0.998717 -0.050649        11   \n",
       "...              ...           ...       ...       ...       ...   \n",
       "105919 -5.000000e-01  8.660254e-01 -0.394356  0.918958         7   \n",
       "105962 -2.449294e-16  1.000000e+00  0.790776 -0.612106        12   \n",
       "105968 -2.449294e-16  1.000000e+00 -0.101168 -0.994869         5   \n",
       "105941 -2.449294e-16  1.000000e+00 -0.790776 -0.612106         4   \n",
       "105945 -2.449294e-16  1.000000e+00 -0.848644  0.528964         6   \n",
       "\n",
       "        duration_delivery  \n",
       "135399                  0  \n",
       "135976                 15  \n",
       "136048                 14  \n",
       "136561                 29  \n",
       "137744                 11  \n",
       "...                   ...  \n",
       "105919                  7  \n",
       "105962                 12  \n",
       "105968                  5  \n",
       "105941                  4  \n",
       "105945                  6  \n",
       "\n",
       "[232111 rows x 19 columns]"
      ]
     },
     "execution_count": 68,
     "metadata": {},
     "output_type": "execute_result"
    }
   ],
   "source": [
    "df['DATLIV'] = pd.to_datetime(df['DATLIV'], format='%d/%m/%Y')\n",
    "df['Year'] = df['DATLIV'].dt.year\n",
    "df['Month'] = df['DATLIV'].dt.month\n",
    "df['Day'] = df['DATLIV'].dt.day\n",
    "df['Weekday'] = df['DATLIV'].dt.weekday\n",
    "df['Quarter'] = df['DATLIV'].dt.quarter\n",
    "df['month_sin'] = np.sin(2 * np.pi * df['Month'] / 12)\n",
    "df['month_cos'] = np.cos(2 * np.pi * df['Month'] / 12)\n",
    "df['day_sin'] = np.sin(2 * np.pi * df['Day'] / 31)\n",
    "df['day_cos'] = np.cos(2 * np.pi * df['Day'] / 31)\n",
    "df"
   ]
  },
  {
   "cell_type": "code",
   "execution_count": 60,
   "metadata": {},
   "outputs": [
    {
     "data": {
      "text/plain": [
       "Weekday\n",
       "5    47340\n",
       "0    39254\n",
       "4    36383\n",
       "2    35267\n",
       "1    34954\n",
       "3    34411\n",
       "6     4502\n",
       "Name: count, dtype: int64"
      ]
     },
     "execution_count": 60,
     "metadata": {},
     "output_type": "execute_result"
    }
   ],
   "source": [
    "df['Weekday'].value_counts()"
   ]
  },
  {
   "cell_type": "markdown",
   "metadata": {},
   "source": [
    "### 1.4 Data vizualisation"
   ]
  },
  {
   "cell_type": "code",
   "execution_count": 61,
   "metadata": {},
   "outputs": [
    {
     "data": {
      "image/png": "[encoded data removed]",
      "text/plain": [
       "<Figure size 1200x600 with 1 Axes>"
      ]
     },
     "metadata": {},
     "output_type": "display_data"
    }
   ],
   "source": [
    "weekday_counts = df['Weekday'].value_counts().sort_index()\n",
    "\n",
    "# Create a list of weekday names\n",
    "weekdays = ['Monday', 'Tuesday', 'Wednesday', 'Thursday', 'Friday', 'Saturday', 'Sunday']\n",
    "\n",
    "# Create the bar chart\n",
    "plt.figure(figsize=(12, 6))\n",
    "weekday_counts.plot(kind='bar')\n",
    "plt.xticks(range(len(weekdays)), weekdays)\n",
    "plt.xlabel('Weekday')\n",
    "plt.ylabel('Number of Deliveries')\n",
    "plt.title('Number of eliveries per  Weekday from 2017-2019')\n",
    "plt.show()"
   ]
  },
  {
   "cell_type": "code",
   "execution_count": 62,
   "metadata": {},
   "outputs": [
    {
     "data": {
      "image/png": "[encoded data removed]",
      "text/plain": [
       "<Figure size 1200x600 with 1 Axes>"
      ]
     },
     "metadata": {},
     "output_type": "display_data"
    }
   ],
   "source": [
    "weekday_counts = df['Month'].value_counts().sort_index()\n",
    "\n",
    "# Create a list of weekday names\n",
    "months = ['January', 'February', 'March', 'April', 'May', 'Juin', 'July','August','September','October','November','December']\n",
    "\n",
    "# Create the bar chart\n",
    "plt.figure(figsize=(12, 6))\n",
    "weekday_counts.plot(kind='bar')\n",
    "plt.xticks(range(len(months)), months)\n",
    "plt.xlabel('Month')\n",
    "plt.ylabel('Number of Deliveries')\n",
    "plt.title('Most Deleveries per month between 2017-2019')\n",
    "plt.show()"
   ]
  },
  {
   "cell_type": "markdown",
   "metadata": {},
   "source": [
    "# 2- Data Preparation"
   ]
  },
  {
   "cell_type": "markdown",
   "metadata": {},
   "source": [
    "#### 2.1 Define the outliers"
   ]
  },
  {
   "cell_type": "code",
   "execution_count": 63,
   "metadata": {},
   "outputs": [
    {
     "data": {
      "image/png": "[encoded data removed]",
      "text/plain": [
       "<Figure size 1000x600 with 1 Axes>"
      ]
     },
     "metadata": {},
     "output_type": "display_data"
    }
   ],
   "source": [
    "import seaborn as sns\n",
    "\n",
    "\n",
    "numerical_columns = df.select_dtypes(include=['float64']).columns\n",
    "# Create a boxplot for all numerical columns on the same graph\n",
    "plt.figure(figsize=(10, 6))  # Adjust size if needed\n",
    "sns.boxplot(data=df[numerical_columns], orient='h')\n",
    "plt.title('Boxplots of Numerical Columns')\n",
    "plt.show()"
   ]
  },
  {
   "cell_type": "code",
   "execution_count": 64,
   "metadata": {},
   "outputs": [
    {
     "data": {
      "text/html": [
       "<div>\n",
       "<style scoped>\n",
       "    .dataframe tbody tr th:only-of-type {\n",
       "        vertical-align: middle;\n",
       "    }\n",
       "\n",
       "    .dataframe tbody tr th {\n",
       "        vertical-align: top;\n",
       "    }\n",
       "\n",
       "    .dataframe thead th {\n",
       "        text-align: right;\n",
       "    }\n",
       "</style>\n",
       "<table border=\"1\" class=\"dataframe\">\n",
       "  <thead>\n",
       "    <tr style=\"text-align: right;\">\n",
       "      <th></th>\n",
       "      <th>ANCSCP</th>\n",
       "      <th>DATLIV</th>\n",
       "      <th>LIBGVR</th>\n",
       "      <th>LIBLOC</th>\n",
       "      <th>LIBPRD</th>\n",
       "      <th>QTEPRD</th>\n",
       "      <th>MNTHT</th>\n",
       "      <th>prixHT</th>\n",
       "      <th>Year</th>\n",
       "      <th>Month</th>\n",
       "      <th>Day</th>\n",
       "      <th>Weekday</th>\n",
       "      <th>Quarter</th>\n",
       "      <th>month_sin</th>\n",
       "      <th>month_cos</th>\n",
       "      <th>day_sin</th>\n",
       "      <th>day_cos</th>\n",
       "    </tr>\n",
       "  </thead>\n",
       "  <tbody>\n",
       "    <tr>\n",
       "      <th>27</th>\n",
       "      <td>5452</td>\n",
       "      <td>2017-01-26</td>\n",
       "      <td>NABEUL</td>\n",
       "      <td>MENZEL TEMIME</td>\n",
       "      <td>GASOIL</td>\n",
       "      <td>22.0</td>\n",
       "      <td>21298.750</td>\n",
       "      <td>968.125</td>\n",
       "      <td>2017</td>\n",
       "      <td>1</td>\n",
       "      <td>26</td>\n",
       "      <td>3</td>\n",
       "      <td>1</td>\n",
       "      <td>0.500000</td>\n",
       "      <td>0.866025</td>\n",
       "      <td>-0.848644</td>\n",
       "      <td>0.528964</td>\n",
       "    </tr>\n",
       "    <tr>\n",
       "      <th>63</th>\n",
       "      <td>5452</td>\n",
       "      <td>2017-01-24</td>\n",
       "      <td>NABEUL</td>\n",
       "      <td>MENZEL TEMIME</td>\n",
       "      <td>GASOIL</td>\n",
       "      <td>24.0</td>\n",
       "      <td>23235.000</td>\n",
       "      <td>968.125</td>\n",
       "      <td>2017</td>\n",
       "      <td>1</td>\n",
       "      <td>24</td>\n",
       "      <td>1</td>\n",
       "      <td>1</td>\n",
       "      <td>0.500000</td>\n",
       "      <td>0.866025</td>\n",
       "      <td>-0.988468</td>\n",
       "      <td>0.151428</td>\n",
       "    </tr>\n",
       "    <tr>\n",
       "      <th>99</th>\n",
       "      <td>5452</td>\n",
       "      <td>2017-02-01</td>\n",
       "      <td>NABEUL</td>\n",
       "      <td>MENZEL TEMIME</td>\n",
       "      <td>GASOIL</td>\n",
       "      <td>28.0</td>\n",
       "      <td>27107.500</td>\n",
       "      <td>968.125</td>\n",
       "      <td>2017</td>\n",
       "      <td>2</td>\n",
       "      <td>1</td>\n",
       "      <td>2</td>\n",
       "      <td>1</td>\n",
       "      <td>0.866025</td>\n",
       "      <td>0.500000</td>\n",
       "      <td>0.201299</td>\n",
       "      <td>0.979530</td>\n",
       "    </tr>\n",
       "    <tr>\n",
       "      <th>102</th>\n",
       "      <td>5452</td>\n",
       "      <td>2017-02-16</td>\n",
       "      <td>NABEUL</td>\n",
       "      <td>MENZEL TEMIME</td>\n",
       "      <td>GASOIL</td>\n",
       "      <td>23.0</td>\n",
       "      <td>22266.875</td>\n",
       "      <td>968.125</td>\n",
       "      <td>2017</td>\n",
       "      <td>2</td>\n",
       "      <td>16</td>\n",
       "      <td>3</td>\n",
       "      <td>1</td>\n",
       "      <td>0.866025</td>\n",
       "      <td>0.500000</td>\n",
       "      <td>-0.101168</td>\n",
       "      <td>-0.994869</td>\n",
       "    </tr>\n",
       "    <tr>\n",
       "      <th>136</th>\n",
       "      <td>5452</td>\n",
       "      <td>2017-02-27</td>\n",
       "      <td>NABEUL</td>\n",
       "      <td>MENZEL TEMIME</td>\n",
       "      <td>GASOIL</td>\n",
       "      <td>22.0</td>\n",
       "      <td>21298.750</td>\n",
       "      <td>968.125</td>\n",
       "      <td>2017</td>\n",
       "      <td>2</td>\n",
       "      <td>27</td>\n",
       "      <td>0</td>\n",
       "      <td>1</td>\n",
       "      <td>0.866025</td>\n",
       "      <td>0.500000</td>\n",
       "      <td>-0.724793</td>\n",
       "      <td>0.688967</td>\n",
       "    </tr>\n",
       "  </tbody>\n",
       "</table>\n",
       "</div>"
      ],
      "text/plain": [
       "     ANCSCP     DATLIV  LIBGVR         LIBLOC  LIBPRD  QTEPRD      MNTHT  \\\n",
       "27     5452 2017-01-26  NABEUL  MENZEL TEMIME  GASOIL    22.0  21298.750   \n",
       "63     5452 2017-01-24  NABEUL  MENZEL TEMIME  GASOIL    24.0  23235.000   \n",
       "99     5452 2017-02-01  NABEUL  MENZEL TEMIME  GASOIL    28.0  27107.500   \n",
       "102    5452 2017-02-16  NABEUL  MENZEL TEMIME  GASOIL    23.0  22266.875   \n",
       "136    5452 2017-02-27  NABEUL  MENZEL TEMIME  GASOIL    22.0  21298.750   \n",
       "\n",
       "      prixHT  Year  Month  Day  Weekday  Quarter  month_sin  month_cos  \\\n",
       "27   968.125  2017      1   26        3        1   0.500000   0.866025   \n",
       "63   968.125  2017      1   24        1        1   0.500000   0.866025   \n",
       "99   968.125  2017      2    1        2        1   0.866025   0.500000   \n",
       "102  968.125  2017      2   16        3        1   0.866025   0.500000   \n",
       "136  968.125  2017      2   27        0        1   0.866025   0.500000   \n",
       "\n",
       "      day_sin   day_cos  \n",
       "27  -0.848644  0.528964  \n",
       "63  -0.988468  0.151428  \n",
       "99   0.201299  0.979530  \n",
       "102 -0.101168 -0.994869  \n",
       "136 -0.724793  0.688967  "
      ]
     },
     "execution_count": 64,
     "metadata": {},
     "output_type": "execute_result"
    }
   ],
   "source": [
    "# Sélectionner les colonnes numériques\n",
    "numerical_columns = df.select_dtypes(include=['float64']).columns\n",
    "\n",
    "# Initialiser un DataFrame pour stocker les outliers\n",
    "outliers = pd.DataFrame()\n",
    "\n",
    "# Parcourir chaque colonne numérique\n",
    "for col in numerical_columns:\n",
    "    # Calculer le 1er et le 3e quartile (Q1 et Q3)\n",
    "    Q1 = df[col].quantile(0.25)\n",
    "    Q3 = df[col].quantile(0.75)\n",
    "    \n",
    "    # Calculer l'IQR\n",
    "    IQR = Q3 - Q1\n",
    "    \n",
    "    # Définir les bornes pour les outliers\n",
    "    lower_bound = Q1 - 1.5 * IQR\n",
    "    upper_bound = Q3 + 1.5 * IQR\n",
    "    \n",
    "    # Filtrer les lignes avec des valeurs aberrantes\n",
    "    outliers_col = df[(df[col] < lower_bound) | (df[col] > upper_bound)]\n",
    "    \n",
    "    # Ajouter ces lignes au DataFrame des outliers\n",
    "    outliers = pd.concat([outliers, outliers_col])\n",
    "\n",
    "# Afficher les lignes contenant des outliers\n",
    "outliers.drop_duplicates(inplace=True)  # Supprimer les doublons si une ligne est outlier dans plusieurs colonnes\n",
    "outliers.head()"
   ]
  },
  {
   "cell_type": "code",
   "execution_count": 65,
   "metadata": {},
   "outputs": [],
   "source": [
    "df = df.sort_values(by=['ANCSCP', 'LIBGVR', 'LIBLOC','LIBPRD','DATLIV'])\n"
   ]
  },
  {
   "cell_type": "markdown",
   "metadata": {},
   "source": [
    "### 2.2 Feature engineering"
   ]
  },
  {
   "cell_type": "markdown",
   "metadata": {},
   "source": [
    "#### add next_call_days feature"
   ]
  },
  {
   "cell_type": "code",
   "execution_count": 76,
   "metadata": {},
   "outputs": [],
   "source": [
    "df['next_call'] = df.groupby(['ANCSCP', 'LIBGVR', 'LIBLOC', 'LIBPRD'])['DATLIV'].shift(-1)\n",
    "\n",
    "# Calculer la différence entre la date actuelle et la prochaine livraison\n",
    "df['next_call'] = (df['next_call'] - df['DATLIV']).dt.days\n",
    "\n",
    "# Remplacer les NaN par 0 (cela signifie que c'était la dernière livraison pour ce groupe)\n"
   ]
  },
  {
   "cell_type": "markdown",
   "metadata": {},
   "source": [
    "#### add last quantity delivered"
   ]
  },
  {
   "cell_type": "code",
   "execution_count": 69,
   "metadata": {},
   "outputs": [],
   "source": [
    "df['last_qauntity_delivered'] = df.groupby(['ANCSCP','LIBPRD','LIBLOC'])['QTEPRD'].shift(1)\n"
   ]
  },
  {
   "cell_type": "code",
   "execution_count": 83,
   "metadata": {},
   "outputs": [],
   "source": [
    "df=df.drop(columns='QTEPRD')\n",
    "df=df.drop(columns='Duration')\n",
    "df=df.drop(columns='duration_delivery')\n",
    "df=df.drop(columns='MNTHT')"
   ]
  },
  {
   "cell_type": "code",
   "execution_count": 85,
   "metadata": {},
   "outputs": [],
   "source": [
    "df['last_qauntity_delivered'].fillna(0, inplace=True)\n",
    "df['next_call'].fillna(0, inplace=True)\n"
   ]
  },
  {
   "cell_type": "code",
   "execution_count": 150,
   "metadata": {},
   "outputs": [
    {
     "data": {
      "image/png": "[encoded data removed]",
      "text/plain": [
       "<Figure size 1000x600 with 1 Axes>"
      ]
     },
     "metadata": {},
     "output_type": "display_data"
    }
   ],
   "source": [
    "numerical_columns = df.select_dtypes(include=['float64']).columns\n",
    "# Create a boxplot for all numerical columns on the same graph\n",
    "plt.figure(figsize=(10, 6))  # Adjust size if needed\n",
    "sns.boxplot(data=df[numerical_columns], orient='h')\n",
    "plt.title('Boxplots of Numerical Columns')\n",
    "plt.show()"
   ]
  },
  {
   "cell_type": "code",
   "execution_count": 152,
   "metadata": {},
   "outputs": [
    {
     "data": {
      "text/html": [
       "<div>\n",
       "<style scoped>\n",
       "    .dataframe tbody tr th:only-of-type {\n",
       "        vertical-align: middle;\n",
       "    }\n",
       "\n",
       "    .dataframe tbody tr th {\n",
       "        vertical-align: top;\n",
       "    }\n",
       "\n",
       "    .dataframe thead th {\n",
       "        text-align: right;\n",
       "    }\n",
       "</style>\n",
       "<table border=\"1\" class=\"dataframe\">\n",
       "  <thead>\n",
       "    <tr style=\"text-align: right;\">\n",
       "      <th></th>\n",
       "      <th>next_call</th>\n",
       "    </tr>\n",
       "  </thead>\n",
       "  <tbody>\n",
       "    <tr>\n",
       "      <th>count</th>\n",
       "      <td>216029.000000</td>\n",
       "    </tr>\n",
       "    <tr>\n",
       "      <th>mean</th>\n",
       "      <td>2.286295</td>\n",
       "    </tr>\n",
       "    <tr>\n",
       "      <th>std</th>\n",
       "      <td>1.372394</td>\n",
       "    </tr>\n",
       "    <tr>\n",
       "      <th>min</th>\n",
       "      <td>0.000000</td>\n",
       "    </tr>\n",
       "    <tr>\n",
       "      <th>25%</th>\n",
       "      <td>1.000000</td>\n",
       "    </tr>\n",
       "    <tr>\n",
       "      <th>50%</th>\n",
       "      <td>2.000000</td>\n",
       "    </tr>\n",
       "    <tr>\n",
       "      <th>75%</th>\n",
       "      <td>3.000000</td>\n",
       "    </tr>\n",
       "    <tr>\n",
       "      <th>max</th>\n",
       "      <td>6.000000</td>\n",
       "    </tr>\n",
       "  </tbody>\n",
       "</table>\n",
       "</div>"
      ],
      "text/plain": [
       "           next_call\n",
       "count  216029.000000\n",
       "mean        2.286295\n",
       "std         1.372394\n",
       "min         0.000000\n",
       "25%         1.000000\n",
       "50%         2.000000\n",
       "75%         3.000000\n",
       "max         6.000000"
      ]
     },
     "execution_count": 152,
     "metadata": {},
     "output_type": "execute_result"
    }
   ],
   "source": [
    "Q1 = df['next_call'].quantile(0.25)\n",
    "Q3 = df['next_call'].quantile(0.75)\n",
    "IQR = Q3 - Q1\n",
    "\n",
    "# Définir les bornes inférieure et supérieure\n",
    "lower_bound = Q1 - 1.5 * IQR\n",
    "upper_bound = Q3 + 1.5 * IQR\n",
    "\n",
    "# Filtrer les lignes qui sont dans les bornes (sans outliers)\n",
    "df = df[(df['next_call'] >= lower_bound) & (df['next_call'] <= upper_bound)]\n",
    "\n",
    "# Vérifier le résultat\n",
    "df[['next_call']].describe()"
   ]
  },
  {
   "cell_type": "code",
   "execution_count": 200,
   "metadata": {},
   "outputs": [
    {
     "data": {
      "text/html": [
       "<div>\n",
       "<style scoped>\n",
       "    .dataframe tbody tr th:only-of-type {\n",
       "        vertical-align: middle;\n",
       "    }\n",
       "\n",
       "    .dataframe tbody tr th {\n",
       "        vertical-align: top;\n",
       "    }\n",
       "\n",
       "    .dataframe thead th {\n",
       "        text-align: right;\n",
       "    }\n",
       "</style>\n",
       "<table border=\"1\" class=\"dataframe\">\n",
       "  <thead>\n",
       "    <tr style=\"text-align: right;\">\n",
       "      <th></th>\n",
       "      <th>last_qauntity_delivered</th>\n",
       "    </tr>\n",
       "  </thead>\n",
       "  <tbody>\n",
       "    <tr>\n",
       "      <th>count</th>\n",
       "      <td>210976.000000</td>\n",
       "    </tr>\n",
       "    <tr>\n",
       "      <th>mean</th>\n",
       "      <td>8.331838</td>\n",
       "    </tr>\n",
       "    <tr>\n",
       "      <th>std</th>\n",
       "      <td>5.385374</td>\n",
       "    </tr>\n",
       "    <tr>\n",
       "      <th>min</th>\n",
       "      <td>0.000000</td>\n",
       "    </tr>\n",
       "    <tr>\n",
       "      <th>25%</th>\n",
       "      <td>4.000000</td>\n",
       "    </tr>\n",
       "    <tr>\n",
       "      <th>50%</th>\n",
       "      <td>7.000000</td>\n",
       "    </tr>\n",
       "    <tr>\n",
       "      <th>75%</th>\n",
       "      <td>11.000000</td>\n",
       "    </tr>\n",
       "    <tr>\n",
       "      <th>max</th>\n",
       "      <td>24.000000</td>\n",
       "    </tr>\n",
       "  </tbody>\n",
       "</table>\n",
       "</div>"
      ],
      "text/plain": [
       "       last_qauntity_delivered\n",
       "count            210976.000000\n",
       "mean                  8.331838\n",
       "std                   5.385374\n",
       "min                   0.000000\n",
       "25%                   4.000000\n",
       "50%                   7.000000\n",
       "75%                  11.000000\n",
       "max                  24.000000"
      ]
     },
     "execution_count": 200,
     "metadata": {},
     "output_type": "execute_result"
    }
   ],
   "source": [
    "Q1 = df['last_qauntity_delivered'].quantile(0.25)\n",
    "Q3 = df['last_qauntity_delivered'].quantile(0.75)\n",
    "IQR = Q3 - Q1\n",
    "\n",
    "# Définir les bornes inférieure et supérieure\n",
    "lower_bound = Q1 - 1.5 * IQR\n",
    "upper_bound = Q3 + 1.5 * IQR\n",
    "\n",
    "# Filtrer les lignes qui sont dans les bornes (sans outliers)\n",
    "df = df[(df['last_qauntity_delivered'] >= lower_bound) & (df['last_qauntity_delivered'] <= upper_bound)]\n",
    "\n",
    "# Vérifier le résultat\n"
   ]
  },
  {
   "cell_type": "code",
   "execution_count": 240,
   "metadata": {},
   "outputs": [
    {
     "data": {
      "image/png": "[encoded data removed]",
      "text/plain": [
       "<Figure size 1000x600 with 1 Axes>"
      ]
     },
     "metadata": {},
     "output_type": "display_data"
    }
   ],
   "source": [
    "numerical_columns = df.select_dtypes(include=['float64']).columns\n",
    "# Create a boxplot for all numerical columns on the same graph\n",
    "plt.figure(figsize=(10, 6))  # Adjust size if needed\n",
    "sns.boxplot(data=df[numerical_columns], orient='h')\n",
    "plt.title('Boxplots of Numerical Columns')\n",
    "plt.show()"
   ]
  },
  {
   "cell_type": "code",
   "execution_count": 238,
   "metadata": {},
   "outputs": [],
   "source": [
    "df.to_csv('df_bo2.csv')"
   ]
  },
  {
   "cell_type": "markdown",
   "metadata": {},
   "source": [
    "#### Data in case of classfication"
   ]
  },
  {
   "cell_type": "code",
   "execution_count": 89,
   "metadata": {},
   "outputs": [],
   "source": [
    "df_classf=df\n",
    "df_classf=df_classf.drop(columns='next_call')\n",
    "\n",
    "df_classf['target'] = 1"
   ]
  },
  {
   "cell_type": "code",
   "execution_count": 93,
   "metadata": {},
   "outputs": [],
   "source": [
    "df_classf['DATLIV'] = pd.to_datetime(df_classf['DATLIV'])\n",
    "\n",
    "# Créer une liste pour stocker les nouvelles lignes avec les dates manquantes\n",
    "missing_rows = []\n",
    "\n",
    "# Identifier les colonnes de regroupement\n",
    "group_columns = ['ANCSCP', 'LIBGVR', 'LIBLOC', 'LIBPRD','prixHT']\n",
    "\n",
    "# Parcourir chaque groupe\n",
    "for name, group in df_classf.groupby(group_columns):\n",
    "    # Créer une plage de dates complète entre la première et la dernière date\n",
    "    full_date_range = pd.date_range(start=group['DATLIV'].min(), end=group['DATLIV'].max(), freq='D')\n",
    "    \n",
    "    # Identifier les dates manquantes en comparant avec les dates de livraison actuelles\n",
    "    missing_dates = full_date_range.difference(group['DATLIV'])\n",
    "    \n",
    "    # Pour chaque date manquante, créer une nouvelle ligne\n",
    "    for missing_date in missing_dates:\n",
    "        # Construire un dictionnaire pour la nouvelle ligne\n",
    "        new_row = {col: name[idx] for idx, col in enumerate(group_columns)}\n",
    "        new_row['DATLIV'] = missing_date\n",
    "        new_row['target'] = 0\n",
    "        \n",
    "        # Ajouter cette ligne à la liste\n",
    "        missing_rows.append(new_row)\n",
    "\n",
    "# Créer un DataFrame à partir des lignes manquantes\n",
    "df_missing = pd.DataFrame(missing_rows)\n",
    "\n",
    "# Concaténer les nouvelles lignes avec le DataFrame original\n",
    "df_classf = pd.concat([df_classf, df_missing], ignore_index=True)\n",
    "\n",
    "# Trier à nouveau les données par les colonnes pertinentes, y compris DATLIV\n",
    "df_classf = df_classf.sort_values(by=group_columns + ['DATLIV'])\n",
    "\n"
   ]
  },
  {
   "cell_type": "code",
   "execution_count": 96,
   "metadata": {},
   "outputs": [
    {
     "name": "stdout",
     "output_type": "stream",
     "text": [
      "<class 'pandas.core.frame.DataFrame'>\n",
      "Index: 1420787 entries, 0 to 706264\n",
      "Data columns (total 17 columns):\n",
      " #   Column                   Non-Null Count    Dtype         \n",
      "---  ------                   --------------    -----         \n",
      " 0   ANCSCP                   1420787 non-null  int64         \n",
      " 1   DATLIV                   1420787 non-null  datetime64[ns]\n",
      " 2   LIBGVR                   1420787 non-null  object        \n",
      " 3   LIBLOC                   1420787 non-null  object        \n",
      " 4   LIBPRD                   1420787 non-null  object        \n",
      " 5   prixHT                   946632 non-null   float64       \n",
      " 6   Year                     1420787 non-null  int32         \n",
      " 7   Month                    1420787 non-null  int32         \n",
      " 8   Day                      1420787 non-null  int32         \n",
      " 9   Weekday                  1420787 non-null  int32         \n",
      " 10  Quarter                  1420787 non-null  int32         \n",
      " 11  month_sin                1420787 non-null  float64       \n",
      " 12  month_cos                1420787 non-null  float64       \n",
      " 13  day_sin                  1420787 non-null  float64       \n",
      " 14  day_cos                  1420787 non-null  float64       \n",
      " 15  last_qauntity_delivered  232111 non-null   float64       \n",
      " 16  target                   1420787 non-null  int64         \n",
      "dtypes: datetime64[ns](1), float64(6), int32(5), int64(2), object(3)\n",
      "memory usage: 168.0+ MB\n"
     ]
    }
   ],
   "source": [
    "df_classf['Year'] = df_classf['DATLIV'].dt.year\n",
    "df_classf['Month'] = df_classf['DATLIV'].dt.month\n",
    "df_classf['Day'] = df_classf['DATLIV'].dt.day\n",
    "df_classf['Weekday'] = df_classf['DATLIV'].dt.weekday\n",
    "df_classf['Quarter'] = df_classf['DATLIV'].dt.quarter\n",
    "df_classf['month_sin'] = np.sin(2 * np.pi * df_classf['Month'] / 12)\n",
    "df_classf['month_cos'] = np.cos(2 * np.pi * df_classf['Month'] / 12)\n",
    "df_classf['day_sin'] = np.sin(2 * np.pi * df_classf['Day'] / 31)\n",
    "df_classf['day_cos'] = np.cos(2 * np.pi * df_classf['Day'] / 31)\n"
   ]
  },
  {
   "cell_type": "markdown",
   "metadata": {},
   "source": []
  },
  {
   "cell_type": "markdown",
   "metadata": {},
   "source": [
    "### 2.3 Data transformation"
   ]
  },
  {
   "cell_type": "code",
   "execution_count": 201,
   "metadata": {},
   "outputs": [],
   "source": [
    "categorical_columns = ['LIBPRD','LIBGVR','LIBLOC']\n",
    "# Appliquer l'encodage one-hot\n",
    "df_transformed = pd.get_dummies(df, columns=categorical_columns)\n"
   ]
  },
  {
   "cell_type": "code",
   "execution_count": 202,
   "metadata": {},
   "outputs": [],
   "source": [
    "df_transformed[df_transformed.select_dtypes(include='bool').columns] = df_transformed.select_dtypes(include='bool').astype(int)\n"
   ]
  },
  {
   "cell_type": "code",
   "execution_count": 203,
   "metadata": {},
   "outputs": [],
   "source": [
    "from sklearn.utils import shuffle\n",
    "from sklearn.model_selection import train_test_split\n",
    "from sklearn.preprocessing import MinMaxScaler\n",
    " \n",
    "\n",
    "numeric_data = df_transformed.select_dtypes(include=['number'])\n",
    "\n",
    "# Initialize the MinMaxScaler\n",
    "scaler = MinMaxScaler()\n",
    "\n",
    "# Apply Min-Max scaling to the numeric columns\n",
    "df_scaled = scaler.fit_transform(numeric_data)\n",
    "\n",
    "# Convert the normalized array back to a DataFrame\n",
    "df_scaled = pd.DataFrame(df_scaled, columns=numeric_data.columns)\n"
   ]
  },
  {
   "cell_type": "code",
   "execution_count": 204,
   "metadata": {},
   "outputs": [
    {
     "data": {
      "text/plain": [
       "['../../deployML/notebooks/scaler_bo2.pkl']"
      ]
     },
     "execution_count": 204,
     "metadata": {},
     "output_type": "execute_result"
    }
   ],
   "source": [
    "import joblib\n",
    "joblib.dump(scaler, '../../deployML/notebooks/scaler_bo2.pkl')\n"
   ]
  },
  {
   "cell_type": "code",
   "execution_count": 205,
   "metadata": {},
   "outputs": [],
   "source": [
    "df_inverted=scaler.inverse_transform(df_scaled)\n",
    "df_inverted=pd.DataFrame(df_inverted,columns=df_scaled.columns)\n"
   ]
  },
  {
   "cell_type": "code",
   "execution_count": 206,
   "metadata": {},
   "outputs": [],
   "source": [
    "columns = [col for col in df_scaled.columns if col != 'next_call'] + ['next_call']\n",
    "df_scaled = df_scaled[columns]\n",
    "columns = [col for col in df_inverted.columns if col != 'next_call'] + ['next_call']\n",
    "df_inverted = df_inverted[columns]"
   ]
  },
  {
   "cell_type": "code",
   "execution_count": 255,
   "metadata": {},
   "outputs": [
    {
     "ename": "KeyError",
     "evalue": "'DATLIV'",
     "output_type": "error",
     "traceback": [
      "\u001b[1;31m---------------------------------------------------------------------------\u001b[0m",
      "\u001b[1;31mKeyError\u001b[0m                                  Traceback (most recent call last)",
      "File \u001b[1;32m~\\AppData\\Local\\Packages\\PythonSoftwareFoundation.Python.3.11_qbz5n2kfra8p0\\LocalCache\\local-packages\\Python311\\site-packages\\pandas\\core\\indexes\\base.py:3790\u001b[0m, in \u001b[0;36mIndex.get_loc\u001b[1;34m(self, key)\u001b[0m\n\u001b[0;32m   3789\u001b[0m \u001b[39mtry\u001b[39;00m:\n\u001b[1;32m-> 3790\u001b[0m     \u001b[39mreturn\u001b[39;00m \u001b[39mself\u001b[39;49m\u001b[39m.\u001b[39;49m_engine\u001b[39m.\u001b[39;49mget_loc(casted_key)\n\u001b[0;32m   3791\u001b[0m \u001b[39mexcept\u001b[39;00m \u001b[39mKeyError\u001b[39;00m \u001b[39mas\u001b[39;00m err:\n",
      "File \u001b[1;32mindex.pyx:152\u001b[0m, in \u001b[0;36mpandas._libs.index.IndexEngine.get_loc\u001b[1;34m()\u001b[0m\n",
      "File \u001b[1;32mindex.pyx:181\u001b[0m, in \u001b[0;36mpandas._libs.index.IndexEngine.get_loc\u001b[1;34m()\u001b[0m\n",
      "File \u001b[1;32mpandas\\_libs\\hashtable_class_helper.pxi:7080\u001b[0m, in \u001b[0;36mpandas._libs.hashtable.PyObjectHashTable.get_item\u001b[1;34m()\u001b[0m\n",
      "File \u001b[1;32mpandas\\_libs\\hashtable_class_helper.pxi:7088\u001b[0m, in \u001b[0;36mpandas._libs.hashtable.PyObjectHashTable.get_item\u001b[1;34m()\u001b[0m\n",
      "\u001b[1;31mKeyError\u001b[0m: 'DATLIV'",
      "\nThe above exception was the direct cause of the following exception:\n",
      "\u001b[1;31mKeyError\u001b[0m                                  Traceback (most recent call last)",
      "Cell \u001b[1;32mIn[255], line 1\u001b[0m\n\u001b[1;32m----> 1\u001b[0m df_inverted[\u001b[39m'\u001b[39;49m\u001b[39mDATLIV\u001b[39;49m\u001b[39m'\u001b[39;49m]\n",
      "File \u001b[1;32m~\\AppData\\Local\\Packages\\PythonSoftwareFoundation.Python.3.11_qbz5n2kfra8p0\\LocalCache\\local-packages\\Python311\\site-packages\\pandas\\core\\frame.py:3896\u001b[0m, in \u001b[0;36mDataFrame.__getitem__\u001b[1;34m(self, key)\u001b[0m\n\u001b[0;32m   3894\u001b[0m \u001b[39mif\u001b[39;00m \u001b[39mself\u001b[39m\u001b[39m.\u001b[39mcolumns\u001b[39m.\u001b[39mnlevels \u001b[39m>\u001b[39m \u001b[39m1\u001b[39m:\n\u001b[0;32m   3895\u001b[0m     \u001b[39mreturn\u001b[39;00m \u001b[39mself\u001b[39m\u001b[39m.\u001b[39m_getitem_multilevel(key)\n\u001b[1;32m-> 3896\u001b[0m indexer \u001b[39m=\u001b[39m \u001b[39mself\u001b[39;49m\u001b[39m.\u001b[39;49mcolumns\u001b[39m.\u001b[39;49mget_loc(key)\n\u001b[0;32m   3897\u001b[0m \u001b[39mif\u001b[39;00m is_integer(indexer):\n\u001b[0;32m   3898\u001b[0m     indexer \u001b[39m=\u001b[39m [indexer]\n",
      "File \u001b[1;32m~\\AppData\\Local\\Packages\\PythonSoftwareFoundation.Python.3.11_qbz5n2kfra8p0\\LocalCache\\local-packages\\Python311\\site-packages\\pandas\\core\\indexes\\base.py:3797\u001b[0m, in \u001b[0;36mIndex.get_loc\u001b[1;34m(self, key)\u001b[0m\n\u001b[0;32m   3792\u001b[0m     \u001b[39mif\u001b[39;00m \u001b[39misinstance\u001b[39m(casted_key, \u001b[39mslice\u001b[39m) \u001b[39mor\u001b[39;00m (\n\u001b[0;32m   3793\u001b[0m         \u001b[39misinstance\u001b[39m(casted_key, abc\u001b[39m.\u001b[39mIterable)\n\u001b[0;32m   3794\u001b[0m         \u001b[39mand\u001b[39;00m \u001b[39many\u001b[39m(\u001b[39misinstance\u001b[39m(x, \u001b[39mslice\u001b[39m) \u001b[39mfor\u001b[39;00m x \u001b[39min\u001b[39;00m casted_key)\n\u001b[0;32m   3795\u001b[0m     ):\n\u001b[0;32m   3796\u001b[0m         \u001b[39mraise\u001b[39;00m InvalidIndexError(key)\n\u001b[1;32m-> 3797\u001b[0m     \u001b[39mraise\u001b[39;00m \u001b[39mKeyError\u001b[39;00m(key) \u001b[39mfrom\u001b[39;00m \u001b[39merr\u001b[39;00m\n\u001b[0;32m   3798\u001b[0m \u001b[39mexcept\u001b[39;00m \u001b[39mTypeError\u001b[39;00m:\n\u001b[0;32m   3799\u001b[0m     \u001b[39m# If we have a listlike key, _check_indexing_error will raise\u001b[39;00m\n\u001b[0;32m   3800\u001b[0m     \u001b[39m#  InvalidIndexError. Otherwise we fall through and re-raise\u001b[39;00m\n\u001b[0;32m   3801\u001b[0m     \u001b[39m#  the TypeError.\u001b[39;00m\n\u001b[0;32m   3802\u001b[0m     \u001b[39mself\u001b[39m\u001b[39m.\u001b[39m_check_indexing_error(key)\n",
      "\u001b[1;31mKeyError\u001b[0m: 'DATLIV'"
     ]
    }
   ],
   "source": [
    "df_inverted['DATLIV']"
   ]
  },
  {
   "cell_type": "code",
   "execution_count": null,
   "metadata": {},
   "outputs": [],
   "source": []
  },
  {
   "cell_type": "markdown",
   "metadata": {},
   "source": []
  },
  {
   "cell_type": "markdown",
   "metadata": {},
   "source": [
    "# 3- Modeling\n",
    "\n"
   ]
  },
  {
   "cell_type": "markdown",
   "metadata": {},
   "source": [
    "### 3.1 XGboost      "
   ]
  },
  {
   "cell_type": "code",
   "execution_count": 208,
   "metadata": {},
   "outputs": [],
   "source": [
    "from sklearn.model_selection import train_test_split\n",
    "from sklearn.metrics import mean_squared_error\n",
    "from xgboost import XGBRegressor\n",
    "from sklearn.utils import shuffle\n"
   ]
  },
  {
   "cell_type": "code",
   "execution_count": 209,
   "metadata": {},
   "outputs": [],
   "source": [
    "from sklearn.utils import shuffle\n",
    "\n",
    "# Shuffle both DataFrames with the same random state\n",
    "df_scaled_shuffled, df_inverted_shuffled = shuffle(df_scaled, df_inverted, random_state=42)"
   ]
  },
  {
   "cell_type": "code",
   "execution_count": 210,
   "metadata": {},
   "outputs": [],
   "source": [
    "\n",
    "x = df_scaled_shuffled.drop(columns=['next_call'])\n",
    "y = df_scaled_shuffled['next_call']\n"
   ]
  },
  {
   "cell_type": "code",
   "execution_count": 211,
   "metadata": {},
   "outputs": [],
   "source": [
    "X_inverted = df_inverted_shuffled.drop(columns=['next_call'])\n",
    "Y_inverted= df_inverted_shuffled['next_call']\n"
   ]
  },
  {
   "cell_type": "code",
   "execution_count": 212,
   "metadata": {},
   "outputs": [],
   "source": [
    "x_train, x_test, y_train, y_test = train_test_split(x, y, test_size=0.2, random_state=42)\n"
   ]
  },
  {
   "cell_type": "code",
   "execution_count": 213,
   "metadata": {},
   "outputs": [],
   "source": [
    "X_inverted_train, X_inverted_test, Y_inverted_train, Y_inverted_test = train_test_split(X_inverted, Y_inverted, test_size=0.2, random_state=42)\n"
   ]
  },
  {
   "cell_type": "code",
   "execution_count": 214,
   "metadata": {},
   "outputs": [
    {
     "data": {
      "text/html": [
       "<style>#sk-container-id-5 {color: black;}#sk-container-id-5 pre{padding: 0;}#sk-container-id-5 div.sk-toggleable {background-color: white;}#sk-container-id-5 label.sk-toggleable__label {cursor: pointer;display: block;width: 100%;margin-bottom: 0;padding: 0.3em;box-sizing: border-box;text-align: center;}#sk-container-id-5 label.sk-toggleable__label-arrow:before {content: \"▸\";float: left;margin-right: 0.25em;color: #696969;}#sk-container-id-5 label.sk-toggleable__label-arrow:hover:before {color: black;}#sk-container-id-5 div.sk-estimator:hover label.sk-toggleable__label-arrow:before {color: black;}#sk-container-id-5 div.sk-toggleable__content {max-height: 0;max-width: 0;overflow: hidden;text-align: left;background-color: #f0f8ff;}#sk-container-id-5 div.sk-toggleable__content pre {margin: 0.2em;color: black;border-radius: 0.25em;background-color: #f0f8ff;}#sk-container-id-5 input.sk-toggleable__control:checked~div.sk-toggleable__content {max-height: 200px;max-width: 100%;overflow: auto;}#sk-container-id-5 input.sk-toggleable__control:checked~label.sk-toggleable__label-arrow:before {content: \"▾\";}#sk-container-id-5 div.sk-estimator input.sk-toggleable__control:checked~label.sk-toggleable__label {background-color: #d4ebff;}#sk-container-id-5 div.sk-label input.sk-toggleable__control:checked~label.sk-toggleable__label {background-color: #d4ebff;}#sk-container-id-5 input.sk-hidden--visually {border: 0;clip: rect(1px 1px 1px 1px);clip: rect(1px, 1px, 1px, 1px);height: 1px;margin: -1px;overflow: hidden;padding: 0;position: absolute;width: 1px;}#sk-container-id-5 div.sk-estimator {font-family: monospace;background-color: #f0f8ff;border: 1px dotted black;border-radius: 0.25em;box-sizing: border-box;margin-bottom: 0.5em;}#sk-container-id-5 div.sk-estimator:hover {background-color: #d4ebff;}#sk-container-id-5 div.sk-parallel-item::after {content: \"\";width: 100%;border-bottom: 1px solid gray;flex-grow: 1;}#sk-container-id-5 div.sk-label:hover label.sk-toggleable__label {background-color: #d4ebff;}#sk-container-id-5 div.sk-serial::before {content: \"\";position: absolute;border-left: 1px solid gray;box-sizing: border-box;top: 0;bottom: 0;left: 50%;z-index: 0;}#sk-container-id-5 div.sk-serial {display: flex;flex-direction: column;align-items: center;background-color: white;padding-right: 0.2em;padding-left: 0.2em;position: relative;}#sk-container-id-5 div.sk-item {position: relative;z-index: 1;}#sk-container-id-5 div.sk-parallel {display: flex;align-items: stretch;justify-content: center;background-color: white;position: relative;}#sk-container-id-5 div.sk-item::before, #sk-container-id-5 div.sk-parallel-item::before {content: \"\";position: absolute;border-left: 1px solid gray;box-sizing: border-box;top: 0;bottom: 0;left: 50%;z-index: -1;}#sk-container-id-5 div.sk-parallel-item {display: flex;flex-direction: column;z-index: 1;position: relative;background-color: white;}#sk-container-id-5 div.sk-parallel-item:first-child::after {align-self: flex-end;width: 50%;}#sk-container-id-5 div.sk-parallel-item:last-child::after {align-self: flex-start;width: 50%;}#sk-container-id-5 div.sk-parallel-item:only-child::after {width: 0;}#sk-container-id-5 div.sk-dashed-wrapped {border: 1px dashed gray;margin: 0 0.4em 0.5em 0.4em;box-sizing: border-box;padding-bottom: 0.4em;background-color: white;}#sk-container-id-5 div.sk-label label {font-family: monospace;font-weight: bold;display: inline-block;line-height: 1.2em;}#sk-container-id-5 div.sk-label-container {text-align: center;}#sk-container-id-5 div.sk-container {/* jupyter's `normalize.less` sets `[hidden] { display: none; }` but bootstrap.min.css set `[hidden] { display: none !important; }` so we also need the `!important` here to be able to override the default hidden behavior on the sphinx rendered scikit-learn.org. See: https://github.com/scikit-learn/scikit-learn/issues/21755 */display: inline-block !important;position: relative;}#sk-container-id-5 div.sk-text-repr-fallback {display: none;}</style><div id=\"sk-container-id-5\" class=\"sk-top-container\"><div class=\"sk-text-repr-fallback\"><pre>XGBRegressor(base_score=None, booster=None, callbacks=None,\n",
       "             colsample_bylevel=None, colsample_bynode=None,\n",
       "             colsample_bytree=None, device=None, early_stopping_rounds=None,\n",
       "             enable_categorical=False, eval_metric=None, feature_types=None,\n",
       "             gamma=None, grow_policy=None, importance_type=None,\n",
       "             interaction_constraints=None, learning_rate=0.01, max_bin=None,\n",
       "             max_cat_threshold=None, max_cat_to_onehot=None,\n",
       "             max_delta_step=None, max_depth=10, max_leaves=None,\n",
       "             min_child_weight=None, missing=nan, monotone_constraints=None,\n",
       "             multi_strategy=None, n_estimators=1000, n_jobs=None,\n",
       "             num_parallel_tree=None, random_state=42, ...)</pre><b>In a Jupyter environment, please rerun this cell to show the HTML representation or trust the notebook. <br />On GitHub, the HTML representation is unable to render, please try loading this page with nbviewer.org.</b></div><div class=\"sk-container\" hidden><div class=\"sk-item\"><div class=\"sk-estimator sk-toggleable\"><input class=\"sk-toggleable__control sk-hidden--visually\" id=\"sk-estimator-id-5\" type=\"checkbox\" checked><label for=\"sk-estimator-id-5\" class=\"sk-toggleable__label sk-toggleable__label-arrow\">XGBRegressor</label><div class=\"sk-toggleable__content\"><pre>XGBRegressor(base_score=None, booster=None, callbacks=None,\n",
       "             colsample_bylevel=None, colsample_bynode=None,\n",
       "             colsample_bytree=None, device=None, early_stopping_rounds=None,\n",
       "             enable_categorical=False, eval_metric=None, feature_types=None,\n",
       "             gamma=None, grow_policy=None, importance_type=None,\n",
       "             interaction_constraints=None, learning_rate=0.01, max_bin=None,\n",
       "             max_cat_threshold=None, max_cat_to_onehot=None,\n",
       "             max_delta_step=None, max_depth=10, max_leaves=None,\n",
       "             min_child_weight=None, missing=nan, monotone_constraints=None,\n",
       "             multi_strategy=None, n_estimators=1000, n_jobs=None,\n",
       "             num_parallel_tree=None, random_state=42, ...)</pre></div></div></div></div></div>"
      ],
      "text/plain": [
       "XGBRegressor(base_score=None, booster=None, callbacks=None,\n",
       "             colsample_bylevel=None, colsample_bynode=None,\n",
       "             colsample_bytree=None, device=None, early_stopping_rounds=None,\n",
       "             enable_categorical=False, eval_metric=None, feature_types=None,\n",
       "             gamma=None, grow_policy=None, importance_type=None,\n",
       "             interaction_constraints=None, learning_rate=0.01, max_bin=None,\n",
       "             max_cat_threshold=None, max_cat_to_onehot=None,\n",
       "             max_delta_step=None, max_depth=10, max_leaves=None,\n",
       "             min_child_weight=None, missing=nan, monotone_constraints=None,\n",
       "             multi_strategy=None, n_estimators=1000, n_jobs=None,\n",
       "             num_parallel_tree=None, random_state=42, ...)"
      ]
     },
     "execution_count": 214,
     "metadata": {},
     "output_type": "execute_result"
    }
   ],
   "source": [
    "model_xgb = XGBRegressor(n_estimators=1000, learning_rate=0.01, max_depth=10, random_state=42)\n",
    "model_xgb.fit(x_train, y_train)"
   ]
  },
  {
   "cell_type": "code",
   "execution_count": 215,
   "metadata": {},
   "outputs": [],
   "source": [
    "y_pred_train= model_xgb.predict(x_train)\n",
    "y_pred_train = pd.Series(y_pred_train, name='next_call')\n",
    "y_pred_train.index = x_train.index\n"
   ]
  },
  {
   "cell_type": "code",
   "execution_count": 216,
   "metadata": {},
   "outputs": [
    {
     "data": {
      "text/html": [
       "<div>\n",
       "<style scoped>\n",
       "    .dataframe tbody tr th:only-of-type {\n",
       "        vertical-align: middle;\n",
       "    }\n",
       "\n",
       "    .dataframe tbody tr th {\n",
       "        vertical-align: top;\n",
       "    }\n",
       "\n",
       "    .dataframe thead th {\n",
       "        text-align: right;\n",
       "    }\n",
       "</style>\n",
       "<table border=\"1\" class=\"dataframe\">\n",
       "  <thead>\n",
       "    <tr style=\"text-align: right;\">\n",
       "      <th></th>\n",
       "      <th>y_train</th>\n",
       "      <th>y_pred_train</th>\n",
       "      <th>Y_inverted_train</th>\n",
       "    </tr>\n",
       "  </thead>\n",
       "  <tbody>\n",
       "    <tr>\n",
       "      <th>81008</th>\n",
       "      <td>0.666667</td>\n",
       "      <td>0.594789</td>\n",
       "      <td>4.0</td>\n",
       "    </tr>\n",
       "    <tr>\n",
       "      <th>41745</th>\n",
       "      <td>0.500000</td>\n",
       "      <td>0.367920</td>\n",
       "      <td>3.0</td>\n",
       "    </tr>\n",
       "    <tr>\n",
       "      <th>23233</th>\n",
       "      <td>0.333333</td>\n",
       "      <td>0.374148</td>\n",
       "      <td>2.0</td>\n",
       "    </tr>\n",
       "    <tr>\n",
       "      <th>178230</th>\n",
       "      <td>0.166667</td>\n",
       "      <td>0.213741</td>\n",
       "      <td>1.0</td>\n",
       "    </tr>\n",
       "    <tr>\n",
       "      <th>166320</th>\n",
       "      <td>0.666667</td>\n",
       "      <td>0.616096</td>\n",
       "      <td>4.0</td>\n",
       "    </tr>\n",
       "  </tbody>\n",
       "</table>\n",
       "</div>"
      ],
      "text/plain": [
       "         y_train  y_pred_train  Y_inverted_train\n",
       "81008   0.666667      0.594789               4.0\n",
       "41745   0.500000      0.367920               3.0\n",
       "23233   0.333333      0.374148               2.0\n",
       "178230  0.166667      0.213741               1.0\n",
       "166320  0.666667      0.616096               4.0"
      ]
     },
     "execution_count": 216,
     "metadata": {},
     "output_type": "execute_result"
    }
   ],
   "source": [
    "df_target=pd.concat([y_train,y_pred_train,Y_inverted_train],axis=1)\n",
    "df_target.columns=['y_train','y_pred_train','Y_inverted_train']\n",
    "df_target.head()"
   ]
  },
  {
   "cell_type": "code",
   "execution_count": 217,
   "metadata": {},
   "outputs": [
    {
     "name": "stdout",
     "output_type": "stream",
     "text": [
      "Root Mean Squared Error: 0.1457940247078731\n"
     ]
    }
   ],
   "source": [
    "mse = mean_squared_error(y_train, y_pred_train)\n",
    "rmse = np.sqrt(mse)\n",
    "print(f'Root Mean Squared Error: {rmse}')\n"
   ]
  },
  {
   "cell_type": "code",
   "execution_count": 218,
   "metadata": {},
   "outputs": [
    {
     "data": {
      "text/plain": [
       "0.5931732831125849"
      ]
     },
     "execution_count": 218,
     "metadata": {},
     "output_type": "execute_result"
    }
   ],
   "source": [
    "from sklearn.metrics import mean_squared_error, mean_absolute_error, r2_score\n",
    "\n",
    "r2_model_train=r2_score(y_train, y_pred_train)\n",
    "r2_model_train"
   ]
  },
  {
   "cell_type": "code",
   "execution_count": 219,
   "metadata": {},
   "outputs": [],
   "source": [
    "y_pred = model_xgb.predict(x_test)\n",
    "y_pred = pd.Series(y_pred, name='next_call')\n",
    "y_pred.index = x_test.index\n"
   ]
  },
  {
   "cell_type": "code",
   "execution_count": 220,
   "metadata": {},
   "outputs": [
    {
     "data": {
      "text/html": [
       "<div>\n",
       "<style scoped>\n",
       "    .dataframe tbody tr th:only-of-type {\n",
       "        vertical-align: middle;\n",
       "    }\n",
       "\n",
       "    .dataframe tbody tr th {\n",
       "        vertical-align: top;\n",
       "    }\n",
       "\n",
       "    .dataframe thead th {\n",
       "        text-align: right;\n",
       "    }\n",
       "</style>\n",
       "<table border=\"1\" class=\"dataframe\">\n",
       "  <thead>\n",
       "    <tr style=\"text-align: right;\">\n",
       "      <th></th>\n",
       "      <th>y_test</th>\n",
       "      <th>y_pred_test</th>\n",
       "      <th>Y_inverted_test</th>\n",
       "    </tr>\n",
       "  </thead>\n",
       "  <tbody>\n",
       "    <tr>\n",
       "      <th>76118</th>\n",
       "      <td>0.666667</td>\n",
       "      <td>0.564659</td>\n",
       "      <td>4.0</td>\n",
       "    </tr>\n",
       "    <tr>\n",
       "      <th>76070</th>\n",
       "      <td>0.833333</td>\n",
       "      <td>0.651784</td>\n",
       "      <td>5.0</td>\n",
       "    </tr>\n",
       "    <tr>\n",
       "      <th>70333</th>\n",
       "      <td>1.000000</td>\n",
       "      <td>0.681114</td>\n",
       "      <td>6.0</td>\n",
       "    </tr>\n",
       "    <tr>\n",
       "      <th>108663</th>\n",
       "      <td>0.500000</td>\n",
       "      <td>0.544859</td>\n",
       "      <td>3.0</td>\n",
       "    </tr>\n",
       "    <tr>\n",
       "      <th>103061</th>\n",
       "      <td>0.166667</td>\n",
       "      <td>0.473019</td>\n",
       "      <td>1.0</td>\n",
       "    </tr>\n",
       "  </tbody>\n",
       "</table>\n",
       "</div>"
      ],
      "text/plain": [
       "          y_test  y_pred_test  Y_inverted_test\n",
       "76118   0.666667     0.564659              4.0\n",
       "76070   0.833333     0.651784              5.0\n",
       "70333   1.000000     0.681114              6.0\n",
       "108663  0.500000     0.544859              3.0\n",
       "103061  0.166667     0.473019              1.0"
      ]
     },
     "execution_count": 220,
     "metadata": {},
     "output_type": "execute_result"
    }
   ],
   "source": [
    "df_target_test=pd.concat([y_test,y_pred,Y_inverted_test],axis=1)\n",
    "df_target_test.columns=['y_test','y_pred_test','Y_inverted_test']\n",
    "df_target_test.head()"
   ]
  },
  {
   "cell_type": "code",
   "execution_count": 221,
   "metadata": {},
   "outputs": [
    {
     "name": "stdout",
     "output_type": "stream",
     "text": [
      "Root Mean Squared Error: 0.15720069621838534\n"
     ]
    }
   ],
   "source": [
    "mse = mean_squared_error(y_test, y_pred)\n",
    "rmse = np.sqrt(mse)\n",
    "print(f'Root Mean Squared Error: {rmse}')"
   ]
  },
  {
   "cell_type": "code",
   "execution_count": 222,
   "metadata": {},
   "outputs": [
    {
     "data": {
      "text/plain": [
       "0.5262585557679"
      ]
     },
     "execution_count": 222,
     "metadata": {},
     "output_type": "execute_result"
    }
   ],
   "source": [
    "r2_model_test = r2_score(y_test, y_pred)\n",
    "r2_model_test"
   ]
  },
  {
   "cell_type": "code",
   "execution_count": 223,
   "metadata": {},
   "outputs": [
    {
     "name": "stdout",
     "output_type": "stream",
     "text": [
      "Fitting 3 folds for each of 81 candidates, totalling 243 fits\n",
      "Best parameters found: {'learning_rate': 0.1, 'max_depth': 7, 'min_child_weight': 5, 'n_estimators': 1000}\n"
     ]
    }
   ],
   "source": [
    "from sklearn.model_selection import GridSearchCV\n",
    "\n",
    "param_grid = {\n",
    "    'n_estimators': [100, 500, 1000],\n",
    "    'learning_rate': [0.01, 0.1, 0.3],\n",
    "    'max_depth': [3, 5, 7],\n",
    "    'min_child_weight': [1, 3, 5]\n",
    "}\n",
    "\n",
    "grid_search = GridSearchCV(estimator=model_xgb, param_grid=param_grid, scoring='neg_mean_squared_error', cv=3, verbose=2, n_jobs=-1)\n",
    "grid_search.fit(x_train, y_train)\n",
    "\n",
    "best_params = grid_search.best_params_\n",
    "print(f\"Best parameters found: {best_params}\")"
   ]
  },
  {
   "cell_type": "code",
   "execution_count": 224,
   "metadata": {},
   "outputs": [
    {
     "data": {
      "text/html": [
       "<style>#sk-container-id-6 {color: black;}#sk-container-id-6 pre{padding: 0;}#sk-container-id-6 div.sk-toggleable {background-color: white;}#sk-container-id-6 label.sk-toggleable__label {cursor: pointer;display: block;width: 100%;margin-bottom: 0;padding: 0.3em;box-sizing: border-box;text-align: center;}#sk-container-id-6 label.sk-toggleable__label-arrow:before {content: \"▸\";float: left;margin-right: 0.25em;color: #696969;}#sk-container-id-6 label.sk-toggleable__label-arrow:hover:before {color: black;}#sk-container-id-6 div.sk-estimator:hover label.sk-toggleable__label-arrow:before {color: black;}#sk-container-id-6 div.sk-toggleable__content {max-height: 0;max-width: 0;overflow: hidden;text-align: left;background-color: #f0f8ff;}#sk-container-id-6 div.sk-toggleable__content pre {margin: 0.2em;color: black;border-radius: 0.25em;background-color: #f0f8ff;}#sk-container-id-6 input.sk-toggleable__control:checked~div.sk-toggleable__content {max-height: 200px;max-width: 100%;overflow: auto;}#sk-container-id-6 input.sk-toggleable__control:checked~label.sk-toggleable__label-arrow:before {content: \"▾\";}#sk-container-id-6 div.sk-estimator input.sk-toggleable__control:checked~label.sk-toggleable__label {background-color: #d4ebff;}#sk-container-id-6 div.sk-label input.sk-toggleable__control:checked~label.sk-toggleable__label {background-color: #d4ebff;}#sk-container-id-6 input.sk-hidden--visually {border: 0;clip: rect(1px 1px 1px 1px);clip: rect(1px, 1px, 1px, 1px);height: 1px;margin: -1px;overflow: hidden;padding: 0;position: absolute;width: 1px;}#sk-container-id-6 div.sk-estimator {font-family: monospace;background-color: #f0f8ff;border: 1px dotted black;border-radius: 0.25em;box-sizing: border-box;margin-bottom: 0.5em;}#sk-container-id-6 div.sk-estimator:hover {background-color: #d4ebff;}#sk-container-id-6 div.sk-parallel-item::after {content: \"\";width: 100%;border-bottom: 1px solid gray;flex-grow: 1;}#sk-container-id-6 div.sk-label:hover label.sk-toggleable__label {background-color: #d4ebff;}#sk-container-id-6 div.sk-serial::before {content: \"\";position: absolute;border-left: 1px solid gray;box-sizing: border-box;top: 0;bottom: 0;left: 50%;z-index: 0;}#sk-container-id-6 div.sk-serial {display: flex;flex-direction: column;align-items: center;background-color: white;padding-right: 0.2em;padding-left: 0.2em;position: relative;}#sk-container-id-6 div.sk-item {position: relative;z-index: 1;}#sk-container-id-6 div.sk-parallel {display: flex;align-items: stretch;justify-content: center;background-color: white;position: relative;}#sk-container-id-6 div.sk-item::before, #sk-container-id-6 div.sk-parallel-item::before {content: \"\";position: absolute;border-left: 1px solid gray;box-sizing: border-box;top: 0;bottom: 0;left: 50%;z-index: -1;}#sk-container-id-6 div.sk-parallel-item {display: flex;flex-direction: column;z-index: 1;position: relative;background-color: white;}#sk-container-id-6 div.sk-parallel-item:first-child::after {align-self: flex-end;width: 50%;}#sk-container-id-6 div.sk-parallel-item:last-child::after {align-self: flex-start;width: 50%;}#sk-container-id-6 div.sk-parallel-item:only-child::after {width: 0;}#sk-container-id-6 div.sk-dashed-wrapped {border: 1px dashed gray;margin: 0 0.4em 0.5em 0.4em;box-sizing: border-box;padding-bottom: 0.4em;background-color: white;}#sk-container-id-6 div.sk-label label {font-family: monospace;font-weight: bold;display: inline-block;line-height: 1.2em;}#sk-container-id-6 div.sk-label-container {text-align: center;}#sk-container-id-6 div.sk-container {/* jupyter's `normalize.less` sets `[hidden] { display: none; }` but bootstrap.min.css set `[hidden] { display: none !important; }` so we also need the `!important` here to be able to override the default hidden behavior on the sphinx rendered scikit-learn.org. See: https://github.com/scikit-learn/scikit-learn/issues/21755 */display: inline-block !important;position: relative;}#sk-container-id-6 div.sk-text-repr-fallback {display: none;}</style><div id=\"sk-container-id-6\" class=\"sk-top-container\"><div class=\"sk-text-repr-fallback\"><pre>XGBRegressor(base_score=None, booster=None, callbacks=None,\n",
       "             colsample_bylevel=None, colsample_bynode=None,\n",
       "             colsample_bytree=None, device=None, early_stopping_rounds=None,\n",
       "             enable_categorical=False, eval_metric=None, feature_types=None,\n",
       "             gamma=None, grow_policy=None, importance_type=None,\n",
       "             interaction_constraints=None, learning_rate=0.1, max_bin=None,\n",
       "             max_cat_threshold=None, max_cat_to_onehot=None,\n",
       "             max_delta_step=None, max_depth=7, max_leaves=None,\n",
       "             min_child_weight=5, missing=nan, monotone_constraints=None,\n",
       "             multi_strategy=None, n_estimators=1000, n_jobs=None,\n",
       "             num_parallel_tree=None, random_state=None, ...)</pre><b>In a Jupyter environment, please rerun this cell to show the HTML representation or trust the notebook. <br />On GitHub, the HTML representation is unable to render, please try loading this page with nbviewer.org.</b></div><div class=\"sk-container\" hidden><div class=\"sk-item\"><div class=\"sk-estimator sk-toggleable\"><input class=\"sk-toggleable__control sk-hidden--visually\" id=\"sk-estimator-id-6\" type=\"checkbox\" checked><label for=\"sk-estimator-id-6\" class=\"sk-toggleable__label sk-toggleable__label-arrow\">XGBRegressor</label><div class=\"sk-toggleable__content\"><pre>XGBRegressor(base_score=None, booster=None, callbacks=None,\n",
       "             colsample_bylevel=None, colsample_bynode=None,\n",
       "             colsample_bytree=None, device=None, early_stopping_rounds=None,\n",
       "             enable_categorical=False, eval_metric=None, feature_types=None,\n",
       "             gamma=None, grow_policy=None, importance_type=None,\n",
       "             interaction_constraints=None, learning_rate=0.1, max_bin=None,\n",
       "             max_cat_threshold=None, max_cat_to_onehot=None,\n",
       "             max_delta_step=None, max_depth=7, max_leaves=None,\n",
       "             min_child_weight=5, missing=nan, monotone_constraints=None,\n",
       "             multi_strategy=None, n_estimators=1000, n_jobs=None,\n",
       "             num_parallel_tree=None, random_state=None, ...)</pre></div></div></div></div></div>"
      ],
      "text/plain": [
       "XGBRegressor(base_score=None, booster=None, callbacks=None,\n",
       "             colsample_bylevel=None, colsample_bynode=None,\n",
       "             colsample_bytree=None, device=None, early_stopping_rounds=None,\n",
       "             enable_categorical=False, eval_metric=None, feature_types=None,\n",
       "             gamma=None, grow_policy=None, importance_type=None,\n",
       "             interaction_constraints=None, learning_rate=0.1, max_bin=None,\n",
       "             max_cat_threshold=None, max_cat_to_onehot=None,\n",
       "             max_delta_step=None, max_depth=7, max_leaves=None,\n",
       "             min_child_weight=5, missing=nan, monotone_constraints=None,\n",
       "             multi_strategy=None, n_estimators=1000, n_jobs=None,\n",
       "             num_parallel_tree=None, random_state=None, ...)"
      ]
     },
     "execution_count": 224,
     "metadata": {},
     "output_type": "execute_result"
    }
   ],
   "source": [
    "best_model = XGBRegressor(objective ='reg:squarederror', \n",
    "                              n_estimators=best_params['n_estimators'], \n",
    "                              learning_rate=best_params['learning_rate'], \n",
    "                              max_depth=best_params['max_depth'], \n",
    "                              min_child_weight=best_params['min_child_weight'])\n",
    "\n",
    "best_model.fit(x_train, y_train)"
   ]
  },
  {
   "cell_type": "code",
   "execution_count": 254,
   "metadata": {},
   "outputs": [
    {
     "data": {
      "text/plain": [
       "['../../deployML/notebooks/model_bo2.joblib']"
      ]
     },
     "execution_count": 254,
     "metadata": {},
     "output_type": "execute_result"
    }
   ],
   "source": [
    "from joblib import dump\n",
    "dump(best_model,'../../deployML/notebooks/model_bo2.joblib')\n"
   ]
  },
  {
   "cell_type": "code",
   "execution_count": 225,
   "metadata": {},
   "outputs": [
    {
     "name": "stdout",
     "output_type": "stream",
     "text": [
      "Mean Squared Error with best parameters: 0.021868966293683987\n"
     ]
    }
   ],
   "source": [
    "y_pred_best = best_model.predict(x_test)\n",
    "mse_best = mean_squared_error(y_test, y_pred_best)\n",
    "print(f\"Mean Squared Error with best parameters: {mse_best}\")"
   ]
  },
  {
   "cell_type": "code",
   "execution_count": 226,
   "metadata": {},
   "outputs": [
    {
     "data": {
      "text/plain": [
       "0.5807619380764104"
      ]
     },
     "execution_count": 226,
     "metadata": {},
     "output_type": "execute_result"
    }
   ],
   "source": [
    "r2_model_test_best = r2_score(y_test, y_pred_best)\n",
    "r2_model_test_best"
   ]
  },
  {
   "cell_type": "code",
   "execution_count": 227,
   "metadata": {},
   "outputs": [],
   "source": [
    "y_pred_best = best_model.predict(x_test)\n",
    "y_pred_best = pd.Series(y_pred_best, name='next_call')\n",
    "y_pred_best.index = x_test.index"
   ]
  },
  {
   "cell_type": "code",
   "execution_count": 228,
   "metadata": {},
   "outputs": [
    {
     "data": {
      "text/html": [
       "<div>\n",
       "<style scoped>\n",
       "    .dataframe tbody tr th:only-of-type {\n",
       "        vertical-align: middle;\n",
       "    }\n",
       "\n",
       "    .dataframe tbody tr th {\n",
       "        vertical-align: top;\n",
       "    }\n",
       "\n",
       "    .dataframe thead th {\n",
       "        text-align: right;\n",
       "    }\n",
       "</style>\n",
       "<table border=\"1\" class=\"dataframe\">\n",
       "  <thead>\n",
       "    <tr style=\"text-align: right;\">\n",
       "      <th></th>\n",
       "      <th>y_test</th>\n",
       "      <th>y_pred_best</th>\n",
       "      <th>Y_inverted_test</th>\n",
       "    </tr>\n",
       "  </thead>\n",
       "  <tbody>\n",
       "    <tr>\n",
       "      <th>76118</th>\n",
       "      <td>0.666667</td>\n",
       "      <td>0.648370</td>\n",
       "      <td>4.0</td>\n",
       "    </tr>\n",
       "    <tr>\n",
       "      <th>76070</th>\n",
       "      <td>0.833333</td>\n",
       "      <td>0.758915</td>\n",
       "      <td>5.0</td>\n",
       "    </tr>\n",
       "    <tr>\n",
       "      <th>70333</th>\n",
       "      <td>1.000000</td>\n",
       "      <td>0.774357</td>\n",
       "      <td>6.0</td>\n",
       "    </tr>\n",
       "    <tr>\n",
       "      <th>108663</th>\n",
       "      <td>0.500000</td>\n",
       "      <td>0.523200</td>\n",
       "      <td>3.0</td>\n",
       "    </tr>\n",
       "    <tr>\n",
       "      <th>103061</th>\n",
       "      <td>0.166667</td>\n",
       "      <td>0.430525</td>\n",
       "      <td>1.0</td>\n",
       "    </tr>\n",
       "  </tbody>\n",
       "</table>\n",
       "</div>"
      ],
      "text/plain": [
       "          y_test  y_pred_best  Y_inverted_test\n",
       "76118   0.666667     0.648370              4.0\n",
       "76070   0.833333     0.758915              5.0\n",
       "70333   1.000000     0.774357              6.0\n",
       "108663  0.500000     0.523200              3.0\n",
       "103061  0.166667     0.430525              1.0"
      ]
     },
     "execution_count": 228,
     "metadata": {},
     "output_type": "execute_result"
    }
   ],
   "source": [
    "df_target_test_xgb=pd.concat([y_test,y_pred_best,Y_inverted_test],axis=1)\n",
    "df_target_test_xgb.columns=['y_test','y_pred_best','Y_inverted_test']\n",
    "df_target_test_xgb.head()"
   ]
  },
  {
   "cell_type": "markdown",
   "metadata": {},
   "source": [
    "#### 3.2 LightGBM"
   ]
  },
  {
   "cell_type": "code",
   "execution_count": 229,
   "metadata": {},
   "outputs": [
    {
     "name": "stdout",
     "output_type": "stream",
     "text": [
      "[LightGBM] [Warning] Found whitespace in feature_names, replace with underlines\n",
      "[LightGBM] [Info] Auto-choosing row-wise multi-threading, the overhead of testing was 0.001494 seconds.\n",
      "You can set `force_row_wise=true` to remove the overhead.\n",
      "And if memory is not enough, you can set `force_col_wise=true`.\n",
      "[LightGBM] [Info] Total Bins 904\n",
      "[LightGBM] [Info] Number of data points in the train set: 168780, number of used features: 216\n",
      "[LightGBM] [Info] Start training from score 0.381897\n"
     ]
    }
   ],
   "source": [
    "from lightgbm import LGBMRegressor\n",
    "model_lgbm = LGBMRegressor(n_estimators=1000, learning_rate=0.1, max_depth=10, random_state=42)\n",
    "model_lgbm.fit(x_train, y_train)\n",
    "y_pred_lgbm = model_lgbm.predict(x_test)\n",
    "\n"
   ]
  },
  {
   "cell_type": "code",
   "execution_count": 230,
   "metadata": {},
   "outputs": [
    {
     "name": "stdout",
     "output_type": "stream",
     "text": [
      "RMSE: 0.14866217902075685\n"
     ]
    }
   ],
   "source": [
    "rmse_lgbm = mean_squared_error(y_test, y_pred_lgbm, squared=False)\n",
    "print(f\"RMSE: {rmse_lgbm}\")"
   ]
  },
  {
   "cell_type": "code",
   "execution_count": 231,
   "metadata": {},
   "outputs": [
    {
     "data": {
      "text/plain": [
       "0.5763244149681875"
      ]
     },
     "execution_count": 231,
     "metadata": {},
     "output_type": "execute_result"
    }
   ],
   "source": [
    "mae_model3 = mean_absolute_error(y_test, y_pred_lgbm)\n",
    "r2_model3 = r2_score(y_test, y_pred_lgbm)\n",
    "r2_model3"
   ]
  },
  {
   "cell_type": "code",
   "execution_count": 232,
   "metadata": {},
   "outputs": [],
   "source": [
    "y_pred_lgbm = pd.Series(y_pred_lgbm, name='next_call')\n",
    "y_pred_lgbm.index = x_test.index\n",
    "df_target_test_lgbm=pd.concat([y_test,y_pred_lgbm,Y_inverted_test],axis=1)\n",
    "df_target_test_lgbm.columns=['y_test','y_pred_lgbm','Y_inverted_test']\n"
   ]
  },
  {
   "cell_type": "code",
   "execution_count": 233,
   "metadata": {},
   "outputs": [],
   "source": [
    "df_target_test_lgbm['y_pred_lgbm_inverted'] = (df_target_test_lgbm['y_pred_lgbm'] * df_target_test_lgbm['Y_inverted_test']) / df_target_test_lgbm['y_test']\n",
    "\n"
   ]
  },
  {
   "cell_type": "code",
   "execution_count": 234,
   "metadata": {},
   "outputs": [],
   "source": [
    "df_target_test_lgbm['y_pred_lgbm_inverted'] = (df_target_test_lgbm['y_pred_lgbm'] * df_target_test_lgbm['Y_inverted_test']) / df_target_test_lgbm['y_test']\n",
    "\n",
    "df_combined_lgbm = pd.concat([X_inverted_test, df_target_test_lgbm], axis=1)\n",
    "df_combined_lgbm['Date'] = df_combined_lgbm['Year'].astype(str) + '-' + df_combined_lgbm['Month'].astype(str).str.zfill(2) + '-' + df_combined_lgbm['Day'].astype(str).str.zfill(2)\n",
    "df_combined_lgbm['Date'] = pd.to_datetime(df_combined_lgbm[['Year', 'Month', 'Day']])\n",
    "df_combined_lgbm['y_pred_lgbm_inverted'] = df_combined_lgbm['y_pred_lgbm_inverted'].round()\n",
    "\n"
   ]
  },
  {
   "cell_type": "markdown",
   "metadata": {},
   "source": [
    "## Visualisation of XGboost model Prediction"
   ]
  },
  {
   "cell_type": "code",
   "execution_count": 244,
   "metadata": {},
   "outputs": [
    {
     "data": {
      "text/plain": [
       "ANCSCP\n",
       "5479.0    727\n",
       "5450.0    621\n",
       "5356.0    586\n",
       "5399.0    572\n",
       "5513.0    554\n",
       "         ... \n",
       "5518.0      3\n",
       "5069.0      1\n",
       "5496.0      1\n",
       "5368.0      1\n",
       "5501.0      1\n",
       "Name: count, Length: 219, dtype: int64"
      ]
     },
     "execution_count": 244,
     "metadata": {},
     "output_type": "execute_result"
    }
   ],
   "source": [
    "df_target_test_xgb['y_pred_best_inverted'] = (df_target_test_xgb['y_pred_best'] * df_target_test_xgb['Y_inverted_test']) / df_target_test_xgb['y_test']\n",
    "\n",
    "df_combined_xgb = pd.concat([X_inverted_test, df_target_test_xgb], axis=1)\n",
    "df_combined_xgb['Date'] = df_combined_xgb['Year'].astype(str) + '-' + df_combined_xgb['Month'].astype(str).str.zfill(2) + '-' + df_combined_xgb['Day'].astype(str).str.zfill(2)\n",
    "df_combined_xgb['Date'] = pd.to_datetime(df_combined_xgb[['Year', 'Month', 'Day']])\n",
    "df_combined_xgb['y_pred_best_inverted'] = df_combined_xgb['y_pred_best_inverted'].round()\n",
    "df_combined_xgb['ANCSCP'].value_counts()\n"
   ]
  },
  {
   "cell_type": "code",
   "execution_count": 253,
   "metadata": {},
   "outputs": [
    {
     "data": {
      "application/vnd.plotly.v1+json": {
       "config": {
        "plotlyServerURL": "https://plot.ly"
       },
       "data": [
        {
         "hovertemplate": "<extra></extra>",
         "legendgroup": "",
         "line": {
          "color": "#636efa",
          "dash": "solid"
         },
         "marker": {
          "symbol": "circle"
         },
         "mode": "lines",
         "name": "",
         "orientation": "v",
         "showlegend": false,
         "type": "scatter",
         "xaxis": "x",
         "yaxis": "y"
        },
        {
         "line": {
          "color": "red"
         },
         "mode": "lines",
         "name": "prediction of next call    in 2019",
         "type": "scatter",
         "x": [
          "2019-01-02T00:00:00",
          "2019-01-07T00:00:00",
          "2019-01-08T00:00:00",
          "2019-01-19T00:00:00",
          "2019-01-19T00:00:00",
          "2019-01-24T00:00:00",
          "2019-01-30T00:00:00",
          "2019-02-05T00:00:00",
          "2019-02-25T00:00:00",
          "2019-02-25T00:00:00",
          "2019-02-27T00:00:00",
          "2019-03-02T00:00:00",
          "2019-03-05T00:00:00",
          "2019-03-13T00:00:00",
          "2019-03-16T00:00:00",
          "2019-03-19T00:00:00",
          "2019-03-19T00:00:00",
          "2019-03-25T00:00:00",
          "2019-03-26T00:00:00",
          "2019-03-27T00:00:00",
          "2019-03-28T00:00:00",
          "2019-03-30T00:00:00",
          "2019-04-04T00:00:00",
          "2019-04-08T00:00:00",
          "2019-04-08T00:00:00",
          "2019-04-10T00:00:00",
          "2019-04-17T00:00:00",
          "2019-04-23T00:00:00",
          "2019-04-23T00:00:00",
          "2019-05-03T00:00:00",
          "2019-05-03T00:00:00",
          "2019-05-14T00:00:00",
          "2019-05-17T00:00:00",
          "2019-05-22T00:00:00",
          "2019-05-24T00:00:00",
          "2019-05-30T00:00:00",
          "2019-06-04T00:00:00",
          "2019-06-07T00:00:00",
          "2019-06-08T00:00:00",
          "2019-06-12T00:00:00",
          "2019-06-12T00:00:00",
          "2019-06-19T00:00:00",
          "2019-06-21T00:00:00",
          "2019-06-22T00:00:00",
          "2019-06-29T00:00:00",
          "2019-07-04T00:00:00",
          "2019-07-07T00:00:00",
          "2019-07-12T00:00:00",
          "2019-07-13T00:00:00",
          "2019-07-25T00:00:00",
          "2019-08-03T00:00:00",
          "2019-08-13T00:00:00",
          "2019-08-13T00:00:00",
          "2019-08-17T00:00:00",
          "2019-08-19T00:00:00",
          "2019-08-22T00:00:00",
          "2019-08-31T00:00:00",
          "2019-08-31T00:00:00",
          "2019-09-03T00:00:00",
          "2019-09-03T00:00:00",
          "2019-09-06T00:00:00",
          "2019-09-08T00:00:00",
          "2019-09-10T00:00:00",
          "2019-09-17T00:00:00",
          "2019-09-21T00:00:00",
          "2019-09-21T00:00:00",
          "2019-09-28T00:00:00",
          "2019-10-04T00:00:00",
          "2019-10-04T00:00:00",
          "2019-10-11T00:00:00",
          "2019-10-11T00:00:00",
          "2019-10-21T00:00:00",
          "2019-10-26T00:00:00",
          "2019-10-30T00:00:00",
          "2019-10-30T00:00:00",
          "2019-11-02T00:00:00",
          "2019-11-04T00:00:00",
          "2019-11-06T00:00:00",
          "2019-11-11T00:00:00",
          "2019-11-11T00:00:00",
          "2019-11-16T00:00:00",
          "2019-11-18T00:00:00",
          "2019-11-19T00:00:00",
          "2019-11-20T00:00:00",
          "2019-11-26T00:00:00",
          "2019-11-29T00:00:00",
          "2019-12-02T00:00:00",
          "2019-12-02T00:00:00",
          "2019-12-06T00:00:00",
          "2019-12-07T00:00:00",
          "2019-12-07T00:00:00",
          "2019-12-09T00:00:00",
          "2019-12-09T00:00:00",
          "2019-12-12T00:00:00",
          "2019-12-14T00:00:00",
          "2019-12-16T00:00:00",
          "2019-12-19T00:00:00",
          "2019-12-21T00:00:00",
          "2019-12-21T00:00:00",
          "2019-12-23T00:00:00",
          "2019-12-24T00:00:00",
          "2019-12-25T00:00:00",
          "2019-12-27T00:00:00"
         ],
         "y": [
          2,
          1,
          2,
          3,
          2,
          1,
          1,
          2,
          3,
          2,
          1,
          2,
          4,
          2,
          2,
          2,
          2,
          2,
          2,
          2,
          2,
          2,
          2,
          4,
          2,
          2,
          2,
          2,
          2,
          1,
          2,
          2,
          2,
          2,
          2,
          2,
          2,
          2,
          2,
          1,
          2,
          2,
          2,
          5,
          2,
          2,
          2,
          5,
          2,
          null,
          2,
          2,
          2,
          2,
          2,
          2,
          2,
          3,
          2,
          2,
          2,
          3,
          2,
          2,
          3,
          2,
          3,
          2,
          2,
          5,
          3,
          2,
          2,
          2,
          2,
          2,
          2,
          1,
          2,
          1,
          2,
          1,
          1,
          1,
          2,
          2,
          1,
          2,
          2,
          5,
          2,
          2,
          2,
          1,
          3,
          4,
          4,
          3,
          2,
          2,
          3,
          1,
          2
         ]
        },
        {
         "line": {
          "color": "blue"
         },
         "mode": "lines",
         "name": "test of next call  in 2019",
         "type": "scatter",
         "x": [
          "2019-01-02T00:00:00",
          "2019-01-07T00:00:00",
          "2019-01-08T00:00:00",
          "2019-01-19T00:00:00",
          "2019-01-19T00:00:00",
          "2019-01-24T00:00:00",
          "2019-01-30T00:00:00",
          "2019-02-05T00:00:00",
          "2019-02-25T00:00:00",
          "2019-02-25T00:00:00",
          "2019-02-27T00:00:00",
          "2019-03-02T00:00:00",
          "2019-03-05T00:00:00",
          "2019-03-13T00:00:00",
          "2019-03-16T00:00:00",
          "2019-03-19T00:00:00",
          "2019-03-19T00:00:00",
          "2019-03-25T00:00:00",
          "2019-03-26T00:00:00",
          "2019-03-27T00:00:00",
          "2019-03-28T00:00:00",
          "2019-03-30T00:00:00",
          "2019-04-04T00:00:00",
          "2019-04-08T00:00:00",
          "2019-04-08T00:00:00",
          "2019-04-10T00:00:00",
          "2019-04-17T00:00:00",
          "2019-04-23T00:00:00",
          "2019-04-23T00:00:00",
          "2019-05-03T00:00:00",
          "2019-05-03T00:00:00",
          "2019-05-14T00:00:00",
          "2019-05-17T00:00:00",
          "2019-05-22T00:00:00",
          "2019-05-24T00:00:00",
          "2019-05-30T00:00:00",
          "2019-06-04T00:00:00",
          "2019-06-07T00:00:00",
          "2019-06-08T00:00:00",
          "2019-06-12T00:00:00",
          "2019-06-12T00:00:00",
          "2019-06-19T00:00:00",
          "2019-06-21T00:00:00",
          "2019-06-22T00:00:00",
          "2019-06-29T00:00:00",
          "2019-07-04T00:00:00",
          "2019-07-07T00:00:00",
          "2019-07-12T00:00:00",
          "2019-07-13T00:00:00",
          "2019-07-25T00:00:00",
          "2019-08-03T00:00:00",
          "2019-08-13T00:00:00",
          "2019-08-13T00:00:00",
          "2019-08-17T00:00:00",
          "2019-08-19T00:00:00",
          "2019-08-22T00:00:00",
          "2019-08-31T00:00:00",
          "2019-08-31T00:00:00",
          "2019-09-03T00:00:00",
          "2019-09-03T00:00:00",
          "2019-09-06T00:00:00",
          "2019-09-08T00:00:00",
          "2019-09-10T00:00:00",
          "2019-09-17T00:00:00",
          "2019-09-21T00:00:00",
          "2019-09-21T00:00:00",
          "2019-09-28T00:00:00",
          "2019-10-04T00:00:00",
          "2019-10-04T00:00:00",
          "2019-10-11T00:00:00",
          "2019-10-11T00:00:00",
          "2019-10-21T00:00:00",
          "2019-10-26T00:00:00",
          "2019-10-30T00:00:00",
          "2019-10-30T00:00:00",
          "2019-11-02T00:00:00",
          "2019-11-04T00:00:00",
          "2019-11-06T00:00:00",
          "2019-11-11T00:00:00",
          "2019-11-11T00:00:00",
          "2019-11-16T00:00:00",
          "2019-11-18T00:00:00",
          "2019-11-19T00:00:00",
          "2019-11-20T00:00:00",
          "2019-11-26T00:00:00",
          "2019-11-29T00:00:00",
          "2019-12-02T00:00:00",
          "2019-12-02T00:00:00",
          "2019-12-06T00:00:00",
          "2019-12-07T00:00:00",
          "2019-12-07T00:00:00",
          "2019-12-09T00:00:00",
          "2019-12-09T00:00:00",
          "2019-12-12T00:00:00",
          "2019-12-14T00:00:00",
          "2019-12-16T00:00:00",
          "2019-12-19T00:00:00",
          "2019-12-21T00:00:00",
          "2019-12-21T00:00:00",
          "2019-12-23T00:00:00",
          "2019-12-24T00:00:00",
          "2019-12-25T00:00:00",
          "2019-12-27T00:00:00"
         ],
         "y": [
          1,
          1,
          1,
          3,
          2,
          1,
          1,
          1,
          3,
          2,
          1,
          2,
          4,
          1,
          2,
          4,
          1,
          2,
          1,
          3,
          2,
          3,
          2,
          6,
          2,
          1,
          1,
          1,
          4,
          1,
          1,
          1,
          3,
          1,
          1,
          2,
          3,
          1,
          2,
          2,
          4,
          2,
          1,
          6,
          3,
          3,
          2,
          6,
          3,
          0,
          3,
          3,
          3,
          2,
          3,
          2,
          3,
          3,
          3,
          2,
          2,
          3,
          1,
          2,
          2,
          2,
          2,
          3,
          1,
          5,
          1,
          1,
          2,
          2,
          2,
          2,
          2,
          1,
          3,
          1,
          2,
          1,
          1,
          1,
          3,
          3,
          1,
          3,
          1,
          4,
          2,
          2,
          1,
          1,
          3,
          3,
          5,
          2,
          2,
          4,
          6,
          2,
          1
         ]
        }
       ],
       "layout": {
        "legend": {
         "tracegroupgap": 0
        },
        "margin": {
         "t": 60
        },
        "template": {
         "data": {
          "bar": [
           {
            "error_x": {
             "color": "#2a3f5f"
            },
            "error_y": {
             "color": "#2a3f5f"
            },
            "marker": {
             "line": {
              "color": "#E5ECF6",
              "width": 0.5
             },
             "pattern": {
              "fillmode": "overlay",
              "size": 10,
              "solidity": 0.2
             }
            },
            "type": "bar"
           }
          ],
          "barpolar": [
           {
            "marker": {
             "line": {
              "color": "#E5ECF6",
              "width": 0.5
             },
             "pattern": {
              "fillmode": "overlay",
              "size": 10,
              "solidity": 0.2
             }
            },
            "type": "barpolar"
           }
          ],
          "carpet": [
           {
            "aaxis": {
             "endlinecolor": "#2a3f5f",
             "gridcolor": "white",
             "linecolor": "white",
             "minorgridcolor": "white",
             "startlinecolor": "#2a3f5f"
            },
            "baxis": {
             "endlinecolor": "#2a3f5f",
             "gridcolor": "white",
             "linecolor": "white",
             "minorgridcolor": "white",
             "startlinecolor": "#2a3f5f"
            },
            "type": "carpet"
           }
          ],
          "choropleth": [
           {
            "colorbar": {
             "outlinewidth": 0,
             "ticks": ""
            },
            "type": "choropleth"
           }
          ],
          "contour": [
           {
            "colorbar": {
             "outlinewidth": 0,
             "ticks": ""
            },
            "colorscale": [
             [
              0,
              "#0d0887"
             ],
             [
              0.1111111111111111,
              "#46039f"
             ],
             [
              0.2222222222222222,
              "#7201a8"
             ],
             [
              0.3333333333333333,
              "#9c179e"
             ],
             [
              0.4444444444444444,
              "#bd3786"
             ],
             [
              0.5555555555555556,
              "#d8576b"
             ],
             [
              0.6666666666666666,
              "#ed7953"
             ],
             [
              0.7777777777777778,
              "#fb9f3a"
             ],
             [
              0.8888888888888888,
              "#fdca26"
             ],
             [
              1,
              "#f0f921"
             ]
            ],
            "type": "contour"
           }
          ],
          "contourcarpet": [
           {
            "colorbar": {
             "outlinewidth": 0,
             "ticks": ""
            },
            "type": "contourcarpet"
           }
          ],
          "heatmap": [
           {
            "colorbar": {
             "outlinewidth": 0,
             "ticks": ""
            },
            "colorscale": [
             [
              0,
              "#0d0887"
             ],
             [
              0.1111111111111111,
              "#46039f"
             ],
             [
              0.2222222222222222,
              "#7201a8"
             ],
             [
              0.3333333333333333,
              "#9c179e"
             ],
             [
              0.4444444444444444,
              "#bd3786"
             ],
             [
              0.5555555555555556,
              "#d8576b"
             ],
             [
              0.6666666666666666,
              "#ed7953"
             ],
             [
              0.7777777777777778,
              "#fb9f3a"
             ],
             [
              0.8888888888888888,
              "#fdca26"
             ],
             [
              1,
              "#f0f921"
             ]
            ],
            "type": "heatmap"
           }
          ],
          "heatmapgl": [
           {
            "colorbar": {
             "outlinewidth": 0,
             "ticks": ""
            },
            "colorscale": [
             [
              0,
              "#0d0887"
             ],
             [
              0.1111111111111111,
              "#46039f"
             ],
             [
              0.2222222222222222,
              "#7201a8"
             ],
             [
              0.3333333333333333,
              "#9c179e"
             ],
             [
              0.4444444444444444,
              "#bd3786"
             ],
             [
              0.5555555555555556,
              "#d8576b"
             ],
             [
              0.6666666666666666,
              "#ed7953"
             ],
             [
              0.7777777777777778,
              "#fb9f3a"
             ],
             [
              0.8888888888888888,
              "#fdca26"
             ],
             [
              1,
              "#f0f921"
             ]
            ],
            "type": "heatmapgl"
           }
          ],
          "histogram": [
           {
            "marker": {
             "pattern": {
              "fillmode": "overlay",
              "size": 10,
              "solidity": 0.2
             }
            },
            "type": "histogram"
           }
          ],
          "histogram2d": [
           {
            "colorbar": {
             "outlinewidth": 0,
             "ticks": ""
            },
            "colorscale": [
             [
              0,
              "#0d0887"
             ],
             [
              0.1111111111111111,
              "#46039f"
             ],
             [
              0.2222222222222222,
              "#7201a8"
             ],
             [
              0.3333333333333333,
              "#9c179e"
             ],
             [
              0.4444444444444444,
              "#bd3786"
             ],
             [
              0.5555555555555556,
              "#d8576b"
             ],
             [
              0.6666666666666666,
              "#ed7953"
             ],
             [
              0.7777777777777778,
              "#fb9f3a"
             ],
             [
              0.8888888888888888,
              "#fdca26"
             ],
             [
              1,
              "#f0f921"
             ]
            ],
            "type": "histogram2d"
           }
          ],
          "histogram2dcontour": [
           {
            "colorbar": {
             "outlinewidth": 0,
             "ticks": ""
            },
            "colorscale": [
             [
              0,
              "#0d0887"
             ],
             [
              0.1111111111111111,
              "#46039f"
             ],
             [
              0.2222222222222222,
              "#7201a8"
             ],
             [
              0.3333333333333333,
              "#9c179e"
             ],
             [
              0.4444444444444444,
              "#bd3786"
             ],
             [
              0.5555555555555556,
              "#d8576b"
             ],
             [
              0.6666666666666666,
              "#ed7953"
             ],
             [
              0.7777777777777778,
              "#fb9f3a"
             ],
             [
              0.8888888888888888,
              "#fdca26"
             ],
             [
              1,
              "#f0f921"
             ]
            ],
            "type": "histogram2dcontour"
           }
          ],
          "mesh3d": [
           {
            "colorbar": {
             "outlinewidth": 0,
             "ticks": ""
            },
            "type": "mesh3d"
           }
          ],
          "parcoords": [
           {
            "line": {
             "colorbar": {
              "outlinewidth": 0,
              "ticks": ""
             }
            },
            "type": "parcoords"
           }
          ],
          "pie": [
           {
            "automargin": true,
            "type": "pie"
           }
          ],
          "scatter": [
           {
            "fillpattern": {
             "fillmode": "overlay",
             "size": 10,
             "solidity": 0.2
            },
            "type": "scatter"
           }
          ],
          "scatter3d": [
           {
            "line": {
             "colorbar": {
              "outlinewidth": 0,
              "ticks": ""
             }
            },
            "marker": {
             "colorbar": {
              "outlinewidth": 0,
              "ticks": ""
             }
            },
            "type": "scatter3d"
           }
          ],
          "scattercarpet": [
           {
            "marker": {
             "colorbar": {
              "outlinewidth": 0,
              "ticks": ""
             }
            },
            "type": "scattercarpet"
           }
          ],
          "scattergeo": [
           {
            "marker": {
             "colorbar": {
              "outlinewidth": 0,
              "ticks": ""
             }
            },
            "type": "scattergeo"
           }
          ],
          "scattergl": [
           {
            "marker": {
             "colorbar": {
              "outlinewidth": 0,
              "ticks": ""
             }
            },
            "type": "scattergl"
           }
          ],
          "scattermapbox": [
           {
            "marker": {
             "colorbar": {
              "outlinewidth": 0,
              "ticks": ""
             }
            },
            "type": "scattermapbox"
           }
          ],
          "scatterpolar": [
           {
            "marker": {
             "colorbar": {
              "outlinewidth": 0,
              "ticks": ""
             }
            },
            "type": "scatterpolar"
           }
          ],
          "scatterpolargl": [
           {
            "marker": {
             "colorbar": {
              "outlinewidth": 0,
              "ticks": ""
             }
            },
            "type": "scatterpolargl"
           }
          ],
          "scatterternary": [
           {
            "marker": {
             "colorbar": {
              "outlinewidth": 0,
              "ticks": ""
             }
            },
            "type": "scatterternary"
           }
          ],
          "surface": [
           {
            "colorbar": {
             "outlinewidth": 0,
             "ticks": ""
            },
            "colorscale": [
             [
              0,
              "#0d0887"
             ],
             [
              0.1111111111111111,
              "#46039f"
             ],
             [
              0.2222222222222222,
              "#7201a8"
             ],
             [
              0.3333333333333333,
              "#9c179e"
             ],
             [
              0.4444444444444444,
              "#bd3786"
             ],
             [
              0.5555555555555556,
              "#d8576b"
             ],
             [
              0.6666666666666666,
              "#ed7953"
             ],
             [
              0.7777777777777778,
              "#fb9f3a"
             ],
             [
              0.8888888888888888,
              "#fdca26"
             ],
             [
              1,
              "#f0f921"
             ]
            ],
            "type": "surface"
           }
          ],
          "table": [
           {
            "cells": {
             "fill": {
              "color": "#EBF0F8"
             },
             "line": {
              "color": "white"
             }
            },
            "header": {
             "fill": {
              "color": "#C8D4E3"
             },
             "line": {
              "color": "white"
             }
            },
            "type": "table"
           }
          ]
         },
         "layout": {
          "annotationdefaults": {
           "arrowcolor": "#2a3f5f",
           "arrowhead": 0,
           "arrowwidth": 1
          },
          "autotypenumbers": "strict",
          "coloraxis": {
           "colorbar": {
            "outlinewidth": 0,
            "ticks": ""
           }
          },
          "colorscale": {
           "diverging": [
            [
             0,
             "#8e0152"
            ],
            [
             0.1,
             "#c51b7d"
            ],
            [
             0.2,
             "#de77ae"
            ],
            [
             0.3,
             "#f1b6da"
            ],
            [
             0.4,
             "#fde0ef"
            ],
            [
             0.5,
             "#f7f7f7"
            ],
            [
             0.6,
             "#e6f5d0"
            ],
            [
             0.7,
             "#b8e186"
            ],
            [
             0.8,
             "#7fbc41"
            ],
            [
             0.9,
             "#4d9221"
            ],
            [
             1,
             "#276419"
            ]
           ],
           "sequential": [
            [
             0,
             "#0d0887"
            ],
            [
             0.1111111111111111,
             "#46039f"
            ],
            [
             0.2222222222222222,
             "#7201a8"
            ],
            [
             0.3333333333333333,
             "#9c179e"
            ],
            [
             0.4444444444444444,
             "#bd3786"
            ],
            [
             0.5555555555555556,
             "#d8576b"
            ],
            [
             0.6666666666666666,
             "#ed7953"
            ],
            [
             0.7777777777777778,
             "#fb9f3a"
            ],
            [
             0.8888888888888888,
             "#fdca26"
            ],
            [
             1,
             "#f0f921"
            ]
           ],
           "sequentialminus": [
            [
             0,
             "#0d0887"
            ],
            [
             0.1111111111111111,
             "#46039f"
            ],
            [
             0.2222222222222222,
             "#7201a8"
            ],
            [
             0.3333333333333333,
             "#9c179e"
            ],
            [
             0.4444444444444444,
             "#bd3786"
            ],
            [
             0.5555555555555556,
             "#d8576b"
            ],
            [
             0.6666666666666666,
             "#ed7953"
            ],
            [
             0.7777777777777778,
             "#fb9f3a"
            ],
            [
             0.8888888888888888,
             "#fdca26"
            ],
            [
             1,
             "#f0f921"
            ]
           ]
          },
          "colorway": [
           "#636efa",
           "#EF553B",
           "#00cc96",
           "#ab63fa",
           "#FFA15A",
           "#19d3f3",
           "#FF6692",
           "#B6E880",
           "#FF97FF",
           "#FECB52"
          ],
          "font": {
           "color": "#2a3f5f"
          },
          "geo": {
           "bgcolor": "white",
           "lakecolor": "white",
           "landcolor": "#E5ECF6",
           "showlakes": true,
           "showland": true,
           "subunitcolor": "white"
          },
          "hoverlabel": {
           "align": "left"
          },
          "hovermode": "closest",
          "mapbox": {
           "style": "light"
          },
          "paper_bgcolor": "white",
          "plot_bgcolor": "#E5ECF6",
          "polar": {
           "angularaxis": {
            "gridcolor": "white",
            "linecolor": "white",
            "ticks": ""
           },
           "bgcolor": "#E5ECF6",
           "radialaxis": {
            "gridcolor": "white",
            "linecolor": "white",
            "ticks": ""
           }
          },
          "scene": {
           "xaxis": {
            "backgroundcolor": "#E5ECF6",
            "gridcolor": "white",
            "gridwidth": 2,
            "linecolor": "white",
            "showbackground": true,
            "ticks": "",
            "zerolinecolor": "white"
           },
           "yaxis": {
            "backgroundcolor": "#E5ECF6",
            "gridcolor": "white",
            "gridwidth": 2,
            "linecolor": "white",
            "showbackground": true,
            "ticks": "",
            "zerolinecolor": "white"
           },
           "zaxis": {
            "backgroundcolor": "#E5ECF6",
            "gridcolor": "white",
            "gridwidth": 2,
            "linecolor": "white",
            "showbackground": true,
            "ticks": "",
            "zerolinecolor": "white"
           }
          },
          "shapedefaults": {
           "line": {
            "color": "#2a3f5f"
           }
          },
          "ternary": {
           "aaxis": {
            "gridcolor": "white",
            "linecolor": "white",
            "ticks": ""
           },
           "baxis": {
            "gridcolor": "white",
            "linecolor": "white",
            "ticks": ""
           },
           "bgcolor": "#E5ECF6",
           "caxis": {
            "gridcolor": "white",
            "linecolor": "white",
            "ticks": ""
           }
          },
          "title": {
           "x": 0.05
          },
          "xaxis": {
           "automargin": true,
           "gridcolor": "white",
           "linecolor": "white",
           "ticks": "",
           "title": {
            "standoff": 15
           },
           "zerolinecolor": "white",
           "zerolinewidth": 2
          },
          "yaxis": {
           "automargin": true,
           "gridcolor": "white",
           "linecolor": "white",
           "ticks": "",
           "title": {
            "standoff": 15
           },
           "zerolinecolor": "white",
           "zerolinewidth": 2
          }
         }
        },
        "xaxis": {
         "anchor": "y",
         "domain": [
          0,
          1
         ]
        },
        "yaxis": {
         "anchor": "x",
         "domain": [
          0,
          1
         ]
        }
       }
      }
     },
     "metadata": {},
     "output_type": "display_data"
    }
   ],
   "source": [
    "import plotly.express as px\n",
    "import plotly.graph_objects as go\n",
    "df_STE_DE_GESTION = df_combined_xgb[df_combined_xgb['ANCSCP'] == 5530.0]\n",
    "df_2017 = df_STE_DE_GESTION[df_STE_DE_GESTION['Date'].dt.year == 2019]\n",
    "\n",
    "fig = px.line()\n",
    "fig = go.Figure(fig)\n",
    "df_2017 = df_2017.sort_values(by=\"Date\")\n",
    "\n",
    "\n",
    "fig.add_trace(go.Scatter(x=df_2017['Date'], y=df_2017['y_pred_best_inverted'], \n",
    "                         mode='lines', name='prediction of next call    in 2019', line=dict(color='red')))\n",
    "fig.add_trace(go.Scatter(x=df_2017['Date'], y=df_2017['Y_inverted_test'], \n",
    "                         mode='lines', name='test of next call  in 2019', line=dict(color='blue')))\n",
    "fig.show()\n"
   ]
  },
  {
   "cell_type": "code",
   "execution_count": 250,
   "metadata": {},
   "outputs": [
    {
     "data": {
      "text/plain": [
       "Index(['ANCSCP', 'prixHT', 'Year', 'Month', 'Day', 'Weekday', 'Quarter',\n",
       "       'month_sin', 'month_cos', 'day_sin',\n",
       "       ...\n",
       "       'LIBLOC_TOZGRANE', 'LIBLOC_TUNIS VILLE', 'LIBLOC_ZAGHOUAN',\n",
       "       'LIBLOC_ZARZIS', 'LIBLOC_ZARZOUNA', 'y_test', 'y_pred_best',\n",
       "       'Y_inverted_test', 'y_pred_best_inverted', 'Date'],\n",
       "      dtype='object', length=231)"
      ]
     },
     "execution_count": 250,
     "metadata": {},
     "output_type": "execute_result"
    }
   ],
   "source": [
    "df_STE_DE_GESTION.columns"
   ]
  },
  {
   "cell_type": "markdown",
   "metadata": {},
   "source": []
  }
 ],
 "metadata": {
  "language_info": {
   "name": "python"
  }
 },
 "nbformat": 4,
 "nbformat_minor": 2
}
