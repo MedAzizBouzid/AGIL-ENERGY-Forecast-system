{
 "cells": [
  {
   "cell_type": "code",
   "execution_count": 1,
   "metadata": {},
   "outputs": [],
   "source": [
    "import pandas as pd\n",
    "import matplotlib.pyplot as plt\n",
    "import numpy as np\n",
    "import warnings \n",
    "warnings.filterwarnings('ignore')\n",
    "import seaborn as sns\n",
    "\n",
    "import matplotlib.pyplot as plt\n",
    "\n"
   ]
  },
  {
   "cell_type": "code",
   "execution_count": 3,
   "metadata": {},
   "outputs": [],
   "source": [
    "dataset=pd.read_csv('../../data/BO2_forecast_next_call/forecast_next_call.csv')"
   ]
  },
  {
   "cell_type": "code",
   "execution_count": 4,
   "metadata": {},
   "outputs": [
    {
     "data": {
      "text/html": [
       "<div>\n",
       "<style scoped>\n",
       "    .dataframe tbody tr th:only-of-type {\n",
       "        vertical-align: middle;\n",
       "    }\n",
       "\n",
       "    .dataframe tbody tr th {\n",
       "        vertical-align: top;\n",
       "    }\n",
       "\n",
       "    .dataframe thead th {\n",
       "        text-align: right;\n",
       "    }\n",
       "</style>\n",
       "<table border=\"1\" class=\"dataframe\">\n",
       "  <thead>\n",
       "    <tr style=\"text-align: right;\">\n",
       "      <th></th>\n",
       "      <th>NOMDPO</th>\n",
       "      <th>LIBPRD</th>\n",
       "      <th>NUMCPT</th>\n",
       "      <th>MOIS</th>\n",
       "      <th>CODGVR</th>\n",
       "      <th>CODLOC</th>\n",
       "      <th>SUM(MNTHT)</th>\n",
       "      <th>SUM(QTEPRD)</th>\n",
       "      <th>prixHT</th>\n",
       "    </tr>\n",
       "  </thead>\n",
       "  <tbody>\n",
       "    <tr>\n",
       "      <th>0</th>\n",
       "      <td>GOULETTE</td>\n",
       "      <td>GASOIL</td>\n",
       "      <td>AV.BOUGATFA</td>\n",
       "      <td>18-Feb</td>\n",
       "      <td>TUNIS</td>\n",
       "      <td>LE BARDO</td>\n",
       "      <td>28077.686</td>\n",
       "      <td>26.0</td>\n",
       "      <td>1079.911</td>\n",
       "    </tr>\n",
       "    <tr>\n",
       "      <th>1</th>\n",
       "      <td>BIZERTE CARBURANT</td>\n",
       "      <td>GASOIL</td>\n",
       "      <td>M. BOURGUIBA</td>\n",
       "      <td>18-Jan</td>\n",
       "      <td>BIZERTE</td>\n",
       "      <td>MENZEL BOURGUIBA</td>\n",
       "      <td>82073.236</td>\n",
       "      <td>76.0</td>\n",
       "      <td>1079.911</td>\n",
       "    </tr>\n",
       "    <tr>\n",
       "      <th>2</th>\n",
       "      <td>GOULETTE</td>\n",
       "      <td>SSP SUPER SANS PLOMB</td>\n",
       "      <td>KALAA EL KEBIRA</td>\n",
       "      <td>18-Feb</td>\n",
       "      <td>SOUSSE</td>\n",
       "      <td>KALAA KBIRA</td>\n",
       "      <td>55151.072</td>\n",
       "      <td>38.0</td>\n",
       "      <td>1451.344</td>\n",
       "    </tr>\n",
       "    <tr>\n",
       "      <th>3</th>\n",
       "      <td>GOULETTE</td>\n",
       "      <td>SSP SUPER SANS PLOMB</td>\n",
       "      <td>GAMMARTH</td>\n",
       "      <td>18-Feb</td>\n",
       "      <td>TUNIS</td>\n",
       "      <td>GAMMARTH</td>\n",
       "      <td>134974.992</td>\n",
       "      <td>93.0</td>\n",
       "      <td>1451.344</td>\n",
       "    </tr>\n",
       "    <tr>\n",
       "      <th>4</th>\n",
       "      <td>GOULETTE</td>\n",
       "      <td>GASOIL</td>\n",
       "      <td>BEN AROUS MC 34</td>\n",
       "      <td>18-Feb</td>\n",
       "      <td>BEN AROUS</td>\n",
       "      <td>BEN AROUS</td>\n",
       "      <td>96112.079</td>\n",
       "      <td>89.0</td>\n",
       "      <td>1079.911</td>\n",
       "    </tr>\n",
       "  </tbody>\n",
       "</table>\n",
       "</div>"
      ],
      "text/plain": [
       "              NOMDPO                LIBPRD           NUMCPT    MOIS  \\\n",
       "0           GOULETTE                GASOIL      AV.BOUGATFA  18-Feb   \n",
       "1  BIZERTE CARBURANT                GASOIL     M. BOURGUIBA  18-Jan   \n",
       "2           GOULETTE  SSP SUPER SANS PLOMB  KALAA EL KEBIRA  18-Feb   \n",
       "3           GOULETTE  SSP SUPER SANS PLOMB         GAMMARTH  18-Feb   \n",
       "4           GOULETTE                GASOIL  BEN AROUS MC 34  18-Feb   \n",
       "\n",
       "      CODGVR            CODLOC  SUM(MNTHT)  SUM(QTEPRD)    prixHT  \n",
       "0      TUNIS          LE BARDO   28077.686         26.0  1079.911  \n",
       "1    BIZERTE  MENZEL BOURGUIBA   82073.236         76.0  1079.911  \n",
       "2     SOUSSE       KALAA KBIRA   55151.072         38.0  1451.344  \n",
       "3      TUNIS          GAMMARTH  134974.992         93.0  1451.344  \n",
       "4  BEN AROUS         BEN AROUS   96112.079         89.0  1079.911  "
      ]
     },
     "execution_count": 4,
     "metadata": {},
     "output_type": "execute_result"
    }
   ],
   "source": [
    "dataset.head()"
   ]
  },
  {
   "cell_type": "markdown",
   "metadata": {},
   "source": [
    "# 1-Data Prep"
   ]
  },
  {
   "cell_type": "markdown",
   "metadata": {},
   "source": [
    "### 1.1 Remove negative values"
   ]
  },
  {
   "cell_type": "code",
   "execution_count": 16,
   "metadata": {},
   "outputs": [],
   "source": [
    "dataset = dataset.assign(\n",
    "    prixHT=lambda x: x.apply(\n",
    "        lambda row: 0 if row['SUM(MNTHT)'] < 0 or row['SUM(QTEPRD)'] == 0 else row['SUM(MNTHT)'] / row['SUM(QTEPRD)'], \n",
    "        axis=1\n",
    "    )\n",
    ")"
   ]
  },
  {
   "cell_type": "code",
   "execution_count": 19,
   "metadata": {},
   "outputs": [],
   "source": [
    "dataset=dataset[dataset['SUM(MNTHT)']>=0]\n"
   ]
  },
  {
   "cell_type": "code",
   "execution_count": 20,
   "metadata": {},
   "outputs": [],
   "source": [
    "dataset=dataset[dataset['SUM(QTEPRD)']>=0]\n"
   ]
  },
  {
   "cell_type": "markdown",
   "metadata": {},
   "source": [
    "### 1.2 Null values"
   ]
  },
  {
   "cell_type": "code",
   "execution_count": 18,
   "metadata": {},
   "outputs": [
    {
     "data": {
      "text/plain": [
       "False"
      ]
     },
     "execution_count": 18,
     "metadata": {},
     "output_type": "execute_result"
    }
   ],
   "source": [
    "dataset.isnull().values.any()\n"
   ]
  },
  {
   "cell_type": "markdown",
   "metadata": {},
   "source": [
    "### 1.3 Duplicates Values"
   ]
  },
  {
   "cell_type": "code",
   "execution_count": 24,
   "metadata": {},
   "outputs": [
    {
     "name": "stdout",
     "output_type": "stream",
     "text": [
      "Shape of dataset after removing duplicates: (21746, 9)\n"
     ]
    }
   ],
   "source": [
    "dataset=dataset.drop_duplicates()\n",
    "print(\"Shape of dataset after removing duplicates:\",dataset.shape)"
   ]
  },
  {
   "cell_type": "markdown",
   "metadata": {},
   "source": [
    "### 1.4 Data vizualisation"
   ]
  },
  {
   "cell_type": "code",
   "execution_count": null,
   "metadata": {},
   "outputs": [],
   "source": []
  }
 ],
 "metadata": {
  "language_info": {
   "name": "python"
  }
 },
 "nbformat": 4,
 "nbformat_minor": 2
}
