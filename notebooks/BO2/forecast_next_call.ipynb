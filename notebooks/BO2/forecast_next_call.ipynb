{
 "cells": [
  {
   "cell_type": "code",
   "execution_count": 35,
   "metadata": {},
   "outputs": [],
   "source": [
    "import pandas as pd\n",
    "import matplotlib.pyplot as plt\n",
    "import numpy as np\n",
    "import warnings \n",
    "warnings.filterwarnings('ignore')\n",
    "import seaborn as sns\n",
    "\n",
    "import matplotlib.pyplot as plt\n",
    "\n"
   ]
  },
  {
   "cell_type": "code",
   "execution_count": 36,
   "metadata": {},
   "outputs": [],
   "source": [
    "df=pd.read_csv('../../data/vente_car_bi_hatem.csv',delimiter=';')\n"
   ]
  },
  {
   "cell_type": "code",
   "execution_count": 37,
   "metadata": {},
   "outputs": [
    {
     "name": "stdout",
     "output_type": "stream",
     "text": [
      "<class 'pandas.core.frame.DataFrame'>\n",
      "RangeIndex: 364109 entries, 0 to 364108\n",
      "Data columns (total 8 columns):\n",
      " #   Column  Non-Null Count   Dtype \n",
      "---  ------  --------------   ----- \n",
      " 0   ANCSCP  364109 non-null  int64 \n",
      " 1   NOMCLI  364109 non-null  object\n",
      " 2   DATLIV  364109 non-null  object\n",
      " 3   LIBGVR  364109 non-null  object\n",
      " 4   LIBLOC  364109 non-null  object\n",
      " 5   LIBPRD  364109 non-null  object\n",
      " 6   QTEPRD  364106 non-null  object\n",
      " 7   MNTHT   364106 non-null  object\n",
      "dtypes: int64(1), object(7)\n",
      "memory usage: 22.2+ MB\n"
     ]
    }
   ],
   "source": [
    "df.info()"
   ]
  },
  {
   "cell_type": "code",
   "execution_count": 38,
   "metadata": {},
   "outputs": [
    {
     "data": {
      "text/html": [
       "<div>\n",
       "<style scoped>\n",
       "    .dataframe tbody tr th:only-of-type {\n",
       "        vertical-align: middle;\n",
       "    }\n",
       "\n",
       "    .dataframe tbody tr th {\n",
       "        vertical-align: top;\n",
       "    }\n",
       "\n",
       "    .dataframe thead th {\n",
       "        text-align: right;\n",
       "    }\n",
       "</style>\n",
       "<table border=\"1\" class=\"dataframe\">\n",
       "  <thead>\n",
       "    <tr style=\"text-align: right;\">\n",
       "      <th></th>\n",
       "      <th>ANCSCP</th>\n",
       "      <th>NOMCLI</th>\n",
       "      <th>DATLIV</th>\n",
       "      <th>LIBGVR</th>\n",
       "      <th>LIBLOC</th>\n",
       "      <th>LIBPRD</th>\n",
       "      <th>QTEPRD</th>\n",
       "      <th>MNTHT</th>\n",
       "    </tr>\n",
       "  </thead>\n",
       "  <tbody>\n",
       "    <tr>\n",
       "      <th>0</th>\n",
       "      <td>5452</td>\n",
       "      <td>SADOK BEN SALHA                              ...</td>\n",
       "      <td>02/01/2017</td>\n",
       "      <td>NABEUL</td>\n",
       "      <td>MENZEL TEMIME</td>\n",
       "      <td>PETROLE</td>\n",
       "      <td>4</td>\n",
       "      <td>2737,5</td>\n",
       "    </tr>\n",
       "    <tr>\n",
       "      <th>1</th>\n",
       "      <td>5452</td>\n",
       "      <td>SADOK BEN SALHA                              ...</td>\n",
       "      <td>02/01/2017</td>\n",
       "      <td>NABEUL</td>\n",
       "      <td>MENZEL TEMIME</td>\n",
       "      <td>GASOIL</td>\n",
       "      <td>12</td>\n",
       "      <td>11617,5</td>\n",
       "    </tr>\n",
       "    <tr>\n",
       "      <th>2</th>\n",
       "      <td>5452</td>\n",
       "      <td>SADOK BEN SALHA                              ...</td>\n",
       "      <td>02/01/2017</td>\n",
       "      <td>NABEUL</td>\n",
       "      <td>MENZEL TEMIME</td>\n",
       "      <td>TIMBRE LOI 54 du 19/08/2014</td>\n",
       "      <td>1</td>\n",
       "      <td>0</td>\n",
       "    </tr>\n",
       "    <tr>\n",
       "      <th>3</th>\n",
       "      <td>5452</td>\n",
       "      <td>SADOK BEN SALHA                              ...</td>\n",
       "      <td>20/03/2017</td>\n",
       "      <td>NABEUL</td>\n",
       "      <td>MENZEL TEMIME</td>\n",
       "      <td>TIMBRE LOI 54 du 19/08/2014</td>\n",
       "      <td>1</td>\n",
       "      <td>0</td>\n",
       "    </tr>\n",
       "    <tr>\n",
       "      <th>4</th>\n",
       "      <td>5452</td>\n",
       "      <td>SADOK BEN SALHA                              ...</td>\n",
       "      <td>05/01/2017</td>\n",
       "      <td>NABEUL</td>\n",
       "      <td>MENZEL TEMIME</td>\n",
       "      <td>GASOIL 50</td>\n",
       "      <td>8</td>\n",
       "      <td>9732,144</td>\n",
       "    </tr>\n",
       "  </tbody>\n",
       "</table>\n",
       "</div>"
      ],
      "text/plain": [
       "   ANCSCP                                             NOMCLI      DATLIV  \\\n",
       "0    5452   SADOK BEN SALHA                              ...  02/01/2017   \n",
       "1    5452   SADOK BEN SALHA                              ...  02/01/2017   \n",
       "2    5452   SADOK BEN SALHA                              ...  02/01/2017   \n",
       "3    5452   SADOK BEN SALHA                              ...  20/03/2017   \n",
       "4    5452   SADOK BEN SALHA                              ...  05/01/2017   \n",
       "\n",
       "   LIBGVR         LIBLOC                       LIBPRD QTEPRD     MNTHT  \n",
       "0  NABEUL  MENZEL TEMIME                      PETROLE      4    2737,5  \n",
       "1  NABEUL  MENZEL TEMIME                       GASOIL     12   11617,5  \n",
       "2  NABEUL  MENZEL TEMIME  TIMBRE LOI 54 du 19/08/2014      1         0  \n",
       "3  NABEUL  MENZEL TEMIME  TIMBRE LOI 54 du 19/08/2014      1         0  \n",
       "4  NABEUL  MENZEL TEMIME                    GASOIL 50      8  9732,144  "
      ]
     },
     "execution_count": 38,
     "metadata": {},
     "output_type": "execute_result"
    }
   ],
   "source": [
    "df.head()"
   ]
  },
  {
   "cell_type": "markdown",
   "metadata": {},
   "source": [
    "# 1-Data Prep"
   ]
  },
  {
   "cell_type": "markdown",
   "metadata": {},
   "source": [
    "### 1.1 Remove negative values"
   ]
  },
  {
   "cell_type": "code",
   "execution_count": 39,
   "metadata": {},
   "outputs": [],
   "source": [
    "df['QTEPRD']=df['QTEPRD'].str.replace(',','.')\n",
    "\n",
    "df['QTEPRD']=pd.to_numeric(df['QTEPRD'],errors='raise')\n"
   ]
  },
  {
   "cell_type": "code",
   "execution_count": 40,
   "metadata": {},
   "outputs": [],
   "source": [
    "df['MNTHT']=df['MNTHT'].str.replace(',','.')\n",
    "\n",
    "df['MNTHT']=pd.to_numeric(df['MNTHT'],errors='raise')\n"
   ]
  },
  {
   "cell_type": "code",
   "execution_count": 41,
   "metadata": {},
   "outputs": [],
   "source": [
    "df=df[df['MNTHT']>0]"
   ]
  },
  {
   "cell_type": "code",
   "execution_count": 42,
   "metadata": {},
   "outputs": [],
   "source": [
    "df.loc[df[\"LIBPRD\"] == \"AGILIX PREMIUM ESSENCE\", \"LIBPRD\"] = \"APS AGILIX PREMIUM ESS.\"\n",
    "df.loc[df[\"LIBPRD\"] == \"AGILIX PREMIUM GASOIL\", \"LIBPRD\"] = \"APG AGILIX PREMIUM GAS.\"\n",
    "valeurs_a_supprimer = [\"B.T.S\", \"PETROLE BUTIMES\", \"FOL\", \"WHITE SPIRIT\",\"PETROLE\"]\n",
    "\n",
    "\n",
    "\n",
    "df = df[~df[\"LIBPRD\"].isin(valeurs_a_supprimer)]"
   ]
  },
  {
   "cell_type": "markdown",
   "metadata": {},
   "source": [
    "#### Add price column"
   ]
  },
  {
   "cell_type": "code",
   "execution_count": 43,
   "metadata": {},
   "outputs": [],
   "source": [
    "df = df.assign(\n",
    "    prixHT=lambda x: x.apply(\n",
    "        lambda row: 0 if row['MNTHT'] < 0 or row['QTEPRD'] == 0 else row['MNTHT'] / row['QTEPRD'], \n",
    "        axis=1\n",
    "    )\n",
    ")"
   ]
  },
  {
   "cell_type": "markdown",
   "metadata": {},
   "source": [
    "#### Drop MNTHT column\n"
   ]
  },
  {
   "cell_type": "code",
   "execution_count": 44,
   "metadata": {},
   "outputs": [],
   "source": [
    "df=df.drop(columns=['MNTHT'])\n"
   ]
  },
  {
   "cell_type": "markdown",
   "metadata": {},
   "source": [
    "### 1.2 Null values"
   ]
  },
  {
   "cell_type": "code",
   "execution_count": 45,
   "metadata": {},
   "outputs": [
    {
     "data": {
      "text/plain": [
       "False"
      ]
     },
     "execution_count": 45,
     "metadata": {},
     "output_type": "execute_result"
    }
   ],
   "source": [
    "df.isnull().values.any()\n"
   ]
  },
  {
   "cell_type": "markdown",
   "metadata": {},
   "source": [
    "### 1.3 Duplicates Values"
   ]
  },
  {
   "cell_type": "code",
   "execution_count": 46,
   "metadata": {},
   "outputs": [
    {
     "name": "stdout",
     "output_type": "stream",
     "text": [
      "Shape of dataset after removing duplicates: (232141, 8)\n"
     ]
    }
   ],
   "source": [
    "df=df.drop_duplicates()\n",
    "print(\"Shape of dataset after removing duplicates:\",df.shape)"
   ]
  },
  {
   "cell_type": "markdown",
   "metadata": {},
   "source": [
    "### transform date column for further vizualisation"
   ]
  },
  {
   "cell_type": "code",
   "execution_count": 47,
   "metadata": {},
   "outputs": [
    {
     "data": {
      "text/html": [
       "<div>\n",
       "<style scoped>\n",
       "    .dataframe tbody tr th:only-of-type {\n",
       "        vertical-align: middle;\n",
       "    }\n",
       "\n",
       "    .dataframe tbody tr th {\n",
       "        vertical-align: top;\n",
       "    }\n",
       "\n",
       "    .dataframe thead th {\n",
       "        text-align: right;\n",
       "    }\n",
       "</style>\n",
       "<table border=\"1\" class=\"dataframe\">\n",
       "  <thead>\n",
       "    <tr style=\"text-align: right;\">\n",
       "      <th></th>\n",
       "      <th>ANCSCP</th>\n",
       "      <th>NOMCLI</th>\n",
       "      <th>DATLIV</th>\n",
       "      <th>LIBGVR</th>\n",
       "      <th>LIBLOC</th>\n",
       "      <th>LIBPRD</th>\n",
       "      <th>QTEPRD</th>\n",
       "      <th>prixHT</th>\n",
       "      <th>Year</th>\n",
       "      <th>Month</th>\n",
       "      <th>Day</th>\n",
       "      <th>Weekday</th>\n",
       "      <th>Quarter</th>\n",
       "      <th>month_sin</th>\n",
       "      <th>month_cos</th>\n",
       "      <th>day_sin</th>\n",
       "      <th>day_cos</th>\n",
       "    </tr>\n",
       "  </thead>\n",
       "  <tbody>\n",
       "    <tr>\n",
       "      <th>1</th>\n",
       "      <td>5452</td>\n",
       "      <td>SADOK BEN SALHA                              ...</td>\n",
       "      <td>2017-01-02</td>\n",
       "      <td>NABEUL</td>\n",
       "      <td>MENZEL TEMIME</td>\n",
       "      <td>GASOIL</td>\n",
       "      <td>12.0</td>\n",
       "      <td>968.125</td>\n",
       "      <td>2017</td>\n",
       "      <td>1</td>\n",
       "      <td>2</td>\n",
       "      <td>0</td>\n",
       "      <td>1</td>\n",
       "      <td>5.000000e-01</td>\n",
       "      <td>8.660254e-01</td>\n",
       "      <td>0.394356</td>\n",
       "      <td>0.918958</td>\n",
       "    </tr>\n",
       "    <tr>\n",
       "      <th>4</th>\n",
       "      <td>5452</td>\n",
       "      <td>SADOK BEN SALHA                              ...</td>\n",
       "      <td>2017-01-05</td>\n",
       "      <td>NABEUL</td>\n",
       "      <td>MENZEL TEMIME</td>\n",
       "      <td>GASOIL 50</td>\n",
       "      <td>8.0</td>\n",
       "      <td>1216.518</td>\n",
       "      <td>2017</td>\n",
       "      <td>1</td>\n",
       "      <td>5</td>\n",
       "      <td>3</td>\n",
       "      <td>1</td>\n",
       "      <td>5.000000e-01</td>\n",
       "      <td>8.660254e-01</td>\n",
       "      <td>0.848644</td>\n",
       "      <td>0.528964</td>\n",
       "    </tr>\n",
       "    <tr>\n",
       "      <th>7</th>\n",
       "      <td>5452</td>\n",
       "      <td>SADOK BEN SALHA                              ...</td>\n",
       "      <td>2017-03-15</td>\n",
       "      <td>NABEUL</td>\n",
       "      <td>MENZEL TEMIME</td>\n",
       "      <td>GASOIL</td>\n",
       "      <td>9.0</td>\n",
       "      <td>968.125</td>\n",
       "      <td>2017</td>\n",
       "      <td>3</td>\n",
       "      <td>15</td>\n",
       "      <td>2</td>\n",
       "      <td>1</td>\n",
       "      <td>1.000000e+00</td>\n",
       "      <td>6.123234e-17</td>\n",
       "      <td>0.101168</td>\n",
       "      <td>-0.994869</td>\n",
       "    </tr>\n",
       "    <tr>\n",
       "      <th>8</th>\n",
       "      <td>5452</td>\n",
       "      <td>SADOK BEN SALHA                              ...</td>\n",
       "      <td>2017-01-13</td>\n",
       "      <td>NABEUL</td>\n",
       "      <td>MENZEL TEMIME</td>\n",
       "      <td>GASOIL</td>\n",
       "      <td>7.0</td>\n",
       "      <td>968.125</td>\n",
       "      <td>2017</td>\n",
       "      <td>1</td>\n",
       "      <td>13</td>\n",
       "      <td>4</td>\n",
       "      <td>1</td>\n",
       "      <td>5.000000e-01</td>\n",
       "      <td>8.660254e-01</td>\n",
       "      <td>0.485302</td>\n",
       "      <td>-0.874347</td>\n",
       "    </tr>\n",
       "    <tr>\n",
       "      <th>9</th>\n",
       "      <td>5452</td>\n",
       "      <td>SADOK BEN SALHA                              ...</td>\n",
       "      <td>2017-01-13</td>\n",
       "      <td>NABEUL</td>\n",
       "      <td>MENZEL TEMIME</td>\n",
       "      <td>GASOIL</td>\n",
       "      <td>15.0</td>\n",
       "      <td>968.125</td>\n",
       "      <td>2017</td>\n",
       "      <td>1</td>\n",
       "      <td>13</td>\n",
       "      <td>4</td>\n",
       "      <td>1</td>\n",
       "      <td>5.000000e-01</td>\n",
       "      <td>8.660254e-01</td>\n",
       "      <td>0.485302</td>\n",
       "      <td>-0.874347</td>\n",
       "    </tr>\n",
       "    <tr>\n",
       "      <th>...</th>\n",
       "      <td>...</td>\n",
       "      <td>...</td>\n",
       "      <td>...</td>\n",
       "      <td>...</td>\n",
       "      <td>...</td>\n",
       "      <td>...</td>\n",
       "      <td>...</td>\n",
       "      <td>...</td>\n",
       "      <td>...</td>\n",
       "      <td>...</td>\n",
       "      <td>...</td>\n",
       "      <td>...</td>\n",
       "      <td>...</td>\n",
       "      <td>...</td>\n",
       "      <td>...</td>\n",
       "      <td>...</td>\n",
       "      <td>...</td>\n",
       "    </tr>\n",
       "    <tr>\n",
       "      <th>364101</th>\n",
       "      <td>5364</td>\n",
       "      <td>ANIS KACEM</td>\n",
       "      <td>2019-12-24</td>\n",
       "      <td>BEN AROUS</td>\n",
       "      <td>FOUCHANA</td>\n",
       "      <td>SSP SUPER SANS PLOMB</td>\n",
       "      <td>5.0</td>\n",
       "      <td>1668.739</td>\n",
       "      <td>2019</td>\n",
       "      <td>12</td>\n",
       "      <td>24</td>\n",
       "      <td>1</td>\n",
       "      <td>4</td>\n",
       "      <td>-2.449294e-16</td>\n",
       "      <td>1.000000e+00</td>\n",
       "      <td>-0.988468</td>\n",
       "      <td>0.151428</td>\n",
       "    </tr>\n",
       "    <tr>\n",
       "      <th>364102</th>\n",
       "      <td>5364</td>\n",
       "      <td>ANIS KACEM</td>\n",
       "      <td>2019-12-24</td>\n",
       "      <td>BEN AROUS</td>\n",
       "      <td>FOUCHANA</td>\n",
       "      <td>GASOIL</td>\n",
       "      <td>11.0</td>\n",
       "      <td>1330.973</td>\n",
       "      <td>2019</td>\n",
       "      <td>12</td>\n",
       "      <td>24</td>\n",
       "      <td>1</td>\n",
       "      <td>4</td>\n",
       "      <td>-2.449294e-16</td>\n",
       "      <td>1.000000e+00</td>\n",
       "      <td>-0.988468</td>\n",
       "      <td>0.151428</td>\n",
       "    </tr>\n",
       "    <tr>\n",
       "      <th>364104</th>\n",
       "      <td>5364</td>\n",
       "      <td>ANIS KACEM</td>\n",
       "      <td>2019-12-23</td>\n",
       "      <td>BEN AROUS</td>\n",
       "      <td>FOUCHANA</td>\n",
       "      <td>GAZOIL SANS SOUFRE</td>\n",
       "      <td>3.0</td>\n",
       "      <td>1555.044</td>\n",
       "      <td>2019</td>\n",
       "      <td>12</td>\n",
       "      <td>23</td>\n",
       "      <td>0</td>\n",
       "      <td>4</td>\n",
       "      <td>-2.449294e-16</td>\n",
       "      <td>1.000000e+00</td>\n",
       "      <td>-0.998717</td>\n",
       "      <td>-0.050649</td>\n",
       "    </tr>\n",
       "    <tr>\n",
       "      <th>364105</th>\n",
       "      <td>5364</td>\n",
       "      <td>ANIS KACEM</td>\n",
       "      <td>2019-12-23</td>\n",
       "      <td>BEN AROUS</td>\n",
       "      <td>FOUCHANA</td>\n",
       "      <td>SSP SUPER SANS PLOMB</td>\n",
       "      <td>4.0</td>\n",
       "      <td>1668.739</td>\n",
       "      <td>2019</td>\n",
       "      <td>12</td>\n",
       "      <td>23</td>\n",
       "      <td>0</td>\n",
       "      <td>4</td>\n",
       "      <td>-2.449294e-16</td>\n",
       "      <td>1.000000e+00</td>\n",
       "      <td>-0.998717</td>\n",
       "      <td>-0.050649</td>\n",
       "    </tr>\n",
       "    <tr>\n",
       "      <th>364106</th>\n",
       "      <td>5364</td>\n",
       "      <td>ANIS KACEM</td>\n",
       "      <td>2019-12-23</td>\n",
       "      <td>BEN AROUS</td>\n",
       "      <td>FOUCHANA</td>\n",
       "      <td>GASOIL</td>\n",
       "      <td>6.0</td>\n",
       "      <td>1330.973</td>\n",
       "      <td>2019</td>\n",
       "      <td>12</td>\n",
       "      <td>23</td>\n",
       "      <td>0</td>\n",
       "      <td>4</td>\n",
       "      <td>-2.449294e-16</td>\n",
       "      <td>1.000000e+00</td>\n",
       "      <td>-0.998717</td>\n",
       "      <td>-0.050649</td>\n",
       "    </tr>\n",
       "  </tbody>\n",
       "</table>\n",
       "<p>232141 rows × 17 columns</p>\n",
       "</div>"
      ],
      "text/plain": [
       "        ANCSCP                                             NOMCLI     DATLIV  \\\n",
       "1         5452   SADOK BEN SALHA                              ... 2017-01-02   \n",
       "4         5452   SADOK BEN SALHA                              ... 2017-01-05   \n",
       "7         5452   SADOK BEN SALHA                              ... 2017-03-15   \n",
       "8         5452   SADOK BEN SALHA                              ... 2017-01-13   \n",
       "9         5452   SADOK BEN SALHA                              ... 2017-01-13   \n",
       "...        ...                                                ...        ...   \n",
       "364101    5364                                         ANIS KACEM 2019-12-24   \n",
       "364102    5364                                         ANIS KACEM 2019-12-24   \n",
       "364104    5364                                         ANIS KACEM 2019-12-23   \n",
       "364105    5364                                         ANIS KACEM 2019-12-23   \n",
       "364106    5364                                         ANIS KACEM 2019-12-23   \n",
       "\n",
       "           LIBGVR         LIBLOC                LIBPRD  QTEPRD    prixHT  \\\n",
       "1          NABEUL  MENZEL TEMIME                GASOIL    12.0   968.125   \n",
       "4          NABEUL  MENZEL TEMIME             GASOIL 50     8.0  1216.518   \n",
       "7          NABEUL  MENZEL TEMIME                GASOIL     9.0   968.125   \n",
       "8          NABEUL  MENZEL TEMIME                GASOIL     7.0   968.125   \n",
       "9          NABEUL  MENZEL TEMIME                GASOIL    15.0   968.125   \n",
       "...           ...            ...                   ...     ...       ...   \n",
       "364101  BEN AROUS       FOUCHANA  SSP SUPER SANS PLOMB     5.0  1668.739   \n",
       "364102  BEN AROUS       FOUCHANA                GASOIL    11.0  1330.973   \n",
       "364104  BEN AROUS       FOUCHANA    GAZOIL SANS SOUFRE     3.0  1555.044   \n",
       "364105  BEN AROUS       FOUCHANA  SSP SUPER SANS PLOMB     4.0  1668.739   \n",
       "364106  BEN AROUS       FOUCHANA                GASOIL     6.0  1330.973   \n",
       "\n",
       "        Year  Month  Day  Weekday  Quarter     month_sin     month_cos  \\\n",
       "1       2017      1    2        0        1  5.000000e-01  8.660254e-01   \n",
       "4       2017      1    5        3        1  5.000000e-01  8.660254e-01   \n",
       "7       2017      3   15        2        1  1.000000e+00  6.123234e-17   \n",
       "8       2017      1   13        4        1  5.000000e-01  8.660254e-01   \n",
       "9       2017      1   13        4        1  5.000000e-01  8.660254e-01   \n",
       "...      ...    ...  ...      ...      ...           ...           ...   \n",
       "364101  2019     12   24        1        4 -2.449294e-16  1.000000e+00   \n",
       "364102  2019     12   24        1        4 -2.449294e-16  1.000000e+00   \n",
       "364104  2019     12   23        0        4 -2.449294e-16  1.000000e+00   \n",
       "364105  2019     12   23        0        4 -2.449294e-16  1.000000e+00   \n",
       "364106  2019     12   23        0        4 -2.449294e-16  1.000000e+00   \n",
       "\n",
       "         day_sin   day_cos  \n",
       "1       0.394356  0.918958  \n",
       "4       0.848644  0.528964  \n",
       "7       0.101168 -0.994869  \n",
       "8       0.485302 -0.874347  \n",
       "9       0.485302 -0.874347  \n",
       "...          ...       ...  \n",
       "364101 -0.988468  0.151428  \n",
       "364102 -0.988468  0.151428  \n",
       "364104 -0.998717 -0.050649  \n",
       "364105 -0.998717 -0.050649  \n",
       "364106 -0.998717 -0.050649  \n",
       "\n",
       "[232141 rows x 17 columns]"
      ]
     },
     "execution_count": 47,
     "metadata": {},
     "output_type": "execute_result"
    }
   ],
   "source": [
    "df['DATLIV'] = pd.to_datetime(df['DATLIV'], format='%d/%m/%Y')\n",
    "df['DATLIV'] = pd.to_datetime(df['DATLIV'])\n",
    "df['Year'] = df['DATLIV'].dt.year\n",
    "df['Month'] = df['DATLIV'].dt.month\n",
    "df['Day'] = df['DATLIV'].dt.day\n",
    "df['Weekday'] = df['DATLIV'].dt.weekday\n",
    "df['Quarter'] = df['DATLIV'].dt.quarter\n",
    "df['month_sin'] = np.sin(2 * np.pi * df['Month'] / 12)\n",
    "df['month_cos'] = np.cos(2 * np.pi * df['Month'] / 12)\n",
    "df['day_sin'] = np.sin(2 * np.pi * df['Day'] / 31)\n",
    "df['day_cos'] = np.cos(2 * np.pi * df['Day'] / 31)\n",
    "df"
   ]
  },
  {
   "cell_type": "code",
   "execution_count": 48,
   "metadata": {},
   "outputs": [
    {
     "data": {
      "text/plain": [
       "Weekday\n",
       "5    47347\n",
       "0    39255\n",
       "4    36394\n",
       "2    35269\n",
       "1    34955\n",
       "3    34416\n",
       "6     4505\n",
       "Name: count, dtype: int64"
      ]
     },
     "execution_count": 48,
     "metadata": {},
     "output_type": "execute_result"
    }
   ],
   "source": [
    "df['Weekday'].value_counts()"
   ]
  },
  {
   "cell_type": "markdown",
   "metadata": {},
   "source": [
    "### 1.4 Data vizualisation"
   ]
  },
  {
   "cell_type": "code",
   "execution_count": 52,
   "metadata": {},
   "outputs": [
    {
     "data": {
      "image/png": "[encoded data removed]",
      "text/plain": [
       "<Figure size 1200x600 with 1 Axes>"
      ]
     },
     "metadata": {},
     "output_type": "display_data"
    }
   ],
   "source": [
    "weekday_counts = df['Weekday'].value_counts().sort_index()\n",
    "\n",
    "# Create a list of weekday names\n",
    "weekdays = ['Monday', 'Tuesday', 'Wednesday', 'Thursday', 'Friday', 'Saturday', 'Sunday']\n",
    "\n",
    "# Create the bar chart\n",
    "plt.figure(figsize=(12, 6))\n",
    "weekday_counts.plot(kind='bar')\n",
    "plt.xticks(range(len(weekdays)), weekdays)\n",
    "plt.xlabel('Weekday')\n",
    "plt.ylabel('Number of Deliveries')\n",
    "plt.title('Number of eliveries per  Weekday from 2017-2019')\n",
    "plt.show()"
   ]
  },
  {
   "cell_type": "code",
   "execution_count": 55,
   "metadata": {},
   "outputs": [
    {
     "data": {
      "image/png": "[encoded data removed]",
      "text/plain": [
       "<Figure size 1200x600 with 1 Axes>"
      ]
     },
     "metadata": {},
     "output_type": "display_data"
    }
   ],
   "source": [
    "weekday_counts = df['Month'].value_counts().sort_index()\n",
    "\n",
    "# Create a list of weekday names\n",
    "months = ['January', 'February', 'March', 'April', 'May', 'Juin', 'July','August','September','October','November','December']\n",
    "\n",
    "# Create the bar chart\n",
    "plt.figure(figsize=(12, 6))\n",
    "weekday_counts.plot(kind='bar')\n",
    "plt.xticks(range(len(months)), months)\n",
    "plt.xlabel('Month')\n",
    "plt.ylabel('Number of Deliveries')\n",
    "plt.title('Most Deleveries per month between 2017-2019')\n",
    "plt.show()"
   ]
  },
  {
   "cell_type": "code",
   "execution_count": null,
   "metadata": {},
   "outputs": [],
   "source": []
  }
 ],
 "metadata": {
  "language_info": {
   "name": "python"
  }
 },
 "nbformat": 4,
 "nbformat_minor": 2
}
