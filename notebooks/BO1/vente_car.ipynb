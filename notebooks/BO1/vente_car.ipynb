{
 "cells": [
  {
   "cell_type": "code",
   "execution_count": 14,
   "metadata": {},
   "outputs": [],
   "source": [
    "import pandas as pd\n",
    "import matplotlib.pyplot as plt\n",
    "import numpy as np\n",
    "import warnings \n",
    "warnings.filterwarnings('ignore')\n"
   ]
  },
  {
   "cell_type": "code",
   "execution_count": 15,
   "metadata": {},
   "outputs": [],
   "source": [
    "df=pd.read_csv('../../vente_car_bi_hatem.csv',delimiter=';')\n",
    "\n"
   ]
  },
  {
   "cell_type": "markdown",
   "metadata": {},
   "source": [
    "# 1-Data Understanding"
   ]
  },
  {
   "cell_type": "markdown",
   "metadata": {},
   "source": [
    "## 1.1 Data info"
   ]
  },
  {
   "cell_type": "code",
   "execution_count": 16,
   "metadata": {},
   "outputs": [
    {
     "name": "stdout",
     "output_type": "stream",
     "text": [
      "<class 'pandas.core.frame.DataFrame'>\n",
      "RangeIndex: 364109 entries, 0 to 364108\n",
      "Data columns (total 8 columns):\n",
      " #   Column  Non-Null Count   Dtype \n",
      "---  ------  --------------   ----- \n",
      " 0   ANCSCP  364109 non-null  int64 \n",
      " 1   NOMCLI  364109 non-null  object\n",
      " 2   DATLIV  364109 non-null  object\n",
      " 3   LIBGVR  364109 non-null  object\n",
      " 4   LIBLOC  364109 non-null  object\n",
      " 5   LIBPRD  364109 non-null  object\n",
      " 6   QTEPRD  364106 non-null  object\n",
      " 7   MNTHT   364106 non-null  object\n",
      "dtypes: int64(1), object(7)\n",
      "memory usage: 22.2+ MB\n"
     ]
    }
   ],
   "source": [
    "df.info()"
   ]
  },
  {
   "cell_type": "markdown",
   "metadata": {},
   "source": [
    "<b>ANCSCP</b>: Client Code  <br>\n",
    "<b>LIBPRD</b>: type of product that will be delivered <br>\n",
    "<b>DATLIV</b>: delivery date<br>\n",
    "<b>LIBGVR</b>: governorate of gas station<br>\n",
    "<b>LIBLOC</b>: region of gas station<br>\n",
    "<b>MNTHT</b>: total amount to be paid excluding tax<br>\n",
    "<b>QTEPRD</b>: total quantity delivered<br>\n",
    "<b>prixHT</b>: unit price<br>"
   ]
  },
  {
   "cell_type": "markdown",
   "metadata": {},
   "source": []
  },
  {
   "cell_type": "code",
   "execution_count": 17,
   "metadata": {},
   "outputs": [
    {
     "data": {
      "text/plain": [
       "247"
      ]
     },
     "execution_count": 17,
     "metadata": {},
     "output_type": "execute_result"
    }
   ],
   "source": [
    "df['NOMCLI'] = df['NOMCLI'].str.strip()\n",
    "df['NOMCLI'].unique().size\n"
   ]
  },
  {
   "cell_type": "code",
   "execution_count": 18,
   "metadata": {},
   "outputs": [
    {
     "data": {
      "text/plain": [
       "NOMCLI\n",
       "TAIEB BEN SMAIL                      6525\n",
       "STE MOHAMED BEN AMRI \"SMBA\"          5446\n",
       "STE SOFIBEL                          4854\n",
       "HEDI EL HADEF                        4777\n",
       "AHMED NACHI                          4568\n",
       "                                     ... \n",
       "SOCIETE SAGES RAS JEBEL                 7\n",
       "STE EL MOSTAKBEL BECHIR AJJABI          5\n",
       "SOCIETE SAGES  PK29 SUD EL GRIAAT       4\n",
       "ABDELKADER BEN HASSEN ACHOUR            4\n",
       "ALI BEN HATTAB BEN HASSINE              2\n",
       "Name: count, Length: 247, dtype: int64"
      ]
     },
     "execution_count": 18,
     "metadata": {},
     "output_type": "execute_result"
    }
   ],
   "source": [
    "df['NOMCLI'].value_counts()\n"
   ]
  },
  {
   "cell_type": "code",
   "execution_count": 19,
   "metadata": {},
   "outputs": [],
   "source": [
    "df['QTEPRD']=df['QTEPRD'].str.replace(',','.')\n",
    "\n",
    "df['QTEPRD']=pd.to_numeric(df['QTEPRD'],errors='raise')\n"
   ]
  },
  {
   "cell_type": "code",
   "execution_count": 20,
   "metadata": {},
   "outputs": [],
   "source": [
    "df['MNTHT']=df['MNTHT'].str.replace(',','.')\n",
    "df['MNTHT']=pd.to_numeric(df['MNTHT'],errors='coerce')\n"
   ]
  },
  {
   "cell_type": "code",
   "execution_count": 21,
   "metadata": {},
   "outputs": [
    {
     "data": {
      "text/plain": [
       "LIBPRD\n",
       "TIMBRE LOI 54 du 19/08/2014    98496\n",
       "GASOIL                         93122\n",
       "SSP SUPER SANS PLOMB           81755\n",
       "GASOIL 50                      40823\n",
       "Timbre Loi Fin.2018            27790\n",
       "GAZOIL SANS SOUFRE             15702\n",
       "PETROLE                         4916\n",
       "AGILIX PREMIUM ESSENCE           591\n",
       "APS AGILIX PREMIUM ESS.          498\n",
       "AGILIX PREMIUM GASOIL            209\n",
       "APG AGILIX PREMIUM GAS.          207\n",
       "Name: count, dtype: int64"
      ]
     },
     "execution_count": 21,
     "metadata": {},
     "output_type": "execute_result"
    }
   ],
   "source": [
    "df['LIBPRD'].value_counts()"
   ]
  },
  {
   "cell_type": "code",
   "execution_count": 22,
   "metadata": {},
   "outputs": [],
   "source": [
    "df.loc[df[\"LIBPRD\"] == \"AGILIX PREMIUM ESSENCE\", \"LIBPRD\"] = \"APS AGILIX PREMIUM ESS.\"\n",
    "df.loc[df[\"LIBPRD\"] == \"AGILIX PREMIUM GASOIL\", \"LIBPRD\"] = \"APG AGILIX PREMIUM GAS.\"\n",
    "valeurs_a_supprimer = [\"B.T.S\", \"PETROLE BUTIMES\", \"FOL\", \"WHITE SPIRIT\",\"PETROLE\"]\n",
    "\n",
    "\n",
    "\n",
    "df = df[~df[\"LIBPRD\"].isin(valeurs_a_supprimer)]"
   ]
  },
  {
   "cell_type": "code",
   "execution_count": 23,
   "metadata": {},
   "outputs": [],
   "source": [
    "df = df.assign(\n",
    "    prixHT=lambda x: x.apply(\n",
    "        lambda row: 0 if row['MNTHT'] < 0 or row['QTEPRD'] == 0 else row['MNTHT'] / row['QTEPRD'], \n",
    "        axis=1\n",
    "    )\n",
    ")"
   ]
  },
  {
   "cell_type": "code",
   "execution_count": 24,
   "metadata": {},
   "outputs": [],
   "source": [
    "df=df[df['prixHT']>0]"
   ]
  },
  {
   "cell_type": "markdown",
   "metadata": {},
   "source": [
    "## 1.2 Null Values:"
   ]
  },
  {
   "cell_type": "code",
   "execution_count": 25,
   "metadata": {},
   "outputs": [
    {
     "data": {
      "text/plain": [
       "False"
      ]
     },
     "execution_count": 25,
     "metadata": {},
     "output_type": "execute_result"
    }
   ],
   "source": [
    "df.isnull().values.any()\n"
   ]
  },
  {
   "cell_type": "code",
   "execution_count": 26,
   "metadata": {},
   "outputs": [],
   "source": [
    "df=df[df['MNTHT']>0]"
   ]
  },
  {
   "cell_type": "code",
   "execution_count": 27,
   "metadata": {},
   "outputs": [
    {
     "data": {
      "text/html": [
       "<div>\n",
       "<style scoped>\n",
       "    .dataframe tbody tr th:only-of-type {\n",
       "        vertical-align: middle;\n",
       "    }\n",
       "\n",
       "    .dataframe tbody tr th {\n",
       "        vertical-align: top;\n",
       "    }\n",
       "\n",
       "    .dataframe thead th {\n",
       "        text-align: right;\n",
       "    }\n",
       "</style>\n",
       "<table border=\"1\" class=\"dataframe\">\n",
       "  <thead>\n",
       "    <tr style=\"text-align: right;\">\n",
       "      <th></th>\n",
       "      <th>ANCSCP</th>\n",
       "      <th>NOMCLI</th>\n",
       "      <th>DATLIV</th>\n",
       "      <th>LIBGVR</th>\n",
       "      <th>LIBLOC</th>\n",
       "      <th>LIBPRD</th>\n",
       "      <th>QTEPRD</th>\n",
       "      <th>MNTHT</th>\n",
       "      <th>prixHT</th>\n",
       "    </tr>\n",
       "  </thead>\n",
       "  <tbody>\n",
       "    <tr>\n",
       "      <th>1</th>\n",
       "      <td>5452</td>\n",
       "      <td>SADOK BEN SALHA</td>\n",
       "      <td>02/01/2017</td>\n",
       "      <td>NABEUL</td>\n",
       "      <td>MENZEL TEMIME</td>\n",
       "      <td>GASOIL</td>\n",
       "      <td>12.0</td>\n",
       "      <td>11617.500</td>\n",
       "      <td>968.125</td>\n",
       "    </tr>\n",
       "    <tr>\n",
       "      <th>4</th>\n",
       "      <td>5452</td>\n",
       "      <td>SADOK BEN SALHA</td>\n",
       "      <td>05/01/2017</td>\n",
       "      <td>NABEUL</td>\n",
       "      <td>MENZEL TEMIME</td>\n",
       "      <td>GASOIL 50</td>\n",
       "      <td>8.0</td>\n",
       "      <td>9732.144</td>\n",
       "      <td>1216.518</td>\n",
       "    </tr>\n",
       "    <tr>\n",
       "      <th>7</th>\n",
       "      <td>5452</td>\n",
       "      <td>SADOK BEN SALHA</td>\n",
       "      <td>15/03/2017</td>\n",
       "      <td>NABEUL</td>\n",
       "      <td>MENZEL TEMIME</td>\n",
       "      <td>GASOIL</td>\n",
       "      <td>9.0</td>\n",
       "      <td>8713.125</td>\n",
       "      <td>968.125</td>\n",
       "    </tr>\n",
       "    <tr>\n",
       "      <th>8</th>\n",
       "      <td>5452</td>\n",
       "      <td>SADOK BEN SALHA</td>\n",
       "      <td>13/01/2017</td>\n",
       "      <td>NABEUL</td>\n",
       "      <td>MENZEL TEMIME</td>\n",
       "      <td>GASOIL</td>\n",
       "      <td>7.0</td>\n",
       "      <td>6776.875</td>\n",
       "      <td>968.125</td>\n",
       "    </tr>\n",
       "    <tr>\n",
       "      <th>9</th>\n",
       "      <td>5452</td>\n",
       "      <td>SADOK BEN SALHA</td>\n",
       "      <td>13/01/2017</td>\n",
       "      <td>NABEUL</td>\n",
       "      <td>MENZEL TEMIME</td>\n",
       "      <td>GASOIL</td>\n",
       "      <td>15.0</td>\n",
       "      <td>14521.875</td>\n",
       "      <td>968.125</td>\n",
       "    </tr>\n",
       "    <tr>\n",
       "      <th>...</th>\n",
       "      <td>...</td>\n",
       "      <td>...</td>\n",
       "      <td>...</td>\n",
       "      <td>...</td>\n",
       "      <td>...</td>\n",
       "      <td>...</td>\n",
       "      <td>...</td>\n",
       "      <td>...</td>\n",
       "      <td>...</td>\n",
       "    </tr>\n",
       "    <tr>\n",
       "      <th>364101</th>\n",
       "      <td>5364</td>\n",
       "      <td>ANIS KACEM</td>\n",
       "      <td>24/12/2019</td>\n",
       "      <td>BEN AROUS</td>\n",
       "      <td>FOUCHANA</td>\n",
       "      <td>SSP SUPER SANS PLOMB</td>\n",
       "      <td>5.0</td>\n",
       "      <td>8343.695</td>\n",
       "      <td>1668.739</td>\n",
       "    </tr>\n",
       "    <tr>\n",
       "      <th>364102</th>\n",
       "      <td>5364</td>\n",
       "      <td>ANIS KACEM</td>\n",
       "      <td>24/12/2019</td>\n",
       "      <td>BEN AROUS</td>\n",
       "      <td>FOUCHANA</td>\n",
       "      <td>GASOIL</td>\n",
       "      <td>11.0</td>\n",
       "      <td>14640.703</td>\n",
       "      <td>1330.973</td>\n",
       "    </tr>\n",
       "    <tr>\n",
       "      <th>364104</th>\n",
       "      <td>5364</td>\n",
       "      <td>ANIS KACEM</td>\n",
       "      <td>23/12/2019</td>\n",
       "      <td>BEN AROUS</td>\n",
       "      <td>FOUCHANA</td>\n",
       "      <td>GAZOIL SANS SOUFRE</td>\n",
       "      <td>3.0</td>\n",
       "      <td>4665.132</td>\n",
       "      <td>1555.044</td>\n",
       "    </tr>\n",
       "    <tr>\n",
       "      <th>364105</th>\n",
       "      <td>5364</td>\n",
       "      <td>ANIS KACEM</td>\n",
       "      <td>23/12/2019</td>\n",
       "      <td>BEN AROUS</td>\n",
       "      <td>FOUCHANA</td>\n",
       "      <td>SSP SUPER SANS PLOMB</td>\n",
       "      <td>4.0</td>\n",
       "      <td>6674.956</td>\n",
       "      <td>1668.739</td>\n",
       "    </tr>\n",
       "    <tr>\n",
       "      <th>364106</th>\n",
       "      <td>5364</td>\n",
       "      <td>ANIS KACEM</td>\n",
       "      <td>23/12/2019</td>\n",
       "      <td>BEN AROUS</td>\n",
       "      <td>FOUCHANA</td>\n",
       "      <td>GASOIL</td>\n",
       "      <td>6.0</td>\n",
       "      <td>7985.838</td>\n",
       "      <td>1330.973</td>\n",
       "    </tr>\n",
       "  </tbody>\n",
       "</table>\n",
       "<p>232588 rows × 9 columns</p>\n",
       "</div>"
      ],
      "text/plain": [
       "        ANCSCP           NOMCLI      DATLIV     LIBGVR         LIBLOC  \\\n",
       "1         5452  SADOK BEN SALHA  02/01/2017     NABEUL  MENZEL TEMIME   \n",
       "4         5452  SADOK BEN SALHA  05/01/2017     NABEUL  MENZEL TEMIME   \n",
       "7         5452  SADOK BEN SALHA  15/03/2017     NABEUL  MENZEL TEMIME   \n",
       "8         5452  SADOK BEN SALHA  13/01/2017     NABEUL  MENZEL TEMIME   \n",
       "9         5452  SADOK BEN SALHA  13/01/2017     NABEUL  MENZEL TEMIME   \n",
       "...        ...              ...         ...        ...            ...   \n",
       "364101    5364       ANIS KACEM  24/12/2019  BEN AROUS       FOUCHANA   \n",
       "364102    5364       ANIS KACEM  24/12/2019  BEN AROUS       FOUCHANA   \n",
       "364104    5364       ANIS KACEM  23/12/2019  BEN AROUS       FOUCHANA   \n",
       "364105    5364       ANIS KACEM  23/12/2019  BEN AROUS       FOUCHANA   \n",
       "364106    5364       ANIS KACEM  23/12/2019  BEN AROUS       FOUCHANA   \n",
       "\n",
       "                      LIBPRD  QTEPRD      MNTHT    prixHT  \n",
       "1                     GASOIL    12.0  11617.500   968.125  \n",
       "4                  GASOIL 50     8.0   9732.144  1216.518  \n",
       "7                     GASOIL     9.0   8713.125   968.125  \n",
       "8                     GASOIL     7.0   6776.875   968.125  \n",
       "9                     GASOIL    15.0  14521.875   968.125  \n",
       "...                      ...     ...        ...       ...  \n",
       "364101  SSP SUPER SANS PLOMB     5.0   8343.695  1668.739  \n",
       "364102                GASOIL    11.0  14640.703  1330.973  \n",
       "364104    GAZOIL SANS SOUFRE     3.0   4665.132  1555.044  \n",
       "364105  SSP SUPER SANS PLOMB     4.0   6674.956  1668.739  \n",
       "364106                GASOIL     6.0   7985.838  1330.973  \n",
       "\n",
       "[232588 rows x 9 columns]"
      ]
     },
     "execution_count": 27,
     "metadata": {},
     "output_type": "execute_result"
    }
   ],
   "source": [
    "df"
   ]
  },
  {
   "cell_type": "markdown",
   "metadata": {},
   "source": [
    "## 1.3 Duplicates values\n"
   ]
  },
  {
   "cell_type": "markdown",
   "metadata": {},
   "source": [
    "### Remove duplicates\n"
   ]
  },
  {
   "cell_type": "code",
   "execution_count": 28,
   "metadata": {},
   "outputs": [
    {
     "name": "stdout",
     "output_type": "stream",
     "text": [
      "Duplicated rows:\n"
     ]
    },
    {
     "data": {
      "text/html": [
       "<div>\n",
       "<style scoped>\n",
       "    .dataframe tbody tr th:only-of-type {\n",
       "        vertical-align: middle;\n",
       "    }\n",
       "\n",
       "    .dataframe tbody tr th {\n",
       "        vertical-align: top;\n",
       "    }\n",
       "\n",
       "    .dataframe thead th {\n",
       "        text-align: right;\n",
       "    }\n",
       "</style>\n",
       "<table border=\"1\" class=\"dataframe\">\n",
       "  <thead>\n",
       "    <tr style=\"text-align: right;\">\n",
       "      <th></th>\n",
       "      <th>ANCSCP</th>\n",
       "      <th>NOMCLI</th>\n",
       "      <th>DATLIV</th>\n",
       "      <th>LIBGVR</th>\n",
       "      <th>LIBLOC</th>\n",
       "      <th>LIBPRD</th>\n",
       "      <th>QTEPRD</th>\n",
       "      <th>MNTHT</th>\n",
       "      <th>prixHT</th>\n",
       "    </tr>\n",
       "  </thead>\n",
       "  <tbody>\n",
       "    <tr>\n",
       "      <th>129</th>\n",
       "      <td>5452</td>\n",
       "      <td>SADOK BEN SALHA</td>\n",
       "      <td>17/02/2017</td>\n",
       "      <td>NABEUL</td>\n",
       "      <td>MENZEL TEMIME</td>\n",
       "      <td>GASOIL 50</td>\n",
       "      <td>3.0</td>\n",
       "      <td>3649.554</td>\n",
       "      <td>1216.518</td>\n",
       "    </tr>\n",
       "    <tr>\n",
       "      <th>160</th>\n",
       "      <td>5452</td>\n",
       "      <td>SADOK BEN SALHA</td>\n",
       "      <td>17/02/2017</td>\n",
       "      <td>NABEUL</td>\n",
       "      <td>MENZEL TEMIME</td>\n",
       "      <td>GASOIL 50</td>\n",
       "      <td>3.0</td>\n",
       "      <td>3649.554</td>\n",
       "      <td>1216.518</td>\n",
       "    </tr>\n",
       "    <tr>\n",
       "      <th>2117</th>\n",
       "      <td>5452</td>\n",
       "      <td>SADOK BEN SALHA</td>\n",
       "      <td>12/01/2019</td>\n",
       "      <td>NABEUL</td>\n",
       "      <td>MENZEL TEMIME</td>\n",
       "      <td>GASOIL</td>\n",
       "      <td>10.0</td>\n",
       "      <td>12553.100</td>\n",
       "      <td>1255.310</td>\n",
       "    </tr>\n",
       "    <tr>\n",
       "      <th>2126</th>\n",
       "      <td>5452</td>\n",
       "      <td>SADOK BEN SALHA</td>\n",
       "      <td>12/01/2019</td>\n",
       "      <td>NABEUL</td>\n",
       "      <td>MENZEL TEMIME</td>\n",
       "      <td>GASOIL</td>\n",
       "      <td>10.0</td>\n",
       "      <td>12553.100</td>\n",
       "      <td>1255.310</td>\n",
       "    </tr>\n",
       "    <tr>\n",
       "      <th>3411</th>\n",
       "      <td>5538</td>\n",
       "      <td>SABIHA CHOUCHANE</td>\n",
       "      <td>21/03/2017</td>\n",
       "      <td>ARIANA</td>\n",
       "      <td>ARIANA</td>\n",
       "      <td>GASOIL</td>\n",
       "      <td>6.0</td>\n",
       "      <td>5808.750</td>\n",
       "      <td>968.125</td>\n",
       "    </tr>\n",
       "    <tr>\n",
       "      <th>...</th>\n",
       "      <td>...</td>\n",
       "      <td>...</td>\n",
       "      <td>...</td>\n",
       "      <td>...</td>\n",
       "      <td>...</td>\n",
       "      <td>...</td>\n",
       "      <td>...</td>\n",
       "      <td>...</td>\n",
       "      <td>...</td>\n",
       "    </tr>\n",
       "    <tr>\n",
       "      <th>359770</th>\n",
       "      <td>5356</td>\n",
       "      <td>STE SOFIBEL</td>\n",
       "      <td>14/04/2019</td>\n",
       "      <td>MAHDIA</td>\n",
       "      <td>EL JEM</td>\n",
       "      <td>GAZOIL SANS SOUFRE</td>\n",
       "      <td>4.0</td>\n",
       "      <td>6229.028</td>\n",
       "      <td>1557.257</td>\n",
       "    </tr>\n",
       "    <tr>\n",
       "      <th>360149</th>\n",
       "      <td>5356</td>\n",
       "      <td>STE SOFIBEL</td>\n",
       "      <td>08/06/2019</td>\n",
       "      <td>MAHDIA</td>\n",
       "      <td>EL JEM</td>\n",
       "      <td>SSP SUPER SANS PLOMB</td>\n",
       "      <td>4.0</td>\n",
       "      <td>6683.360</td>\n",
       "      <td>1670.840</td>\n",
       "    </tr>\n",
       "    <tr>\n",
       "      <th>360211</th>\n",
       "      <td>5356</td>\n",
       "      <td>STE SOFIBEL</td>\n",
       "      <td>08/06/2019</td>\n",
       "      <td>MAHDIA</td>\n",
       "      <td>EL JEM</td>\n",
       "      <td>SSP SUPER SANS PLOMB</td>\n",
       "      <td>4.0</td>\n",
       "      <td>6683.360</td>\n",
       "      <td>1670.840</td>\n",
       "    </tr>\n",
       "    <tr>\n",
       "      <th>360636</th>\n",
       "      <td>5356</td>\n",
       "      <td>STE SOFIBEL</td>\n",
       "      <td>09/09/2019</td>\n",
       "      <td>MAHDIA</td>\n",
       "      <td>EL JEM</td>\n",
       "      <td>GASOIL</td>\n",
       "      <td>20.0</td>\n",
       "      <td>26619.460</td>\n",
       "      <td>1330.973</td>\n",
       "    </tr>\n",
       "    <tr>\n",
       "      <th>360682</th>\n",
       "      <td>5356</td>\n",
       "      <td>STE SOFIBEL</td>\n",
       "      <td>09/09/2019</td>\n",
       "      <td>MAHDIA</td>\n",
       "      <td>EL JEM</td>\n",
       "      <td>GASOIL</td>\n",
       "      <td>20.0</td>\n",
       "      <td>26619.460</td>\n",
       "      <td>1330.973</td>\n",
       "    </tr>\n",
       "  </tbody>\n",
       "</table>\n",
       "<p>953 rows × 9 columns</p>\n",
       "</div>"
      ],
      "text/plain": [
       "        ANCSCP            NOMCLI      DATLIV  LIBGVR         LIBLOC  \\\n",
       "129       5452   SADOK BEN SALHA  17/02/2017  NABEUL  MENZEL TEMIME   \n",
       "160       5452   SADOK BEN SALHA  17/02/2017  NABEUL  MENZEL TEMIME   \n",
       "2117      5452   SADOK BEN SALHA  12/01/2019  NABEUL  MENZEL TEMIME   \n",
       "2126      5452   SADOK BEN SALHA  12/01/2019  NABEUL  MENZEL TEMIME   \n",
       "3411      5538  SABIHA CHOUCHANE  21/03/2017  ARIANA         ARIANA   \n",
       "...        ...               ...         ...     ...            ...   \n",
       "359770    5356       STE SOFIBEL  14/04/2019  MAHDIA         EL JEM   \n",
       "360149    5356       STE SOFIBEL  08/06/2019  MAHDIA         EL JEM   \n",
       "360211    5356       STE SOFIBEL  08/06/2019  MAHDIA         EL JEM   \n",
       "360636    5356       STE SOFIBEL  09/09/2019  MAHDIA         EL JEM   \n",
       "360682    5356       STE SOFIBEL  09/09/2019  MAHDIA         EL JEM   \n",
       "\n",
       "                      LIBPRD  QTEPRD      MNTHT    prixHT  \n",
       "129                GASOIL 50     3.0   3649.554  1216.518  \n",
       "160                GASOIL 50     3.0   3649.554  1216.518  \n",
       "2117                  GASOIL    10.0  12553.100  1255.310  \n",
       "2126                  GASOIL    10.0  12553.100  1255.310  \n",
       "3411                  GASOIL     6.0   5808.750   968.125  \n",
       "...                      ...     ...        ...       ...  \n",
       "359770    GAZOIL SANS SOUFRE     4.0   6229.028  1557.257  \n",
       "360149  SSP SUPER SANS PLOMB     4.0   6683.360  1670.840  \n",
       "360211  SSP SUPER SANS PLOMB     4.0   6683.360  1670.840  \n",
       "360636                GASOIL    20.0  26619.460  1330.973  \n",
       "360682                GASOIL    20.0  26619.460  1330.973  \n",
       "\n",
       "[953 rows x 9 columns]"
      ]
     },
     "execution_count": 28,
     "metadata": {},
     "output_type": "execute_result"
    }
   ],
   "source": [
    "\n",
    "duplicates = df[df.duplicated(keep=False)]\n",
    "print(\"Duplicated rows:\")\n",
    "duplicates"
   ]
  },
  {
   "cell_type": "code",
   "execution_count": 29,
   "metadata": {},
   "outputs": [
    {
     "name": "stdout",
     "output_type": "stream",
     "text": [
      "Shape of dataset after removing duplicates: (232111, 9)\n"
     ]
    }
   ],
   "source": [
    "df=df.drop_duplicates()\n",
    "print(\"Shape of dataset after removing duplicates:\",df.shape)"
   ]
  },
  {
   "cell_type": "markdown",
   "metadata": {},
   "source": [
    "## 1.4 Data Vizualiastion\n"
   ]
  },
  {
   "cell_type": "code",
   "execution_count": 30,
   "metadata": {},
   "outputs": [],
   "source": [
    "qt=df.groupby(['LIBGVR']).sum('QTEPRD')\n",
    "\n"
   ]
  },
  {
   "cell_type": "code",
   "execution_count": 31,
   "metadata": {},
   "outputs": [
    {
     "data": {
      "image/png": "[encoded data removed]",
      "text/plain": [
       "<Figure size 1200x600 with 1 Axes>"
      ]
     },
     "metadata": {},
     "output_type": "display_data"
    }
   ],
   "source": [
    "import seaborn as sns\n",
    "# Visualisation par gouvernorat\n",
    "plt.figure(figsize=(12, 6))\n",
    "sns.barplot(x='LIBGVR', y='QTEPRD', data=qt)\n",
    "plt.title('Total quantity by governorate')\n",
    "plt.xlabel('Governorate')\n",
    "plt.ylabel('Total Quantity')\n",
    "plt.xticks(rotation=90)\n",
    "plt.show()"
   ]
  },
  {
   "cell_type": "markdown",
   "metadata": {},
   "source": [
    "## <i>Interpretation</i>\n",
    "Tunis consumes more fuel than other governorate and this reflects : <br>\n",
    "    -the high density population for tunisia's capital <br>\n",
    "    -the high economic activity<br>\n",
    "\n"
   ]
  },
  {
   "cell_type": "code",
   "execution_count": 32,
   "metadata": {},
   "outputs": [
    {
     "data": {
      "image/png": "[encoded data removed]",
      "text/plain": [
       "<Figure size 640x480 with 1 Axes>"
      ]
     },
     "metadata": {},
     "output_type": "display_data"
    }
   ],
   "source": [
    "df_tunis = df[df[\"LIBGVR\"] == \"TUNIS\"]\n",
    "df_somme_client = df_tunis.groupby([\"NOMCLI\"])[\"QTEPRD\"].sum()\n",
    "plt.pie(df_somme_client.values, labels=df_somme_client.index, autopct=\"%1.1f%%\")\n",
    "plt.title(\"Quantity distribution per Client in TUNIS\")\n",
    "plt.show()"
   ]
  },
  {
   "cell_type": "code",
   "execution_count": 33,
   "metadata": {},
   "outputs": [
    {
     "data": {
      "image/png": "[encoded data removed]",
      "text/plain": [
       "<Figure size 640x480 with 1 Axes>"
      ]
     },
     "metadata": {},
     "output_type": "display_data"
    }
   ],
   "source": [
    "import matplotlib.pyplot as plt\n",
    "\n",
    "df['DATLIV'] = pd.to_datetime(df['DATLIV'], format='%d/%m/%Y')\n",
    "\n",
    "# Extraire le mois et l'année de DATLIV\n",
    "df['Month_Year'] = df['DATLIV'].dt.to_period('M')\n",
    "\n",
    "# Grouper par mois et année et calculer la somme des quantités livrées\n",
    "df_somme_mensuelle = df.groupby(\"Month_Year\")[\"QTEPRD\"].sum()\n",
    "colors = ['red' if quantity > 60000 else 'blue' for quantity in df_somme_mensuelle]\n",
    "\n",
    "# Créer un graphique en barres horizontales\n",
    "plt.barh(df_somme_mensuelle.index.astype(str), df_somme_mensuelle,color=colors)\n",
    "plt.xlabel(\"Total quantity delivered\")\n",
    "plt.ylabel(\"Month-Year\")\n",
    "plt.title(\"Total quantity delivered per month and year\")\n",
    "plt.show()"
   ]
  },
  {
   "cell_type": "code",
   "execution_count": 34,
   "metadata": {},
   "outputs": [
    {
     "data": {
      "image/png": "[encoded data removed]",
      "text/plain": [
       "<Figure size 1211.11x800 with 3 Axes>"
      ]
     },
     "metadata": {},
     "output_type": "display_data"
    }
   ],
   "source": [
    "df['DATLIV'] = pd.to_datetime(df['DATLIV'], format='%d/%m/%Y')\n",
    "df['Month_Year'] = df['DATLIV'].dt.to_period('M')\n",
    "df['Month_Year_Str'] = df['Month_Year'].astype(str)\n",
    "\n",
    "# Create a boolean mask for dates between 01-2017 and 12-2017\n",
    "mask = (df['DATLIV'].dt.year >= 2017) & (df['DATLIV'].dt.year <= 2017)\n",
    "\n",
    "# Filter the dataframe using the mask\n",
    "df_filtered = df[mask]\n",
    "df_filtered= df_filtered.sort_values(by=\"DATLIV\")\n",
    "\n",
    "# Créer le graphique en utilisant seaborn\n",
    "g = sns.FacetGrid(df_filtered, col=\"LIBPRD\", col_wrap=2, height=4, aspect=1.5)\n",
    "g.map(sns.lineplot, \"Month_Year_Str\", \"prixHT\", marker='o')\n",
    "g.set_axis_labels(\"Date\", \"Price (HT)\")\n",
    "g.set_titles(\"{col_name}\")\n",
    "g.add_legend()\n",
    "\n",
    "plt.subplots_adjust(top=0.9)\n",
    "g.fig.suptitle('Monthly Prices for Each Product - 2017')\n",
    "plt.xticks(rotation=45)\n",
    "plt.show()"
   ]
  },
  {
   "cell_type": "code",
   "execution_count": 35,
   "metadata": {},
   "outputs": [
    {
     "data": {
      "image/png": "[encoded data removed]",
      "text/plain": [
       "<Figure size 1211.11x1200 with 5 Axes>"
      ]
     },
     "metadata": {},
     "output_type": "display_data"
    }
   ],
   "source": [
    "df['DATLIV'] = pd.to_datetime(df['DATLIV'], format='%d/%m/%Y')\n",
    "df['Month_Year'] = df['DATLIV'].dt.to_period('M')\n",
    "df['Month_Year_Str'] = df['Month_Year'].astype(str)\n",
    "\n",
    "mask = (df['DATLIV'].dt.year >= 2018) & (df['DATLIV'].dt.year <= 2018)\n",
    "\n",
    "df_filtered_2018 = df[mask]\n",
    "df_filtered_2018= df_filtered_2018.sort_values(by=\"DATLIV\")\n",
    "\n",
    "g = sns.FacetGrid(df_filtered_2018, col=\"LIBPRD\", col_wrap=2, height=4, aspect=1.5)\n",
    "g.map(sns.lineplot, \"Month_Year_Str\", \"prixHT\", marker='o')\n",
    "g.set_axis_labels(\"Date\", \"Price (HT)\")\n",
    "g.set_titles(\"{col_name}\")\n",
    "g.add_legend()\n",
    "\n",
    "plt.subplots_adjust(top=0.9)\n",
    "g.fig.suptitle('Monthly Prices for Each Product - 2018')\n",
    "plt.xticks(rotation=45)\n",
    "plt.show()"
   ]
  },
  {
   "cell_type": "code",
   "execution_count": 36,
   "metadata": {},
   "outputs": [
    {
     "data": {
      "image/png": "[encoded data removed]",
      "text/plain": [
       "<Figure size 1211.11x1200 with 6 Axes>"
      ]
     },
     "metadata": {},
     "output_type": "display_data"
    }
   ],
   "source": [
    "df['DATLIV'] = pd.to_datetime(df['DATLIV'], format='%d/%m/%Y')\n",
    "df['Month_Year'] = df['DATLIV'].dt.to_period('M')\n",
    "df['Month_Year_Str'] = df['Month_Year'].astype(str)\n",
    "\n",
    "mask = (df['DATLIV'].dt.year >= 2019) & (df['DATLIV'].dt.year <= 2019)\n",
    "\n",
    "df_filtered_2019 = df[mask]\n",
    "df_filtered_2019= df_filtered_2019.sort_values(by=\"DATLIV\")\n",
    "\n",
    "g = sns.FacetGrid(df_filtered_2019, col=\"LIBPRD\", col_wrap=2, height=4, aspect=1.5)\n",
    "g.map(sns.lineplot, \"Month_Year_Str\", \"prixHT\", marker='o')\n",
    "g.set_axis_labels(\"Date\", \"Price (HT)\")\n",
    "g.set_titles(\"{col_name}\")\n",
    "g.add_legend()\n",
    "\n",
    "plt.subplots_adjust(top=0.9)\n",
    "g.fig.suptitle('Monthly Prices for Each Product - 2019')\n",
    "plt.xticks(rotation=45)\n",
    "plt.show()"
   ]
  },
  {
   "cell_type": "markdown",
   "metadata": {},
   "source": [
    "## <i>Interpretation</i>\n",
    "-There is a notable variation in the quantity of fuel delivered each month and especially for <b>Aug-18 </b>After refering to the 'monthly prices for each product' graph, we can interpret that this spike is  relevant <b>to the increase of fuel price in sept-18</b>\n",
    "<br>\n",
    "-There could be times of year when fuel demand increases, perhaps due to holidays or weather changes and this happened especially during summer vacation (July-19,Aug-19,Aug-18)\n",
    "\n"
   ]
  },
  {
   "cell_type": "code",
   "execution_count": 37,
   "metadata": {},
   "outputs": [
    {
     "data": {
      "image/png": "[encoded data removed]",
      "text/plain": [
       "<Figure size 1000x800 with 1 Axes>"
      ]
     },
     "metadata": {},
     "output_type": "display_data"
    }
   ],
   "source": [
    "import matplotlib.pyplot as plt\n",
    "\n",
    "# Calculer la quantité totale de carburant livré pour chaque produit\n",
    "df_somme_produit = df.groupby([\"LIBPRD\"])[\"QTEPRD\"].sum()\n",
    "# Créer un bar plot pour chaque produit\n",
    "\n",
    "plt.figure(figsize=(10, 8))\n",
    "plt.barh(df_somme_produit.index, df_somme_produit)\n",
    "plt.xlabel('Total Quantity')\n",
    "plt.ylabel('Product')\n",
    "plt.title('Total quantity for each product')\n",
    "plt.show()"
   ]
  },
  {
   "cell_type": "markdown",
   "metadata": {},
   "source": [
    "# 2-Data Preparation"
   ]
  },
  {
   "cell_type": "markdown",
   "metadata": {},
   "source": [
    "### 2.1 Outliers"
   ]
  },
  {
   "cell_type": "code",
   "execution_count": 38,
   "metadata": {},
   "outputs": [
    {
     "data": {
      "image/png": "[encoded data removed]",
      "text/plain": [
       "<Figure size 1000x600 with 1 Axes>"
      ]
     },
     "metadata": {},
     "output_type": "display_data"
    }
   ],
   "source": [
    "import seaborn as sns\n",
    "\n",
    "\n",
    "numerical_columns = df.select_dtypes(include=['float64']).columns\n",
    "# Create a boxplot for all numerical columns on the same graph\n",
    "plt.figure(figsize=(10, 6))  # Adjust size if needed\n",
    "sns.boxplot(data=df[numerical_columns], orient='h')\n",
    "plt.title('Boxplots of Numerical Columns')\n",
    "plt.show()"
   ]
  },
  {
   "cell_type": "markdown",
   "metadata": {},
   "source": [
    "### 2.2 Delete MNTHT COLUMN\n"
   ]
  },
  {
   "cell_type": "code",
   "execution_count": 39,
   "metadata": {},
   "outputs": [],
   "source": [
    "df=df.drop(columns='MNTHT')\n",
    "df=df.drop(columns='Month_Year')\n",
    "df=df.drop(columns='Month_Year_Str')"
   ]
  },
  {
   "cell_type": "markdown",
   "metadata": {},
   "source": [
    "### 2.3 Extract reference between id and client name  \n"
   ]
  },
  {
   "cell_type": "code",
   "execution_count": 40,
   "metadata": {},
   "outputs": [],
   "source": [
    "df_client_reference = df[['ANCSCP', 'NOMCLI']]\n",
    "\n",
    "# Supprimer les doublons\n",
    "df_client_reference = df_client_reference.drop_duplicates()\n",
    "df_client_reference = df_client_reference.drop_duplicates(subset='ANCSCP')\n",
    "\n",
    "# Sauvegarder en fichier CSV\n",
    "#df_client_reference.to_csv('../data/BO1_forcast_customer_demand/Client IDs.csv', index=False)"
   ]
  },
  {
   "cell_type": "code",
   "execution_count": 41,
   "metadata": {},
   "outputs": [],
   "source": [
    "df=df.drop(columns='NOMCLI')\n"
   ]
  },
  {
   "cell_type": "markdown",
   "metadata": {},
   "source": [
    "### 2.4 Order data"
   ]
  },
  {
   "cell_type": "markdown",
   "metadata": {},
   "source": []
  },
  {
   "cell_type": "code",
   "execution_count": 42,
   "metadata": {},
   "outputs": [
    {
     "data": {
      "text/html": [
       "<div>\n",
       "<style scoped>\n",
       "    .dataframe tbody tr th:only-of-type {\n",
       "        vertical-align: middle;\n",
       "    }\n",
       "\n",
       "    .dataframe tbody tr th {\n",
       "        vertical-align: top;\n",
       "    }\n",
       "\n",
       "    .dataframe thead th {\n",
       "        text-align: right;\n",
       "    }\n",
       "</style>\n",
       "<table border=\"1\" class=\"dataframe\">\n",
       "  <thead>\n",
       "    <tr style=\"text-align: right;\">\n",
       "      <th></th>\n",
       "      <th>ANCSCP</th>\n",
       "      <th>DATLIV</th>\n",
       "      <th>LIBGVR</th>\n",
       "      <th>LIBLOC</th>\n",
       "      <th>LIBPRD</th>\n",
       "      <th>QTEPRD</th>\n",
       "      <th>prixHT</th>\n",
       "    </tr>\n",
       "  </thead>\n",
       "  <tbody>\n",
       "    <tr>\n",
       "      <th>135399</th>\n",
       "      <td>5030</td>\n",
       "      <td>2018-07-01</td>\n",
       "      <td>TUNIS</td>\n",
       "      <td>TUNIS VILLE</td>\n",
       "      <td>APS AGILIX PREMIUM ESS.</td>\n",
       "      <td>4.0</td>\n",
       "      <td>1699.244</td>\n",
       "    </tr>\n",
       "    <tr>\n",
       "      <th>135976</th>\n",
       "      <td>5030</td>\n",
       "      <td>2018-07-16</td>\n",
       "      <td>TUNIS</td>\n",
       "      <td>TUNIS VILLE</td>\n",
       "      <td>APS AGILIX PREMIUM ESS.</td>\n",
       "      <td>3.0</td>\n",
       "      <td>1699.244</td>\n",
       "    </tr>\n",
       "    <tr>\n",
       "      <th>136048</th>\n",
       "      <td>5030</td>\n",
       "      <td>2018-07-30</td>\n",
       "      <td>TUNIS</td>\n",
       "      <td>TUNIS VILLE</td>\n",
       "      <td>APS AGILIX PREMIUM ESS.</td>\n",
       "      <td>4.0</td>\n",
       "      <td>1699.244</td>\n",
       "    </tr>\n",
       "    <tr>\n",
       "      <th>136561</th>\n",
       "      <td>5030</td>\n",
       "      <td>2018-08-28</td>\n",
       "      <td>TUNIS</td>\n",
       "      <td>TUNIS VILLE</td>\n",
       "      <td>APS AGILIX PREMIUM ESS.</td>\n",
       "      <td>4.0</td>\n",
       "      <td>1699.244</td>\n",
       "    </tr>\n",
       "    <tr>\n",
       "      <th>137744</th>\n",
       "      <td>5030</td>\n",
       "      <td>2018-09-08</td>\n",
       "      <td>TUNIS</td>\n",
       "      <td>TUNIS VILLE</td>\n",
       "      <td>APS AGILIX PREMIUM ESS.</td>\n",
       "      <td>3.0</td>\n",
       "      <td>1749.664</td>\n",
       "    </tr>\n",
       "    <tr>\n",
       "      <th>...</th>\n",
       "      <td>...</td>\n",
       "      <td>...</td>\n",
       "      <td>...</td>\n",
       "      <td>...</td>\n",
       "      <td>...</td>\n",
       "      <td>...</td>\n",
       "      <td>...</td>\n",
       "    </tr>\n",
       "    <tr>\n",
       "      <th>105919</th>\n",
       "      <td>5597</td>\n",
       "      <td>2019-11-29</td>\n",
       "      <td>TATAOUINE</td>\n",
       "      <td>TATAOUINE</td>\n",
       "      <td>SSP SUPER SANS PLOMB</td>\n",
       "      <td>7.0</td>\n",
       "      <td>1668.739</td>\n",
       "    </tr>\n",
       "    <tr>\n",
       "      <th>105962</th>\n",
       "      <td>5597</td>\n",
       "      <td>2019-12-11</td>\n",
       "      <td>TATAOUINE</td>\n",
       "      <td>TATAOUINE</td>\n",
       "      <td>SSP SUPER SANS PLOMB</td>\n",
       "      <td>2.0</td>\n",
       "      <td>1668.739</td>\n",
       "    </tr>\n",
       "    <tr>\n",
       "      <th>105968</th>\n",
       "      <td>5597</td>\n",
       "      <td>2019-12-16</td>\n",
       "      <td>TATAOUINE</td>\n",
       "      <td>TATAOUINE</td>\n",
       "      <td>SSP SUPER SANS PLOMB</td>\n",
       "      <td>4.0</td>\n",
       "      <td>1668.739</td>\n",
       "    </tr>\n",
       "    <tr>\n",
       "      <th>105941</th>\n",
       "      <td>5597</td>\n",
       "      <td>2019-12-20</td>\n",
       "      <td>TATAOUINE</td>\n",
       "      <td>TATAOUINE</td>\n",
       "      <td>SSP SUPER SANS PLOMB</td>\n",
       "      <td>3.0</td>\n",
       "      <td>1668.739</td>\n",
       "    </tr>\n",
       "    <tr>\n",
       "      <th>105945</th>\n",
       "      <td>5597</td>\n",
       "      <td>2019-12-26</td>\n",
       "      <td>TATAOUINE</td>\n",
       "      <td>TATAOUINE</td>\n",
       "      <td>SSP SUPER SANS PLOMB</td>\n",
       "      <td>4.0</td>\n",
       "      <td>1668.739</td>\n",
       "    </tr>\n",
       "  </tbody>\n",
       "</table>\n",
       "<p>232111 rows × 7 columns</p>\n",
       "</div>"
      ],
      "text/plain": [
       "        ANCSCP     DATLIV     LIBGVR       LIBLOC                   LIBPRD  \\\n",
       "135399    5030 2018-07-01      TUNIS  TUNIS VILLE  APS AGILIX PREMIUM ESS.   \n",
       "135976    5030 2018-07-16      TUNIS  TUNIS VILLE  APS AGILIX PREMIUM ESS.   \n",
       "136048    5030 2018-07-30      TUNIS  TUNIS VILLE  APS AGILIX PREMIUM ESS.   \n",
       "136561    5030 2018-08-28      TUNIS  TUNIS VILLE  APS AGILIX PREMIUM ESS.   \n",
       "137744    5030 2018-09-08      TUNIS  TUNIS VILLE  APS AGILIX PREMIUM ESS.   \n",
       "...        ...        ...        ...          ...                      ...   \n",
       "105919    5597 2019-11-29  TATAOUINE    TATAOUINE     SSP SUPER SANS PLOMB   \n",
       "105962    5597 2019-12-11  TATAOUINE    TATAOUINE     SSP SUPER SANS PLOMB   \n",
       "105968    5597 2019-12-16  TATAOUINE    TATAOUINE     SSP SUPER SANS PLOMB   \n",
       "105941    5597 2019-12-20  TATAOUINE    TATAOUINE     SSP SUPER SANS PLOMB   \n",
       "105945    5597 2019-12-26  TATAOUINE    TATAOUINE     SSP SUPER SANS PLOMB   \n",
       "\n",
       "        QTEPRD    prixHT  \n",
       "135399     4.0  1699.244  \n",
       "135976     3.0  1699.244  \n",
       "136048     4.0  1699.244  \n",
       "136561     4.0  1699.244  \n",
       "137744     3.0  1749.664  \n",
       "...        ...       ...  \n",
       "105919     7.0  1668.739  \n",
       "105962     2.0  1668.739  \n",
       "105968     4.0  1668.739  \n",
       "105941     3.0  1668.739  \n",
       "105945     4.0  1668.739  \n",
       "\n",
       "[232111 rows x 7 columns]"
      ]
     },
     "execution_count": 42,
     "metadata": {},
     "output_type": "execute_result"
    }
   ],
   "source": [
    "df = df.sort_values(by=['ANCSCP', 'LIBGVR', 'LIBLOC','LIBPRD','DATLIV'])\n",
    "df"
   ]
  },
  {
   "cell_type": "code",
   "execution_count": 43,
   "metadata": {},
   "outputs": [
    {
     "data": {
      "text/plain": [
       "ANCSCP\n",
       "5479    3933\n",
       "5450    3324\n",
       "5356    3223\n",
       "5399    3123\n",
       "5513    2937\n",
       "        ... \n",
       "5501      50\n",
       "5597      32\n",
       "5069      29\n",
       "5496       3\n",
       "5368       1\n",
       "Name: count, Length: 219, dtype: int64"
      ]
     },
     "execution_count": 43,
     "metadata": {},
     "output_type": "execute_result"
    }
   ],
   "source": [
    "df['ANCSCP'].value_counts()"
   ]
  },
  {
   "cell_type": "markdown",
   "metadata": {},
   "source": [
    "### 2.5 Add Lagging"
   ]
  },
  {
   "cell_type": "code",
   "execution_count": 44,
   "metadata": {},
   "outputs": [],
   "source": [
    "df['lag1_previous_order'] = df.groupby(['ANCSCP','LIBPRD','LIBLOC'])['QTEPRD'].shift(1)\n",
    "df['lag3_previous_order'] = df.groupby(['ANCSCP','LIBPRD','LIBLOC'])['QTEPRD'].shift(2)\n",
    "df['lag6_previous_order'] = df.groupby(['ANCSCP','LIBPRD','LIBLOC'])['QTEPRD'].shift(3)\n",
    "df['lag9_previous_order'] = df.groupby(['ANCSCP','LIBPRD','LIBLOC'])['QTEPRD'].shift(4)\n"
   ]
  },
  {
   "cell_type": "code",
   "execution_count": 45,
   "metadata": {},
   "outputs": [
    {
     "data": {
      "text/html": [
       "<div>\n",
       "<style scoped>\n",
       "    .dataframe tbody tr th:only-of-type {\n",
       "        vertical-align: middle;\n",
       "    }\n",
       "\n",
       "    .dataframe tbody tr th {\n",
       "        vertical-align: top;\n",
       "    }\n",
       "\n",
       "    .dataframe thead th {\n",
       "        text-align: right;\n",
       "    }\n",
       "</style>\n",
       "<table border=\"1\" class=\"dataframe\">\n",
       "  <thead>\n",
       "    <tr style=\"text-align: right;\">\n",
       "      <th></th>\n",
       "      <th>ANCSCP</th>\n",
       "      <th>DATLIV</th>\n",
       "      <th>LIBGVR</th>\n",
       "      <th>LIBLOC</th>\n",
       "      <th>LIBPRD</th>\n",
       "      <th>QTEPRD</th>\n",
       "      <th>prixHT</th>\n",
       "      <th>lag1_previous_order</th>\n",
       "      <th>lag3_previous_order</th>\n",
       "      <th>lag6_previous_order</th>\n",
       "      <th>lag9_previous_order</th>\n",
       "    </tr>\n",
       "  </thead>\n",
       "  <tbody>\n",
       "    <tr>\n",
       "      <th>135399</th>\n",
       "      <td>5030</td>\n",
       "      <td>2018-07-01</td>\n",
       "      <td>TUNIS</td>\n",
       "      <td>TUNIS VILLE</td>\n",
       "      <td>APS AGILIX PREMIUM ESS.</td>\n",
       "      <td>4.0</td>\n",
       "      <td>1699.244</td>\n",
       "      <td>0.0</td>\n",
       "      <td>0.0</td>\n",
       "      <td>0.0</td>\n",
       "      <td>0.0</td>\n",
       "    </tr>\n",
       "    <tr>\n",
       "      <th>135976</th>\n",
       "      <td>5030</td>\n",
       "      <td>2018-07-16</td>\n",
       "      <td>TUNIS</td>\n",
       "      <td>TUNIS VILLE</td>\n",
       "      <td>APS AGILIX PREMIUM ESS.</td>\n",
       "      <td>3.0</td>\n",
       "      <td>1699.244</td>\n",
       "      <td>4.0</td>\n",
       "      <td>0.0</td>\n",
       "      <td>0.0</td>\n",
       "      <td>0.0</td>\n",
       "    </tr>\n",
       "    <tr>\n",
       "      <th>136048</th>\n",
       "      <td>5030</td>\n",
       "      <td>2018-07-30</td>\n",
       "      <td>TUNIS</td>\n",
       "      <td>TUNIS VILLE</td>\n",
       "      <td>APS AGILIX PREMIUM ESS.</td>\n",
       "      <td>4.0</td>\n",
       "      <td>1699.244</td>\n",
       "      <td>3.0</td>\n",
       "      <td>4.0</td>\n",
       "      <td>0.0</td>\n",
       "      <td>0.0</td>\n",
       "    </tr>\n",
       "    <tr>\n",
       "      <th>136561</th>\n",
       "      <td>5030</td>\n",
       "      <td>2018-08-28</td>\n",
       "      <td>TUNIS</td>\n",
       "      <td>TUNIS VILLE</td>\n",
       "      <td>APS AGILIX PREMIUM ESS.</td>\n",
       "      <td>4.0</td>\n",
       "      <td>1699.244</td>\n",
       "      <td>4.0</td>\n",
       "      <td>3.0</td>\n",
       "      <td>4.0</td>\n",
       "      <td>0.0</td>\n",
       "    </tr>\n",
       "    <tr>\n",
       "      <th>137744</th>\n",
       "      <td>5030</td>\n",
       "      <td>2018-09-08</td>\n",
       "      <td>TUNIS</td>\n",
       "      <td>TUNIS VILLE</td>\n",
       "      <td>APS AGILIX PREMIUM ESS.</td>\n",
       "      <td>3.0</td>\n",
       "      <td>1749.664</td>\n",
       "      <td>4.0</td>\n",
       "      <td>4.0</td>\n",
       "      <td>3.0</td>\n",
       "      <td>4.0</td>\n",
       "    </tr>\n",
       "  </tbody>\n",
       "</table>\n",
       "</div>"
      ],
      "text/plain": [
       "        ANCSCP     DATLIV LIBGVR       LIBLOC                   LIBPRD  \\\n",
       "135399    5030 2018-07-01  TUNIS  TUNIS VILLE  APS AGILIX PREMIUM ESS.   \n",
       "135976    5030 2018-07-16  TUNIS  TUNIS VILLE  APS AGILIX PREMIUM ESS.   \n",
       "136048    5030 2018-07-30  TUNIS  TUNIS VILLE  APS AGILIX PREMIUM ESS.   \n",
       "136561    5030 2018-08-28  TUNIS  TUNIS VILLE  APS AGILIX PREMIUM ESS.   \n",
       "137744    5030 2018-09-08  TUNIS  TUNIS VILLE  APS AGILIX PREMIUM ESS.   \n",
       "\n",
       "        QTEPRD    prixHT  lag1_previous_order  lag3_previous_order  \\\n",
       "135399     4.0  1699.244                  0.0                  0.0   \n",
       "135976     3.0  1699.244                  4.0                  0.0   \n",
       "136048     4.0  1699.244                  3.0                  4.0   \n",
       "136561     4.0  1699.244                  4.0                  3.0   \n",
       "137744     3.0  1749.664                  4.0                  4.0   \n",
       "\n",
       "        lag6_previous_order  lag9_previous_order  \n",
       "135399                  0.0                  0.0  \n",
       "135976                  0.0                  0.0  \n",
       "136048                  0.0                  0.0  \n",
       "136561                  4.0                  0.0  \n",
       "137744                  3.0                  4.0  "
      ]
     },
     "execution_count": 45,
     "metadata": {},
     "output_type": "execute_result"
    }
   ],
   "source": [
    "df['lag1_previous_order'].fillna(0, inplace=True)\n",
    "df['lag3_previous_order'].fillna(0, inplace=True)\n",
    "df['lag6_previous_order'].fillna(0, inplace=True)\n",
    "df['lag9_previous_order'].fillna(0, inplace=True)\n",
    "df.head()"
   ]
  },
  {
   "cell_type": "markdown",
   "metadata": {},
   "source": [
    "### 2.6 Data transformation "
   ]
  },
  {
   "cell_type": "code",
   "execution_count": 46,
   "metadata": {},
   "outputs": [],
   "source": [
    "df_transformed=df\n"
   ]
  },
  {
   "cell_type": "code",
   "execution_count": 47,
   "metadata": {},
   "outputs": [
    {
     "data": {
      "text/html": [
       "<div>\n",
       "<style scoped>\n",
       "    .dataframe tbody tr th:only-of-type {\n",
       "        vertical-align: middle;\n",
       "    }\n",
       "\n",
       "    .dataframe tbody tr th {\n",
       "        vertical-align: top;\n",
       "    }\n",
       "\n",
       "    .dataframe thead th {\n",
       "        text-align: right;\n",
       "    }\n",
       "</style>\n",
       "<table border=\"1\" class=\"dataframe\">\n",
       "  <thead>\n",
       "    <tr style=\"text-align: right;\">\n",
       "      <th></th>\n",
       "      <th>ANCSCP</th>\n",
       "      <th>DATLIV</th>\n",
       "      <th>QTEPRD</th>\n",
       "      <th>prixHT</th>\n",
       "      <th>lag1_previous_order</th>\n",
       "      <th>lag3_previous_order</th>\n",
       "      <th>lag6_previous_order</th>\n",
       "      <th>lag9_previous_order</th>\n",
       "      <th>LIBPRD_APG AGILIX PREMIUM GAS.</th>\n",
       "      <th>LIBPRD_APS AGILIX PREMIUM ESS.</th>\n",
       "      <th>...</th>\n",
       "      <th>LIBLOC_TATAOUINE</th>\n",
       "      <th>LIBLOC_TEBOULBOU</th>\n",
       "      <th>LIBLOC_THALA</th>\n",
       "      <th>LIBLOC_TOUZA</th>\n",
       "      <th>LIBLOC_TOZEUR</th>\n",
       "      <th>LIBLOC_TOZGRANE</th>\n",
       "      <th>LIBLOC_TUNIS VILLE</th>\n",
       "      <th>LIBLOC_ZAGHOUAN</th>\n",
       "      <th>LIBLOC_ZARZIS</th>\n",
       "      <th>LIBLOC_ZARZOUNA</th>\n",
       "    </tr>\n",
       "  </thead>\n",
       "  <tbody>\n",
       "    <tr>\n",
       "      <th>135399</th>\n",
       "      <td>5030</td>\n",
       "      <td>2018-07-01</td>\n",
       "      <td>4.0</td>\n",
       "      <td>1699.244</td>\n",
       "      <td>0.0</td>\n",
       "      <td>0.0</td>\n",
       "      <td>0.0</td>\n",
       "      <td>0.0</td>\n",
       "      <td>False</td>\n",
       "      <td>True</td>\n",
       "      <td>...</td>\n",
       "      <td>False</td>\n",
       "      <td>False</td>\n",
       "      <td>False</td>\n",
       "      <td>False</td>\n",
       "      <td>False</td>\n",
       "      <td>False</td>\n",
       "      <td>True</td>\n",
       "      <td>False</td>\n",
       "      <td>False</td>\n",
       "      <td>False</td>\n",
       "    </tr>\n",
       "    <tr>\n",
       "      <th>135976</th>\n",
       "      <td>5030</td>\n",
       "      <td>2018-07-16</td>\n",
       "      <td>3.0</td>\n",
       "      <td>1699.244</td>\n",
       "      <td>4.0</td>\n",
       "      <td>0.0</td>\n",
       "      <td>0.0</td>\n",
       "      <td>0.0</td>\n",
       "      <td>False</td>\n",
       "      <td>True</td>\n",
       "      <td>...</td>\n",
       "      <td>False</td>\n",
       "      <td>False</td>\n",
       "      <td>False</td>\n",
       "      <td>False</td>\n",
       "      <td>False</td>\n",
       "      <td>False</td>\n",
       "      <td>True</td>\n",
       "      <td>False</td>\n",
       "      <td>False</td>\n",
       "      <td>False</td>\n",
       "    </tr>\n",
       "    <tr>\n",
       "      <th>136048</th>\n",
       "      <td>5030</td>\n",
       "      <td>2018-07-30</td>\n",
       "      <td>4.0</td>\n",
       "      <td>1699.244</td>\n",
       "      <td>3.0</td>\n",
       "      <td>4.0</td>\n",
       "      <td>0.0</td>\n",
       "      <td>0.0</td>\n",
       "      <td>False</td>\n",
       "      <td>True</td>\n",
       "      <td>...</td>\n",
       "      <td>False</td>\n",
       "      <td>False</td>\n",
       "      <td>False</td>\n",
       "      <td>False</td>\n",
       "      <td>False</td>\n",
       "      <td>False</td>\n",
       "      <td>True</td>\n",
       "      <td>False</td>\n",
       "      <td>False</td>\n",
       "      <td>False</td>\n",
       "    </tr>\n",
       "    <tr>\n",
       "      <th>136561</th>\n",
       "      <td>5030</td>\n",
       "      <td>2018-08-28</td>\n",
       "      <td>4.0</td>\n",
       "      <td>1699.244</td>\n",
       "      <td>4.0</td>\n",
       "      <td>3.0</td>\n",
       "      <td>4.0</td>\n",
       "      <td>0.0</td>\n",
       "      <td>False</td>\n",
       "      <td>True</td>\n",
       "      <td>...</td>\n",
       "      <td>False</td>\n",
       "      <td>False</td>\n",
       "      <td>False</td>\n",
       "      <td>False</td>\n",
       "      <td>False</td>\n",
       "      <td>False</td>\n",
       "      <td>True</td>\n",
       "      <td>False</td>\n",
       "      <td>False</td>\n",
       "      <td>False</td>\n",
       "    </tr>\n",
       "    <tr>\n",
       "      <th>137744</th>\n",
       "      <td>5030</td>\n",
       "      <td>2018-09-08</td>\n",
       "      <td>3.0</td>\n",
       "      <td>1749.664</td>\n",
       "      <td>4.0</td>\n",
       "      <td>4.0</td>\n",
       "      <td>3.0</td>\n",
       "      <td>4.0</td>\n",
       "      <td>False</td>\n",
       "      <td>True</td>\n",
       "      <td>...</td>\n",
       "      <td>False</td>\n",
       "      <td>False</td>\n",
       "      <td>False</td>\n",
       "      <td>False</td>\n",
       "      <td>False</td>\n",
       "      <td>False</td>\n",
       "      <td>True</td>\n",
       "      <td>False</td>\n",
       "      <td>False</td>\n",
       "      <td>False</td>\n",
       "    </tr>\n",
       "    <tr>\n",
       "      <th>...</th>\n",
       "      <td>...</td>\n",
       "      <td>...</td>\n",
       "      <td>...</td>\n",
       "      <td>...</td>\n",
       "      <td>...</td>\n",
       "      <td>...</td>\n",
       "      <td>...</td>\n",
       "      <td>...</td>\n",
       "      <td>...</td>\n",
       "      <td>...</td>\n",
       "      <td>...</td>\n",
       "      <td>...</td>\n",
       "      <td>...</td>\n",
       "      <td>...</td>\n",
       "      <td>...</td>\n",
       "      <td>...</td>\n",
       "      <td>...</td>\n",
       "      <td>...</td>\n",
       "      <td>...</td>\n",
       "      <td>...</td>\n",
       "      <td>...</td>\n",
       "    </tr>\n",
       "    <tr>\n",
       "      <th>105919</th>\n",
       "      <td>5597</td>\n",
       "      <td>2019-11-29</td>\n",
       "      <td>7.0</td>\n",
       "      <td>1668.739</td>\n",
       "      <td>5.0</td>\n",
       "      <td>4.0</td>\n",
       "      <td>4.0</td>\n",
       "      <td>8.0</td>\n",
       "      <td>False</td>\n",
       "      <td>False</td>\n",
       "      <td>...</td>\n",
       "      <td>True</td>\n",
       "      <td>False</td>\n",
       "      <td>False</td>\n",
       "      <td>False</td>\n",
       "      <td>False</td>\n",
       "      <td>False</td>\n",
       "      <td>False</td>\n",
       "      <td>False</td>\n",
       "      <td>False</td>\n",
       "      <td>False</td>\n",
       "    </tr>\n",
       "    <tr>\n",
       "      <th>105962</th>\n",
       "      <td>5597</td>\n",
       "      <td>2019-12-11</td>\n",
       "      <td>2.0</td>\n",
       "      <td>1668.739</td>\n",
       "      <td>7.0</td>\n",
       "      <td>5.0</td>\n",
       "      <td>4.0</td>\n",
       "      <td>4.0</td>\n",
       "      <td>False</td>\n",
       "      <td>False</td>\n",
       "      <td>...</td>\n",
       "      <td>True</td>\n",
       "      <td>False</td>\n",
       "      <td>False</td>\n",
       "      <td>False</td>\n",
       "      <td>False</td>\n",
       "      <td>False</td>\n",
       "      <td>False</td>\n",
       "      <td>False</td>\n",
       "      <td>False</td>\n",
       "      <td>False</td>\n",
       "    </tr>\n",
       "    <tr>\n",
       "      <th>105968</th>\n",
       "      <td>5597</td>\n",
       "      <td>2019-12-16</td>\n",
       "      <td>4.0</td>\n",
       "      <td>1668.739</td>\n",
       "      <td>2.0</td>\n",
       "      <td>7.0</td>\n",
       "      <td>5.0</td>\n",
       "      <td>4.0</td>\n",
       "      <td>False</td>\n",
       "      <td>False</td>\n",
       "      <td>...</td>\n",
       "      <td>True</td>\n",
       "      <td>False</td>\n",
       "      <td>False</td>\n",
       "      <td>False</td>\n",
       "      <td>False</td>\n",
       "      <td>False</td>\n",
       "      <td>False</td>\n",
       "      <td>False</td>\n",
       "      <td>False</td>\n",
       "      <td>False</td>\n",
       "    </tr>\n",
       "    <tr>\n",
       "      <th>105941</th>\n",
       "      <td>5597</td>\n",
       "      <td>2019-12-20</td>\n",
       "      <td>3.0</td>\n",
       "      <td>1668.739</td>\n",
       "      <td>4.0</td>\n",
       "      <td>2.0</td>\n",
       "      <td>7.0</td>\n",
       "      <td>5.0</td>\n",
       "      <td>False</td>\n",
       "      <td>False</td>\n",
       "      <td>...</td>\n",
       "      <td>True</td>\n",
       "      <td>False</td>\n",
       "      <td>False</td>\n",
       "      <td>False</td>\n",
       "      <td>False</td>\n",
       "      <td>False</td>\n",
       "      <td>False</td>\n",
       "      <td>False</td>\n",
       "      <td>False</td>\n",
       "      <td>False</td>\n",
       "    </tr>\n",
       "    <tr>\n",
       "      <th>105945</th>\n",
       "      <td>5597</td>\n",
       "      <td>2019-12-26</td>\n",
       "      <td>4.0</td>\n",
       "      <td>1668.739</td>\n",
       "      <td>3.0</td>\n",
       "      <td>4.0</td>\n",
       "      <td>2.0</td>\n",
       "      <td>7.0</td>\n",
       "      <td>False</td>\n",
       "      <td>False</td>\n",
       "      <td>...</td>\n",
       "      <td>True</td>\n",
       "      <td>False</td>\n",
       "      <td>False</td>\n",
       "      <td>False</td>\n",
       "      <td>False</td>\n",
       "      <td>False</td>\n",
       "      <td>False</td>\n",
       "      <td>False</td>\n",
       "      <td>False</td>\n",
       "      <td>False</td>\n",
       "    </tr>\n",
       "  </tbody>\n",
       "</table>\n",
       "<p>232111 rows × 222 columns</p>\n",
       "</div>"
      ],
      "text/plain": [
       "        ANCSCP     DATLIV  QTEPRD    prixHT  lag1_previous_order  \\\n",
       "135399    5030 2018-07-01     4.0  1699.244                  0.0   \n",
       "135976    5030 2018-07-16     3.0  1699.244                  4.0   \n",
       "136048    5030 2018-07-30     4.0  1699.244                  3.0   \n",
       "136561    5030 2018-08-28     4.0  1699.244                  4.0   \n",
       "137744    5030 2018-09-08     3.0  1749.664                  4.0   \n",
       "...        ...        ...     ...       ...                  ...   \n",
       "105919    5597 2019-11-29     7.0  1668.739                  5.0   \n",
       "105962    5597 2019-12-11     2.0  1668.739                  7.0   \n",
       "105968    5597 2019-12-16     4.0  1668.739                  2.0   \n",
       "105941    5597 2019-12-20     3.0  1668.739                  4.0   \n",
       "105945    5597 2019-12-26     4.0  1668.739                  3.0   \n",
       "\n",
       "        lag3_previous_order  lag6_previous_order  lag9_previous_order  \\\n",
       "135399                  0.0                  0.0                  0.0   \n",
       "135976                  0.0                  0.0                  0.0   \n",
       "136048                  4.0                  0.0                  0.0   \n",
       "136561                  3.0                  4.0                  0.0   \n",
       "137744                  4.0                  3.0                  4.0   \n",
       "...                     ...                  ...                  ...   \n",
       "105919                  4.0                  4.0                  8.0   \n",
       "105962                  5.0                  4.0                  4.0   \n",
       "105968                  7.0                  5.0                  4.0   \n",
       "105941                  2.0                  7.0                  5.0   \n",
       "105945                  4.0                  2.0                  7.0   \n",
       "\n",
       "        LIBPRD_APG AGILIX PREMIUM GAS.  LIBPRD_APS AGILIX PREMIUM ESS.  ...  \\\n",
       "135399                           False                            True  ...   \n",
       "135976                           False                            True  ...   \n",
       "136048                           False                            True  ...   \n",
       "136561                           False                            True  ...   \n",
       "137744                           False                            True  ...   \n",
       "...                                ...                             ...  ...   \n",
       "105919                           False                           False  ...   \n",
       "105962                           False                           False  ...   \n",
       "105968                           False                           False  ...   \n",
       "105941                           False                           False  ...   \n",
       "105945                           False                           False  ...   \n",
       "\n",
       "        LIBLOC_TATAOUINE  LIBLOC_TEBOULBOU  LIBLOC_THALA  LIBLOC_TOUZA  \\\n",
       "135399             False             False         False         False   \n",
       "135976             False             False         False         False   \n",
       "136048             False             False         False         False   \n",
       "136561             False             False         False         False   \n",
       "137744             False             False         False         False   \n",
       "...                  ...               ...           ...           ...   \n",
       "105919              True             False         False         False   \n",
       "105962              True             False         False         False   \n",
       "105968              True             False         False         False   \n",
       "105941              True             False         False         False   \n",
       "105945              True             False         False         False   \n",
       "\n",
       "        LIBLOC_TOZEUR  LIBLOC_TOZGRANE  LIBLOC_TUNIS VILLE  LIBLOC_ZAGHOUAN  \\\n",
       "135399          False            False                True            False   \n",
       "135976          False            False                True            False   \n",
       "136048          False            False                True            False   \n",
       "136561          False            False                True            False   \n",
       "137744          False            False                True            False   \n",
       "...               ...              ...                 ...              ...   \n",
       "105919          False            False               False            False   \n",
       "105962          False            False               False            False   \n",
       "105968          False            False               False            False   \n",
       "105941          False            False               False            False   \n",
       "105945          False            False               False            False   \n",
       "\n",
       "        LIBLOC_ZARZIS  LIBLOC_ZARZOUNA  \n",
       "135399          False            False  \n",
       "135976          False            False  \n",
       "136048          False            False  \n",
       "136561          False            False  \n",
       "137744          False            False  \n",
       "...               ...              ...  \n",
       "105919          False            False  \n",
       "105962          False            False  \n",
       "105968          False            False  \n",
       "105941          False            False  \n",
       "105945          False            False  \n",
       "\n",
       "[232111 rows x 222 columns]"
      ]
     },
     "execution_count": 47,
     "metadata": {},
     "output_type": "execute_result"
    }
   ],
   "source": [
    "categorical_columns = ['LIBPRD','LIBGVR','LIBLOC']\n",
    "# Appliquer l'encodage one-hot\n",
    "df_transformed = pd.get_dummies(df_transformed, columns=categorical_columns)\n",
    "df_transformed"
   ]
  },
  {
   "cell_type": "code",
   "execution_count": 48,
   "metadata": {},
   "outputs": [
    {
     "data": {
      "text/html": [
       "<div>\n",
       "<style scoped>\n",
       "    .dataframe tbody tr th:only-of-type {\n",
       "        vertical-align: middle;\n",
       "    }\n",
       "\n",
       "    .dataframe tbody tr th {\n",
       "        vertical-align: top;\n",
       "    }\n",
       "\n",
       "    .dataframe thead th {\n",
       "        text-align: right;\n",
       "    }\n",
       "</style>\n",
       "<table border=\"1\" class=\"dataframe\">\n",
       "  <thead>\n",
       "    <tr style=\"text-align: right;\">\n",
       "      <th></th>\n",
       "      <th>ANCSCP</th>\n",
       "      <th>DATLIV</th>\n",
       "      <th>QTEPRD</th>\n",
       "      <th>prixHT</th>\n",
       "      <th>lag1_previous_order</th>\n",
       "      <th>lag3_previous_order</th>\n",
       "      <th>lag6_previous_order</th>\n",
       "      <th>lag9_previous_order</th>\n",
       "      <th>LIBPRD_APG AGILIX PREMIUM GAS.</th>\n",
       "      <th>LIBPRD_APS AGILIX PREMIUM ESS.</th>\n",
       "      <th>...</th>\n",
       "      <th>LIBLOC_ZARZOUNA</th>\n",
       "      <th>Year</th>\n",
       "      <th>Month</th>\n",
       "      <th>Day</th>\n",
       "      <th>Weekday</th>\n",
       "      <th>Quarter</th>\n",
       "      <th>month_sin</th>\n",
       "      <th>month_cos</th>\n",
       "      <th>day_sin</th>\n",
       "      <th>day_cos</th>\n",
       "    </tr>\n",
       "  </thead>\n",
       "  <tbody>\n",
       "    <tr>\n",
       "      <th>135399</th>\n",
       "      <td>5030</td>\n",
       "      <td>2018-07-01</td>\n",
       "      <td>4.0</td>\n",
       "      <td>1699.244</td>\n",
       "      <td>0.0</td>\n",
       "      <td>0.0</td>\n",
       "      <td>0.0</td>\n",
       "      <td>0.0</td>\n",
       "      <td>False</td>\n",
       "      <td>True</td>\n",
       "      <td>...</td>\n",
       "      <td>False</td>\n",
       "      <td>2018</td>\n",
       "      <td>7</td>\n",
       "      <td>1</td>\n",
       "      <td>6</td>\n",
       "      <td>3</td>\n",
       "      <td>-5.000000e-01</td>\n",
       "      <td>-8.660254e-01</td>\n",
       "      <td>0.201299</td>\n",
       "      <td>0.979530</td>\n",
       "    </tr>\n",
       "    <tr>\n",
       "      <th>135976</th>\n",
       "      <td>5030</td>\n",
       "      <td>2018-07-16</td>\n",
       "      <td>3.0</td>\n",
       "      <td>1699.244</td>\n",
       "      <td>4.0</td>\n",
       "      <td>0.0</td>\n",
       "      <td>0.0</td>\n",
       "      <td>0.0</td>\n",
       "      <td>False</td>\n",
       "      <td>True</td>\n",
       "      <td>...</td>\n",
       "      <td>False</td>\n",
       "      <td>2018</td>\n",
       "      <td>7</td>\n",
       "      <td>16</td>\n",
       "      <td>0</td>\n",
       "      <td>3</td>\n",
       "      <td>-5.000000e-01</td>\n",
       "      <td>-8.660254e-01</td>\n",
       "      <td>-0.101168</td>\n",
       "      <td>-0.994869</td>\n",
       "    </tr>\n",
       "    <tr>\n",
       "      <th>136048</th>\n",
       "      <td>5030</td>\n",
       "      <td>2018-07-30</td>\n",
       "      <td>4.0</td>\n",
       "      <td>1699.244</td>\n",
       "      <td>3.0</td>\n",
       "      <td>4.0</td>\n",
       "      <td>0.0</td>\n",
       "      <td>0.0</td>\n",
       "      <td>False</td>\n",
       "      <td>True</td>\n",
       "      <td>...</td>\n",
       "      <td>False</td>\n",
       "      <td>2018</td>\n",
       "      <td>7</td>\n",
       "      <td>30</td>\n",
       "      <td>0</td>\n",
       "      <td>3</td>\n",
       "      <td>-5.000000e-01</td>\n",
       "      <td>-8.660254e-01</td>\n",
       "      <td>-0.201299</td>\n",
       "      <td>0.979530</td>\n",
       "    </tr>\n",
       "    <tr>\n",
       "      <th>136561</th>\n",
       "      <td>5030</td>\n",
       "      <td>2018-08-28</td>\n",
       "      <td>4.0</td>\n",
       "      <td>1699.244</td>\n",
       "      <td>4.0</td>\n",
       "      <td>3.0</td>\n",
       "      <td>4.0</td>\n",
       "      <td>0.0</td>\n",
       "      <td>False</td>\n",
       "      <td>True</td>\n",
       "      <td>...</td>\n",
       "      <td>False</td>\n",
       "      <td>2018</td>\n",
       "      <td>8</td>\n",
       "      <td>28</td>\n",
       "      <td>1</td>\n",
       "      <td>3</td>\n",
       "      <td>-8.660254e-01</td>\n",
       "      <td>-5.000000e-01</td>\n",
       "      <td>-0.571268</td>\n",
       "      <td>0.820763</td>\n",
       "    </tr>\n",
       "    <tr>\n",
       "      <th>137744</th>\n",
       "      <td>5030</td>\n",
       "      <td>2018-09-08</td>\n",
       "      <td>3.0</td>\n",
       "      <td>1749.664</td>\n",
       "      <td>4.0</td>\n",
       "      <td>4.0</td>\n",
       "      <td>3.0</td>\n",
       "      <td>4.0</td>\n",
       "      <td>False</td>\n",
       "      <td>True</td>\n",
       "      <td>...</td>\n",
       "      <td>False</td>\n",
       "      <td>2018</td>\n",
       "      <td>9</td>\n",
       "      <td>8</td>\n",
       "      <td>5</td>\n",
       "      <td>3</td>\n",
       "      <td>-1.000000e+00</td>\n",
       "      <td>-1.836970e-16</td>\n",
       "      <td>0.998717</td>\n",
       "      <td>-0.050649</td>\n",
       "    </tr>\n",
       "    <tr>\n",
       "      <th>...</th>\n",
       "      <td>...</td>\n",
       "      <td>...</td>\n",
       "      <td>...</td>\n",
       "      <td>...</td>\n",
       "      <td>...</td>\n",
       "      <td>...</td>\n",
       "      <td>...</td>\n",
       "      <td>...</td>\n",
       "      <td>...</td>\n",
       "      <td>...</td>\n",
       "      <td>...</td>\n",
       "      <td>...</td>\n",
       "      <td>...</td>\n",
       "      <td>...</td>\n",
       "      <td>...</td>\n",
       "      <td>...</td>\n",
       "      <td>...</td>\n",
       "      <td>...</td>\n",
       "      <td>...</td>\n",
       "      <td>...</td>\n",
       "      <td>...</td>\n",
       "    </tr>\n",
       "    <tr>\n",
       "      <th>105919</th>\n",
       "      <td>5597</td>\n",
       "      <td>2019-11-29</td>\n",
       "      <td>7.0</td>\n",
       "      <td>1668.739</td>\n",
       "      <td>5.0</td>\n",
       "      <td>4.0</td>\n",
       "      <td>4.0</td>\n",
       "      <td>8.0</td>\n",
       "      <td>False</td>\n",
       "      <td>False</td>\n",
       "      <td>...</td>\n",
       "      <td>False</td>\n",
       "      <td>2019</td>\n",
       "      <td>11</td>\n",
       "      <td>29</td>\n",
       "      <td>4</td>\n",
       "      <td>4</td>\n",
       "      <td>-5.000000e-01</td>\n",
       "      <td>8.660254e-01</td>\n",
       "      <td>-0.394356</td>\n",
       "      <td>0.918958</td>\n",
       "    </tr>\n",
       "    <tr>\n",
       "      <th>105962</th>\n",
       "      <td>5597</td>\n",
       "      <td>2019-12-11</td>\n",
       "      <td>2.0</td>\n",
       "      <td>1668.739</td>\n",
       "      <td>7.0</td>\n",
       "      <td>5.0</td>\n",
       "      <td>4.0</td>\n",
       "      <td>4.0</td>\n",
       "      <td>False</td>\n",
       "      <td>False</td>\n",
       "      <td>...</td>\n",
       "      <td>False</td>\n",
       "      <td>2019</td>\n",
       "      <td>12</td>\n",
       "      <td>11</td>\n",
       "      <td>2</td>\n",
       "      <td>4</td>\n",
       "      <td>-2.449294e-16</td>\n",
       "      <td>1.000000e+00</td>\n",
       "      <td>0.790776</td>\n",
       "      <td>-0.612106</td>\n",
       "    </tr>\n",
       "    <tr>\n",
       "      <th>105968</th>\n",
       "      <td>5597</td>\n",
       "      <td>2019-12-16</td>\n",
       "      <td>4.0</td>\n",
       "      <td>1668.739</td>\n",
       "      <td>2.0</td>\n",
       "      <td>7.0</td>\n",
       "      <td>5.0</td>\n",
       "      <td>4.0</td>\n",
       "      <td>False</td>\n",
       "      <td>False</td>\n",
       "      <td>...</td>\n",
       "      <td>False</td>\n",
       "      <td>2019</td>\n",
       "      <td>12</td>\n",
       "      <td>16</td>\n",
       "      <td>0</td>\n",
       "      <td>4</td>\n",
       "      <td>-2.449294e-16</td>\n",
       "      <td>1.000000e+00</td>\n",
       "      <td>-0.101168</td>\n",
       "      <td>-0.994869</td>\n",
       "    </tr>\n",
       "    <tr>\n",
       "      <th>105941</th>\n",
       "      <td>5597</td>\n",
       "      <td>2019-12-20</td>\n",
       "      <td>3.0</td>\n",
       "      <td>1668.739</td>\n",
       "      <td>4.0</td>\n",
       "      <td>2.0</td>\n",
       "      <td>7.0</td>\n",
       "      <td>5.0</td>\n",
       "      <td>False</td>\n",
       "      <td>False</td>\n",
       "      <td>...</td>\n",
       "      <td>False</td>\n",
       "      <td>2019</td>\n",
       "      <td>12</td>\n",
       "      <td>20</td>\n",
       "      <td>4</td>\n",
       "      <td>4</td>\n",
       "      <td>-2.449294e-16</td>\n",
       "      <td>1.000000e+00</td>\n",
       "      <td>-0.790776</td>\n",
       "      <td>-0.612106</td>\n",
       "    </tr>\n",
       "    <tr>\n",
       "      <th>105945</th>\n",
       "      <td>5597</td>\n",
       "      <td>2019-12-26</td>\n",
       "      <td>4.0</td>\n",
       "      <td>1668.739</td>\n",
       "      <td>3.0</td>\n",
       "      <td>4.0</td>\n",
       "      <td>2.0</td>\n",
       "      <td>7.0</td>\n",
       "      <td>False</td>\n",
       "      <td>False</td>\n",
       "      <td>...</td>\n",
       "      <td>False</td>\n",
       "      <td>2019</td>\n",
       "      <td>12</td>\n",
       "      <td>26</td>\n",
       "      <td>3</td>\n",
       "      <td>4</td>\n",
       "      <td>-2.449294e-16</td>\n",
       "      <td>1.000000e+00</td>\n",
       "      <td>-0.848644</td>\n",
       "      <td>0.528964</td>\n",
       "    </tr>\n",
       "  </tbody>\n",
       "</table>\n",
       "<p>232111 rows × 231 columns</p>\n",
       "</div>"
      ],
      "text/plain": [
       "        ANCSCP     DATLIV  QTEPRD    prixHT  lag1_previous_order  \\\n",
       "135399    5030 2018-07-01     4.0  1699.244                  0.0   \n",
       "135976    5030 2018-07-16     3.0  1699.244                  4.0   \n",
       "136048    5030 2018-07-30     4.0  1699.244                  3.0   \n",
       "136561    5030 2018-08-28     4.0  1699.244                  4.0   \n",
       "137744    5030 2018-09-08     3.0  1749.664                  4.0   \n",
       "...        ...        ...     ...       ...                  ...   \n",
       "105919    5597 2019-11-29     7.0  1668.739                  5.0   \n",
       "105962    5597 2019-12-11     2.0  1668.739                  7.0   \n",
       "105968    5597 2019-12-16     4.0  1668.739                  2.0   \n",
       "105941    5597 2019-12-20     3.0  1668.739                  4.0   \n",
       "105945    5597 2019-12-26     4.0  1668.739                  3.0   \n",
       "\n",
       "        lag3_previous_order  lag6_previous_order  lag9_previous_order  \\\n",
       "135399                  0.0                  0.0                  0.0   \n",
       "135976                  0.0                  0.0                  0.0   \n",
       "136048                  4.0                  0.0                  0.0   \n",
       "136561                  3.0                  4.0                  0.0   \n",
       "137744                  4.0                  3.0                  4.0   \n",
       "...                     ...                  ...                  ...   \n",
       "105919                  4.0                  4.0                  8.0   \n",
       "105962                  5.0                  4.0                  4.0   \n",
       "105968                  7.0                  5.0                  4.0   \n",
       "105941                  2.0                  7.0                  5.0   \n",
       "105945                  4.0                  2.0                  7.0   \n",
       "\n",
       "        LIBPRD_APG AGILIX PREMIUM GAS.  LIBPRD_APS AGILIX PREMIUM ESS.  ...  \\\n",
       "135399                           False                            True  ...   \n",
       "135976                           False                            True  ...   \n",
       "136048                           False                            True  ...   \n",
       "136561                           False                            True  ...   \n",
       "137744                           False                            True  ...   \n",
       "...                                ...                             ...  ...   \n",
       "105919                           False                           False  ...   \n",
       "105962                           False                           False  ...   \n",
       "105968                           False                           False  ...   \n",
       "105941                           False                           False  ...   \n",
       "105945                           False                           False  ...   \n",
       "\n",
       "        LIBLOC_ZARZOUNA  Year  Month  Day  Weekday  Quarter     month_sin  \\\n",
       "135399            False  2018      7    1        6        3 -5.000000e-01   \n",
       "135976            False  2018      7   16        0        3 -5.000000e-01   \n",
       "136048            False  2018      7   30        0        3 -5.000000e-01   \n",
       "136561            False  2018      8   28        1        3 -8.660254e-01   \n",
       "137744            False  2018      9    8        5        3 -1.000000e+00   \n",
       "...                 ...   ...    ...  ...      ...      ...           ...   \n",
       "105919            False  2019     11   29        4        4 -5.000000e-01   \n",
       "105962            False  2019     12   11        2        4 -2.449294e-16   \n",
       "105968            False  2019     12   16        0        4 -2.449294e-16   \n",
       "105941            False  2019     12   20        4        4 -2.449294e-16   \n",
       "105945            False  2019     12   26        3        4 -2.449294e-16   \n",
       "\n",
       "           month_cos   day_sin   day_cos  \n",
       "135399 -8.660254e-01  0.201299  0.979530  \n",
       "135976 -8.660254e-01 -0.101168 -0.994869  \n",
       "136048 -8.660254e-01 -0.201299  0.979530  \n",
       "136561 -5.000000e-01 -0.571268  0.820763  \n",
       "137744 -1.836970e-16  0.998717 -0.050649  \n",
       "...              ...       ...       ...  \n",
       "105919  8.660254e-01 -0.394356  0.918958  \n",
       "105962  1.000000e+00  0.790776 -0.612106  \n",
       "105968  1.000000e+00 -0.101168 -0.994869  \n",
       "105941  1.000000e+00 -0.790776 -0.612106  \n",
       "105945  1.000000e+00 -0.848644  0.528964  \n",
       "\n",
       "[232111 rows x 231 columns]"
      ]
     },
     "execution_count": 48,
     "metadata": {},
     "output_type": "execute_result"
    }
   ],
   "source": [
    "df_transformed['DATLIV'] = pd.to_datetime(df_transformed['DATLIV'])\n",
    "df_transformed['Year'] = df_transformed['DATLIV'].dt.year\n",
    "df_transformed['Month'] = df_transformed['DATLIV'].dt.month\n",
    "df_transformed['Day'] = df_transformed['DATLIV'].dt.day\n",
    "df_transformed['Weekday'] = df_transformed['DATLIV'].dt.weekday\n",
    "df_transformed['Quarter'] = df_transformed['DATLIV'].dt.quarter\n",
    "df_transformed['month_sin'] = np.sin(2 * np.pi * df_transformed['Month'] / 12)\n",
    "df_transformed['month_cos'] = np.cos(2 * np.pi * df_transformed['Month'] / 12)\n",
    "df_transformed['day_sin'] = np.sin(2 * np.pi * df_transformed['Day'] / 31)\n",
    "df_transformed['day_cos'] = np.cos(2 * np.pi * df_transformed['Day'] / 31)\n",
    "df_transformed"
   ]
  },
  {
   "cell_type": "code",
   "execution_count": 49,
   "metadata": {},
   "outputs": [],
   "source": [
    "df_transformed.drop(columns=['DATLIV'], inplace=True)\n"
   ]
  },
  {
   "cell_type": "code",
   "execution_count": 50,
   "metadata": {},
   "outputs": [
    {
     "data": {
      "text/html": [
       "<div>\n",
       "<style scoped>\n",
       "    .dataframe tbody tr th:only-of-type {\n",
       "        vertical-align: middle;\n",
       "    }\n",
       "\n",
       "    .dataframe tbody tr th {\n",
       "        vertical-align: top;\n",
       "    }\n",
       "\n",
       "    .dataframe thead th {\n",
       "        text-align: right;\n",
       "    }\n",
       "</style>\n",
       "<table border=\"1\" class=\"dataframe\">\n",
       "  <thead>\n",
       "    <tr style=\"text-align: right;\">\n",
       "      <th></th>\n",
       "      <th>ANCSCP</th>\n",
       "      <th>QTEPRD</th>\n",
       "      <th>prixHT</th>\n",
       "      <th>lag1_previous_order</th>\n",
       "      <th>lag3_previous_order</th>\n",
       "      <th>lag6_previous_order</th>\n",
       "      <th>lag9_previous_order</th>\n",
       "      <th>LIBPRD_APG AGILIX PREMIUM GAS.</th>\n",
       "      <th>LIBPRD_APS AGILIX PREMIUM ESS.</th>\n",
       "      <th>LIBPRD_GASOIL</th>\n",
       "      <th>...</th>\n",
       "      <th>LIBLOC_ZARZOUNA</th>\n",
       "      <th>Year</th>\n",
       "      <th>Month</th>\n",
       "      <th>Day</th>\n",
       "      <th>Weekday</th>\n",
       "      <th>Quarter</th>\n",
       "      <th>month_sin</th>\n",
       "      <th>month_cos</th>\n",
       "      <th>day_sin</th>\n",
       "      <th>day_cos</th>\n",
       "    </tr>\n",
       "  </thead>\n",
       "  <tbody>\n",
       "    <tr>\n",
       "      <th>135399</th>\n",
       "      <td>5030</td>\n",
       "      <td>4.0</td>\n",
       "      <td>1699.244</td>\n",
       "      <td>0.0</td>\n",
       "      <td>0.0</td>\n",
       "      <td>0.0</td>\n",
       "      <td>0.0</td>\n",
       "      <td>False</td>\n",
       "      <td>True</td>\n",
       "      <td>False</td>\n",
       "      <td>...</td>\n",
       "      <td>False</td>\n",
       "      <td>2018</td>\n",
       "      <td>7</td>\n",
       "      <td>1</td>\n",
       "      <td>6</td>\n",
       "      <td>3</td>\n",
       "      <td>-5.000000e-01</td>\n",
       "      <td>-8.660254e-01</td>\n",
       "      <td>0.201299</td>\n",
       "      <td>0.979530</td>\n",
       "    </tr>\n",
       "    <tr>\n",
       "      <th>135976</th>\n",
       "      <td>5030</td>\n",
       "      <td>3.0</td>\n",
       "      <td>1699.244</td>\n",
       "      <td>4.0</td>\n",
       "      <td>0.0</td>\n",
       "      <td>0.0</td>\n",
       "      <td>0.0</td>\n",
       "      <td>False</td>\n",
       "      <td>True</td>\n",
       "      <td>False</td>\n",
       "      <td>...</td>\n",
       "      <td>False</td>\n",
       "      <td>2018</td>\n",
       "      <td>7</td>\n",
       "      <td>16</td>\n",
       "      <td>0</td>\n",
       "      <td>3</td>\n",
       "      <td>-5.000000e-01</td>\n",
       "      <td>-8.660254e-01</td>\n",
       "      <td>-0.101168</td>\n",
       "      <td>-0.994869</td>\n",
       "    </tr>\n",
       "    <tr>\n",
       "      <th>136048</th>\n",
       "      <td>5030</td>\n",
       "      <td>4.0</td>\n",
       "      <td>1699.244</td>\n",
       "      <td>3.0</td>\n",
       "      <td>4.0</td>\n",
       "      <td>0.0</td>\n",
       "      <td>0.0</td>\n",
       "      <td>False</td>\n",
       "      <td>True</td>\n",
       "      <td>False</td>\n",
       "      <td>...</td>\n",
       "      <td>False</td>\n",
       "      <td>2018</td>\n",
       "      <td>7</td>\n",
       "      <td>30</td>\n",
       "      <td>0</td>\n",
       "      <td>3</td>\n",
       "      <td>-5.000000e-01</td>\n",
       "      <td>-8.660254e-01</td>\n",
       "      <td>-0.201299</td>\n",
       "      <td>0.979530</td>\n",
       "    </tr>\n",
       "    <tr>\n",
       "      <th>136561</th>\n",
       "      <td>5030</td>\n",
       "      <td>4.0</td>\n",
       "      <td>1699.244</td>\n",
       "      <td>4.0</td>\n",
       "      <td>3.0</td>\n",
       "      <td>4.0</td>\n",
       "      <td>0.0</td>\n",
       "      <td>False</td>\n",
       "      <td>True</td>\n",
       "      <td>False</td>\n",
       "      <td>...</td>\n",
       "      <td>False</td>\n",
       "      <td>2018</td>\n",
       "      <td>8</td>\n",
       "      <td>28</td>\n",
       "      <td>1</td>\n",
       "      <td>3</td>\n",
       "      <td>-8.660254e-01</td>\n",
       "      <td>-5.000000e-01</td>\n",
       "      <td>-0.571268</td>\n",
       "      <td>0.820763</td>\n",
       "    </tr>\n",
       "    <tr>\n",
       "      <th>137744</th>\n",
       "      <td>5030</td>\n",
       "      <td>3.0</td>\n",
       "      <td>1749.664</td>\n",
       "      <td>4.0</td>\n",
       "      <td>4.0</td>\n",
       "      <td>3.0</td>\n",
       "      <td>4.0</td>\n",
       "      <td>False</td>\n",
       "      <td>True</td>\n",
       "      <td>False</td>\n",
       "      <td>...</td>\n",
       "      <td>False</td>\n",
       "      <td>2018</td>\n",
       "      <td>9</td>\n",
       "      <td>8</td>\n",
       "      <td>5</td>\n",
       "      <td>3</td>\n",
       "      <td>-1.000000e+00</td>\n",
       "      <td>-1.836970e-16</td>\n",
       "      <td>0.998717</td>\n",
       "      <td>-0.050649</td>\n",
       "    </tr>\n",
       "    <tr>\n",
       "      <th>...</th>\n",
       "      <td>...</td>\n",
       "      <td>...</td>\n",
       "      <td>...</td>\n",
       "      <td>...</td>\n",
       "      <td>...</td>\n",
       "      <td>...</td>\n",
       "      <td>...</td>\n",
       "      <td>...</td>\n",
       "      <td>...</td>\n",
       "      <td>...</td>\n",
       "      <td>...</td>\n",
       "      <td>...</td>\n",
       "      <td>...</td>\n",
       "      <td>...</td>\n",
       "      <td>...</td>\n",
       "      <td>...</td>\n",
       "      <td>...</td>\n",
       "      <td>...</td>\n",
       "      <td>...</td>\n",
       "      <td>...</td>\n",
       "      <td>...</td>\n",
       "    </tr>\n",
       "    <tr>\n",
       "      <th>105919</th>\n",
       "      <td>5597</td>\n",
       "      <td>7.0</td>\n",
       "      <td>1668.739</td>\n",
       "      <td>5.0</td>\n",
       "      <td>4.0</td>\n",
       "      <td>4.0</td>\n",
       "      <td>8.0</td>\n",
       "      <td>False</td>\n",
       "      <td>False</td>\n",
       "      <td>False</td>\n",
       "      <td>...</td>\n",
       "      <td>False</td>\n",
       "      <td>2019</td>\n",
       "      <td>11</td>\n",
       "      <td>29</td>\n",
       "      <td>4</td>\n",
       "      <td>4</td>\n",
       "      <td>-5.000000e-01</td>\n",
       "      <td>8.660254e-01</td>\n",
       "      <td>-0.394356</td>\n",
       "      <td>0.918958</td>\n",
       "    </tr>\n",
       "    <tr>\n",
       "      <th>105962</th>\n",
       "      <td>5597</td>\n",
       "      <td>2.0</td>\n",
       "      <td>1668.739</td>\n",
       "      <td>7.0</td>\n",
       "      <td>5.0</td>\n",
       "      <td>4.0</td>\n",
       "      <td>4.0</td>\n",
       "      <td>False</td>\n",
       "      <td>False</td>\n",
       "      <td>False</td>\n",
       "      <td>...</td>\n",
       "      <td>False</td>\n",
       "      <td>2019</td>\n",
       "      <td>12</td>\n",
       "      <td>11</td>\n",
       "      <td>2</td>\n",
       "      <td>4</td>\n",
       "      <td>-2.449294e-16</td>\n",
       "      <td>1.000000e+00</td>\n",
       "      <td>0.790776</td>\n",
       "      <td>-0.612106</td>\n",
       "    </tr>\n",
       "    <tr>\n",
       "      <th>105968</th>\n",
       "      <td>5597</td>\n",
       "      <td>4.0</td>\n",
       "      <td>1668.739</td>\n",
       "      <td>2.0</td>\n",
       "      <td>7.0</td>\n",
       "      <td>5.0</td>\n",
       "      <td>4.0</td>\n",
       "      <td>False</td>\n",
       "      <td>False</td>\n",
       "      <td>False</td>\n",
       "      <td>...</td>\n",
       "      <td>False</td>\n",
       "      <td>2019</td>\n",
       "      <td>12</td>\n",
       "      <td>16</td>\n",
       "      <td>0</td>\n",
       "      <td>4</td>\n",
       "      <td>-2.449294e-16</td>\n",
       "      <td>1.000000e+00</td>\n",
       "      <td>-0.101168</td>\n",
       "      <td>-0.994869</td>\n",
       "    </tr>\n",
       "    <tr>\n",
       "      <th>105941</th>\n",
       "      <td>5597</td>\n",
       "      <td>3.0</td>\n",
       "      <td>1668.739</td>\n",
       "      <td>4.0</td>\n",
       "      <td>2.0</td>\n",
       "      <td>7.0</td>\n",
       "      <td>5.0</td>\n",
       "      <td>False</td>\n",
       "      <td>False</td>\n",
       "      <td>False</td>\n",
       "      <td>...</td>\n",
       "      <td>False</td>\n",
       "      <td>2019</td>\n",
       "      <td>12</td>\n",
       "      <td>20</td>\n",
       "      <td>4</td>\n",
       "      <td>4</td>\n",
       "      <td>-2.449294e-16</td>\n",
       "      <td>1.000000e+00</td>\n",
       "      <td>-0.790776</td>\n",
       "      <td>-0.612106</td>\n",
       "    </tr>\n",
       "    <tr>\n",
       "      <th>105945</th>\n",
       "      <td>5597</td>\n",
       "      <td>4.0</td>\n",
       "      <td>1668.739</td>\n",
       "      <td>3.0</td>\n",
       "      <td>4.0</td>\n",
       "      <td>2.0</td>\n",
       "      <td>7.0</td>\n",
       "      <td>False</td>\n",
       "      <td>False</td>\n",
       "      <td>False</td>\n",
       "      <td>...</td>\n",
       "      <td>False</td>\n",
       "      <td>2019</td>\n",
       "      <td>12</td>\n",
       "      <td>26</td>\n",
       "      <td>3</td>\n",
       "      <td>4</td>\n",
       "      <td>-2.449294e-16</td>\n",
       "      <td>1.000000e+00</td>\n",
       "      <td>-0.848644</td>\n",
       "      <td>0.528964</td>\n",
       "    </tr>\n",
       "  </tbody>\n",
       "</table>\n",
       "<p>232111 rows × 230 columns</p>\n",
       "</div>"
      ],
      "text/plain": [
       "        ANCSCP  QTEPRD    prixHT  lag1_previous_order  lag3_previous_order  \\\n",
       "135399    5030     4.0  1699.244                  0.0                  0.0   \n",
       "135976    5030     3.0  1699.244                  4.0                  0.0   \n",
       "136048    5030     4.0  1699.244                  3.0                  4.0   \n",
       "136561    5030     4.0  1699.244                  4.0                  3.0   \n",
       "137744    5030     3.0  1749.664                  4.0                  4.0   \n",
       "...        ...     ...       ...                  ...                  ...   \n",
       "105919    5597     7.0  1668.739                  5.0                  4.0   \n",
       "105962    5597     2.0  1668.739                  7.0                  5.0   \n",
       "105968    5597     4.0  1668.739                  2.0                  7.0   \n",
       "105941    5597     3.0  1668.739                  4.0                  2.0   \n",
       "105945    5597     4.0  1668.739                  3.0                  4.0   \n",
       "\n",
       "        lag6_previous_order  lag9_previous_order  \\\n",
       "135399                  0.0                  0.0   \n",
       "135976                  0.0                  0.0   \n",
       "136048                  0.0                  0.0   \n",
       "136561                  4.0                  0.0   \n",
       "137744                  3.0                  4.0   \n",
       "...                     ...                  ...   \n",
       "105919                  4.0                  8.0   \n",
       "105962                  4.0                  4.0   \n",
       "105968                  5.0                  4.0   \n",
       "105941                  7.0                  5.0   \n",
       "105945                  2.0                  7.0   \n",
       "\n",
       "        LIBPRD_APG AGILIX PREMIUM GAS.  LIBPRD_APS AGILIX PREMIUM ESS.  \\\n",
       "135399                           False                            True   \n",
       "135976                           False                            True   \n",
       "136048                           False                            True   \n",
       "136561                           False                            True   \n",
       "137744                           False                            True   \n",
       "...                                ...                             ...   \n",
       "105919                           False                           False   \n",
       "105962                           False                           False   \n",
       "105968                           False                           False   \n",
       "105941                           False                           False   \n",
       "105945                           False                           False   \n",
       "\n",
       "        LIBPRD_GASOIL  ...  LIBLOC_ZARZOUNA  Year  Month  Day  Weekday  \\\n",
       "135399          False  ...            False  2018      7    1        6   \n",
       "135976          False  ...            False  2018      7   16        0   \n",
       "136048          False  ...            False  2018      7   30        0   \n",
       "136561          False  ...            False  2018      8   28        1   \n",
       "137744          False  ...            False  2018      9    8        5   \n",
       "...               ...  ...              ...   ...    ...  ...      ...   \n",
       "105919          False  ...            False  2019     11   29        4   \n",
       "105962          False  ...            False  2019     12   11        2   \n",
       "105968          False  ...            False  2019     12   16        0   \n",
       "105941          False  ...            False  2019     12   20        4   \n",
       "105945          False  ...            False  2019     12   26        3   \n",
       "\n",
       "        Quarter     month_sin     month_cos   day_sin   day_cos  \n",
       "135399        3 -5.000000e-01 -8.660254e-01  0.201299  0.979530  \n",
       "135976        3 -5.000000e-01 -8.660254e-01 -0.101168 -0.994869  \n",
       "136048        3 -5.000000e-01 -8.660254e-01 -0.201299  0.979530  \n",
       "136561        3 -8.660254e-01 -5.000000e-01 -0.571268  0.820763  \n",
       "137744        3 -1.000000e+00 -1.836970e-16  0.998717 -0.050649  \n",
       "...         ...           ...           ...       ...       ...  \n",
       "105919        4 -5.000000e-01  8.660254e-01 -0.394356  0.918958  \n",
       "105962        4 -2.449294e-16  1.000000e+00  0.790776 -0.612106  \n",
       "105968        4 -2.449294e-16  1.000000e+00 -0.101168 -0.994869  \n",
       "105941        4 -2.449294e-16  1.000000e+00 -0.790776 -0.612106  \n",
       "105945        4 -2.449294e-16  1.000000e+00 -0.848644  0.528964  \n",
       "\n",
       "[232111 rows x 230 columns]"
      ]
     },
     "execution_count": 50,
     "metadata": {},
     "output_type": "execute_result"
    }
   ],
   "source": [
    "df_transformed"
   ]
  },
  {
   "cell_type": "code",
   "execution_count": 51,
   "metadata": {},
   "outputs": [],
   "source": [
    " \n",
    "df_transformed[df_transformed.select_dtypes(include='bool').columns] = df_transformed.select_dtypes(include='bool').astype(int)\n"
   ]
  },
  {
   "cell_type": "markdown",
   "metadata": {},
   "source": [
    "### 2.7 Feature Scaling"
   ]
  },
  {
   "cell_type": "code",
   "execution_count": 52,
   "metadata": {},
   "outputs": [],
   "source": [
    "from sklearn.utils import shuffle\n",
    "from sklearn.model_selection import train_test_split\n",
    "from sklearn.preprocessing import MinMaxScaler\n",
    " \n",
    "\n",
    "numeric_data = df_transformed.select_dtypes(include=['number'])\n",
    "\n",
    "# Initialize the MinMaxScaler\n",
    "scaler = MinMaxScaler()\n",
    "\n",
    "# Apply Min-Max scaling to the numeric columns\n",
    "df_scaled = scaler.fit_transform(numeric_data)\n",
    "\n",
    "# Convert the normalized array back to a DataFrame\n",
    "df_scaled = pd.DataFrame(df_scaled, columns=numeric_data.columns)\n"
   ]
  },
  {
   "cell_type": "code",
   "execution_count": null,
   "metadata": {},
   "outputs": [],
   "source": []
  },
  {
   "cell_type": "code",
   "execution_count": 53,
   "metadata": {},
   "outputs": [
    {
     "name": "stdout",
     "output_type": "stream",
     "text": [
      "MinMaxScaler()\n"
     ]
    }
   ],
   "source": [
    "import joblib\n",
    "joblib.dump(scaler, '../../deployML/notebooks/scaler.pkl')\n",
    "print(scaler)"
   ]
  },
  {
   "cell_type": "code",
   "execution_count": 54,
   "metadata": {},
   "outputs": [
    {
     "data": {
      "text/html": [
       "<div>\n",
       "<style scoped>\n",
       "    .dataframe tbody tr th:only-of-type {\n",
       "        vertical-align: middle;\n",
       "    }\n",
       "\n",
       "    .dataframe tbody tr th {\n",
       "        vertical-align: top;\n",
       "    }\n",
       "\n",
       "    .dataframe thead th {\n",
       "        text-align: right;\n",
       "    }\n",
       "</style>\n",
       "<table border=\"1\" class=\"dataframe\">\n",
       "  <thead>\n",
       "    <tr style=\"text-align: right;\">\n",
       "      <th></th>\n",
       "      <th>ANCSCP</th>\n",
       "      <th>QTEPRD</th>\n",
       "      <th>prixHT</th>\n",
       "      <th>lag1_previous_order</th>\n",
       "      <th>lag3_previous_order</th>\n",
       "      <th>lag6_previous_order</th>\n",
       "      <th>lag9_previous_order</th>\n",
       "      <th>LIBPRD_APG AGILIX PREMIUM GAS.</th>\n",
       "      <th>LIBPRD_APS AGILIX PREMIUM ESS.</th>\n",
       "      <th>LIBPRD_GASOIL</th>\n",
       "      <th>...</th>\n",
       "      <th>LIBLOC_ZARZOUNA</th>\n",
       "      <th>Year</th>\n",
       "      <th>Month</th>\n",
       "      <th>Day</th>\n",
       "      <th>Weekday</th>\n",
       "      <th>Quarter</th>\n",
       "      <th>month_sin</th>\n",
       "      <th>month_cos</th>\n",
       "      <th>day_sin</th>\n",
       "      <th>day_cos</th>\n",
       "    </tr>\n",
       "  </thead>\n",
       "  <tbody>\n",
       "    <tr>\n",
       "      <th>135399</th>\n",
       "      <td>5030</td>\n",
       "      <td>4.0</td>\n",
       "      <td>1699.244</td>\n",
       "      <td>0.0</td>\n",
       "      <td>0.0</td>\n",
       "      <td>0.0</td>\n",
       "      <td>0.0</td>\n",
       "      <td>0</td>\n",
       "      <td>1</td>\n",
       "      <td>0</td>\n",
       "      <td>...</td>\n",
       "      <td>0</td>\n",
       "      <td>2018</td>\n",
       "      <td>7</td>\n",
       "      <td>1</td>\n",
       "      <td>6</td>\n",
       "      <td>3</td>\n",
       "      <td>-0.500000</td>\n",
       "      <td>-8.660254e-01</td>\n",
       "      <td>0.201299</td>\n",
       "      <td>0.979530</td>\n",
       "    </tr>\n",
       "    <tr>\n",
       "      <th>135976</th>\n",
       "      <td>5030</td>\n",
       "      <td>3.0</td>\n",
       "      <td>1699.244</td>\n",
       "      <td>4.0</td>\n",
       "      <td>0.0</td>\n",
       "      <td>0.0</td>\n",
       "      <td>0.0</td>\n",
       "      <td>0</td>\n",
       "      <td>1</td>\n",
       "      <td>0</td>\n",
       "      <td>...</td>\n",
       "      <td>0</td>\n",
       "      <td>2018</td>\n",
       "      <td>7</td>\n",
       "      <td>16</td>\n",
       "      <td>0</td>\n",
       "      <td>3</td>\n",
       "      <td>-0.500000</td>\n",
       "      <td>-8.660254e-01</td>\n",
       "      <td>-0.101168</td>\n",
       "      <td>-0.994869</td>\n",
       "    </tr>\n",
       "    <tr>\n",
       "      <th>136048</th>\n",
       "      <td>5030</td>\n",
       "      <td>4.0</td>\n",
       "      <td>1699.244</td>\n",
       "      <td>3.0</td>\n",
       "      <td>4.0</td>\n",
       "      <td>0.0</td>\n",
       "      <td>0.0</td>\n",
       "      <td>0</td>\n",
       "      <td>1</td>\n",
       "      <td>0</td>\n",
       "      <td>...</td>\n",
       "      <td>0</td>\n",
       "      <td>2018</td>\n",
       "      <td>7</td>\n",
       "      <td>30</td>\n",
       "      <td>0</td>\n",
       "      <td>3</td>\n",
       "      <td>-0.500000</td>\n",
       "      <td>-8.660254e-01</td>\n",
       "      <td>-0.201299</td>\n",
       "      <td>0.979530</td>\n",
       "    </tr>\n",
       "    <tr>\n",
       "      <th>136561</th>\n",
       "      <td>5030</td>\n",
       "      <td>4.0</td>\n",
       "      <td>1699.244</td>\n",
       "      <td>4.0</td>\n",
       "      <td>3.0</td>\n",
       "      <td>4.0</td>\n",
       "      <td>0.0</td>\n",
       "      <td>0</td>\n",
       "      <td>1</td>\n",
       "      <td>0</td>\n",
       "      <td>...</td>\n",
       "      <td>0</td>\n",
       "      <td>2018</td>\n",
       "      <td>8</td>\n",
       "      <td>28</td>\n",
       "      <td>1</td>\n",
       "      <td>3</td>\n",
       "      <td>-0.866025</td>\n",
       "      <td>-5.000000e-01</td>\n",
       "      <td>-0.571268</td>\n",
       "      <td>0.820763</td>\n",
       "    </tr>\n",
       "    <tr>\n",
       "      <th>137744</th>\n",
       "      <td>5030</td>\n",
       "      <td>3.0</td>\n",
       "      <td>1749.664</td>\n",
       "      <td>4.0</td>\n",
       "      <td>4.0</td>\n",
       "      <td>3.0</td>\n",
       "      <td>4.0</td>\n",
       "      <td>0</td>\n",
       "      <td>1</td>\n",
       "      <td>0</td>\n",
       "      <td>...</td>\n",
       "      <td>0</td>\n",
       "      <td>2018</td>\n",
       "      <td>9</td>\n",
       "      <td>8</td>\n",
       "      <td>5</td>\n",
       "      <td>3</td>\n",
       "      <td>-1.000000</td>\n",
       "      <td>-1.836970e-16</td>\n",
       "      <td>0.998717</td>\n",
       "      <td>-0.050649</td>\n",
       "    </tr>\n",
       "  </tbody>\n",
       "</table>\n",
       "<p>5 rows × 230 columns</p>\n",
       "</div>"
      ],
      "text/plain": [
       "        ANCSCP  QTEPRD    prixHT  lag1_previous_order  lag3_previous_order  \\\n",
       "135399    5030     4.0  1699.244                  0.0                  0.0   \n",
       "135976    5030     3.0  1699.244                  4.0                  0.0   \n",
       "136048    5030     4.0  1699.244                  3.0                  4.0   \n",
       "136561    5030     4.0  1699.244                  4.0                  3.0   \n",
       "137744    5030     3.0  1749.664                  4.0                  4.0   \n",
       "\n",
       "        lag6_previous_order  lag9_previous_order  \\\n",
       "135399                  0.0                  0.0   \n",
       "135976                  0.0                  0.0   \n",
       "136048                  0.0                  0.0   \n",
       "136561                  4.0                  0.0   \n",
       "137744                  3.0                  4.0   \n",
       "\n",
       "        LIBPRD_APG AGILIX PREMIUM GAS.  LIBPRD_APS AGILIX PREMIUM ESS.  \\\n",
       "135399                               0                               1   \n",
       "135976                               0                               1   \n",
       "136048                               0                               1   \n",
       "136561                               0                               1   \n",
       "137744                               0                               1   \n",
       "\n",
       "        LIBPRD_GASOIL  ...  LIBLOC_ZARZOUNA  Year  Month  Day  Weekday  \\\n",
       "135399              0  ...                0  2018      7    1        6   \n",
       "135976              0  ...                0  2018      7   16        0   \n",
       "136048              0  ...                0  2018      7   30        0   \n",
       "136561              0  ...                0  2018      8   28        1   \n",
       "137744              0  ...                0  2018      9    8        5   \n",
       "\n",
       "        Quarter  month_sin     month_cos   day_sin   day_cos  \n",
       "135399        3  -0.500000 -8.660254e-01  0.201299  0.979530  \n",
       "135976        3  -0.500000 -8.660254e-01 -0.101168 -0.994869  \n",
       "136048        3  -0.500000 -8.660254e-01 -0.201299  0.979530  \n",
       "136561        3  -0.866025 -5.000000e-01 -0.571268  0.820763  \n",
       "137744        3  -1.000000 -1.836970e-16  0.998717 -0.050649  \n",
       "\n",
       "[5 rows x 230 columns]"
      ]
     },
     "execution_count": 54,
     "metadata": {},
     "output_type": "execute_result"
    }
   ],
   "source": [
    "df_transformed.head()"
   ]
  },
  {
   "cell_type": "code",
   "execution_count": 55,
   "metadata": {},
   "outputs": [
    {
     "data": {
      "text/html": [
       "<div>\n",
       "<style scoped>\n",
       "    .dataframe tbody tr th:only-of-type {\n",
       "        vertical-align: middle;\n",
       "    }\n",
       "\n",
       "    .dataframe tbody tr th {\n",
       "        vertical-align: top;\n",
       "    }\n",
       "\n",
       "    .dataframe thead th {\n",
       "        text-align: right;\n",
       "    }\n",
       "</style>\n",
       "<table border=\"1\" class=\"dataframe\">\n",
       "  <thead>\n",
       "    <tr style=\"text-align: right;\">\n",
       "      <th></th>\n",
       "      <th>ANCSCP</th>\n",
       "      <th>QTEPRD</th>\n",
       "      <th>prixHT</th>\n",
       "      <th>lag1_previous_order</th>\n",
       "      <th>lag3_previous_order</th>\n",
       "      <th>lag6_previous_order</th>\n",
       "      <th>lag9_previous_order</th>\n",
       "      <th>LIBPRD_APG AGILIX PREMIUM GAS.</th>\n",
       "      <th>LIBPRD_APS AGILIX PREMIUM ESS.</th>\n",
       "      <th>LIBPRD_GASOIL</th>\n",
       "      <th>...</th>\n",
       "      <th>LIBLOC_ZARZOUNA</th>\n",
       "      <th>Year</th>\n",
       "      <th>Month</th>\n",
       "      <th>Day</th>\n",
       "      <th>Weekday</th>\n",
       "      <th>Quarter</th>\n",
       "      <th>month_sin</th>\n",
       "      <th>month_cos</th>\n",
       "      <th>day_sin</th>\n",
       "      <th>day_cos</th>\n",
       "    </tr>\n",
       "  </thead>\n",
       "  <tbody>\n",
       "    <tr>\n",
       "      <th>0</th>\n",
       "      <td>5030.0</td>\n",
       "      <td>4.0</td>\n",
       "      <td>1699.244</td>\n",
       "      <td>0.0</td>\n",
       "      <td>0.0</td>\n",
       "      <td>0.0</td>\n",
       "      <td>0.0</td>\n",
       "      <td>0.0</td>\n",
       "      <td>1.0</td>\n",
       "      <td>0.0</td>\n",
       "      <td>...</td>\n",
       "      <td>0.0</td>\n",
       "      <td>2018.0</td>\n",
       "      <td>7.0</td>\n",
       "      <td>1.0</td>\n",
       "      <td>6.0</td>\n",
       "      <td>3.0</td>\n",
       "      <td>-5.000000e-01</td>\n",
       "      <td>-8.660254e-01</td>\n",
       "      <td>0.201299</td>\n",
       "      <td>0.979530</td>\n",
       "    </tr>\n",
       "    <tr>\n",
       "      <th>1</th>\n",
       "      <td>5030.0</td>\n",
       "      <td>3.0</td>\n",
       "      <td>1699.244</td>\n",
       "      <td>4.0</td>\n",
       "      <td>0.0</td>\n",
       "      <td>0.0</td>\n",
       "      <td>0.0</td>\n",
       "      <td>0.0</td>\n",
       "      <td>1.0</td>\n",
       "      <td>0.0</td>\n",
       "      <td>...</td>\n",
       "      <td>0.0</td>\n",
       "      <td>2018.0</td>\n",
       "      <td>7.0</td>\n",
       "      <td>16.0</td>\n",
       "      <td>0.0</td>\n",
       "      <td>3.0</td>\n",
       "      <td>-5.000000e-01</td>\n",
       "      <td>-8.660254e-01</td>\n",
       "      <td>-0.101168</td>\n",
       "      <td>-0.994869</td>\n",
       "    </tr>\n",
       "    <tr>\n",
       "      <th>2</th>\n",
       "      <td>5030.0</td>\n",
       "      <td>4.0</td>\n",
       "      <td>1699.244</td>\n",
       "      <td>3.0</td>\n",
       "      <td>4.0</td>\n",
       "      <td>0.0</td>\n",
       "      <td>0.0</td>\n",
       "      <td>0.0</td>\n",
       "      <td>1.0</td>\n",
       "      <td>0.0</td>\n",
       "      <td>...</td>\n",
       "      <td>0.0</td>\n",
       "      <td>2018.0</td>\n",
       "      <td>7.0</td>\n",
       "      <td>30.0</td>\n",
       "      <td>0.0</td>\n",
       "      <td>3.0</td>\n",
       "      <td>-5.000000e-01</td>\n",
       "      <td>-8.660254e-01</td>\n",
       "      <td>-0.201299</td>\n",
       "      <td>0.979530</td>\n",
       "    </tr>\n",
       "    <tr>\n",
       "      <th>3</th>\n",
       "      <td>5030.0</td>\n",
       "      <td>4.0</td>\n",
       "      <td>1699.244</td>\n",
       "      <td>4.0</td>\n",
       "      <td>3.0</td>\n",
       "      <td>4.0</td>\n",
       "      <td>0.0</td>\n",
       "      <td>0.0</td>\n",
       "      <td>1.0</td>\n",
       "      <td>0.0</td>\n",
       "      <td>...</td>\n",
       "      <td>0.0</td>\n",
       "      <td>2018.0</td>\n",
       "      <td>8.0</td>\n",
       "      <td>28.0</td>\n",
       "      <td>1.0</td>\n",
       "      <td>3.0</td>\n",
       "      <td>-8.660254e-01</td>\n",
       "      <td>-5.000000e-01</td>\n",
       "      <td>-0.571268</td>\n",
       "      <td>0.820763</td>\n",
       "    </tr>\n",
       "    <tr>\n",
       "      <th>4</th>\n",
       "      <td>5030.0</td>\n",
       "      <td>3.0</td>\n",
       "      <td>1749.664</td>\n",
       "      <td>4.0</td>\n",
       "      <td>4.0</td>\n",
       "      <td>3.0</td>\n",
       "      <td>4.0</td>\n",
       "      <td>0.0</td>\n",
       "      <td>1.0</td>\n",
       "      <td>0.0</td>\n",
       "      <td>...</td>\n",
       "      <td>0.0</td>\n",
       "      <td>2018.0</td>\n",
       "      <td>9.0</td>\n",
       "      <td>8.0</td>\n",
       "      <td>5.0</td>\n",
       "      <td>3.0</td>\n",
       "      <td>-1.000000e+00</td>\n",
       "      <td>-2.220446e-16</td>\n",
       "      <td>0.998717</td>\n",
       "      <td>-0.050649</td>\n",
       "    </tr>\n",
       "    <tr>\n",
       "      <th>...</th>\n",
       "      <td>...</td>\n",
       "      <td>...</td>\n",
       "      <td>...</td>\n",
       "      <td>...</td>\n",
       "      <td>...</td>\n",
       "      <td>...</td>\n",
       "      <td>...</td>\n",
       "      <td>...</td>\n",
       "      <td>...</td>\n",
       "      <td>...</td>\n",
       "      <td>...</td>\n",
       "      <td>...</td>\n",
       "      <td>...</td>\n",
       "      <td>...</td>\n",
       "      <td>...</td>\n",
       "      <td>...</td>\n",
       "      <td>...</td>\n",
       "      <td>...</td>\n",
       "      <td>...</td>\n",
       "      <td>...</td>\n",
       "      <td>...</td>\n",
       "    </tr>\n",
       "    <tr>\n",
       "      <th>232106</th>\n",
       "      <td>5597.0</td>\n",
       "      <td>7.0</td>\n",
       "      <td>1668.739</td>\n",
       "      <td>5.0</td>\n",
       "      <td>4.0</td>\n",
       "      <td>4.0</td>\n",
       "      <td>8.0</td>\n",
       "      <td>0.0</td>\n",
       "      <td>0.0</td>\n",
       "      <td>0.0</td>\n",
       "      <td>...</td>\n",
       "      <td>0.0</td>\n",
       "      <td>2019.0</td>\n",
       "      <td>11.0</td>\n",
       "      <td>29.0</td>\n",
       "      <td>4.0</td>\n",
       "      <td>4.0</td>\n",
       "      <td>-5.000000e-01</td>\n",
       "      <td>8.660254e-01</td>\n",
       "      <td>-0.394356</td>\n",
       "      <td>0.918958</td>\n",
       "    </tr>\n",
       "    <tr>\n",
       "      <th>232107</th>\n",
       "      <td>5597.0</td>\n",
       "      <td>2.0</td>\n",
       "      <td>1668.739</td>\n",
       "      <td>7.0</td>\n",
       "      <td>5.0</td>\n",
       "      <td>4.0</td>\n",
       "      <td>4.0</td>\n",
       "      <td>0.0</td>\n",
       "      <td>0.0</td>\n",
       "      <td>0.0</td>\n",
       "      <td>...</td>\n",
       "      <td>0.0</td>\n",
       "      <td>2019.0</td>\n",
       "      <td>12.0</td>\n",
       "      <td>11.0</td>\n",
       "      <td>2.0</td>\n",
       "      <td>4.0</td>\n",
       "      <td>-2.220446e-16</td>\n",
       "      <td>1.000000e+00</td>\n",
       "      <td>0.790776</td>\n",
       "      <td>-0.612106</td>\n",
       "    </tr>\n",
       "    <tr>\n",
       "      <th>232108</th>\n",
       "      <td>5597.0</td>\n",
       "      <td>4.0</td>\n",
       "      <td>1668.739</td>\n",
       "      <td>2.0</td>\n",
       "      <td>7.0</td>\n",
       "      <td>5.0</td>\n",
       "      <td>4.0</td>\n",
       "      <td>0.0</td>\n",
       "      <td>0.0</td>\n",
       "      <td>0.0</td>\n",
       "      <td>...</td>\n",
       "      <td>0.0</td>\n",
       "      <td>2019.0</td>\n",
       "      <td>12.0</td>\n",
       "      <td>16.0</td>\n",
       "      <td>0.0</td>\n",
       "      <td>4.0</td>\n",
       "      <td>-2.220446e-16</td>\n",
       "      <td>1.000000e+00</td>\n",
       "      <td>-0.101168</td>\n",
       "      <td>-0.994869</td>\n",
       "    </tr>\n",
       "    <tr>\n",
       "      <th>232109</th>\n",
       "      <td>5597.0</td>\n",
       "      <td>3.0</td>\n",
       "      <td>1668.739</td>\n",
       "      <td>4.0</td>\n",
       "      <td>2.0</td>\n",
       "      <td>7.0</td>\n",
       "      <td>5.0</td>\n",
       "      <td>0.0</td>\n",
       "      <td>0.0</td>\n",
       "      <td>0.0</td>\n",
       "      <td>...</td>\n",
       "      <td>0.0</td>\n",
       "      <td>2019.0</td>\n",
       "      <td>12.0</td>\n",
       "      <td>20.0</td>\n",
       "      <td>4.0</td>\n",
       "      <td>4.0</td>\n",
       "      <td>-2.220446e-16</td>\n",
       "      <td>1.000000e+00</td>\n",
       "      <td>-0.790776</td>\n",
       "      <td>-0.612106</td>\n",
       "    </tr>\n",
       "    <tr>\n",
       "      <th>232110</th>\n",
       "      <td>5597.0</td>\n",
       "      <td>4.0</td>\n",
       "      <td>1668.739</td>\n",
       "      <td>3.0</td>\n",
       "      <td>4.0</td>\n",
       "      <td>2.0</td>\n",
       "      <td>7.0</td>\n",
       "      <td>0.0</td>\n",
       "      <td>0.0</td>\n",
       "      <td>0.0</td>\n",
       "      <td>...</td>\n",
       "      <td>0.0</td>\n",
       "      <td>2019.0</td>\n",
       "      <td>12.0</td>\n",
       "      <td>26.0</td>\n",
       "      <td>3.0</td>\n",
       "      <td>4.0</td>\n",
       "      <td>-2.220446e-16</td>\n",
       "      <td>1.000000e+00</td>\n",
       "      <td>-0.848644</td>\n",
       "      <td>0.528964</td>\n",
       "    </tr>\n",
       "  </tbody>\n",
       "</table>\n",
       "<p>232111 rows × 230 columns</p>\n",
       "</div>"
      ],
      "text/plain": [
       "        ANCSCP  QTEPRD    prixHT  lag1_previous_order  lag3_previous_order  \\\n",
       "0       5030.0     4.0  1699.244                  0.0                  0.0   \n",
       "1       5030.0     3.0  1699.244                  4.0                  0.0   \n",
       "2       5030.0     4.0  1699.244                  3.0                  4.0   \n",
       "3       5030.0     4.0  1699.244                  4.0                  3.0   \n",
       "4       5030.0     3.0  1749.664                  4.0                  4.0   \n",
       "...        ...     ...       ...                  ...                  ...   \n",
       "232106  5597.0     7.0  1668.739                  5.0                  4.0   \n",
       "232107  5597.0     2.0  1668.739                  7.0                  5.0   \n",
       "232108  5597.0     4.0  1668.739                  2.0                  7.0   \n",
       "232109  5597.0     3.0  1668.739                  4.0                  2.0   \n",
       "232110  5597.0     4.0  1668.739                  3.0                  4.0   \n",
       "\n",
       "        lag6_previous_order  lag9_previous_order  \\\n",
       "0                       0.0                  0.0   \n",
       "1                       0.0                  0.0   \n",
       "2                       0.0                  0.0   \n",
       "3                       4.0                  0.0   \n",
       "4                       3.0                  4.0   \n",
       "...                     ...                  ...   \n",
       "232106                  4.0                  8.0   \n",
       "232107                  4.0                  4.0   \n",
       "232108                  5.0                  4.0   \n",
       "232109                  7.0                  5.0   \n",
       "232110                  2.0                  7.0   \n",
       "\n",
       "        LIBPRD_APG AGILIX PREMIUM GAS.  LIBPRD_APS AGILIX PREMIUM ESS.  \\\n",
       "0                                  0.0                             1.0   \n",
       "1                                  0.0                             1.0   \n",
       "2                                  0.0                             1.0   \n",
       "3                                  0.0                             1.0   \n",
       "4                                  0.0                             1.0   \n",
       "...                                ...                             ...   \n",
       "232106                             0.0                             0.0   \n",
       "232107                             0.0                             0.0   \n",
       "232108                             0.0                             0.0   \n",
       "232109                             0.0                             0.0   \n",
       "232110                             0.0                             0.0   \n",
       "\n",
       "        LIBPRD_GASOIL  ...  LIBLOC_ZARZOUNA    Year  Month   Day  Weekday  \\\n",
       "0                 0.0  ...              0.0  2018.0    7.0   1.0      6.0   \n",
       "1                 0.0  ...              0.0  2018.0    7.0  16.0      0.0   \n",
       "2                 0.0  ...              0.0  2018.0    7.0  30.0      0.0   \n",
       "3                 0.0  ...              0.0  2018.0    8.0  28.0      1.0   \n",
       "4                 0.0  ...              0.0  2018.0    9.0   8.0      5.0   \n",
       "...               ...  ...              ...     ...    ...   ...      ...   \n",
       "232106            0.0  ...              0.0  2019.0   11.0  29.0      4.0   \n",
       "232107            0.0  ...              0.0  2019.0   12.0  11.0      2.0   \n",
       "232108            0.0  ...              0.0  2019.0   12.0  16.0      0.0   \n",
       "232109            0.0  ...              0.0  2019.0   12.0  20.0      4.0   \n",
       "232110            0.0  ...              0.0  2019.0   12.0  26.0      3.0   \n",
       "\n",
       "        Quarter     month_sin     month_cos   day_sin   day_cos  \n",
       "0           3.0 -5.000000e-01 -8.660254e-01  0.201299  0.979530  \n",
       "1           3.0 -5.000000e-01 -8.660254e-01 -0.101168 -0.994869  \n",
       "2           3.0 -5.000000e-01 -8.660254e-01 -0.201299  0.979530  \n",
       "3           3.0 -8.660254e-01 -5.000000e-01 -0.571268  0.820763  \n",
       "4           3.0 -1.000000e+00 -2.220446e-16  0.998717 -0.050649  \n",
       "...         ...           ...           ...       ...       ...  \n",
       "232106      4.0 -5.000000e-01  8.660254e-01 -0.394356  0.918958  \n",
       "232107      4.0 -2.220446e-16  1.000000e+00  0.790776 -0.612106  \n",
       "232108      4.0 -2.220446e-16  1.000000e+00 -0.101168 -0.994869  \n",
       "232109      4.0 -2.220446e-16  1.000000e+00 -0.790776 -0.612106  \n",
       "232110      4.0 -2.220446e-16  1.000000e+00 -0.848644  0.528964  \n",
       "\n",
       "[232111 rows x 230 columns]"
      ]
     },
     "execution_count": 55,
     "metadata": {},
     "output_type": "execute_result"
    }
   ],
   "source": [
    "df_inverted=scaler.inverse_transform(df_scaled)\n",
    "df_inverted=pd.DataFrame(df_inverted,columns=df_scaled.columns)\n",
    "\n",
    "df_inverted"
   ]
  },
  {
   "cell_type": "markdown",
   "metadata": {},
   "source": [
    "### 2.8 PCA "
   ]
  },
  {
   "cell_type": "code",
   "execution_count": 56,
   "metadata": {},
   "outputs": [],
   "source": [
    "X=df_scaled.drop(columns='QTEPRD')\n",
    "Y=df_scaled['QTEPRD']\n"
   ]
  },
  {
   "cell_type": "code",
   "execution_count": 57,
   "metadata": {},
   "outputs": [
    {
     "name": "stdout",
     "output_type": "stream",
     "text": [
      "Original number of features: 229\n",
      "Reduced number of features: 22\n"
     ]
    }
   ],
   "source": [
    "from  sklearn.decomposition import PCA\n",
    "# Apply PCA\n",
    "pca = PCA(n_components=0.70)  \n",
    "principal_components = pca.fit_transform(X)\n",
    "\n",
    "# Resulting principal components\n",
    "print(f\"Original number of features: {X.shape[1]}\")\n",
    "print(f\"Reduced number of features: {principal_components.shape[1]}\")"
   ]
  },
  {
   "cell_type": "code",
   "execution_count": null,
   "metadata": {},
   "outputs": [],
   "source": []
  },
  {
   "cell_type": "code",
   "execution_count": 58,
   "metadata": {},
   "outputs": [
    {
     "data": {
      "text/html": [
       "<div>\n",
       "<style scoped>\n",
       "    .dataframe tbody tr th:only-of-type {\n",
       "        vertical-align: middle;\n",
       "    }\n",
       "\n",
       "    .dataframe tbody tr th {\n",
       "        vertical-align: top;\n",
       "    }\n",
       "\n",
       "    .dataframe thead th {\n",
       "        text-align: right;\n",
       "    }\n",
       "</style>\n",
       "<table border=\"1\" class=\"dataframe\">\n",
       "  <thead>\n",
       "    <tr style=\"text-align: right;\">\n",
       "      <th></th>\n",
       "      <th>PC1</th>\n",
       "      <th>PC2</th>\n",
       "      <th>PC3</th>\n",
       "      <th>PC4</th>\n",
       "      <th>PC5</th>\n",
       "      <th>PC6</th>\n",
       "      <th>PC7</th>\n",
       "      <th>PC8</th>\n",
       "      <th>PC9</th>\n",
       "      <th>PC10</th>\n",
       "      <th>...</th>\n",
       "      <th>PC13</th>\n",
       "      <th>PC14</th>\n",
       "      <th>PC15</th>\n",
       "      <th>PC16</th>\n",
       "      <th>PC17</th>\n",
       "      <th>PC18</th>\n",
       "      <th>PC19</th>\n",
       "      <th>PC20</th>\n",
       "      <th>PC21</th>\n",
       "      <th>PC22</th>\n",
       "    </tr>\n",
       "  </thead>\n",
       "  <tbody>\n",
       "    <tr>\n",
       "      <th>ANCSCP</th>\n",
       "      <td>0.003701</td>\n",
       "      <td>-0.004633</td>\n",
       "      <td>-0.021587</td>\n",
       "      <td>-0.000634</td>\n",
       "      <td>0.000280</td>\n",
       "      <td>-0.024190</td>\n",
       "      <td>0.003330</td>\n",
       "      <td>-0.068470</td>\n",
       "      <td>-0.003147</td>\n",
       "      <td>-0.105676</td>\n",
       "      <td>...</td>\n",
       "      <td>-0.045226</td>\n",
       "      <td>0.285770</td>\n",
       "      <td>-0.323507</td>\n",
       "      <td>0.216490</td>\n",
       "      <td>-0.412596</td>\n",
       "      <td>0.003670</td>\n",
       "      <td>-0.234464</td>\n",
       "      <td>-0.013367</td>\n",
       "      <td>-0.025863</td>\n",
       "      <td>0.073508</td>\n",
       "    </tr>\n",
       "    <tr>\n",
       "      <th>prixHT</th>\n",
       "      <td>-0.290720</td>\n",
       "      <td>-0.056029</td>\n",
       "      <td>-0.067734</td>\n",
       "      <td>0.160544</td>\n",
       "      <td>0.145986</td>\n",
       "      <td>0.027222</td>\n",
       "      <td>0.002825</td>\n",
       "      <td>-0.007471</td>\n",
       "      <td>-0.005101</td>\n",
       "      <td>0.012197</td>\n",
       "      <td>...</td>\n",
       "      <td>0.087678</td>\n",
       "      <td>-0.029387</td>\n",
       "      <td>0.040679</td>\n",
       "      <td>-0.030502</td>\n",
       "      <td>-0.027929</td>\n",
       "      <td>-0.003565</td>\n",
       "      <td>0.005997</td>\n",
       "      <td>-0.006993</td>\n",
       "      <td>0.007427</td>\n",
       "      <td>0.008970</td>\n",
       "    </tr>\n",
       "    <tr>\n",
       "      <th>lag1_previous_order</th>\n",
       "      <td>0.098067</td>\n",
       "      <td>-0.022236</td>\n",
       "      <td>-0.152980</td>\n",
       "      <td>-0.074718</td>\n",
       "      <td>-0.069300</td>\n",
       "      <td>0.077136</td>\n",
       "      <td>-0.002482</td>\n",
       "      <td>-0.028120</td>\n",
       "      <td>-0.004826</td>\n",
       "      <td>0.036033</td>\n",
       "      <td>...</td>\n",
       "      <td>0.247175</td>\n",
       "      <td>0.029748</td>\n",
       "      <td>0.019648</td>\n",
       "      <td>0.004374</td>\n",
       "      <td>0.116873</td>\n",
       "      <td>0.013014</td>\n",
       "      <td>0.204712</td>\n",
       "      <td>-0.092959</td>\n",
       "      <td>0.042664</td>\n",
       "      <td>0.136322</td>\n",
       "    </tr>\n",
       "    <tr>\n",
       "      <th>lag3_previous_order</th>\n",
       "      <td>0.097721</td>\n",
       "      <td>-0.023495</td>\n",
       "      <td>-0.153424</td>\n",
       "      <td>-0.073183</td>\n",
       "      <td>-0.069520</td>\n",
       "      <td>0.077566</td>\n",
       "      <td>-0.003897</td>\n",
       "      <td>-0.028212</td>\n",
       "      <td>-0.007222</td>\n",
       "      <td>0.036343</td>\n",
       "      <td>...</td>\n",
       "      <td>0.249089</td>\n",
       "      <td>0.028230</td>\n",
       "      <td>0.021446</td>\n",
       "      <td>0.002917</td>\n",
       "      <td>0.115566</td>\n",
       "      <td>0.013065</td>\n",
       "      <td>0.204096</td>\n",
       "      <td>-0.093615</td>\n",
       "      <td>0.042832</td>\n",
       "      <td>0.137073</td>\n",
       "    </tr>\n",
       "    <tr>\n",
       "      <th>lag6_previous_order</th>\n",
       "      <td>0.097422</td>\n",
       "      <td>-0.024877</td>\n",
       "      <td>-0.153950</td>\n",
       "      <td>-0.071906</td>\n",
       "      <td>-0.069650</td>\n",
       "      <td>0.078052</td>\n",
       "      <td>-0.005789</td>\n",
       "      <td>-0.028435</td>\n",
       "      <td>-0.008470</td>\n",
       "      <td>0.036726</td>\n",
       "      <td>...</td>\n",
       "      <td>0.251461</td>\n",
       "      <td>0.026720</td>\n",
       "      <td>0.023224</td>\n",
       "      <td>0.001592</td>\n",
       "      <td>0.114741</td>\n",
       "      <td>0.013291</td>\n",
       "      <td>0.204464</td>\n",
       "      <td>-0.094593</td>\n",
       "      <td>0.043239</td>\n",
       "      <td>0.138340</td>\n",
       "    </tr>\n",
       "  </tbody>\n",
       "</table>\n",
       "<p>5 rows × 22 columns</p>\n",
       "</div>"
      ],
      "text/plain": [
       "                          PC1       PC2       PC3       PC4       PC5  \\\n",
       "ANCSCP               0.003701 -0.004633 -0.021587 -0.000634  0.000280   \n",
       "prixHT              -0.290720 -0.056029 -0.067734  0.160544  0.145986   \n",
       "lag1_previous_order  0.098067 -0.022236 -0.152980 -0.074718 -0.069300   \n",
       "lag3_previous_order  0.097721 -0.023495 -0.153424 -0.073183 -0.069520   \n",
       "lag6_previous_order  0.097422 -0.024877 -0.153950 -0.071906 -0.069650   \n",
       "\n",
       "                          PC6       PC7       PC8       PC9      PC10  ...  \\\n",
       "ANCSCP              -0.024190  0.003330 -0.068470 -0.003147 -0.105676  ...   \n",
       "prixHT               0.027222  0.002825 -0.007471 -0.005101  0.012197  ...   \n",
       "lag1_previous_order  0.077136 -0.002482 -0.028120 -0.004826  0.036033  ...   \n",
       "lag3_previous_order  0.077566 -0.003897 -0.028212 -0.007222  0.036343  ...   \n",
       "lag6_previous_order  0.078052 -0.005789 -0.028435 -0.008470  0.036726  ...   \n",
       "\n",
       "                         PC13      PC14      PC15      PC16      PC17  \\\n",
       "ANCSCP              -0.045226  0.285770 -0.323507  0.216490 -0.412596   \n",
       "prixHT               0.087678 -0.029387  0.040679 -0.030502 -0.027929   \n",
       "lag1_previous_order  0.247175  0.029748  0.019648  0.004374  0.116873   \n",
       "lag3_previous_order  0.249089  0.028230  0.021446  0.002917  0.115566   \n",
       "lag6_previous_order  0.251461  0.026720  0.023224  0.001592  0.114741   \n",
       "\n",
       "                         PC18      PC19      PC20      PC21      PC22  \n",
       "ANCSCP               0.003670 -0.234464 -0.013367 -0.025863  0.073508  \n",
       "prixHT              -0.003565  0.005997 -0.006993  0.007427  0.008970  \n",
       "lag1_previous_order  0.013014  0.204712 -0.092959  0.042664  0.136322  \n",
       "lag3_previous_order  0.013065  0.204096 -0.093615  0.042832  0.137073  \n",
       "lag6_previous_order  0.013291  0.204464 -0.094593  0.043239  0.138340  \n",
       "\n",
       "[5 rows x 22 columns]"
      ]
     },
     "execution_count": 58,
     "metadata": {},
     "output_type": "execute_result"
    }
   ],
   "source": [
    "principal_df = pd.DataFrame(principal_components, columns=[f'PC{i+1}' for i in range(principal_components.shape[1])])\n",
    "loadings = pd.DataFrame(pca.components_.T, columns=[f'PC{i+1}' for i in range(principal_components.shape[1])], index=X.columns)\n",
    "\n",
    "loadings.head()"
   ]
  },
  {
   "cell_type": "code",
   "execution_count": 59,
   "metadata": {},
   "outputs": [
    {
     "name": "stdout",
     "output_type": "stream",
     "text": [
      "ANOVA pour LIBGVR\n",
      "                 sum_sq        df           F  PR(>F)\n",
      "C(LIBGVR)  6.497401e+05      23.0  860.080016     0.0\n",
      "Residual   7.622962e+06  232087.0         NaN     NaN\n",
      "\n",
      "\n",
      "ANOVA pour LIBLOC\n",
      "                 sum_sq        df           F  PR(>F)\n",
      "C(LIBLOC)  1.401467e+06     183.0  258.492771     0.0\n",
      "Residual   6.871235e+06  231927.0         NaN     NaN\n",
      "\n",
      "\n",
      "ANOVA pour LIBPRD\n",
      "                 sum_sq        df             F  PR(>F)\n",
      "C(LIBPRD)  1.606361e+06       5.0  11185.875315     0.0\n",
      "Residual   6.666342e+06  232105.0           NaN     NaN\n",
      "\n",
      "\n",
      "ANOVA pour DATLIV\n",
      "                 sum_sq        df         F         PR(>F)\n",
      "C(DATLIV)  8.849197e+04    1089.0  2.293774  2.661259e-111\n",
      "Residual   8.184210e+06  231021.0       NaN            NaN\n",
      "\n",
      "\n",
      "ANOVA pour prixHT\n",
      "                 sum_sq        df           F  PR(>F)\n",
      "C(prixHT)  1.812317e+06     152.0  428.096443     0.0\n",
      "Residual   6.460385e+06  231958.0         NaN     NaN\n",
      "\n",
      "\n",
      "ANOVA pour ANCSCP\n",
      "                 sum_sq        df           F  PR(>F)\n",
      "C(ANCSCP)  1.528939e+06     218.0  241.166503     0.0\n",
      "Residual   6.743764e+06  231892.0         NaN     NaN\n",
      "\n",
      "\n"
     ]
    }
   ],
   "source": [
    "import statsmodels.api as sm\n",
    "from statsmodels.formula.api import ols\n",
    "# Convertir les colonnes 'DATLIV' en type datetime\n",
    "df['DATLIV'] = pd.to_datetime(df['DATLIV'])\n",
    "\n",
    "# Appliquer l'ANOVA pour chaque variable catégorielle\n",
    "categorical_vars = ['LIBGVR', 'LIBLOC', 'LIBPRD','DATLIV','prixHT','ANCSCP']\n",
    "for var in categorical_vars:\n",
    "    model = ols(f'QTEPRD ~ C({var})', data=df).fit()\n",
    "    anova_table = sm.stats.anova_lm(model, typ=2)\n",
    "    print(f'ANOVA pour {var}')\n",
    "    print(anova_table)\n",
    "    print('\\n')"
   ]
  },
  {
   "cell_type": "markdown",
   "metadata": {},
   "source": [
    "### <i> Interpretation </i><br>\n",
    "All the features have a p value <0.05 so we can say that these features are dependant with the target variable \n"
   ]
  },
  {
   "cell_type": "markdown",
   "metadata": {},
   "source": []
  },
  {
   "cell_type": "markdown",
   "metadata": {},
   "source": [
    "# 3- Modeling\n",
    "\n"
   ]
  },
  {
   "cell_type": "markdown",
   "metadata": {},
   "source": [
    "### 3.1 XGboost      "
   ]
  },
  {
   "cell_type": "code",
   "execution_count": 60,
   "metadata": {},
   "outputs": [],
   "source": [
    "from sklearn.model_selection import train_test_split\n",
    "from sklearn.metrics import mean_squared_error\n",
    "from xgboost import XGBRegressor\n",
    "from sklearn.utils import shuffle\n"
   ]
  },
  {
   "cell_type": "markdown",
   "metadata": {},
   "source": [
    "#### 3.1.1 Shuffle Data"
   ]
  },
  {
   "cell_type": "code",
   "execution_count": 61,
   "metadata": {},
   "outputs": [],
   "source": [
    "from sklearn.utils import shuffle\n",
    "\n",
    "# Shuffle both DataFrames with the same random state\n",
    "df_scaled_shuffled, df_inverted_shuffled = shuffle(df_scaled, df_inverted, random_state=42)"
   ]
  },
  {
   "cell_type": "markdown",
   "metadata": {},
   "source": [
    "#### 3.1.2 Split data"
   ]
  },
  {
   "cell_type": "code",
   "execution_count": 62,
   "metadata": {},
   "outputs": [],
   "source": [
    "\n",
    "x = df_scaled_shuffled.drop(columns=['QTEPRD'])\n",
    "y = df_scaled_shuffled['QTEPRD']\n"
   ]
  },
  {
   "cell_type": "code",
   "execution_count": 63,
   "metadata": {},
   "outputs": [],
   "source": [
    "X_inverted = df_inverted_shuffled.drop(columns=['QTEPRD'])\n",
    "Y_inverted= df_inverted_shuffled['QTEPRD']\n"
   ]
  },
  {
   "cell_type": "code",
   "execution_count": 64,
   "metadata": {},
   "outputs": [],
   "source": [
    "x_train, x_test, y_train, y_test = train_test_split(x, y, test_size=0.2, random_state=42)\n"
   ]
  },
  {
   "cell_type": "code",
   "execution_count": 65,
   "metadata": {},
   "outputs": [],
   "source": [
    "X_inverted_train, X_inverted_test, Y_inverted_train, Y_inverted_test = train_test_split(X_inverted, Y_inverted, test_size=0.2, random_state=42)\n"
   ]
  },
  {
   "cell_type": "code",
   "execution_count": 66,
   "metadata": {},
   "outputs": [
    {
     "data": {
      "text/html": [
       "<style>#sk-container-id-1 {color: black;}#sk-container-id-1 pre{padding: 0;}#sk-container-id-1 div.sk-toggleable {background-color: white;}#sk-container-id-1 label.sk-toggleable__label {cursor: pointer;display: block;width: 100%;margin-bottom: 0;padding: 0.3em;box-sizing: border-box;text-align: center;}#sk-container-id-1 label.sk-toggleable__label-arrow:before {content: \"▸\";float: left;margin-right: 0.25em;color: #696969;}#sk-container-id-1 label.sk-toggleable__label-arrow:hover:before {color: black;}#sk-container-id-1 div.sk-estimator:hover label.sk-toggleable__label-arrow:before {color: black;}#sk-container-id-1 div.sk-toggleable__content {max-height: 0;max-width: 0;overflow: hidden;text-align: left;background-color: #f0f8ff;}#sk-container-id-1 div.sk-toggleable__content pre {margin: 0.2em;color: black;border-radius: 0.25em;background-color: #f0f8ff;}#sk-container-id-1 input.sk-toggleable__control:checked~div.sk-toggleable__content {max-height: 200px;max-width: 100%;overflow: auto;}#sk-container-id-1 input.sk-toggleable__control:checked~label.sk-toggleable__label-arrow:before {content: \"▾\";}#sk-container-id-1 div.sk-estimator input.sk-toggleable__control:checked~label.sk-toggleable__label {background-color: #d4ebff;}#sk-container-id-1 div.sk-label input.sk-toggleable__control:checked~label.sk-toggleable__label {background-color: #d4ebff;}#sk-container-id-1 input.sk-hidden--visually {border: 0;clip: rect(1px 1px 1px 1px);clip: rect(1px, 1px, 1px, 1px);height: 1px;margin: -1px;overflow: hidden;padding: 0;position: absolute;width: 1px;}#sk-container-id-1 div.sk-estimator {font-family: monospace;background-color: #f0f8ff;border: 1px dotted black;border-radius: 0.25em;box-sizing: border-box;margin-bottom: 0.5em;}#sk-container-id-1 div.sk-estimator:hover {background-color: #d4ebff;}#sk-container-id-1 div.sk-parallel-item::after {content: \"\";width: 100%;border-bottom: 1px solid gray;flex-grow: 1;}#sk-container-id-1 div.sk-label:hover label.sk-toggleable__label {background-color: #d4ebff;}#sk-container-id-1 div.sk-serial::before {content: \"\";position: absolute;border-left: 1px solid gray;box-sizing: border-box;top: 0;bottom: 0;left: 50%;z-index: 0;}#sk-container-id-1 div.sk-serial {display: flex;flex-direction: column;align-items: center;background-color: white;padding-right: 0.2em;padding-left: 0.2em;position: relative;}#sk-container-id-1 div.sk-item {position: relative;z-index: 1;}#sk-container-id-1 div.sk-parallel {display: flex;align-items: stretch;justify-content: center;background-color: white;position: relative;}#sk-container-id-1 div.sk-item::before, #sk-container-id-1 div.sk-parallel-item::before {content: \"\";position: absolute;border-left: 1px solid gray;box-sizing: border-box;top: 0;bottom: 0;left: 50%;z-index: -1;}#sk-container-id-1 div.sk-parallel-item {display: flex;flex-direction: column;z-index: 1;position: relative;background-color: white;}#sk-container-id-1 div.sk-parallel-item:first-child::after {align-self: flex-end;width: 50%;}#sk-container-id-1 div.sk-parallel-item:last-child::after {align-self: flex-start;width: 50%;}#sk-container-id-1 div.sk-parallel-item:only-child::after {width: 0;}#sk-container-id-1 div.sk-dashed-wrapped {border: 1px dashed gray;margin: 0 0.4em 0.5em 0.4em;box-sizing: border-box;padding-bottom: 0.4em;background-color: white;}#sk-container-id-1 div.sk-label label {font-family: monospace;font-weight: bold;display: inline-block;line-height: 1.2em;}#sk-container-id-1 div.sk-label-container {text-align: center;}#sk-container-id-1 div.sk-container {/* jupyter's `normalize.less` sets `[hidden] { display: none; }` but bootstrap.min.css set `[hidden] { display: none !important; }` so we also need the `!important` here to be able to override the default hidden behavior on the sphinx rendered scikit-learn.org. See: https://github.com/scikit-learn/scikit-learn/issues/21755 */display: inline-block !important;position: relative;}#sk-container-id-1 div.sk-text-repr-fallback {display: none;}</style><div id=\"sk-container-id-1\" class=\"sk-top-container\"><div class=\"sk-text-repr-fallback\"><pre>XGBRegressor(base_score=None, booster=None, callbacks=None,\n",
       "             colsample_bylevel=None, colsample_bynode=None,\n",
       "             colsample_bytree=None, device=None, early_stopping_rounds=None,\n",
       "             enable_categorical=False, eval_metric=None, feature_types=None,\n",
       "             gamma=None, grow_policy=None, importance_type=None,\n",
       "             interaction_constraints=None, learning_rate=0.01, max_bin=None,\n",
       "             max_cat_threshold=None, max_cat_to_onehot=None,\n",
       "             max_delta_step=None, max_depth=10, max_leaves=None,\n",
       "             min_child_weight=None, missing=nan, monotone_constraints=None,\n",
       "             multi_strategy=None, n_estimators=1000, n_jobs=None,\n",
       "             num_parallel_tree=None, random_state=42, ...)</pre><b>In a Jupyter environment, please rerun this cell to show the HTML representation or trust the notebook. <br />On GitHub, the HTML representation is unable to render, please try loading this page with nbviewer.org.</b></div><div class=\"sk-container\" hidden><div class=\"sk-item\"><div class=\"sk-estimator sk-toggleable\"><input class=\"sk-toggleable__control sk-hidden--visually\" id=\"sk-estimator-id-1\" type=\"checkbox\" checked><label for=\"sk-estimator-id-1\" class=\"sk-toggleable__label sk-toggleable__label-arrow\">XGBRegressor</label><div class=\"sk-toggleable__content\"><pre>XGBRegressor(base_score=None, booster=None, callbacks=None,\n",
       "             colsample_bylevel=None, colsample_bynode=None,\n",
       "             colsample_bytree=None, device=None, early_stopping_rounds=None,\n",
       "             enable_categorical=False, eval_metric=None, feature_types=None,\n",
       "             gamma=None, grow_policy=None, importance_type=None,\n",
       "             interaction_constraints=None, learning_rate=0.01, max_bin=None,\n",
       "             max_cat_threshold=None, max_cat_to_onehot=None,\n",
       "             max_delta_step=None, max_depth=10, max_leaves=None,\n",
       "             min_child_weight=None, missing=nan, monotone_constraints=None,\n",
       "             multi_strategy=None, n_estimators=1000, n_jobs=None,\n",
       "             num_parallel_tree=None, random_state=42, ...)</pre></div></div></div></div></div>"
      ],
      "text/plain": [
       "XGBRegressor(base_score=None, booster=None, callbacks=None,\n",
       "             colsample_bylevel=None, colsample_bynode=None,\n",
       "             colsample_bytree=None, device=None, early_stopping_rounds=None,\n",
       "             enable_categorical=False, eval_metric=None, feature_types=None,\n",
       "             gamma=None, grow_policy=None, importance_type=None,\n",
       "             interaction_constraints=None, learning_rate=0.01, max_bin=None,\n",
       "             max_cat_threshold=None, max_cat_to_onehot=None,\n",
       "             max_delta_step=None, max_depth=10, max_leaves=None,\n",
       "             min_child_weight=None, missing=nan, monotone_constraints=None,\n",
       "             multi_strategy=None, n_estimators=1000, n_jobs=None,\n",
       "             num_parallel_tree=None, random_state=42, ...)"
      ]
     },
     "execution_count": 66,
     "metadata": {},
     "output_type": "execute_result"
    }
   ],
   "source": [
    "model = XGBRegressor(n_estimators=1000, learning_rate=0.01, max_depth=10, random_state=42)\n",
    "model.fit(x_train, y_train)"
   ]
  },
  {
   "cell_type": "code",
   "execution_count": 67,
   "metadata": {},
   "outputs": [],
   "source": [
    "y_pred_train= model.predict(x_train)\n",
    "y_pred_train = pd.Series(y_pred_train, name='QTEPRD')\n",
    "y_pred_train.index = x_train.index\n"
   ]
  },
  {
   "cell_type": "code",
   "execution_count": 68,
   "metadata": {},
   "outputs": [
    {
     "data": {
      "text/html": [
       "<div>\n",
       "<style scoped>\n",
       "    .dataframe tbody tr th:only-of-type {\n",
       "        vertical-align: middle;\n",
       "    }\n",
       "\n",
       "    .dataframe tbody tr th {\n",
       "        vertical-align: top;\n",
       "    }\n",
       "\n",
       "    .dataframe thead th {\n",
       "        text-align: right;\n",
       "    }\n",
       "</style>\n",
       "<table border=\"1\" class=\"dataframe\">\n",
       "  <thead>\n",
       "    <tr style=\"text-align: right;\">\n",
       "      <th></th>\n",
       "      <th>y_train</th>\n",
       "      <th>y_pred_train</th>\n",
       "      <th>Y_inverted_train</th>\n",
       "    </tr>\n",
       "  </thead>\n",
       "  <tbody>\n",
       "    <tr>\n",
       "      <th>189448</th>\n",
       "      <td>0.09375</td>\n",
       "      <td>0.080786</td>\n",
       "      <td>4.0</td>\n",
       "    </tr>\n",
       "    <tr>\n",
       "      <th>226022</th>\n",
       "      <td>0.78125</td>\n",
       "      <td>0.634528</td>\n",
       "      <td>26.0</td>\n",
       "    </tr>\n",
       "    <tr>\n",
       "      <th>176578</th>\n",
       "      <td>0.09375</td>\n",
       "      <td>0.190616</td>\n",
       "      <td>4.0</td>\n",
       "    </tr>\n",
       "    <tr>\n",
       "      <th>112182</th>\n",
       "      <td>0.15625</td>\n",
       "      <td>0.141167</td>\n",
       "      <td>6.0</td>\n",
       "    </tr>\n",
       "    <tr>\n",
       "      <th>202372</th>\n",
       "      <td>0.31250</td>\n",
       "      <td>0.402014</td>\n",
       "      <td>11.0</td>\n",
       "    </tr>\n",
       "  </tbody>\n",
       "</table>\n",
       "</div>"
      ],
      "text/plain": [
       "        y_train  y_pred_train  Y_inverted_train\n",
       "189448  0.09375      0.080786               4.0\n",
       "226022  0.78125      0.634528              26.0\n",
       "176578  0.09375      0.190616               4.0\n",
       "112182  0.15625      0.141167               6.0\n",
       "202372  0.31250      0.402014              11.0"
      ]
     },
     "execution_count": 68,
     "metadata": {},
     "output_type": "execute_result"
    }
   ],
   "source": [
    "df_target=pd.concat([y_train,y_pred_train,Y_inverted_train],axis=1)\n",
    "df_target.columns=['y_train','y_pred_train','Y_inverted_train']\n",
    "df_target.head()"
   ]
  },
  {
   "cell_type": "code",
   "execution_count": 69,
   "metadata": {},
   "outputs": [
    {
     "name": "stdout",
     "output_type": "stream",
     "text": [
      "Root Mean Squared Error: 0.08937741867574815\n"
     ]
    }
   ],
   "source": [
    "mse = mean_squared_error(y_train, y_pred_train)\n",
    "rmse = np.sqrt(mse)\n",
    "print(f'Root Mean Squared Error: {rmse}')\n"
   ]
  },
  {
   "cell_type": "code",
   "execution_count": 70,
   "metadata": {},
   "outputs": [
    {
     "data": {
      "text/plain": [
       "0.7709667866063791"
      ]
     },
     "execution_count": 70,
     "metadata": {},
     "output_type": "execute_result"
    }
   ],
   "source": [
    "from sklearn.metrics import mean_squared_error, mean_absolute_error, r2_score\n",
    "\n",
    "r2_model_train=r2_score(y_train, y_pred_train)\n",
    "r2_model_train"
   ]
  },
  {
   "cell_type": "markdown",
   "metadata": {},
   "source": [
    "#### Predict test set\n"
   ]
  },
  {
   "cell_type": "code",
   "execution_count": 71,
   "metadata": {},
   "outputs": [],
   "source": [
    "y_pred = model.predict(x_test)\n",
    "y_pred = pd.Series(y_pred, name='SUM(QTEPRD)')\n",
    "y_pred.index = x_test.index\n"
   ]
  },
  {
   "cell_type": "code",
   "execution_count": 72,
   "metadata": {},
   "outputs": [
    {
     "data": {
      "text/html": [
       "<div>\n",
       "<style scoped>\n",
       "    .dataframe tbody tr th:only-of-type {\n",
       "        vertical-align: middle;\n",
       "    }\n",
       "\n",
       "    .dataframe tbody tr th {\n",
       "        vertical-align: top;\n",
       "    }\n",
       "\n",
       "    .dataframe thead th {\n",
       "        text-align: right;\n",
       "    }\n",
       "</style>\n",
       "<table border=\"1\" class=\"dataframe\">\n",
       "  <thead>\n",
       "    <tr style=\"text-align: right;\">\n",
       "      <th></th>\n",
       "      <th>y_test</th>\n",
       "      <th>y_pred_test</th>\n",
       "      <th>Y_inverted_test</th>\n",
       "    </tr>\n",
       "  </thead>\n",
       "  <tbody>\n",
       "    <tr>\n",
       "      <th>189709</th>\n",
       "      <td>0.18750</td>\n",
       "      <td>0.153521</td>\n",
       "      <td>7.0</td>\n",
       "    </tr>\n",
       "    <tr>\n",
       "      <th>141284</th>\n",
       "      <td>0.53125</td>\n",
       "      <td>0.379974</td>\n",
       "      <td>18.0</td>\n",
       "    </tr>\n",
       "    <tr>\n",
       "      <th>143249</th>\n",
       "      <td>0.06250</td>\n",
       "      <td>0.082930</td>\n",
       "      <td>3.0</td>\n",
       "    </tr>\n",
       "    <tr>\n",
       "      <th>46445</th>\n",
       "      <td>0.28125</td>\n",
       "      <td>0.148913</td>\n",
       "      <td>10.0</td>\n",
       "    </tr>\n",
       "    <tr>\n",
       "      <th>69285</th>\n",
       "      <td>0.15625</td>\n",
       "      <td>0.217085</td>\n",
       "      <td>6.0</td>\n",
       "    </tr>\n",
       "  </tbody>\n",
       "</table>\n",
       "</div>"
      ],
      "text/plain": [
       "         y_test  y_pred_test  Y_inverted_test\n",
       "189709  0.18750     0.153521              7.0\n",
       "141284  0.53125     0.379974             18.0\n",
       "143249  0.06250     0.082930              3.0\n",
       "46445   0.28125     0.148913             10.0\n",
       "69285   0.15625     0.217085              6.0"
      ]
     },
     "execution_count": 72,
     "metadata": {},
     "output_type": "execute_result"
    }
   ],
   "source": [
    "df_target_test=pd.concat([y_test,y_pred,Y_inverted_test],axis=1)\n",
    "df_target_test.columns=['y_test','y_pred_test','Y_inverted_test']\n",
    "df_target_test.head()"
   ]
  },
  {
   "cell_type": "code",
   "execution_count": 73,
   "metadata": {},
   "outputs": [
    {
     "name": "stdout",
     "output_type": "stream",
     "text": [
      "Root Mean Squared Error: 0.10508605390426401\n"
     ]
    }
   ],
   "source": [
    "mse = mean_squared_error(y_test, y_pred)\n",
    "rmse = np.sqrt(mse)\n",
    "print(f'Root Mean Squared Error: {rmse}')"
   ]
  },
  {
   "cell_type": "code",
   "execution_count": 74,
   "metadata": {},
   "outputs": [
    {
     "data": {
      "text/plain": [
       "0.6800513581344239"
      ]
     },
     "execution_count": 74,
     "metadata": {},
     "output_type": "execute_result"
    }
   ],
   "source": [
    "r2_model_test = r2_score(y_test, y_pred)\n",
    "r2_model_test"
   ]
  },
  {
   "cell_type": "markdown",
   "metadata": {},
   "source": [
    "### 3.2 XGboost with best params"
   ]
  },
  {
   "cell_type": "code",
   "execution_count": 75,
   "metadata": {},
   "outputs": [
    {
     "name": "stdout",
     "output_type": "stream",
     "text": [
      "Fitting 3 folds for each of 81 candidates, totalling 243 fits\n",
      "Best parameters found: {'learning_rate': 0.1, 'max_depth': 7, 'min_child_weight': 5, 'n_estimators': 1000}\n"
     ]
    }
   ],
   "source": [
    "# from sklearn.model_selection import GridSearchCV\n",
    "\n",
    "# param_grid = {\n",
    "#     'n_estimators': [100, 500, 1000],\n",
    "#     'learning_rate': [0.01, 0.1, 0.3],\n",
    "#     'max_depth': [3, 5, 7],\n",
    "#     'min_child_weight': [1, 3, 5]\n",
    "# }\n",
    "\n",
    "# grid_search = GridSearchCV(estimator=model, param_grid=param_grid, scoring='neg_mean_squared_error', cv=3, verbose=2, n_jobs=-1)\n",
    "# grid_search.fit(x_train, y_train)\n",
    "\n",
    "# best_params = grid_search.best_params_\n",
    "# print(f\"Best parameters found: {best_params}\")"
   ]
  },
  {
   "cell_type": "markdown",
   "metadata": {},
   "source": []
  },
  {
   "cell_type": "code",
   "execution_count": 76,
   "metadata": {},
   "outputs": [],
   "source": [
    "# best_model = XGBRegressor(objective ='reg:squarederror', \n",
    "#                               n_estimators=best_params['n_estimators'], \n",
    "#                               learning_rate=best_params['learning_rate'], \n",
    "#                               max_depth=best_params['max_depth'], \n",
    "#                               min_child_weight=best_params['min_child_weight'])\n",
    "\n",
    "# best_model.fit(x_train, y_train)\n",
    "\n"
   ]
  },
  {
   "cell_type": "markdown",
   "metadata": {},
   "source": [
    "#### predict test set with best params"
   ]
  },
  {
   "cell_type": "code",
   "execution_count": 77,
   "metadata": {},
   "outputs": [],
   "source": [
    "# y_pred_best = best_model.predict(x_test)\n",
    "# mse_best = mean_squared_error(y_test, y_pred_best)\n",
    "# print(f\"Mean Squared Error with best parameters: {mse_best}\")"
   ]
  },
  {
   "cell_type": "code",
   "execution_count": 78,
   "metadata": {},
   "outputs": [],
   "source": [
    "# r2_model_test_best = r2_score(y_test, y_pred_best)\n",
    "# r2_model_test_best"
   ]
  },
  {
   "cell_type": "code",
   "execution_count": 79,
   "metadata": {},
   "outputs": [],
   "source": [
    "# n = 500\n",
    "# y_test_1000 = y_test[:n]\n",
    "# y_pred_1000 = y_pred[:n]\n",
    "\n",
    "# # Tracé des valeurs réelles et prédites pour les 1000 premiers index\n",
    "# plt.figure(figsize=(12, 8))\n",
    "\n",
    "# plt.plot(y_test_1000.values, label='Actual Values', alpha=0.7, linestyle='-', marker='o')\n",
    "# plt.plot(y_pred_1000, label=f'XGBoost Model Predictions (RMSE: {mse:.5f},R²: {r2_model_test:.5f})', alpha=0.7, linestyle='-', marker='x')\n",
    "\n",
    "# plt.xlabel('Index')\n",
    "# plt.ylabel('SUM(QTEPRD)')\n",
    "# plt.title('Actual vs Predicted Values for First 500 Indexes')\n",
    "# plt.legend()\n",
    "\n",
    "# # Afficher le graphique\n",
    "# plt.show()\n",
    "     "
   ]
  },
  {
   "cell_type": "markdown",
   "metadata": {},
   "source": [
    "### plot with time "
   ]
  },
  {
   "cell_type": "code",
   "execution_count": null,
   "metadata": {},
   "outputs": [],
   "source": []
  },
  {
   "cell_type": "code",
   "execution_count": 80,
   "metadata": {},
   "outputs": [
    {
     "data": {
      "text/html": [
       "<div>\n",
       "<style scoped>\n",
       "    .dataframe tbody tr th:only-of-type {\n",
       "        vertical-align: middle;\n",
       "    }\n",
       "\n",
       "    .dataframe tbody tr th {\n",
       "        vertical-align: top;\n",
       "    }\n",
       "\n",
       "    .dataframe thead th {\n",
       "        text-align: right;\n",
       "    }\n",
       "</style>\n",
       "<table border=\"1\" class=\"dataframe\">\n",
       "  <thead>\n",
       "    <tr style=\"text-align: right;\">\n",
       "      <th></th>\n",
       "      <th>y_test</th>\n",
       "      <th>y_pred_test</th>\n",
       "      <th>Y_inverted_test</th>\n",
       "      <th>y_pred_inverted</th>\n",
       "    </tr>\n",
       "  </thead>\n",
       "  <tbody>\n",
       "    <tr>\n",
       "      <th>189709</th>\n",
       "      <td>0.18750</td>\n",
       "      <td>0.153521</td>\n",
       "      <td>7.0</td>\n",
       "      <td>5.731446</td>\n",
       "    </tr>\n",
       "    <tr>\n",
       "      <th>141284</th>\n",
       "      <td>0.53125</td>\n",
       "      <td>0.379974</td>\n",
       "      <td>18.0</td>\n",
       "      <td>12.874407</td>\n",
       "    </tr>\n",
       "    <tr>\n",
       "      <th>143249</th>\n",
       "      <td>0.06250</td>\n",
       "      <td>0.082930</td>\n",
       "      <td>3.0</td>\n",
       "      <td>3.980630</td>\n",
       "    </tr>\n",
       "    <tr>\n",
       "      <th>46445</th>\n",
       "      <td>0.28125</td>\n",
       "      <td>0.148913</td>\n",
       "      <td>10.0</td>\n",
       "      <td>5.294669</td>\n",
       "    </tr>\n",
       "    <tr>\n",
       "      <th>69285</th>\n",
       "      <td>0.15625</td>\n",
       "      <td>0.217085</td>\n",
       "      <td>6.0</td>\n",
       "      <td>8.336061</td>\n",
       "    </tr>\n",
       "  </tbody>\n",
       "</table>\n",
       "</div>"
      ],
      "text/plain": [
       "         y_test  y_pred_test  Y_inverted_test  y_pred_inverted\n",
       "189709  0.18750     0.153521              7.0         5.731446\n",
       "141284  0.53125     0.379974             18.0        12.874407\n",
       "143249  0.06250     0.082930              3.0         3.980630\n",
       "46445   0.28125     0.148913             10.0         5.294669\n",
       "69285   0.15625     0.217085              6.0         8.336061"
      ]
     },
     "execution_count": 80,
     "metadata": {},
     "output_type": "execute_result"
    }
   ],
   "source": [
    "df_target_test['y_pred_inverted'] = (df_target_test['y_pred_test'] * df_target_test['Y_inverted_test']) / df_target_test['y_test']\n",
    "df_target_test.head()\n"
   ]
  },
  {
   "cell_type": "code",
   "execution_count": 81,
   "metadata": {},
   "outputs": [
    {
     "data": {
      "text/html": [
       "<div>\n",
       "<style scoped>\n",
       "    .dataframe tbody tr th:only-of-type {\n",
       "        vertical-align: middle;\n",
       "    }\n",
       "\n",
       "    .dataframe tbody tr th {\n",
       "        vertical-align: top;\n",
       "    }\n",
       "\n",
       "    .dataframe thead th {\n",
       "        text-align: right;\n",
       "    }\n",
       "</style>\n",
       "<table border=\"1\" class=\"dataframe\">\n",
       "  <thead>\n",
       "    <tr style=\"text-align: right;\">\n",
       "      <th></th>\n",
       "      <th>ANCSCP</th>\n",
       "      <th>prixHT</th>\n",
       "      <th>lag1_previous_order</th>\n",
       "      <th>lag3_previous_order</th>\n",
       "      <th>lag6_previous_order</th>\n",
       "      <th>lag9_previous_order</th>\n",
       "      <th>LIBPRD_APG AGILIX PREMIUM GAS.</th>\n",
       "      <th>LIBPRD_APS AGILIX PREMIUM ESS.</th>\n",
       "      <th>LIBPRD_GASOIL</th>\n",
       "      <th>LIBPRD_GASOIL 50</th>\n",
       "      <th>...</th>\n",
       "      <th>Quarter</th>\n",
       "      <th>month_sin</th>\n",
       "      <th>month_cos</th>\n",
       "      <th>day_sin</th>\n",
       "      <th>day_cos</th>\n",
       "      <th>y_test</th>\n",
       "      <th>y_pred_test</th>\n",
       "      <th>Y_inverted_test</th>\n",
       "      <th>y_pred_inverted</th>\n",
       "      <th>Date</th>\n",
       "    </tr>\n",
       "  </thead>\n",
       "  <tbody>\n",
       "    <tr>\n",
       "      <th>189709</th>\n",
       "      <td>5536.0</td>\n",
       "      <td>1605.294</td>\n",
       "      <td>7.0</td>\n",
       "      <td>2.0</td>\n",
       "      <td>4.0</td>\n",
       "      <td>7.0</td>\n",
       "      <td>0.0</td>\n",
       "      <td>0.0</td>\n",
       "      <td>0.0</td>\n",
       "      <td>0.0</td>\n",
       "      <td>...</td>\n",
       "      <td>4.0</td>\n",
       "      <td>-2.220446e-16</td>\n",
       "      <td>1.000000</td>\n",
       "      <td>-2.217596e-16</td>\n",
       "      <td>1.000000</td>\n",
       "      <td>0.18750</td>\n",
       "      <td>0.153521</td>\n",
       "      <td>7.0</td>\n",
       "      <td>5.731446</td>\n",
       "      <td>2018-12-31</td>\n",
       "    </tr>\n",
       "    <tr>\n",
       "      <th>141284</th>\n",
       "      <td>5474.0</td>\n",
       "      <td>1190.531</td>\n",
       "      <td>14.0</td>\n",
       "      <td>16.0</td>\n",
       "      <td>14.0</td>\n",
       "      <td>14.0</td>\n",
       "      <td>0.0</td>\n",
       "      <td>0.0</td>\n",
       "      <td>1.0</td>\n",
       "      <td>0.0</td>\n",
       "      <td>...</td>\n",
       "      <td>3.0</td>\n",
       "      <td>-5.000000e-01</td>\n",
       "      <td>-0.866025</td>\n",
       "      <td>6.513725e-01</td>\n",
       "      <td>-0.758758</td>\n",
       "      <td>0.53125</td>\n",
       "      <td>0.379974</td>\n",
       "      <td>18.0</td>\n",
       "      <td>12.874407</td>\n",
       "      <td>2018-07-12</td>\n",
       "    </tr>\n",
       "    <tr>\n",
       "      <th>143249</th>\n",
       "      <td>5479.0</td>\n",
       "      <td>1821.512</td>\n",
       "      <td>3.0</td>\n",
       "      <td>4.0</td>\n",
       "      <td>4.0</td>\n",
       "      <td>4.0</td>\n",
       "      <td>0.0</td>\n",
       "      <td>1.0</td>\n",
       "      <td>0.0</td>\n",
       "      <td>0.0</td>\n",
       "      <td>...</td>\n",
       "      <td>4.0</td>\n",
       "      <td>-8.660254e-01</td>\n",
       "      <td>0.500000</td>\n",
       "      <td>-3.943559e-01</td>\n",
       "      <td>0.918958</td>\n",
       "      <td>0.06250</td>\n",
       "      <td>0.082930</td>\n",
       "      <td>3.0</td>\n",
       "      <td>3.980630</td>\n",
       "      <td>2019-10-29</td>\n",
       "    </tr>\n",
       "    <tr>\n",
       "      <th>46445</th>\n",
       "      <td>5300.0</td>\n",
       "      <td>1046.696</td>\n",
       "      <td>6.0</td>\n",
       "      <td>2.0</td>\n",
       "      <td>5.0</td>\n",
       "      <td>7.0</td>\n",
       "      <td>0.0</td>\n",
       "      <td>0.0</td>\n",
       "      <td>1.0</td>\n",
       "      <td>0.0</td>\n",
       "      <td>...</td>\n",
       "      <td>3.0</td>\n",
       "      <td>-5.000000e-01</td>\n",
       "      <td>-0.866025</td>\n",
       "      <td>7.907757e-01</td>\n",
       "      <td>-0.612106</td>\n",
       "      <td>0.28125</td>\n",
       "      <td>0.148913</td>\n",
       "      <td>10.0</td>\n",
       "      <td>5.294669</td>\n",
       "      <td>2017-07-11</td>\n",
       "    </tr>\n",
       "    <tr>\n",
       "      <th>69285</th>\n",
       "      <td>5348.0</td>\n",
       "      <td>1079.911</td>\n",
       "      <td>10.0</td>\n",
       "      <td>7.0</td>\n",
       "      <td>6.0</td>\n",
       "      <td>7.0</td>\n",
       "      <td>0.0</td>\n",
       "      <td>0.0</td>\n",
       "      <td>1.0</td>\n",
       "      <td>0.0</td>\n",
       "      <td>...</td>\n",
       "      <td>1.0</td>\n",
       "      <td>8.660254e-01</td>\n",
       "      <td>0.500000</td>\n",
       "      <td>-6.513725e-01</td>\n",
       "      <td>-0.758758</td>\n",
       "      <td>0.15625</td>\n",
       "      <td>0.217085</td>\n",
       "      <td>6.0</td>\n",
       "      <td>8.336061</td>\n",
       "      <td>2018-02-19</td>\n",
       "    </tr>\n",
       "    <tr>\n",
       "      <th>...</th>\n",
       "      <td>...</td>\n",
       "      <td>...</td>\n",
       "      <td>...</td>\n",
       "      <td>...</td>\n",
       "      <td>...</td>\n",
       "      <td>...</td>\n",
       "      <td>...</td>\n",
       "      <td>...</td>\n",
       "      <td>...</td>\n",
       "      <td>...</td>\n",
       "      <td>...</td>\n",
       "      <td>...</td>\n",
       "      <td>...</td>\n",
       "      <td>...</td>\n",
       "      <td>...</td>\n",
       "      <td>...</td>\n",
       "      <td>...</td>\n",
       "      <td>...</td>\n",
       "      <td>...</td>\n",
       "      <td>...</td>\n",
       "      <td>...</td>\n",
       "    </tr>\n",
       "    <tr>\n",
       "      <th>172803</th>\n",
       "      <td>5513.0</td>\n",
       "      <td>1555.044</td>\n",
       "      <td>5.0</td>\n",
       "      <td>3.0</td>\n",
       "      <td>4.0</td>\n",
       "      <td>4.0</td>\n",
       "      <td>0.0</td>\n",
       "      <td>0.0</td>\n",
       "      <td>0.0</td>\n",
       "      <td>0.0</td>\n",
       "      <td>...</td>\n",
       "      <td>3.0</td>\n",
       "      <td>-5.000000e-01</td>\n",
       "      <td>-0.866025</td>\n",
       "      <td>-4.853020e-01</td>\n",
       "      <td>-0.874347</td>\n",
       "      <td>0.09375</td>\n",
       "      <td>0.108723</td>\n",
       "      <td>4.0</td>\n",
       "      <td>4.638855</td>\n",
       "      <td>2019-07-18</td>\n",
       "    </tr>\n",
       "    <tr>\n",
       "      <th>62241</th>\n",
       "      <td>5335.0</td>\n",
       "      <td>1190.531</td>\n",
       "      <td>6.0</td>\n",
       "      <td>9.0</td>\n",
       "      <td>9.0</td>\n",
       "      <td>7.0</td>\n",
       "      <td>0.0</td>\n",
       "      <td>0.0</td>\n",
       "      <td>1.0</td>\n",
       "      <td>0.0</td>\n",
       "      <td>...</td>\n",
       "      <td>3.0</td>\n",
       "      <td>-8.660254e-01</td>\n",
       "      <td>-0.500000</td>\n",
       "      <td>-2.217596e-16</td>\n",
       "      <td>1.000000</td>\n",
       "      <td>0.43750</td>\n",
       "      <td>0.234437</td>\n",
       "      <td>15.0</td>\n",
       "      <td>8.037830</td>\n",
       "      <td>2018-08-31</td>\n",
       "    </tr>\n",
       "    <tr>\n",
       "      <th>82049</th>\n",
       "      <td>5367.0</td>\n",
       "      <td>1422.966</td>\n",
       "      <td>2.0</td>\n",
       "      <td>4.0</td>\n",
       "      <td>3.0</td>\n",
       "      <td>2.0</td>\n",
       "      <td>0.0</td>\n",
       "      <td>0.0</td>\n",
       "      <td>0.0</td>\n",
       "      <td>0.0</td>\n",
       "      <td>...</td>\n",
       "      <td>4.0</td>\n",
       "      <td>-5.000000e-01</td>\n",
       "      <td>0.866025</td>\n",
       "      <td>9.377521e-01</td>\n",
       "      <td>0.347305</td>\n",
       "      <td>0.03125</td>\n",
       "      <td>0.056704</td>\n",
       "      <td>2.0</td>\n",
       "      <td>3.629066</td>\n",
       "      <td>2017-11-06</td>\n",
       "    </tr>\n",
       "    <tr>\n",
       "      <th>130054</th>\n",
       "      <td>5456.0</td>\n",
       "      <td>968.125</td>\n",
       "      <td>12.0</td>\n",
       "      <td>4.0</td>\n",
       "      <td>5.0</td>\n",
       "      <td>11.0</td>\n",
       "      <td>0.0</td>\n",
       "      <td>0.0</td>\n",
       "      <td>1.0</td>\n",
       "      <td>0.0</td>\n",
       "      <td>...</td>\n",
       "      <td>2.0</td>\n",
       "      <td>8.660254e-01</td>\n",
       "      <td>-0.500000</td>\n",
       "      <td>8.978045e-01</td>\n",
       "      <td>-0.440394</td>\n",
       "      <td>0.12500</td>\n",
       "      <td>0.209783</td>\n",
       "      <td>5.0</td>\n",
       "      <td>8.391315</td>\n",
       "      <td>2017-04-10</td>\n",
       "    </tr>\n",
       "    <tr>\n",
       "      <th>134618</th>\n",
       "      <td>5463.0</td>\n",
       "      <td>1216.518</td>\n",
       "      <td>3.0</td>\n",
       "      <td>3.0</td>\n",
       "      <td>2.0</td>\n",
       "      <td>3.0</td>\n",
       "      <td>0.0</td>\n",
       "      <td>0.0</td>\n",
       "      <td>0.0</td>\n",
       "      <td>1.0</td>\n",
       "      <td>...</td>\n",
       "      <td>2.0</td>\n",
       "      <td>5.000000e-01</td>\n",
       "      <td>-0.866025</td>\n",
       "      <td>9.987165e-01</td>\n",
       "      <td>-0.050649</td>\n",
       "      <td>0.03125</td>\n",
       "      <td>0.056722</td>\n",
       "      <td>2.0</td>\n",
       "      <td>3.630206</td>\n",
       "      <td>2017-05-08</td>\n",
       "    </tr>\n",
       "  </tbody>\n",
       "</table>\n",
       "<p>46423 rows × 234 columns</p>\n",
       "</div>"
      ],
      "text/plain": [
       "        ANCSCP    prixHT  lag1_previous_order  lag3_previous_order  \\\n",
       "189709  5536.0  1605.294                  7.0                  2.0   \n",
       "141284  5474.0  1190.531                 14.0                 16.0   \n",
       "143249  5479.0  1821.512                  3.0                  4.0   \n",
       "46445   5300.0  1046.696                  6.0                  2.0   \n",
       "69285   5348.0  1079.911                 10.0                  7.0   \n",
       "...        ...       ...                  ...                  ...   \n",
       "172803  5513.0  1555.044                  5.0                  3.0   \n",
       "62241   5335.0  1190.531                  6.0                  9.0   \n",
       "82049   5367.0  1422.966                  2.0                  4.0   \n",
       "130054  5456.0   968.125                 12.0                  4.0   \n",
       "134618  5463.0  1216.518                  3.0                  3.0   \n",
       "\n",
       "        lag6_previous_order  lag9_previous_order  \\\n",
       "189709                  4.0                  7.0   \n",
       "141284                 14.0                 14.0   \n",
       "143249                  4.0                  4.0   \n",
       "46445                   5.0                  7.0   \n",
       "69285                   6.0                  7.0   \n",
       "...                     ...                  ...   \n",
       "172803                  4.0                  4.0   \n",
       "62241                   9.0                  7.0   \n",
       "82049                   3.0                  2.0   \n",
       "130054                  5.0                 11.0   \n",
       "134618                  2.0                  3.0   \n",
       "\n",
       "        LIBPRD_APG AGILIX PREMIUM GAS.  LIBPRD_APS AGILIX PREMIUM ESS.  \\\n",
       "189709                             0.0                             0.0   \n",
       "141284                             0.0                             0.0   \n",
       "143249                             0.0                             1.0   \n",
       "46445                              0.0                             0.0   \n",
       "69285                              0.0                             0.0   \n",
       "...                                ...                             ...   \n",
       "172803                             0.0                             0.0   \n",
       "62241                              0.0                             0.0   \n",
       "82049                              0.0                             0.0   \n",
       "130054                             0.0                             0.0   \n",
       "134618                             0.0                             0.0   \n",
       "\n",
       "        LIBPRD_GASOIL  LIBPRD_GASOIL 50  ...  Quarter     month_sin  \\\n",
       "189709            0.0               0.0  ...      4.0 -2.220446e-16   \n",
       "141284            1.0               0.0  ...      3.0 -5.000000e-01   \n",
       "143249            0.0               0.0  ...      4.0 -8.660254e-01   \n",
       "46445             1.0               0.0  ...      3.0 -5.000000e-01   \n",
       "69285             1.0               0.0  ...      1.0  8.660254e-01   \n",
       "...               ...               ...  ...      ...           ...   \n",
       "172803            0.0               0.0  ...      3.0 -5.000000e-01   \n",
       "62241             1.0               0.0  ...      3.0 -8.660254e-01   \n",
       "82049             0.0               0.0  ...      4.0 -5.000000e-01   \n",
       "130054            1.0               0.0  ...      2.0  8.660254e-01   \n",
       "134618            0.0               1.0  ...      2.0  5.000000e-01   \n",
       "\n",
       "        month_cos       day_sin   day_cos   y_test  y_pred_test  \\\n",
       "189709   1.000000 -2.217596e-16  1.000000  0.18750     0.153521   \n",
       "141284  -0.866025  6.513725e-01 -0.758758  0.53125     0.379974   \n",
       "143249   0.500000 -3.943559e-01  0.918958  0.06250     0.082930   \n",
       "46445   -0.866025  7.907757e-01 -0.612106  0.28125     0.148913   \n",
       "69285    0.500000 -6.513725e-01 -0.758758  0.15625     0.217085   \n",
       "...           ...           ...       ...      ...          ...   \n",
       "172803  -0.866025 -4.853020e-01 -0.874347  0.09375     0.108723   \n",
       "62241   -0.500000 -2.217596e-16  1.000000  0.43750     0.234437   \n",
       "82049    0.866025  9.377521e-01  0.347305  0.03125     0.056704   \n",
       "130054  -0.500000  8.978045e-01 -0.440394  0.12500     0.209783   \n",
       "134618  -0.866025  9.987165e-01 -0.050649  0.03125     0.056722   \n",
       "\n",
       "        Y_inverted_test  y_pred_inverted       Date  \n",
       "189709              7.0         5.731446 2018-12-31  \n",
       "141284             18.0        12.874407 2018-07-12  \n",
       "143249              3.0         3.980630 2019-10-29  \n",
       "46445              10.0         5.294669 2017-07-11  \n",
       "69285               6.0         8.336061 2018-02-19  \n",
       "...                 ...              ...        ...  \n",
       "172803              4.0         4.638855 2019-07-18  \n",
       "62241              15.0         8.037830 2018-08-31  \n",
       "82049               2.0         3.629066 2017-11-06  \n",
       "130054              5.0         8.391315 2017-04-10  \n",
       "134618              2.0         3.630206 2017-05-08  \n",
       "\n",
       "[46423 rows x 234 columns]"
      ]
     },
     "execution_count": 81,
     "metadata": {},
     "output_type": "execute_result"
    }
   ],
   "source": [
    "df_combined = pd.concat([X_inverted_test, df_target_test], axis=1)\n",
    "df_combined['Date'] = df_combined['Year'].astype(str) + '-' + df_combined['Month'].astype(str).str.zfill(2) + '-' + df_combined['Day'].astype(str).str.zfill(2)\n",
    "\n",
    "# Alternatively, use the to_datetime() method\n",
    "df_combined['Date'] = pd.to_datetime(df_combined[['Year', 'Month', 'Day']])\n",
    "df_combined"
   ]
  },
  {
   "cell_type": "code",
   "execution_count": 82,
   "metadata": {},
   "outputs": [
    {
     "data": {
      "text/plain": [
       "ANCSCP\n",
       "5479.0    789\n",
       "5356.0    663\n",
       "5450.0    650\n",
       "5399.0    599\n",
       "5513.0    589\n",
       "         ... \n",
       "5501.0     13\n",
       "5587.0     11\n",
       "5597.0     10\n",
       "5069.0      6\n",
       "5496.0      1\n",
       "Name: count, Length: 218, dtype: int64"
      ]
     },
     "execution_count": 82,
     "metadata": {},
     "output_type": "execute_result"
    }
   ],
   "source": [
    "df_combined['ANCSCP'].value_counts() "
   ]
  },
  {
   "cell_type": "code",
   "execution_count": 83,
   "metadata": {},
   "outputs": [],
   "source": [
    "import plotly.express as px\n",
    "import plotly.graph_objects as go\n",
    "\n",
    "\n",
    "\n",
    "df_STE_DE_GESTION = df_combined[df_combined['ANCSCP'] == 5513.0]\n",
    "\n",
    "\n"
   ]
  },
  {
   "cell_type": "code",
   "execution_count": 84,
   "metadata": {},
   "outputs": [],
   "source": [
    "df_2017 = df_STE_DE_GESTION[df_STE_DE_GESTION['Date'].dt.year == 2019]\n"
   ]
  },
  {
   "cell_type": "code",
   "execution_count": 85,
   "metadata": {},
   "outputs": [
    {
     "data": {
      "application/vnd.plotly.v1+json": {
       "config": {
        "plotlyServerURL": "https://plot.ly"
       },
       "data": [
        {
         "hovertemplate": "<extra></extra>",
         "legendgroup": "",
         "line": {
          "color": "#636efa",
          "dash": "solid"
         },
         "marker": {
          "symbol": "circle"
         },
         "mode": "lines",
         "name": "",
         "orientation": "v",
         "showlegend": false,
         "type": "scatter",
         "xaxis": "x",
         "yaxis": "y"
        },
        {
         "line": {
          "color": "red"
         },
         "mode": "lines",
         "name": "prediction of Client SMBA 5450 in 2017",
         "type": "scatter",
         "x": [
          "2019-01-01T00:00:00",
          "2019-01-03T00:00:00",
          "2019-01-09T00:00:00",
          "2019-01-10T00:00:00",
          "2019-01-10T00:00:00",
          "2019-01-12T00:00:00",
          "2019-01-14T00:00:00",
          "2019-01-18T00:00:00",
          "2019-01-20T00:00:00",
          "2019-01-24T00:00:00",
          "2019-01-25T00:00:00",
          "2019-01-28T00:00:00",
          "2019-01-30T00:00:00",
          "2019-01-31T00:00:00",
          "2019-02-03T00:00:00",
          "2019-02-08T00:00:00",
          "2019-02-09T00:00:00",
          "2019-02-10T00:00:00",
          "2019-02-11T00:00:00",
          "2019-02-12T00:00:00",
          "2019-02-12T00:00:00",
          "2019-02-15T00:00:00",
          "2019-02-18T00:00:00",
          "2019-02-19T00:00:00",
          "2019-02-19T00:00:00",
          "2019-02-21T00:00:00",
          "2019-02-22T00:00:00",
          "2019-02-25T00:00:00",
          "2019-02-28T00:00:00",
          "2019-03-01T00:00:00",
          "2019-03-01T00:00:00",
          "2019-03-01T00:00:00",
          "2019-03-06T00:00:00",
          "2019-03-07T00:00:00",
          "2019-03-08T00:00:00",
          "2019-03-10T00:00:00",
          "2019-03-11T00:00:00",
          "2019-03-16T00:00:00",
          "2019-03-18T00:00:00",
          "2019-03-21T00:00:00",
          "2019-03-21T00:00:00",
          "2019-03-22T00:00:00",
          "2019-03-25T00:00:00",
          "2019-03-29T00:00:00",
          "2019-04-03T00:00:00",
          "2019-04-04T00:00:00",
          "2019-04-05T00:00:00",
          "2019-04-05T00:00:00",
          "2019-04-06T00:00:00",
          "2019-04-07T00:00:00",
          "2019-04-12T00:00:00",
          "2019-04-15T00:00:00",
          "2019-04-16T00:00:00",
          "2019-04-23T00:00:00",
          "2019-04-23T00:00:00",
          "2019-04-25T00:00:00",
          "2019-04-27T00:00:00",
          "2019-04-28T00:00:00",
          "2019-04-30T00:00:00",
          "2019-05-06T00:00:00",
          "2019-05-08T00:00:00",
          "2019-05-09T00:00:00",
          "2019-05-09T00:00:00",
          "2019-05-11T00:00:00",
          "2019-05-13T00:00:00",
          "2019-05-14T00:00:00",
          "2019-05-16T00:00:00",
          "2019-05-19T00:00:00",
          "2019-05-25T00:00:00",
          "2019-05-26T00:00:00",
          "2019-06-02T00:00:00",
          "2019-06-07T00:00:00",
          "2019-06-11T00:00:00",
          "2019-06-12T00:00:00",
          "2019-06-15T00:00:00",
          "2019-06-17T00:00:00",
          "2019-06-18T00:00:00",
          "2019-06-19T00:00:00",
          "2019-06-21T00:00:00",
          "2019-06-27T00:00:00",
          "2019-06-27T00:00:00",
          "2019-06-28T00:00:00",
          "2019-06-30T00:00:00",
          "2019-06-30T00:00:00",
          "2019-07-01T00:00:00",
          "2019-07-06T00:00:00",
          "2019-07-07T00:00:00",
          "2019-07-08T00:00:00",
          "2019-07-09T00:00:00",
          "2019-07-10T00:00:00",
          "2019-07-11T00:00:00",
          "2019-07-12T00:00:00",
          "2019-07-15T00:00:00",
          "2019-07-18T00:00:00",
          "2019-07-19T00:00:00",
          "2019-07-20T00:00:00",
          "2019-07-20T00:00:00",
          "2019-07-21T00:00:00",
          "2019-07-25T00:00:00",
          "2019-07-26T00:00:00",
          "2019-07-29T00:00:00",
          "2019-07-29T00:00:00",
          "2019-07-30T00:00:00",
          "2019-07-31T00:00:00",
          "2019-08-01T00:00:00",
          "2019-08-03T00:00:00",
          "2019-08-05T00:00:00",
          "2019-08-06T00:00:00",
          "2019-08-08T00:00:00",
          "2019-08-10T00:00:00",
          "2019-08-10T00:00:00",
          "2019-08-16T00:00:00",
          "2019-08-17T00:00:00",
          "2019-08-17T00:00:00",
          "2019-08-18T00:00:00",
          "2019-08-22T00:00:00",
          "2019-08-22T00:00:00",
          "2019-08-24T00:00:00",
          "2019-08-26T00:00:00",
          "2019-08-28T00:00:00",
          "2019-08-29T00:00:00",
          "2019-08-30T00:00:00",
          "2019-09-01T00:00:00",
          "2019-09-06T00:00:00",
          "2019-09-09T00:00:00",
          "2019-09-10T00:00:00",
          "2019-09-11T00:00:00",
          "2019-09-11T00:00:00",
          "2019-09-12T00:00:00",
          "2019-09-13T00:00:00",
          "2019-09-15T00:00:00",
          "2019-09-16T00:00:00",
          "2019-09-16T00:00:00",
          "2019-09-17T00:00:00",
          "2019-09-17T00:00:00",
          "2019-09-18T00:00:00",
          "2019-09-19T00:00:00",
          "2019-09-20T00:00:00",
          "2019-09-22T00:00:00",
          "2019-09-23T00:00:00",
          "2019-09-23T00:00:00",
          "2019-09-27T00:00:00",
          "2019-10-01T00:00:00",
          "2019-10-02T00:00:00",
          "2019-10-03T00:00:00",
          "2019-10-03T00:00:00",
          "2019-10-04T00:00:00",
          "2019-10-05T00:00:00",
          "2019-10-05T00:00:00",
          "2019-10-06T00:00:00",
          "2019-10-08T00:00:00",
          "2019-10-08T00:00:00",
          "2019-10-09T00:00:00",
          "2019-10-10T00:00:00",
          "2019-10-11T00:00:00",
          "2019-10-13T00:00:00",
          "2019-10-13T00:00:00",
          "2019-10-21T00:00:00",
          "2019-10-23T00:00:00",
          "2019-10-25T00:00:00",
          "2019-10-26T00:00:00",
          "2019-10-30T00:00:00",
          "2019-11-02T00:00:00",
          "2019-11-03T00:00:00",
          "2019-11-03T00:00:00",
          "2019-11-03T00:00:00",
          "2019-11-04T00:00:00",
          "2019-11-06T00:00:00",
          "2019-11-08T00:00:00",
          "2019-11-08T00:00:00",
          "2019-11-12T00:00:00",
          "2019-11-15T00:00:00",
          "2019-11-15T00:00:00",
          "2019-11-16T00:00:00",
          "2019-11-17T00:00:00",
          "2019-11-19T00:00:00",
          "2019-11-23T00:00:00",
          "2019-11-24T00:00:00",
          "2019-11-25T00:00:00",
          "2019-11-27T00:00:00",
          "2019-11-28T00:00:00",
          "2019-11-29T00:00:00",
          "2019-11-30T00:00:00",
          "2019-12-01T00:00:00",
          "2019-12-03T00:00:00",
          "2019-12-06T00:00:00",
          "2019-12-06T00:00:00",
          "2019-12-07T00:00:00",
          "2019-12-07T00:00:00",
          "2019-12-09T00:00:00",
          "2019-12-10T00:00:00",
          "2019-12-12T00:00:00",
          "2019-12-15T00:00:00",
          "2019-12-15T00:00:00",
          "2019-12-15T00:00:00",
          "2019-12-16T00:00:00",
          "2019-12-19T00:00:00"
         ],
         "y": [
          9.552916145324707,
          16.613626306707207,
          17.31733020983244,
          8.722560246785482,
          16.796744713416466,
          10.371166388193766,
          16.747150675455728,
          6.454688480922154,
          6.734464009602864,
          16.2928204536438,
          4.568763077259064,
          8.046066761016846,
          8.29321561540876,
          5.13768310546875,
          9.582210116916233,
          5.594278335571289,
          6.1495441198349,
          8.537987603081596,
          5.698259592056274,
          5.982112288475037,
          17.337867736816406,
          6.3070729573567705,
          5.104598808288574,
          7.997503916422526,
          5.897380828857422,
          8.039764595031738,
          18.002102034432546,
          16.405609528223675,
          18.528217022235577,
          7.925728691948785,
          14.010461080641974,
          6.361757278442383,
          14.580251794112357,
          15.926014507518095,
          6.461525559425354,
          18.312783622741698,
          5.2165290514628095,
          5.534337724958148,
          9.327788829803467,
          6.034951972961426,
          17.68665294647217,
          16.796324561623965,
          4.776589107513428,
          17.66491739373458,
          8.268952051798502,
          14.576895864386307,
          4.821905771891276,
          14.941354831059774,
          8.203938603401184,
          7.329550802707672,
          18.068873524665833,
          17.868658447265624,
          17.355132865905762,
          8.308214823404947,
          16.95475929661801,
          3.618904781341553,
          17.16112914452186,
          19.152773806923314,
          9.578765074412027,
          8.190946292877197,
          7.878813028335571,
          14.72658949631911,
          3.581623077392578,
          9.830973784128824,
          9.516551971435547,
          4.722914314270019,
          7.7178820967674255,
          8.35492604970932,
          9.075614293416342,
          8.484638214111328,
          20.10772768656413,
          6.9267672300338745,
          4.189382195472717,
          6.417601537704468,
          4.570176760355632,
          6.955792486667633,
          7.665214379628499,
          4.350264072418213,
          4.830663681030273,
          4.535829861958821,
          17.471351623535156,
          4.491110165913899,
          3.8996404012044272,
          8.40952262878418,
          17.296394529796782,
          18.71917688278925,
          8.891396141052246,
          18.43014399210612,
          4.004462242126465,
          7.422882954279582,
          4.025746285915375,
          17.757652684261924,
          4.293346881866455,
          4.63885498046875,
          18.223610148710364,
          4.714372634887695,
          3.4074180126190186,
          19.02476059763055,
          5.234921455383301,
          17.473683643341065,
          4.340380350748698,
          17.93727705213759,
          18.62019263373481,
          7.280965487162272,
          17.650486252524637,
          4.315036237239838,
          4.270628392696381,
          5.023248672485352,
          17.714007568359374,
          18.53600208575909,
          4.331211090087891,
          5.085316022237142,
          16.995535350981214,
          9.186902046203613,
          10.486283111572266,
          4.430718612670899,
          5.881717300415039,
          6.642976570129394,
          18.343248030718634,
          4.088359196980794,
          8.57658831278483,
          7.037051064627511,
          7.825629615783692,
          14.61229748196072,
          4.110267003377278,
          4.289787292480469,
          17.718721726361444,
          7.414271763392857,
          5.4489322900772095,
          4.759329199790955,
          18.75779760451544,
          18.359255260891384,
          3.5330116748809814,
          18.316375330874795,
          7.248373508453369,
          7.561371803283691,
          6.822665078299386,
          6.455132961273193,
          19.099786949157714,
          18.439539965461282,
          6.815785725911458,
          3.6299332976341248,
          6.832427978515625,
          18.768679904937745,
          3.8416271209716797,
          7.848540782928467,
          3.8494208653767905,
          4.331622004508972,
          18.835047461769797,
          3.540098190307617,
          4.482671499252319,
          18.223891007272822,
          17.65449323152241,
          18.270001220703126,
          4.400990307331085,
          4.468110084533691,
          8.17317827542623,
          18.289580625646256,
          17.877622905530426,
          17.91141710783306,
          7.588570404052734,
          18.862955878762637,
          8.749280571937561,
          4.873691082000732,
          8.996313492457071,
          18.140403565906343,
          8.616068919499716,
          4.848068118095398,
          8.047411859035492,
          3.976374566555023,
          10.529949188232422,
          18.015303360788447,
          4.237890529632568,
          17.089530436197915,
          5.468996286392212,
          4.189639409383138,
          17.516359028063324,
          8.160975615183512,
          8.556523323059082,
          5.070660710334778,
          6.511116981506348,
          17.349148750305176,
          5.901227116584778,
          8.65559697151184,
          8.662265141805014,
          6.408195829391479,
          18.008453726768494,
          4.895586967468262,
          17.952610439724392,
          16.73413366429946,
          17.987117585681734,
          3.6636244455973306,
          3.741965889930725,
          8.01042881011963,
          18.36878356933594,
          17.283834351433647,
          18.578323951134315
         ]
        },
        {
         "line": {
          "color": "blue"
         },
         "mode": "lines",
         "name": "test of SMBA 5450 in 2017",
         "type": "scatter",
         "x": [
          "2019-01-01T00:00:00",
          "2019-01-03T00:00:00",
          "2019-01-09T00:00:00",
          "2019-01-10T00:00:00",
          "2019-01-10T00:00:00",
          "2019-01-12T00:00:00",
          "2019-01-14T00:00:00",
          "2019-01-18T00:00:00",
          "2019-01-20T00:00:00",
          "2019-01-24T00:00:00",
          "2019-01-25T00:00:00",
          "2019-01-28T00:00:00",
          "2019-01-30T00:00:00",
          "2019-01-31T00:00:00",
          "2019-02-03T00:00:00",
          "2019-02-08T00:00:00",
          "2019-02-09T00:00:00",
          "2019-02-10T00:00:00",
          "2019-02-11T00:00:00",
          "2019-02-12T00:00:00",
          "2019-02-12T00:00:00",
          "2019-02-15T00:00:00",
          "2019-02-18T00:00:00",
          "2019-02-19T00:00:00",
          "2019-02-19T00:00:00",
          "2019-02-21T00:00:00",
          "2019-02-22T00:00:00",
          "2019-02-25T00:00:00",
          "2019-02-28T00:00:00",
          "2019-03-01T00:00:00",
          "2019-03-01T00:00:00",
          "2019-03-01T00:00:00",
          "2019-03-06T00:00:00",
          "2019-03-07T00:00:00",
          "2019-03-08T00:00:00",
          "2019-03-10T00:00:00",
          "2019-03-11T00:00:00",
          "2019-03-16T00:00:00",
          "2019-03-18T00:00:00",
          "2019-03-21T00:00:00",
          "2019-03-21T00:00:00",
          "2019-03-22T00:00:00",
          "2019-03-25T00:00:00",
          "2019-03-29T00:00:00",
          "2019-04-03T00:00:00",
          "2019-04-04T00:00:00",
          "2019-04-05T00:00:00",
          "2019-04-05T00:00:00",
          "2019-04-06T00:00:00",
          "2019-04-07T00:00:00",
          "2019-04-12T00:00:00",
          "2019-04-15T00:00:00",
          "2019-04-16T00:00:00",
          "2019-04-23T00:00:00",
          "2019-04-23T00:00:00",
          "2019-04-25T00:00:00",
          "2019-04-27T00:00:00",
          "2019-04-28T00:00:00",
          "2019-04-30T00:00:00",
          "2019-05-06T00:00:00",
          "2019-05-08T00:00:00",
          "2019-05-09T00:00:00",
          "2019-05-09T00:00:00",
          "2019-05-11T00:00:00",
          "2019-05-13T00:00:00",
          "2019-05-14T00:00:00",
          "2019-05-16T00:00:00",
          "2019-05-19T00:00:00",
          "2019-05-25T00:00:00",
          "2019-05-26T00:00:00",
          "2019-06-02T00:00:00",
          "2019-06-07T00:00:00",
          "2019-06-11T00:00:00",
          "2019-06-12T00:00:00",
          "2019-06-15T00:00:00",
          "2019-06-17T00:00:00",
          "2019-06-18T00:00:00",
          "2019-06-19T00:00:00",
          "2019-06-21T00:00:00",
          "2019-06-27T00:00:00",
          "2019-06-27T00:00:00",
          "2019-06-28T00:00:00",
          "2019-06-30T00:00:00",
          "2019-06-30T00:00:00",
          "2019-07-01T00:00:00",
          "2019-07-06T00:00:00",
          "2019-07-07T00:00:00",
          "2019-07-08T00:00:00",
          "2019-07-09T00:00:00",
          "2019-07-10T00:00:00",
          "2019-07-11T00:00:00",
          "2019-07-12T00:00:00",
          "2019-07-15T00:00:00",
          "2019-07-18T00:00:00",
          "2019-07-19T00:00:00",
          "2019-07-20T00:00:00",
          "2019-07-20T00:00:00",
          "2019-07-21T00:00:00",
          "2019-07-25T00:00:00",
          "2019-07-26T00:00:00",
          "2019-07-29T00:00:00",
          "2019-07-29T00:00:00",
          "2019-07-30T00:00:00",
          "2019-07-31T00:00:00",
          "2019-08-01T00:00:00",
          "2019-08-03T00:00:00",
          "2019-08-05T00:00:00",
          "2019-08-06T00:00:00",
          "2019-08-08T00:00:00",
          "2019-08-10T00:00:00",
          "2019-08-10T00:00:00",
          "2019-08-16T00:00:00",
          "2019-08-17T00:00:00",
          "2019-08-17T00:00:00",
          "2019-08-18T00:00:00",
          "2019-08-22T00:00:00",
          "2019-08-22T00:00:00",
          "2019-08-24T00:00:00",
          "2019-08-26T00:00:00",
          "2019-08-28T00:00:00",
          "2019-08-29T00:00:00",
          "2019-08-30T00:00:00",
          "2019-09-01T00:00:00",
          "2019-09-06T00:00:00",
          "2019-09-09T00:00:00",
          "2019-09-10T00:00:00",
          "2019-09-11T00:00:00",
          "2019-09-11T00:00:00",
          "2019-09-12T00:00:00",
          "2019-09-13T00:00:00",
          "2019-09-15T00:00:00",
          "2019-09-16T00:00:00",
          "2019-09-16T00:00:00",
          "2019-09-17T00:00:00",
          "2019-09-17T00:00:00",
          "2019-09-18T00:00:00",
          "2019-09-19T00:00:00",
          "2019-09-20T00:00:00",
          "2019-09-22T00:00:00",
          "2019-09-23T00:00:00",
          "2019-09-23T00:00:00",
          "2019-09-27T00:00:00",
          "2019-10-01T00:00:00",
          "2019-10-02T00:00:00",
          "2019-10-03T00:00:00",
          "2019-10-03T00:00:00",
          "2019-10-04T00:00:00",
          "2019-10-05T00:00:00",
          "2019-10-05T00:00:00",
          "2019-10-06T00:00:00",
          "2019-10-08T00:00:00",
          "2019-10-08T00:00:00",
          "2019-10-09T00:00:00",
          "2019-10-10T00:00:00",
          "2019-10-11T00:00:00",
          "2019-10-13T00:00:00",
          "2019-10-13T00:00:00",
          "2019-10-21T00:00:00",
          "2019-10-23T00:00:00",
          "2019-10-25T00:00:00",
          "2019-10-26T00:00:00",
          "2019-10-30T00:00:00",
          "2019-11-02T00:00:00",
          "2019-11-03T00:00:00",
          "2019-11-03T00:00:00",
          "2019-11-03T00:00:00",
          "2019-11-04T00:00:00",
          "2019-11-06T00:00:00",
          "2019-11-08T00:00:00",
          "2019-11-08T00:00:00",
          "2019-11-12T00:00:00",
          "2019-11-15T00:00:00",
          "2019-11-15T00:00:00",
          "2019-11-16T00:00:00",
          "2019-11-17T00:00:00",
          "2019-11-19T00:00:00",
          "2019-11-23T00:00:00",
          "2019-11-24T00:00:00",
          "2019-11-25T00:00:00",
          "2019-11-27T00:00:00",
          "2019-11-28T00:00:00",
          "2019-11-29T00:00:00",
          "2019-11-30T00:00:00",
          "2019-12-01T00:00:00",
          "2019-12-03T00:00:00",
          "2019-12-06T00:00:00",
          "2019-12-06T00:00:00",
          "2019-12-07T00:00:00",
          "2019-12-07T00:00:00",
          "2019-12-09T00:00:00",
          "2019-12-10T00:00:00",
          "2019-12-12T00:00:00",
          "2019-12-15T00:00:00",
          "2019-12-15T00:00:00",
          "2019-12-15T00:00:00",
          "2019-12-16T00:00:00",
          "2019-12-19T00:00:00"
         ],
         "y": [
          6,
          12,
          20,
          4,
          14,
          7,
          16,
          8,
          4,
          3,
          5,
          5,
          8,
          6,
          10,
          6,
          5,
          10,
          7,
          5,
          12,
          4,
          6,
          7,
          4,
          6,
          15,
          13,
          14,
          10,
          22,
          4,
          20,
          18,
          5,
          21,
          7,
          8,
          3,
          6,
          11,
          18,
          6,
          20,
          7,
          20,
          4,
          13,
          5,
          9,
          17,
          16,
          21,
          4,
          20,
          6,
          14,
          20,
          7,
          11,
          9,
          14,
          6,
          7,
          4,
          6,
          9,
          9,
          4,
          9,
          7,
          5,
          5,
          11,
          4,
          9,
          7,
          5,
          4,
          4,
          20,
          4,
          4,
          6,
          22,
          22,
          6,
          19,
          4,
          7,
          5,
          20,
          2,
          4,
          18,
          4,
          2,
          20,
          4,
          21,
          4,
          19,
          19,
          7,
          23,
          5,
          5,
          4,
          21,
          27,
          6,
          4,
          22,
          6,
          6,
          6,
          6,
          6,
          18,
          4,
          4,
          8,
          6,
          10,
          4,
          4,
          18,
          8,
          3,
          3,
          22,
          19,
          5,
          20,
          7,
          6,
          8,
          9,
          21,
          18,
          7,
          5,
          2,
          21,
          4,
          7,
          4,
          3,
          23,
          6,
          3,
          20,
          20,
          16,
          5,
          4,
          7,
          18,
          20,
          20,
          6,
          18,
          5,
          3,
          7,
          22,
          7,
          3,
          9,
          5,
          4,
          20,
          6,
          16,
          3,
          4,
          20,
          7,
          5,
          5,
          7,
          21,
          3,
          7,
          4,
          11,
          17,
          4,
          19,
          18,
          22,
          4,
          5,
          6,
          21,
          19,
          14
         ]
        }
       ],
       "layout": {
        "legend": {
         "tracegroupgap": 0
        },
        "margin": {
         "t": 60
        },
        "template": {
         "data": {
          "bar": [
           {
            "error_x": {
             "color": "#2a3f5f"
            },
            "error_y": {
             "color": "#2a3f5f"
            },
            "marker": {
             "line": {
              "color": "#E5ECF6",
              "width": 0.5
             },
             "pattern": {
              "fillmode": "overlay",
              "size": 10,
              "solidity": 0.2
             }
            },
            "type": "bar"
           }
          ],
          "barpolar": [
           {
            "marker": {
             "line": {
              "color": "#E5ECF6",
              "width": 0.5
             },
             "pattern": {
              "fillmode": "overlay",
              "size": 10,
              "solidity": 0.2
             }
            },
            "type": "barpolar"
           }
          ],
          "carpet": [
           {
            "aaxis": {
             "endlinecolor": "#2a3f5f",
             "gridcolor": "white",
             "linecolor": "white",
             "minorgridcolor": "white",
             "startlinecolor": "#2a3f5f"
            },
            "baxis": {
             "endlinecolor": "#2a3f5f",
             "gridcolor": "white",
             "linecolor": "white",
             "minorgridcolor": "white",
             "startlinecolor": "#2a3f5f"
            },
            "type": "carpet"
           }
          ],
          "choropleth": [
           {
            "colorbar": {
             "outlinewidth": 0,
             "ticks": ""
            },
            "type": "choropleth"
           }
          ],
          "contour": [
           {
            "colorbar": {
             "outlinewidth": 0,
             "ticks": ""
            },
            "colorscale": [
             [
              0,
              "#0d0887"
             ],
             [
              0.1111111111111111,
              "#46039f"
             ],
             [
              0.2222222222222222,
              "#7201a8"
             ],
             [
              0.3333333333333333,
              "#9c179e"
             ],
             [
              0.4444444444444444,
              "#bd3786"
             ],
             [
              0.5555555555555556,
              "#d8576b"
             ],
             [
              0.6666666666666666,
              "#ed7953"
             ],
             [
              0.7777777777777778,
              "#fb9f3a"
             ],
             [
              0.8888888888888888,
              "#fdca26"
             ],
             [
              1,
              "#f0f921"
             ]
            ],
            "type": "contour"
           }
          ],
          "contourcarpet": [
           {
            "colorbar": {
             "outlinewidth": 0,
             "ticks": ""
            },
            "type": "contourcarpet"
           }
          ],
          "heatmap": [
           {
            "colorbar": {
             "outlinewidth": 0,
             "ticks": ""
            },
            "colorscale": [
             [
              0,
              "#0d0887"
             ],
             [
              0.1111111111111111,
              "#46039f"
             ],
             [
              0.2222222222222222,
              "#7201a8"
             ],
             [
              0.3333333333333333,
              "#9c179e"
             ],
             [
              0.4444444444444444,
              "#bd3786"
             ],
             [
              0.5555555555555556,
              "#d8576b"
             ],
             [
              0.6666666666666666,
              "#ed7953"
             ],
             [
              0.7777777777777778,
              "#fb9f3a"
             ],
             [
              0.8888888888888888,
              "#fdca26"
             ],
             [
              1,
              "#f0f921"
             ]
            ],
            "type": "heatmap"
           }
          ],
          "heatmapgl": [
           {
            "colorbar": {
             "outlinewidth": 0,
             "ticks": ""
            },
            "colorscale": [
             [
              0,
              "#0d0887"
             ],
             [
              0.1111111111111111,
              "#46039f"
             ],
             [
              0.2222222222222222,
              "#7201a8"
             ],
             [
              0.3333333333333333,
              "#9c179e"
             ],
             [
              0.4444444444444444,
              "#bd3786"
             ],
             [
              0.5555555555555556,
              "#d8576b"
             ],
             [
              0.6666666666666666,
              "#ed7953"
             ],
             [
              0.7777777777777778,
              "#fb9f3a"
             ],
             [
              0.8888888888888888,
              "#fdca26"
             ],
             [
              1,
              "#f0f921"
             ]
            ],
            "type": "heatmapgl"
           }
          ],
          "histogram": [
           {
            "marker": {
             "pattern": {
              "fillmode": "overlay",
              "size": 10,
              "solidity": 0.2
             }
            },
            "type": "histogram"
           }
          ],
          "histogram2d": [
           {
            "colorbar": {
             "outlinewidth": 0,
             "ticks": ""
            },
            "colorscale": [
             [
              0,
              "#0d0887"
             ],
             [
              0.1111111111111111,
              "#46039f"
             ],
             [
              0.2222222222222222,
              "#7201a8"
             ],
             [
              0.3333333333333333,
              "#9c179e"
             ],
             [
              0.4444444444444444,
              "#bd3786"
             ],
             [
              0.5555555555555556,
              "#d8576b"
             ],
             [
              0.6666666666666666,
              "#ed7953"
             ],
             [
              0.7777777777777778,
              "#fb9f3a"
             ],
             [
              0.8888888888888888,
              "#fdca26"
             ],
             [
              1,
              "#f0f921"
             ]
            ],
            "type": "histogram2d"
           }
          ],
          "histogram2dcontour": [
           {
            "colorbar": {
             "outlinewidth": 0,
             "ticks": ""
            },
            "colorscale": [
             [
              0,
              "#0d0887"
             ],
             [
              0.1111111111111111,
              "#46039f"
             ],
             [
              0.2222222222222222,
              "#7201a8"
             ],
             [
              0.3333333333333333,
              "#9c179e"
             ],
             [
              0.4444444444444444,
              "#bd3786"
             ],
             [
              0.5555555555555556,
              "#d8576b"
             ],
             [
              0.6666666666666666,
              "#ed7953"
             ],
             [
              0.7777777777777778,
              "#fb9f3a"
             ],
             [
              0.8888888888888888,
              "#fdca26"
             ],
             [
              1,
              "#f0f921"
             ]
            ],
            "type": "histogram2dcontour"
           }
          ],
          "mesh3d": [
           {
            "colorbar": {
             "outlinewidth": 0,
             "ticks": ""
            },
            "type": "mesh3d"
           }
          ],
          "parcoords": [
           {
            "line": {
             "colorbar": {
              "outlinewidth": 0,
              "ticks": ""
             }
            },
            "type": "parcoords"
           }
          ],
          "pie": [
           {
            "automargin": true,
            "type": "pie"
           }
          ],
          "scatter": [
           {
            "fillpattern": {
             "fillmode": "overlay",
             "size": 10,
             "solidity": 0.2
            },
            "type": "scatter"
           }
          ],
          "scatter3d": [
           {
            "line": {
             "colorbar": {
              "outlinewidth": 0,
              "ticks": ""
             }
            },
            "marker": {
             "colorbar": {
              "outlinewidth": 0,
              "ticks": ""
             }
            },
            "type": "scatter3d"
           }
          ],
          "scattercarpet": [
           {
            "marker": {
             "colorbar": {
              "outlinewidth": 0,
              "ticks": ""
             }
            },
            "type": "scattercarpet"
           }
          ],
          "scattergeo": [
           {
            "marker": {
             "colorbar": {
              "outlinewidth": 0,
              "ticks": ""
             }
            },
            "type": "scattergeo"
           }
          ],
          "scattergl": [
           {
            "marker": {
             "colorbar": {
              "outlinewidth": 0,
              "ticks": ""
             }
            },
            "type": "scattergl"
           }
          ],
          "scattermapbox": [
           {
            "marker": {
             "colorbar": {
              "outlinewidth": 0,
              "ticks": ""
             }
            },
            "type": "scattermapbox"
           }
          ],
          "scatterpolar": [
           {
            "marker": {
             "colorbar": {
              "outlinewidth": 0,
              "ticks": ""
             }
            },
            "type": "scatterpolar"
           }
          ],
          "scatterpolargl": [
           {
            "marker": {
             "colorbar": {
              "outlinewidth": 0,
              "ticks": ""
             }
            },
            "type": "scatterpolargl"
           }
          ],
          "scatterternary": [
           {
            "marker": {
             "colorbar": {
              "outlinewidth": 0,
              "ticks": ""
             }
            },
            "type": "scatterternary"
           }
          ],
          "surface": [
           {
            "colorbar": {
             "outlinewidth": 0,
             "ticks": ""
            },
            "colorscale": [
             [
              0,
              "#0d0887"
             ],
             [
              0.1111111111111111,
              "#46039f"
             ],
             [
              0.2222222222222222,
              "#7201a8"
             ],
             [
              0.3333333333333333,
              "#9c179e"
             ],
             [
              0.4444444444444444,
              "#bd3786"
             ],
             [
              0.5555555555555556,
              "#d8576b"
             ],
             [
              0.6666666666666666,
              "#ed7953"
             ],
             [
              0.7777777777777778,
              "#fb9f3a"
             ],
             [
              0.8888888888888888,
              "#fdca26"
             ],
             [
              1,
              "#f0f921"
             ]
            ],
            "type": "surface"
           }
          ],
          "table": [
           {
            "cells": {
             "fill": {
              "color": "#EBF0F8"
             },
             "line": {
              "color": "white"
             }
            },
            "header": {
             "fill": {
              "color": "#C8D4E3"
             },
             "line": {
              "color": "white"
             }
            },
            "type": "table"
           }
          ]
         },
         "layout": {
          "annotationdefaults": {
           "arrowcolor": "#2a3f5f",
           "arrowhead": 0,
           "arrowwidth": 1
          },
          "autotypenumbers": "strict",
          "coloraxis": {
           "colorbar": {
            "outlinewidth": 0,
            "ticks": ""
           }
          },
          "colorscale": {
           "diverging": [
            [
             0,
             "#8e0152"
            ],
            [
             0.1,
             "#c51b7d"
            ],
            [
             0.2,
             "#de77ae"
            ],
            [
             0.3,
             "#f1b6da"
            ],
            [
             0.4,
             "#fde0ef"
            ],
            [
             0.5,
             "#f7f7f7"
            ],
            [
             0.6,
             "#e6f5d0"
            ],
            [
             0.7,
             "#b8e186"
            ],
            [
             0.8,
             "#7fbc41"
            ],
            [
             0.9,
             "#4d9221"
            ],
            [
             1,
             "#276419"
            ]
           ],
           "sequential": [
            [
             0,
             "#0d0887"
            ],
            [
             0.1111111111111111,
             "#46039f"
            ],
            [
             0.2222222222222222,
             "#7201a8"
            ],
            [
             0.3333333333333333,
             "#9c179e"
            ],
            [
             0.4444444444444444,
             "#bd3786"
            ],
            [
             0.5555555555555556,
             "#d8576b"
            ],
            [
             0.6666666666666666,
             "#ed7953"
            ],
            [
             0.7777777777777778,
             "#fb9f3a"
            ],
            [
             0.8888888888888888,
             "#fdca26"
            ],
            [
             1,
             "#f0f921"
            ]
           ],
           "sequentialminus": [
            [
             0,
             "#0d0887"
            ],
            [
             0.1111111111111111,
             "#46039f"
            ],
            [
             0.2222222222222222,
             "#7201a8"
            ],
            [
             0.3333333333333333,
             "#9c179e"
            ],
            [
             0.4444444444444444,
             "#bd3786"
            ],
            [
             0.5555555555555556,
             "#d8576b"
            ],
            [
             0.6666666666666666,
             "#ed7953"
            ],
            [
             0.7777777777777778,
             "#fb9f3a"
            ],
            [
             0.8888888888888888,
             "#fdca26"
            ],
            [
             1,
             "#f0f921"
            ]
           ]
          },
          "colorway": [
           "#636efa",
           "#EF553B",
           "#00cc96",
           "#ab63fa",
           "#FFA15A",
           "#19d3f3",
           "#FF6692",
           "#B6E880",
           "#FF97FF",
           "#FECB52"
          ],
          "font": {
           "color": "#2a3f5f"
          },
          "geo": {
           "bgcolor": "white",
           "lakecolor": "white",
           "landcolor": "#E5ECF6",
           "showlakes": true,
           "showland": true,
           "subunitcolor": "white"
          },
          "hoverlabel": {
           "align": "left"
          },
          "hovermode": "closest",
          "mapbox": {
           "style": "light"
          },
          "paper_bgcolor": "white",
          "plot_bgcolor": "#E5ECF6",
          "polar": {
           "angularaxis": {
            "gridcolor": "white",
            "linecolor": "white",
            "ticks": ""
           },
           "bgcolor": "#E5ECF6",
           "radialaxis": {
            "gridcolor": "white",
            "linecolor": "white",
            "ticks": ""
           }
          },
          "scene": {
           "xaxis": {
            "backgroundcolor": "#E5ECF6",
            "gridcolor": "white",
            "gridwidth": 2,
            "linecolor": "white",
            "showbackground": true,
            "ticks": "",
            "zerolinecolor": "white"
           },
           "yaxis": {
            "backgroundcolor": "#E5ECF6",
            "gridcolor": "white",
            "gridwidth": 2,
            "linecolor": "white",
            "showbackground": true,
            "ticks": "",
            "zerolinecolor": "white"
           },
           "zaxis": {
            "backgroundcolor": "#E5ECF6",
            "gridcolor": "white",
            "gridwidth": 2,
            "linecolor": "white",
            "showbackground": true,
            "ticks": "",
            "zerolinecolor": "white"
           }
          },
          "shapedefaults": {
           "line": {
            "color": "#2a3f5f"
           }
          },
          "ternary": {
           "aaxis": {
            "gridcolor": "white",
            "linecolor": "white",
            "ticks": ""
           },
           "baxis": {
            "gridcolor": "white",
            "linecolor": "white",
            "ticks": ""
           },
           "bgcolor": "#E5ECF6",
           "caxis": {
            "gridcolor": "white",
            "linecolor": "white",
            "ticks": ""
           }
          },
          "title": {
           "x": 0.05
          },
          "xaxis": {
           "automargin": true,
           "gridcolor": "white",
           "linecolor": "white",
           "ticks": "",
           "title": {
            "standoff": 15
           },
           "zerolinecolor": "white",
           "zerolinewidth": 2
          },
          "yaxis": {
           "automargin": true,
           "gridcolor": "white",
           "linecolor": "white",
           "ticks": "",
           "title": {
            "standoff": 15
           },
           "zerolinecolor": "white",
           "zerolinewidth": 2
          }
         }
        },
        "xaxis": {
         "anchor": "y",
         "domain": [
          0,
          1
         ]
        },
        "yaxis": {
         "anchor": "x",
         "domain": [
          0,
          1
         ]
        }
       }
      }
     },
     "metadata": {},
     "output_type": "display_data"
    }
   ],
   "source": [
    "fig = px.line()\n",
    "fig = go.Figure(fig)\n",
    "df_2017 = df_2017.sort_values(by=\"Date\")\n",
    "\n",
    "\n",
    "fig.add_trace(go.Scatter(x=df_2017['Date'], y=df_2017['y_pred_inverted'], \n",
    "                         mode='lines', name='prediction of Client SMBA 5450 in 2017', line=dict(color='red')))\n",
    "fig.add_trace(go.Scatter(x=df_2017['Date'], y=df_2017['Y_inverted_test'], \n",
    "                         mode='lines', name='test of SMBA 5450 in 2017', line=dict(color='blue')))\n",
    "fig.show()"
   ]
  },
  {
   "cell_type": "markdown",
   "metadata": {},
   "source": [
    "### 3.2 LightGBM\n"
   ]
  },
  {
   "cell_type": "code",
   "execution_count": 86,
   "metadata": {},
   "outputs": [],
   "source": [
    "from lightgbm import LGBMRegressor"
   ]
  },
  {
   "cell_type": "code",
   "execution_count": 87,
   "metadata": {},
   "outputs": [
    {
     "name": "stdout",
     "output_type": "stream",
     "text": [
      "[LightGBM] [Warning] Found whitespace in feature_names, replace with underlines\n",
      "[LightGBM] [Info] Auto-choosing row-wise multi-threading, the overhead of testing was 0.002050 seconds.\n",
      "You can set `force_row_wise=true` to remove the overhead.\n",
      "And if memory is not enough, you can set `force_col_wise=true`.\n",
      "[LightGBM] [Info] Total Bins 1040\n",
      "[LightGBM] [Info] Number of data points in the train set: 185688, number of used features: 225\n",
      "[LightGBM] [Info] Start training from score 0.235885\n"
     ]
    }
   ],
   "source": [
    "model_lgbm = LGBMRegressor(n_estimators=1000, learning_rate=0.1, max_depth=10, random_state=42)\n",
    "model_lgbm.fit(x_train, y_train)\n",
    "y_pred_lgbm = model_lgbm.predict(x_test)\n",
    "\n"
   ]
  },
  {
   "cell_type": "code",
   "execution_count": 88,
   "metadata": {},
   "outputs": [],
   "source": [
    "from joblib import load\n",
    "model_loaded=load('./../../deployML/notebooks/model_lgbm.joblib')\n",
    "y_pred_loaded=model_loaded.predict(x_test)"
   ]
  },
  {
   "cell_type": "code",
   "execution_count": 89,
   "metadata": {},
   "outputs": [
    {
     "data": {
      "text/plain": [
       "['../../deployML/notebooks/model_lgbm.joblib']"
      ]
     },
     "execution_count": 89,
     "metadata": {},
     "output_type": "execute_result"
    }
   ],
   "source": [
    "from joblib import dump\n",
    "dump(model_lgbm,'../../deployML/notebooks/model_lgbm.joblib')\n"
   ]
  },
  {
   "cell_type": "code",
   "execution_count": 90,
   "metadata": {},
   "outputs": [
    {
     "name": "stdout",
     "output_type": "stream",
     "text": [
      "RMSE: 0.10246062882489643\n"
     ]
    }
   ],
   "source": [
    "# Evaluate the model\n",
    "rmse_lgbm = mean_squared_error(y_test, y_pred_lgbm, squared=False)\n",
    "print(f\"RMSE: {rmse_lgbm}\")"
   ]
  },
  {
   "cell_type": "code",
   "execution_count": 91,
   "metadata": {},
   "outputs": [
    {
     "data": {
      "text/plain": [
       "0.6958385733207818"
      ]
     },
     "execution_count": 91,
     "metadata": {},
     "output_type": "execute_result"
    }
   ],
   "source": [
    "mae_model3 = mean_absolute_error(y_test, y_pred_lgbm)\n",
    "r2_model3 = r2_score(y_test, y_pred_lgbm)\n",
    "r2_model3"
   ]
  },
  {
   "cell_type": "code",
   "execution_count": 92,
   "metadata": {},
   "outputs": [],
   "source": [
    "y_pred_lgbm = pd.Series(y_pred_lgbm, name='SUM(QTEPRD)')\n",
    "y_pred_lgbm.index = x_test.index\n",
    "y_pred_loaded= pd.Series(y_pred_loaded, name='SUM(QTEPRD)')\n",
    "y_pred_loaded.index = x_test.index\n"
   ]
  },
  {
   "cell_type": "code",
   "execution_count": 93,
   "metadata": {},
   "outputs": [
    {
     "data": {
      "text/html": [
       "<div>\n",
       "<style scoped>\n",
       "    .dataframe tbody tr th:only-of-type {\n",
       "        vertical-align: middle;\n",
       "    }\n",
       "\n",
       "    .dataframe tbody tr th {\n",
       "        vertical-align: top;\n",
       "    }\n",
       "\n",
       "    .dataframe thead th {\n",
       "        text-align: right;\n",
       "    }\n",
       "</style>\n",
       "<table border=\"1\" class=\"dataframe\">\n",
       "  <thead>\n",
       "    <tr style=\"text-align: right;\">\n",
       "      <th></th>\n",
       "      <th>ANCSCP</th>\n",
       "      <th>prixHT</th>\n",
       "      <th>lag1_previous_order</th>\n",
       "      <th>lag3_previous_order</th>\n",
       "      <th>lag6_previous_order</th>\n",
       "      <th>lag9_previous_order</th>\n",
       "      <th>LIBPRD_APG AGILIX PREMIUM GAS.</th>\n",
       "      <th>LIBPRD_APS AGILIX PREMIUM ESS.</th>\n",
       "      <th>LIBPRD_GASOIL</th>\n",
       "      <th>LIBPRD_GASOIL 50</th>\n",
       "      <th>...</th>\n",
       "      <th>LIBLOC_ZARZOUNA</th>\n",
       "      <th>Year</th>\n",
       "      <th>Month</th>\n",
       "      <th>Day</th>\n",
       "      <th>Weekday</th>\n",
       "      <th>Quarter</th>\n",
       "      <th>month_sin</th>\n",
       "      <th>month_cos</th>\n",
       "      <th>day_sin</th>\n",
       "      <th>day_cos</th>\n",
       "    </tr>\n",
       "  </thead>\n",
       "  <tbody>\n",
       "    <tr>\n",
       "      <th>189709</th>\n",
       "      <td>0.892416</td>\n",
       "      <td>0.681572</td>\n",
       "      <td>0.212121</td>\n",
       "      <td>0.060606</td>\n",
       "      <td>0.121212</td>\n",
       "      <td>0.212121</td>\n",
       "      <td>0.0</td>\n",
       "      <td>0.0</td>\n",
       "      <td>0.0</td>\n",
       "      <td>0.0</td>\n",
       "      <td>...</td>\n",
       "      <td>0.0</td>\n",
       "      <td>0.5</td>\n",
       "      <td>1.000000</td>\n",
       "      <td>1.000000</td>\n",
       "      <td>0.000000</td>\n",
       "      <td>1.000000</td>\n",
       "      <td>0.500000</td>\n",
       "      <td>1.000000</td>\n",
       "      <td>0.500000</td>\n",
       "      <td>1.000000</td>\n",
       "    </tr>\n",
       "    <tr>\n",
       "      <th>141284</th>\n",
       "      <td>0.783069</td>\n",
       "      <td>0.239293</td>\n",
       "      <td>0.424242</td>\n",
       "      <td>0.484848</td>\n",
       "      <td>0.424242</td>\n",
       "      <td>0.424242</td>\n",
       "      <td>0.0</td>\n",
       "      <td>0.0</td>\n",
       "      <td>1.0</td>\n",
       "      <td>0.0</td>\n",
       "      <td>...</td>\n",
       "      <td>0.0</td>\n",
       "      <td>0.5</td>\n",
       "      <td>0.545455</td>\n",
       "      <td>0.366667</td>\n",
       "      <td>0.500000</td>\n",
       "      <td>0.666667</td>\n",
       "      <td>0.250000</td>\n",
       "      <td>0.066987</td>\n",
       "      <td>0.826105</td>\n",
       "      <td>0.118359</td>\n",
       "    </tr>\n",
       "    <tr>\n",
       "      <th>143249</th>\n",
       "      <td>0.791887</td>\n",
       "      <td>0.912134</td>\n",
       "      <td>0.090909</td>\n",
       "      <td>0.121212</td>\n",
       "      <td>0.121212</td>\n",
       "      <td>0.121212</td>\n",
       "      <td>0.0</td>\n",
       "      <td>1.0</td>\n",
       "      <td>0.0</td>\n",
       "      <td>0.0</td>\n",
       "      <td>...</td>\n",
       "      <td>0.0</td>\n",
       "      <td>1.0</td>\n",
       "      <td>0.818182</td>\n",
       "      <td>0.933333</td>\n",
       "      <td>0.166667</td>\n",
       "      <td>1.000000</td>\n",
       "      <td>0.066987</td>\n",
       "      <td>0.750000</td>\n",
       "      <td>0.302569</td>\n",
       "      <td>0.959375</td>\n",
       "    </tr>\n",
       "    <tr>\n",
       "      <th>46445</th>\n",
       "      <td>0.476190</td>\n",
       "      <td>0.085916</td>\n",
       "      <td>0.181818</td>\n",
       "      <td>0.060606</td>\n",
       "      <td>0.151515</td>\n",
       "      <td>0.212121</td>\n",
       "      <td>0.0</td>\n",
       "      <td>0.0</td>\n",
       "      <td>1.0</td>\n",
       "      <td>0.0</td>\n",
       "      <td>...</td>\n",
       "      <td>0.0</td>\n",
       "      <td>0.0</td>\n",
       "      <td>0.545455</td>\n",
       "      <td>0.333333</td>\n",
       "      <td>0.166667</td>\n",
       "      <td>0.666667</td>\n",
       "      <td>0.250000</td>\n",
       "      <td>0.066987</td>\n",
       "      <td>0.895896</td>\n",
       "      <td>0.191874</td>\n",
       "    </tr>\n",
       "    <tr>\n",
       "      <th>69285</th>\n",
       "      <td>0.560847</td>\n",
       "      <td>0.121335</td>\n",
       "      <td>0.303030</td>\n",
       "      <td>0.212121</td>\n",
       "      <td>0.181818</td>\n",
       "      <td>0.212121</td>\n",
       "      <td>0.0</td>\n",
       "      <td>0.0</td>\n",
       "      <td>1.0</td>\n",
       "      <td>0.0</td>\n",
       "      <td>...</td>\n",
       "      <td>0.0</td>\n",
       "      <td>0.5</td>\n",
       "      <td>0.090909</td>\n",
       "      <td>0.600000</td>\n",
       "      <td>0.000000</td>\n",
       "      <td>0.000000</td>\n",
       "      <td>0.933013</td>\n",
       "      <td>0.750000</td>\n",
       "      <td>0.173895</td>\n",
       "      <td>0.118359</td>\n",
       "    </tr>\n",
       "  </tbody>\n",
       "</table>\n",
       "<p>5 rows × 229 columns</p>\n",
       "</div>"
      ],
      "text/plain": [
       "          ANCSCP    prixHT  lag1_previous_order  lag3_previous_order  \\\n",
       "189709  0.892416  0.681572             0.212121             0.060606   \n",
       "141284  0.783069  0.239293             0.424242             0.484848   \n",
       "143249  0.791887  0.912134             0.090909             0.121212   \n",
       "46445   0.476190  0.085916             0.181818             0.060606   \n",
       "69285   0.560847  0.121335             0.303030             0.212121   \n",
       "\n",
       "        lag6_previous_order  lag9_previous_order  \\\n",
       "189709             0.121212             0.212121   \n",
       "141284             0.424242             0.424242   \n",
       "143249             0.121212             0.121212   \n",
       "46445              0.151515             0.212121   \n",
       "69285              0.181818             0.212121   \n",
       "\n",
       "        LIBPRD_APG AGILIX PREMIUM GAS.  LIBPRD_APS AGILIX PREMIUM ESS.  \\\n",
       "189709                             0.0                             0.0   \n",
       "141284                             0.0                             0.0   \n",
       "143249                             0.0                             1.0   \n",
       "46445                              0.0                             0.0   \n",
       "69285                              0.0                             0.0   \n",
       "\n",
       "        LIBPRD_GASOIL  LIBPRD_GASOIL 50  ...  LIBLOC_ZARZOUNA  Year     Month  \\\n",
       "189709            0.0               0.0  ...              0.0   0.5  1.000000   \n",
       "141284            1.0               0.0  ...              0.0   0.5  0.545455   \n",
       "143249            0.0               0.0  ...              0.0   1.0  0.818182   \n",
       "46445             1.0               0.0  ...              0.0   0.0  0.545455   \n",
       "69285             1.0               0.0  ...              0.0   0.5  0.090909   \n",
       "\n",
       "             Day   Weekday   Quarter  month_sin  month_cos   day_sin   day_cos  \n",
       "189709  1.000000  0.000000  1.000000   0.500000   1.000000  0.500000  1.000000  \n",
       "141284  0.366667  0.500000  0.666667   0.250000   0.066987  0.826105  0.118359  \n",
       "143249  0.933333  0.166667  1.000000   0.066987   0.750000  0.302569  0.959375  \n",
       "46445   0.333333  0.166667  0.666667   0.250000   0.066987  0.895896  0.191874  \n",
       "69285   0.600000  0.000000  0.000000   0.933013   0.750000  0.173895  0.118359  \n",
       "\n",
       "[5 rows x 229 columns]"
      ]
     },
     "execution_count": 93,
     "metadata": {},
     "output_type": "execute_result"
    }
   ],
   "source": [
    "x_test.head()"
   ]
  },
  {
   "cell_type": "code",
   "execution_count": 94,
   "metadata": {},
   "outputs": [
    {
     "data": {
      "text/html": [
       "<div>\n",
       "<style scoped>\n",
       "    .dataframe tbody tr th:only-of-type {\n",
       "        vertical-align: middle;\n",
       "    }\n",
       "\n",
       "    .dataframe tbody tr th {\n",
       "        vertical-align: top;\n",
       "    }\n",
       "\n",
       "    .dataframe thead th {\n",
       "        text-align: right;\n",
       "    }\n",
       "</style>\n",
       "<table border=\"1\" class=\"dataframe\">\n",
       "  <thead>\n",
       "    <tr style=\"text-align: right;\">\n",
       "      <th></th>\n",
       "      <th>y_test</th>\n",
       "      <th>y_pred_lgbm</th>\n",
       "      <th>Y_inverted_test</th>\n",
       "      <th>y_pred_loaded</th>\n",
       "    </tr>\n",
       "  </thead>\n",
       "  <tbody>\n",
       "    <tr>\n",
       "      <th>189709</th>\n",
       "      <td>0.18750</td>\n",
       "      <td>0.151056</td>\n",
       "      <td>7.0</td>\n",
       "      <td>0.151056</td>\n",
       "    </tr>\n",
       "    <tr>\n",
       "      <th>141284</th>\n",
       "      <td>0.53125</td>\n",
       "      <td>0.392094</td>\n",
       "      <td>18.0</td>\n",
       "      <td>0.392094</td>\n",
       "    </tr>\n",
       "    <tr>\n",
       "      <th>143249</th>\n",
       "      <td>0.06250</td>\n",
       "      <td>0.090761</td>\n",
       "      <td>3.0</td>\n",
       "      <td>0.090761</td>\n",
       "    </tr>\n",
       "    <tr>\n",
       "      <th>46445</th>\n",
       "      <td>0.28125</td>\n",
       "      <td>0.154211</td>\n",
       "      <td>10.0</td>\n",
       "      <td>0.154211</td>\n",
       "    </tr>\n",
       "    <tr>\n",
       "      <th>69285</th>\n",
       "      <td>0.15625</td>\n",
       "      <td>0.183229</td>\n",
       "      <td>6.0</td>\n",
       "      <td>0.183229</td>\n",
       "    </tr>\n",
       "  </tbody>\n",
       "</table>\n",
       "</div>"
      ],
      "text/plain": [
       "         y_test  y_pred_lgbm  Y_inverted_test  y_pred_loaded\n",
       "189709  0.18750     0.151056              7.0       0.151056\n",
       "141284  0.53125     0.392094             18.0       0.392094\n",
       "143249  0.06250     0.090761              3.0       0.090761\n",
       "46445   0.28125     0.154211             10.0       0.154211\n",
       "69285   0.15625     0.183229              6.0       0.183229"
      ]
     },
     "execution_count": 94,
     "metadata": {},
     "output_type": "execute_result"
    }
   ],
   "source": [
    "df_target_test_lgbm=pd.concat([y_test,y_pred_lgbm,Y_inverted_test,y_pred_loaded],axis=1)\n",
    "df_target_test_lgbm.columns=['y_test','y_pred_lgbm','Y_inverted_test','y_pred_loaded']\n",
    "df_target_test_lgbm.head()"
   ]
  },
  {
   "cell_type": "code",
   "execution_count": 95,
   "metadata": {},
   "outputs": [
    {
     "data": {
      "text/html": [
       "<div>\n",
       "<style scoped>\n",
       "    .dataframe tbody tr th:only-of-type {\n",
       "        vertical-align: middle;\n",
       "    }\n",
       "\n",
       "    .dataframe tbody tr th {\n",
       "        vertical-align: top;\n",
       "    }\n",
       "\n",
       "    .dataframe thead th {\n",
       "        text-align: right;\n",
       "    }\n",
       "</style>\n",
       "<table border=\"1\" class=\"dataframe\">\n",
       "  <thead>\n",
       "    <tr style=\"text-align: right;\">\n",
       "      <th></th>\n",
       "      <th>y_test</th>\n",
       "      <th>y_pred_lgbm</th>\n",
       "      <th>Y_inverted_test</th>\n",
       "      <th>y_pred_loaded</th>\n",
       "      <th>y_pred_lgbm_inverted</th>\n",
       "    </tr>\n",
       "  </thead>\n",
       "  <tbody>\n",
       "    <tr>\n",
       "      <th>189709</th>\n",
       "      <td>0.18750</td>\n",
       "      <td>0.151056</td>\n",
       "      <td>7.0</td>\n",
       "      <td>0.151056</td>\n",
       "      <td>5.639408</td>\n",
       "    </tr>\n",
       "    <tr>\n",
       "      <th>141284</th>\n",
       "      <td>0.53125</td>\n",
       "      <td>0.392094</td>\n",
       "      <td>18.0</td>\n",
       "      <td>0.392094</td>\n",
       "      <td>13.285075</td>\n",
       "    </tr>\n",
       "    <tr>\n",
       "      <th>143249</th>\n",
       "      <td>0.06250</td>\n",
       "      <td>0.090761</td>\n",
       "      <td>3.0</td>\n",
       "      <td>0.090761</td>\n",
       "      <td>4.356551</td>\n",
       "    </tr>\n",
       "    <tr>\n",
       "      <th>46445</th>\n",
       "      <td>0.28125</td>\n",
       "      <td>0.154211</td>\n",
       "      <td>10.0</td>\n",
       "      <td>0.154211</td>\n",
       "      <td>5.483057</td>\n",
       "    </tr>\n",
       "    <tr>\n",
       "      <th>69285</th>\n",
       "      <td>0.15625</td>\n",
       "      <td>0.183229</td>\n",
       "      <td>6.0</td>\n",
       "      <td>0.183229</td>\n",
       "      <td>7.035991</td>\n",
       "    </tr>\n",
       "  </tbody>\n",
       "</table>\n",
       "</div>"
      ],
      "text/plain": [
       "         y_test  y_pred_lgbm  Y_inverted_test  y_pred_loaded  \\\n",
       "189709  0.18750     0.151056              7.0       0.151056   \n",
       "141284  0.53125     0.392094             18.0       0.392094   \n",
       "143249  0.06250     0.090761              3.0       0.090761   \n",
       "46445   0.28125     0.154211             10.0       0.154211   \n",
       "69285   0.15625     0.183229              6.0       0.183229   \n",
       "\n",
       "        y_pred_lgbm_inverted  \n",
       "189709              5.639408  \n",
       "141284             13.285075  \n",
       "143249              4.356551  \n",
       "46445               5.483057  \n",
       "69285               7.035991  "
      ]
     },
     "execution_count": 95,
     "metadata": {},
     "output_type": "execute_result"
    }
   ],
   "source": [
    "df_target_test_lgbm['y_pred_lgbm_inverted'] = (df_target_test_lgbm['y_pred_lgbm'] * df_target_test_lgbm['Y_inverted_test']) / df_target_test_lgbm['y_test']\n",
    "df_target_test_lgbm.head()\n"
   ]
  },
  {
   "cell_type": "code",
   "execution_count": 96,
   "metadata": {},
   "outputs": [
    {
     "data": {
      "text/html": [
       "<div>\n",
       "<style scoped>\n",
       "    .dataframe tbody tr th:only-of-type {\n",
       "        vertical-align: middle;\n",
       "    }\n",
       "\n",
       "    .dataframe tbody tr th {\n",
       "        vertical-align: top;\n",
       "    }\n",
       "\n",
       "    .dataframe thead th {\n",
       "        text-align: right;\n",
       "    }\n",
       "</style>\n",
       "<table border=\"1\" class=\"dataframe\">\n",
       "  <thead>\n",
       "    <tr style=\"text-align: right;\">\n",
       "      <th></th>\n",
       "      <th>ANCSCP</th>\n",
       "      <th>prixHT</th>\n",
       "      <th>lag1_previous_order</th>\n",
       "      <th>lag3_previous_order</th>\n",
       "      <th>lag6_previous_order</th>\n",
       "      <th>lag9_previous_order</th>\n",
       "      <th>LIBPRD_APG AGILIX PREMIUM GAS.</th>\n",
       "      <th>LIBPRD_APS AGILIX PREMIUM ESS.</th>\n",
       "      <th>LIBPRD_GASOIL</th>\n",
       "      <th>LIBPRD_GASOIL 50</th>\n",
       "      <th>...</th>\n",
       "      <th>month_sin</th>\n",
       "      <th>month_cos</th>\n",
       "      <th>day_sin</th>\n",
       "      <th>day_cos</th>\n",
       "      <th>y_test</th>\n",
       "      <th>y_pred_lgbm</th>\n",
       "      <th>Y_inverted_test</th>\n",
       "      <th>y_pred_loaded</th>\n",
       "      <th>y_pred_lgbm_inverted</th>\n",
       "      <th>Date</th>\n",
       "    </tr>\n",
       "  </thead>\n",
       "  <tbody>\n",
       "    <tr>\n",
       "      <th>189709</th>\n",
       "      <td>5536.0</td>\n",
       "      <td>1605.294</td>\n",
       "      <td>7.0</td>\n",
       "      <td>2.0</td>\n",
       "      <td>4.0</td>\n",
       "      <td>7.0</td>\n",
       "      <td>0.0</td>\n",
       "      <td>0.0</td>\n",
       "      <td>0.0</td>\n",
       "      <td>0.0</td>\n",
       "      <td>...</td>\n",
       "      <td>-2.220446e-16</td>\n",
       "      <td>1.000000</td>\n",
       "      <td>-2.217596e-16</td>\n",
       "      <td>1.000000</td>\n",
       "      <td>0.18750</td>\n",
       "      <td>0.151056</td>\n",
       "      <td>7.0</td>\n",
       "      <td>0.151056</td>\n",
       "      <td>5.639408</td>\n",
       "      <td>2018-12-31</td>\n",
       "    </tr>\n",
       "    <tr>\n",
       "      <th>141284</th>\n",
       "      <td>5474.0</td>\n",
       "      <td>1190.531</td>\n",
       "      <td>14.0</td>\n",
       "      <td>16.0</td>\n",
       "      <td>14.0</td>\n",
       "      <td>14.0</td>\n",
       "      <td>0.0</td>\n",
       "      <td>0.0</td>\n",
       "      <td>1.0</td>\n",
       "      <td>0.0</td>\n",
       "      <td>...</td>\n",
       "      <td>-5.000000e-01</td>\n",
       "      <td>-0.866025</td>\n",
       "      <td>6.513725e-01</td>\n",
       "      <td>-0.758758</td>\n",
       "      <td>0.53125</td>\n",
       "      <td>0.392094</td>\n",
       "      <td>18.0</td>\n",
       "      <td>0.392094</td>\n",
       "      <td>13.285075</td>\n",
       "      <td>2018-07-12</td>\n",
       "    </tr>\n",
       "    <tr>\n",
       "      <th>143249</th>\n",
       "      <td>5479.0</td>\n",
       "      <td>1821.512</td>\n",
       "      <td>3.0</td>\n",
       "      <td>4.0</td>\n",
       "      <td>4.0</td>\n",
       "      <td>4.0</td>\n",
       "      <td>0.0</td>\n",
       "      <td>1.0</td>\n",
       "      <td>0.0</td>\n",
       "      <td>0.0</td>\n",
       "      <td>...</td>\n",
       "      <td>-8.660254e-01</td>\n",
       "      <td>0.500000</td>\n",
       "      <td>-3.943559e-01</td>\n",
       "      <td>0.918958</td>\n",
       "      <td>0.06250</td>\n",
       "      <td>0.090761</td>\n",
       "      <td>3.0</td>\n",
       "      <td>0.090761</td>\n",
       "      <td>4.356551</td>\n",
       "      <td>2019-10-29</td>\n",
       "    </tr>\n",
       "    <tr>\n",
       "      <th>46445</th>\n",
       "      <td>5300.0</td>\n",
       "      <td>1046.696</td>\n",
       "      <td>6.0</td>\n",
       "      <td>2.0</td>\n",
       "      <td>5.0</td>\n",
       "      <td>7.0</td>\n",
       "      <td>0.0</td>\n",
       "      <td>0.0</td>\n",
       "      <td>1.0</td>\n",
       "      <td>0.0</td>\n",
       "      <td>...</td>\n",
       "      <td>-5.000000e-01</td>\n",
       "      <td>-0.866025</td>\n",
       "      <td>7.907757e-01</td>\n",
       "      <td>-0.612106</td>\n",
       "      <td>0.28125</td>\n",
       "      <td>0.154211</td>\n",
       "      <td>10.0</td>\n",
       "      <td>0.154211</td>\n",
       "      <td>5.483057</td>\n",
       "      <td>2017-07-11</td>\n",
       "    </tr>\n",
       "    <tr>\n",
       "      <th>69285</th>\n",
       "      <td>5348.0</td>\n",
       "      <td>1079.911</td>\n",
       "      <td>10.0</td>\n",
       "      <td>7.0</td>\n",
       "      <td>6.0</td>\n",
       "      <td>7.0</td>\n",
       "      <td>0.0</td>\n",
       "      <td>0.0</td>\n",
       "      <td>1.0</td>\n",
       "      <td>0.0</td>\n",
       "      <td>...</td>\n",
       "      <td>8.660254e-01</td>\n",
       "      <td>0.500000</td>\n",
       "      <td>-6.513725e-01</td>\n",
       "      <td>-0.758758</td>\n",
       "      <td>0.15625</td>\n",
       "      <td>0.183229</td>\n",
       "      <td>6.0</td>\n",
       "      <td>0.183229</td>\n",
       "      <td>7.035991</td>\n",
       "      <td>2018-02-19</td>\n",
       "    </tr>\n",
       "    <tr>\n",
       "      <th>...</th>\n",
       "      <td>...</td>\n",
       "      <td>...</td>\n",
       "      <td>...</td>\n",
       "      <td>...</td>\n",
       "      <td>...</td>\n",
       "      <td>...</td>\n",
       "      <td>...</td>\n",
       "      <td>...</td>\n",
       "      <td>...</td>\n",
       "      <td>...</td>\n",
       "      <td>...</td>\n",
       "      <td>...</td>\n",
       "      <td>...</td>\n",
       "      <td>...</td>\n",
       "      <td>...</td>\n",
       "      <td>...</td>\n",
       "      <td>...</td>\n",
       "      <td>...</td>\n",
       "      <td>...</td>\n",
       "      <td>...</td>\n",
       "      <td>...</td>\n",
       "    </tr>\n",
       "    <tr>\n",
       "      <th>172803</th>\n",
       "      <td>5513.0</td>\n",
       "      <td>1555.044</td>\n",
       "      <td>5.0</td>\n",
       "      <td>3.0</td>\n",
       "      <td>4.0</td>\n",
       "      <td>4.0</td>\n",
       "      <td>0.0</td>\n",
       "      <td>0.0</td>\n",
       "      <td>0.0</td>\n",
       "      <td>0.0</td>\n",
       "      <td>...</td>\n",
       "      <td>-5.000000e-01</td>\n",
       "      <td>-0.866025</td>\n",
       "      <td>-4.853020e-01</td>\n",
       "      <td>-0.874347</td>\n",
       "      <td>0.09375</td>\n",
       "      <td>0.105658</td>\n",
       "      <td>4.0</td>\n",
       "      <td>0.105658</td>\n",
       "      <td>4.508066</td>\n",
       "      <td>2019-07-18</td>\n",
       "    </tr>\n",
       "    <tr>\n",
       "      <th>62241</th>\n",
       "      <td>5335.0</td>\n",
       "      <td>1190.531</td>\n",
       "      <td>6.0</td>\n",
       "      <td>9.0</td>\n",
       "      <td>9.0</td>\n",
       "      <td>7.0</td>\n",
       "      <td>0.0</td>\n",
       "      <td>0.0</td>\n",
       "      <td>1.0</td>\n",
       "      <td>0.0</td>\n",
       "      <td>...</td>\n",
       "      <td>-8.660254e-01</td>\n",
       "      <td>-0.500000</td>\n",
       "      <td>-2.217596e-16</td>\n",
       "      <td>1.000000</td>\n",
       "      <td>0.43750</td>\n",
       "      <td>0.202274</td>\n",
       "      <td>15.0</td>\n",
       "      <td>0.202274</td>\n",
       "      <td>6.935108</td>\n",
       "      <td>2018-08-31</td>\n",
       "    </tr>\n",
       "    <tr>\n",
       "      <th>82049</th>\n",
       "      <td>5367.0</td>\n",
       "      <td>1422.966</td>\n",
       "      <td>2.0</td>\n",
       "      <td>4.0</td>\n",
       "      <td>3.0</td>\n",
       "      <td>2.0</td>\n",
       "      <td>0.0</td>\n",
       "      <td>0.0</td>\n",
       "      <td>0.0</td>\n",
       "      <td>0.0</td>\n",
       "      <td>...</td>\n",
       "      <td>-5.000000e-01</td>\n",
       "      <td>0.866025</td>\n",
       "      <td>9.377521e-01</td>\n",
       "      <td>0.347305</td>\n",
       "      <td>0.03125</td>\n",
       "      <td>0.052715</td>\n",
       "      <td>2.0</td>\n",
       "      <td>0.052715</td>\n",
       "      <td>3.373740</td>\n",
       "      <td>2017-11-06</td>\n",
       "    </tr>\n",
       "    <tr>\n",
       "      <th>130054</th>\n",
       "      <td>5456.0</td>\n",
       "      <td>968.125</td>\n",
       "      <td>12.0</td>\n",
       "      <td>4.0</td>\n",
       "      <td>5.0</td>\n",
       "      <td>11.0</td>\n",
       "      <td>0.0</td>\n",
       "      <td>0.0</td>\n",
       "      <td>1.0</td>\n",
       "      <td>0.0</td>\n",
       "      <td>...</td>\n",
       "      <td>8.660254e-01</td>\n",
       "      <td>-0.500000</td>\n",
       "      <td>8.978045e-01</td>\n",
       "      <td>-0.440394</td>\n",
       "      <td>0.12500</td>\n",
       "      <td>0.193015</td>\n",
       "      <td>5.0</td>\n",
       "      <td>0.193015</td>\n",
       "      <td>7.720608</td>\n",
       "      <td>2017-04-10</td>\n",
       "    </tr>\n",
       "    <tr>\n",
       "      <th>134618</th>\n",
       "      <td>5463.0</td>\n",
       "      <td>1216.518</td>\n",
       "      <td>3.0</td>\n",
       "      <td>3.0</td>\n",
       "      <td>2.0</td>\n",
       "      <td>3.0</td>\n",
       "      <td>0.0</td>\n",
       "      <td>0.0</td>\n",
       "      <td>0.0</td>\n",
       "      <td>1.0</td>\n",
       "      <td>...</td>\n",
       "      <td>5.000000e-01</td>\n",
       "      <td>-0.866025</td>\n",
       "      <td>9.987165e-01</td>\n",
       "      <td>-0.050649</td>\n",
       "      <td>0.03125</td>\n",
       "      <td>0.050816</td>\n",
       "      <td>2.0</td>\n",
       "      <td>0.050816</td>\n",
       "      <td>3.252226</td>\n",
       "      <td>2017-05-08</td>\n",
       "    </tr>\n",
       "  </tbody>\n",
       "</table>\n",
       "<p>46423 rows × 235 columns</p>\n",
       "</div>"
      ],
      "text/plain": [
       "        ANCSCP    prixHT  lag1_previous_order  lag3_previous_order  \\\n",
       "189709  5536.0  1605.294                  7.0                  2.0   \n",
       "141284  5474.0  1190.531                 14.0                 16.0   \n",
       "143249  5479.0  1821.512                  3.0                  4.0   \n",
       "46445   5300.0  1046.696                  6.0                  2.0   \n",
       "69285   5348.0  1079.911                 10.0                  7.0   \n",
       "...        ...       ...                  ...                  ...   \n",
       "172803  5513.0  1555.044                  5.0                  3.0   \n",
       "62241   5335.0  1190.531                  6.0                  9.0   \n",
       "82049   5367.0  1422.966                  2.0                  4.0   \n",
       "130054  5456.0   968.125                 12.0                  4.0   \n",
       "134618  5463.0  1216.518                  3.0                  3.0   \n",
       "\n",
       "        lag6_previous_order  lag9_previous_order  \\\n",
       "189709                  4.0                  7.0   \n",
       "141284                 14.0                 14.0   \n",
       "143249                  4.0                  4.0   \n",
       "46445                   5.0                  7.0   \n",
       "69285                   6.0                  7.0   \n",
       "...                     ...                  ...   \n",
       "172803                  4.0                  4.0   \n",
       "62241                   9.0                  7.0   \n",
       "82049                   3.0                  2.0   \n",
       "130054                  5.0                 11.0   \n",
       "134618                  2.0                  3.0   \n",
       "\n",
       "        LIBPRD_APG AGILIX PREMIUM GAS.  LIBPRD_APS AGILIX PREMIUM ESS.  \\\n",
       "189709                             0.0                             0.0   \n",
       "141284                             0.0                             0.0   \n",
       "143249                             0.0                             1.0   \n",
       "46445                              0.0                             0.0   \n",
       "69285                              0.0                             0.0   \n",
       "...                                ...                             ...   \n",
       "172803                             0.0                             0.0   \n",
       "62241                              0.0                             0.0   \n",
       "82049                              0.0                             0.0   \n",
       "130054                             0.0                             0.0   \n",
       "134618                             0.0                             0.0   \n",
       "\n",
       "        LIBPRD_GASOIL  LIBPRD_GASOIL 50  ...     month_sin  month_cos  \\\n",
       "189709            0.0               0.0  ... -2.220446e-16   1.000000   \n",
       "141284            1.0               0.0  ... -5.000000e-01  -0.866025   \n",
       "143249            0.0               0.0  ... -8.660254e-01   0.500000   \n",
       "46445             1.0               0.0  ... -5.000000e-01  -0.866025   \n",
       "69285             1.0               0.0  ...  8.660254e-01   0.500000   \n",
       "...               ...               ...  ...           ...        ...   \n",
       "172803            0.0               0.0  ... -5.000000e-01  -0.866025   \n",
       "62241             1.0               0.0  ... -8.660254e-01  -0.500000   \n",
       "82049             0.0               0.0  ... -5.000000e-01   0.866025   \n",
       "130054            1.0               0.0  ...  8.660254e-01  -0.500000   \n",
       "134618            0.0               1.0  ...  5.000000e-01  -0.866025   \n",
       "\n",
       "             day_sin   day_cos   y_test  y_pred_lgbm  Y_inverted_test  \\\n",
       "189709 -2.217596e-16  1.000000  0.18750     0.151056              7.0   \n",
       "141284  6.513725e-01 -0.758758  0.53125     0.392094             18.0   \n",
       "143249 -3.943559e-01  0.918958  0.06250     0.090761              3.0   \n",
       "46445   7.907757e-01 -0.612106  0.28125     0.154211             10.0   \n",
       "69285  -6.513725e-01 -0.758758  0.15625     0.183229              6.0   \n",
       "...              ...       ...      ...          ...              ...   \n",
       "172803 -4.853020e-01 -0.874347  0.09375     0.105658              4.0   \n",
       "62241  -2.217596e-16  1.000000  0.43750     0.202274             15.0   \n",
       "82049   9.377521e-01  0.347305  0.03125     0.052715              2.0   \n",
       "130054  8.978045e-01 -0.440394  0.12500     0.193015              5.0   \n",
       "134618  9.987165e-01 -0.050649  0.03125     0.050816              2.0   \n",
       "\n",
       "        y_pred_loaded  y_pred_lgbm_inverted       Date  \n",
       "189709       0.151056              5.639408 2018-12-31  \n",
       "141284       0.392094             13.285075 2018-07-12  \n",
       "143249       0.090761              4.356551 2019-10-29  \n",
       "46445        0.154211              5.483057 2017-07-11  \n",
       "69285        0.183229              7.035991 2018-02-19  \n",
       "...               ...                   ...        ...  \n",
       "172803       0.105658              4.508066 2019-07-18  \n",
       "62241        0.202274              6.935108 2018-08-31  \n",
       "82049        0.052715              3.373740 2017-11-06  \n",
       "130054       0.193015              7.720608 2017-04-10  \n",
       "134618       0.050816              3.252226 2017-05-08  \n",
       "\n",
       "[46423 rows x 235 columns]"
      ]
     },
     "execution_count": 96,
     "metadata": {},
     "output_type": "execute_result"
    }
   ],
   "source": [
    "df_combined_lgbm = pd.concat([X_inverted_test, df_target_test_lgbm], axis=1)\n",
    "df_combined_lgbm['Date'] = df_combined_lgbm['Year'].astype(str) + '-' + df_combined_lgbm['Month'].astype(str).str.zfill(2) + '-' + df_combined_lgbm['Day'].astype(str).str.zfill(2)\n",
    "\n",
    "# Alternatively, use the to_datetime() method\n",
    "df_combined_lgbm['Date'] = pd.to_datetime(df_combined_lgbm[['Year', 'Month', 'Day']])\n",
    "df_combined_lgbm"
   ]
  },
  {
   "cell_type": "markdown",
   "metadata": {},
   "source": []
  },
  {
   "cell_type": "code",
   "execution_count": 97,
   "metadata": {},
   "outputs": [
    {
     "data": {
      "application/vnd.plotly.v1+json": {
       "config": {
        "plotlyServerURL": "https://plot.ly"
       },
       "data": [
        {
         "hovertemplate": "<extra></extra>",
         "legendgroup": "",
         "line": {
          "color": "#636efa",
          "dash": "solid"
         },
         "marker": {
          "symbol": "circle"
         },
         "mode": "lines",
         "name": "",
         "orientation": "v",
         "showlegend": false,
         "type": "scatter",
         "xaxis": "x",
         "yaxis": "y"
        },
        {
         "line": {
          "color": "red"
         },
         "mode": "lines",
         "name": "prediction of Client SMBA 5450 in 2017",
         "type": "scatter",
         "x": [
          "2019-01-01T00:00:00",
          "2019-01-03T00:00:00",
          "2019-01-09T00:00:00",
          "2019-01-10T00:00:00",
          "2019-01-10T00:00:00",
          "2019-01-12T00:00:00",
          "2019-01-14T00:00:00",
          "2019-01-18T00:00:00",
          "2019-01-20T00:00:00",
          "2019-01-24T00:00:00",
          "2019-01-25T00:00:00",
          "2019-01-28T00:00:00",
          "2019-01-30T00:00:00",
          "2019-01-31T00:00:00",
          "2019-02-03T00:00:00",
          "2019-02-08T00:00:00",
          "2019-02-09T00:00:00",
          "2019-02-10T00:00:00",
          "2019-02-11T00:00:00",
          "2019-02-12T00:00:00",
          "2019-02-12T00:00:00",
          "2019-02-15T00:00:00",
          "2019-02-18T00:00:00",
          "2019-02-19T00:00:00",
          "2019-02-19T00:00:00",
          "2019-02-21T00:00:00",
          "2019-02-22T00:00:00",
          "2019-02-25T00:00:00",
          "2019-02-28T00:00:00",
          "2019-03-01T00:00:00",
          "2019-03-01T00:00:00",
          "2019-03-01T00:00:00",
          "2019-03-06T00:00:00",
          "2019-03-07T00:00:00",
          "2019-03-08T00:00:00",
          "2019-03-10T00:00:00",
          "2019-03-11T00:00:00",
          "2019-03-16T00:00:00",
          "2019-03-18T00:00:00",
          "2019-03-21T00:00:00",
          "2019-03-21T00:00:00",
          "2019-03-22T00:00:00",
          "2019-03-25T00:00:00",
          "2019-03-29T00:00:00",
          "2019-04-03T00:00:00",
          "2019-04-04T00:00:00",
          "2019-04-05T00:00:00",
          "2019-04-05T00:00:00",
          "2019-04-06T00:00:00",
          "2019-04-07T00:00:00",
          "2019-04-12T00:00:00",
          "2019-04-15T00:00:00",
          "2019-04-16T00:00:00",
          "2019-04-23T00:00:00",
          "2019-04-23T00:00:00",
          "2019-04-25T00:00:00",
          "2019-04-27T00:00:00",
          "2019-04-28T00:00:00",
          "2019-04-30T00:00:00",
          "2019-05-06T00:00:00",
          "2019-05-08T00:00:00",
          "2019-05-09T00:00:00",
          "2019-05-09T00:00:00",
          "2019-05-11T00:00:00",
          "2019-05-13T00:00:00",
          "2019-05-14T00:00:00",
          "2019-05-16T00:00:00",
          "2019-05-19T00:00:00",
          "2019-05-25T00:00:00",
          "2019-05-26T00:00:00",
          "2019-06-02T00:00:00",
          "2019-06-07T00:00:00",
          "2019-06-11T00:00:00",
          "2019-06-12T00:00:00",
          "2019-06-15T00:00:00",
          "2019-06-17T00:00:00",
          "2019-06-18T00:00:00",
          "2019-06-19T00:00:00",
          "2019-06-21T00:00:00",
          "2019-06-27T00:00:00",
          "2019-06-27T00:00:00",
          "2019-06-28T00:00:00",
          "2019-06-30T00:00:00",
          "2019-06-30T00:00:00",
          "2019-07-01T00:00:00",
          "2019-07-06T00:00:00",
          "2019-07-07T00:00:00",
          "2019-07-08T00:00:00",
          "2019-07-09T00:00:00",
          "2019-07-10T00:00:00",
          "2019-07-11T00:00:00",
          "2019-07-12T00:00:00",
          "2019-07-15T00:00:00",
          "2019-07-18T00:00:00",
          "2019-07-19T00:00:00",
          "2019-07-20T00:00:00",
          "2019-07-20T00:00:00",
          "2019-07-21T00:00:00",
          "2019-07-25T00:00:00",
          "2019-07-26T00:00:00",
          "2019-07-29T00:00:00",
          "2019-07-29T00:00:00",
          "2019-07-30T00:00:00",
          "2019-07-31T00:00:00",
          "2019-08-01T00:00:00",
          "2019-08-03T00:00:00",
          "2019-08-05T00:00:00",
          "2019-08-06T00:00:00",
          "2019-08-08T00:00:00",
          "2019-08-10T00:00:00",
          "2019-08-10T00:00:00",
          "2019-08-16T00:00:00",
          "2019-08-17T00:00:00",
          "2019-08-17T00:00:00",
          "2019-08-18T00:00:00",
          "2019-08-22T00:00:00",
          "2019-08-22T00:00:00",
          "2019-08-24T00:00:00",
          "2019-08-26T00:00:00",
          "2019-08-28T00:00:00",
          "2019-08-29T00:00:00",
          "2019-08-30T00:00:00",
          "2019-09-01T00:00:00",
          "2019-09-06T00:00:00",
          "2019-09-09T00:00:00",
          "2019-09-10T00:00:00",
          "2019-09-11T00:00:00",
          "2019-09-11T00:00:00",
          "2019-09-12T00:00:00",
          "2019-09-13T00:00:00",
          "2019-09-15T00:00:00",
          "2019-09-16T00:00:00",
          "2019-09-16T00:00:00",
          "2019-09-17T00:00:00",
          "2019-09-17T00:00:00",
          "2019-09-18T00:00:00",
          "2019-09-19T00:00:00",
          "2019-09-20T00:00:00",
          "2019-09-22T00:00:00",
          "2019-09-23T00:00:00",
          "2019-09-23T00:00:00",
          "2019-09-27T00:00:00",
          "2019-10-01T00:00:00",
          "2019-10-02T00:00:00",
          "2019-10-03T00:00:00",
          "2019-10-03T00:00:00",
          "2019-10-04T00:00:00",
          "2019-10-05T00:00:00",
          "2019-10-05T00:00:00",
          "2019-10-06T00:00:00",
          "2019-10-08T00:00:00",
          "2019-10-08T00:00:00",
          "2019-10-09T00:00:00",
          "2019-10-10T00:00:00",
          "2019-10-11T00:00:00",
          "2019-10-13T00:00:00",
          "2019-10-13T00:00:00",
          "2019-10-21T00:00:00",
          "2019-10-23T00:00:00",
          "2019-10-25T00:00:00",
          "2019-10-26T00:00:00",
          "2019-10-30T00:00:00",
          "2019-11-02T00:00:00",
          "2019-11-03T00:00:00",
          "2019-11-03T00:00:00",
          "2019-11-03T00:00:00",
          "2019-11-04T00:00:00",
          "2019-11-06T00:00:00",
          "2019-11-08T00:00:00",
          "2019-11-08T00:00:00",
          "2019-11-12T00:00:00",
          "2019-11-15T00:00:00",
          "2019-11-15T00:00:00",
          "2019-11-16T00:00:00",
          "2019-11-17T00:00:00",
          "2019-11-19T00:00:00",
          "2019-11-23T00:00:00",
          "2019-11-24T00:00:00",
          "2019-11-25T00:00:00",
          "2019-11-27T00:00:00",
          "2019-11-28T00:00:00",
          "2019-11-29T00:00:00",
          "2019-11-30T00:00:00",
          "2019-12-01T00:00:00",
          "2019-12-03T00:00:00",
          "2019-12-06T00:00:00",
          "2019-12-06T00:00:00",
          "2019-12-07T00:00:00",
          "2019-12-07T00:00:00",
          "2019-12-09T00:00:00",
          "2019-12-10T00:00:00",
          "2019-12-12T00:00:00",
          "2019-12-15T00:00:00",
          "2019-12-15T00:00:00",
          "2019-12-15T00:00:00",
          "2019-12-16T00:00:00",
          "2019-12-19T00:00:00"
         ],
         "y": [
          8.969440440196099,
          16.58905695891141,
          16.28657503522926,
          8.655303370908564,
          15.9542485794932,
          10.060530515916861,
          16.66526452419883,
          6.463546005843929,
          6.633832225546115,
          13.7446031714667,
          4.925347663283556,
          7.345311738014226,
          7.887368179682715,
          5.2824190154858846,
          9.073309163789434,
          5.9415790309013685,
          6.226495775629699,
          8.628962913783361,
          5.8436896772676015,
          6.430198996577912,
          17.238803881094892,
          6.73952776261233,
          5.194421945696305,
          7.864100519570237,
          6.112472685809216,
          7.235758200450564,
          18.17079513067169,
          16.754501219563327,
          18.770572008889822,
          8.0655907595218,
          14.967583205121814,
          6.076194947257907,
          14.04761367634797,
          15.48734547919806,
          6.165391873855892,
          19.48792480707371,
          5.23382664681161,
          5.392609283322929,
          9.427064316403726,
          6.140198641252037,
          17.482305123246523,
          16.448872366040437,
          4.6936382217073955,
          18.15815382643192,
          8.320549919692041,
          13.873334806110877,
          5.067335949676639,
          16.400853097866044,
          8.410893800201617,
          8.746594242490652,
          17.477112703581103,
          18.03619962677103,
          17.077709585942454,
          7.724345112807378,
          16.834901461583694,
          3.8332331060459497,
          18.095433288119683,
          19.951265109469425,
          9.593860142235615,
          7.798967496411217,
          9.02834444622503,
          14.364919515265123,
          3.877390566400787,
          9.80211072202915,
          9.19059547868736,
          4.574151104939139,
          7.405038036860133,
          10.042517614843272,
          8.061257667421435,
          9.590447904798388,
          23.960197515614425,
          7.461752894251483,
          4.619645103233899,
          6.3548760891272105,
          4.629896437658138,
          7.443628116009304,
          7.339407684029698,
          4.232463483319362,
          4.928958653271881,
          4.8788845887268115,
          18.225036230256165,
          4.872158629038701,
          4.490196609620406,
          8.75119184372993,
          18.331776180607715,
          18.87841940489101,
          9.614894942585384,
          18.406352165238705,
          4.2162638271248625,
          7.111683226422513,
          4.327586072322193,
          18.089614640873062,
          3.989569036734552,
          4.508066067107435,
          18.560903084310645,
          4.7614746497925,
          3.3224262624678893,
          20.987758735757396,
          5.250115427453291,
          18.337320111187456,
          4.614496686881689,
          18.23387919490221,
          19.196988252358942,
          7.001109481055832,
          18.34154539750275,
          4.44689098223946,
          4.5985880039741245,
          4.901030534699572,
          17.670285356158544,
          20.783532729326218,
          4.2470693224948,
          5.745263695810795,
          17.56145920651201,
          8.756666047865792,
          11.245409271494836,
          4.629472729449684,
          5.758819585046668,
          6.400561409343209,
          17.859574955086714,
          4.335359464815647,
          8.343483862851231,
          7.1351380487568425,
          7.579722154493391,
          15.753146456927558,
          4.324801116275245,
          4.573187405400681,
          17.052731879538854,
          7.502275257734781,
          5.397446452613604,
          5.208448534783976,
          20.72776275598312,
          18.722908072719157,
          3.72958605408133,
          18.948295155997346,
          7.157743022132794,
          7.568117368829547,
          6.548921791397663,
          6.604226264373828,
          21.32470162114339,
          19.964330748062142,
          6.852547322182015,
          4.170287680155168,
          7.188555350509186,
          19.52057184262464,
          4.157568605264518,
          7.4429821028564715,
          4.257533738857629,
          4.584051565490542,
          18.86859211207137,
          4.05627307819673,
          5.299539244080365,
          18.89631991724517,
          17.70243195146478,
          17.991286390210536,
          4.618872664625163,
          4.63634750976743,
          8.945041090859426,
          18.50742682987896,
          18.82373002001839,
          18.382489525113286,
          7.177815865074374,
          19.30020845941042,
          8.300767751532508,
          5.318763450199063,
          9.745866184107575,
          19.703826931174337,
          8.24866165858613,
          5.327637222759316,
          7.401537651917125,
          4.519340585388116,
          10.320102469638654,
          18.83332005658696,
          4.632106134745665,
          18.263790385985473,
          6.494763520180646,
          4.5866226860912604,
          18.668876902447902,
          8.92041124936359,
          8.410332405935812,
          4.930057337105165,
          6.365103332109285,
          18.038188171083927,
          5.837692586197566,
          9.586195285066099,
          8.811943799728136,
          6.220675857889359,
          17.31231362713533,
          5.0325936241967915,
          18.242484819775623,
          16.860623327812565,
          17.231005088215156,
          3.973258465921596,
          4.239573655697886,
          8.958524690307172,
          19.429828942009237,
          17.82034095353102,
          18.048897272794168
         ]
        },
        {
         "line": {
          "color": "blue"
         },
         "mode": "lines",
         "name": "test of SMBA 5450 in 2017",
         "type": "scatter",
         "x": [
          "2019-01-01T00:00:00",
          "2019-01-03T00:00:00",
          "2019-01-09T00:00:00",
          "2019-01-10T00:00:00",
          "2019-01-10T00:00:00",
          "2019-01-12T00:00:00",
          "2019-01-14T00:00:00",
          "2019-01-18T00:00:00",
          "2019-01-20T00:00:00",
          "2019-01-24T00:00:00",
          "2019-01-25T00:00:00",
          "2019-01-28T00:00:00",
          "2019-01-30T00:00:00",
          "2019-01-31T00:00:00",
          "2019-02-03T00:00:00",
          "2019-02-08T00:00:00",
          "2019-02-09T00:00:00",
          "2019-02-10T00:00:00",
          "2019-02-11T00:00:00",
          "2019-02-12T00:00:00",
          "2019-02-12T00:00:00",
          "2019-02-15T00:00:00",
          "2019-02-18T00:00:00",
          "2019-02-19T00:00:00",
          "2019-02-19T00:00:00",
          "2019-02-21T00:00:00",
          "2019-02-22T00:00:00",
          "2019-02-25T00:00:00",
          "2019-02-28T00:00:00",
          "2019-03-01T00:00:00",
          "2019-03-01T00:00:00",
          "2019-03-01T00:00:00",
          "2019-03-06T00:00:00",
          "2019-03-07T00:00:00",
          "2019-03-08T00:00:00",
          "2019-03-10T00:00:00",
          "2019-03-11T00:00:00",
          "2019-03-16T00:00:00",
          "2019-03-18T00:00:00",
          "2019-03-21T00:00:00",
          "2019-03-21T00:00:00",
          "2019-03-22T00:00:00",
          "2019-03-25T00:00:00",
          "2019-03-29T00:00:00",
          "2019-04-03T00:00:00",
          "2019-04-04T00:00:00",
          "2019-04-05T00:00:00",
          "2019-04-05T00:00:00",
          "2019-04-06T00:00:00",
          "2019-04-07T00:00:00",
          "2019-04-12T00:00:00",
          "2019-04-15T00:00:00",
          "2019-04-16T00:00:00",
          "2019-04-23T00:00:00",
          "2019-04-23T00:00:00",
          "2019-04-25T00:00:00",
          "2019-04-27T00:00:00",
          "2019-04-28T00:00:00",
          "2019-04-30T00:00:00",
          "2019-05-06T00:00:00",
          "2019-05-08T00:00:00",
          "2019-05-09T00:00:00",
          "2019-05-09T00:00:00",
          "2019-05-11T00:00:00",
          "2019-05-13T00:00:00",
          "2019-05-14T00:00:00",
          "2019-05-16T00:00:00",
          "2019-05-19T00:00:00",
          "2019-05-25T00:00:00",
          "2019-05-26T00:00:00",
          "2019-06-02T00:00:00",
          "2019-06-07T00:00:00",
          "2019-06-11T00:00:00",
          "2019-06-12T00:00:00",
          "2019-06-15T00:00:00",
          "2019-06-17T00:00:00",
          "2019-06-18T00:00:00",
          "2019-06-19T00:00:00",
          "2019-06-21T00:00:00",
          "2019-06-27T00:00:00",
          "2019-06-27T00:00:00",
          "2019-06-28T00:00:00",
          "2019-06-30T00:00:00",
          "2019-06-30T00:00:00",
          "2019-07-01T00:00:00",
          "2019-07-06T00:00:00",
          "2019-07-07T00:00:00",
          "2019-07-08T00:00:00",
          "2019-07-09T00:00:00",
          "2019-07-10T00:00:00",
          "2019-07-11T00:00:00",
          "2019-07-12T00:00:00",
          "2019-07-15T00:00:00",
          "2019-07-18T00:00:00",
          "2019-07-19T00:00:00",
          "2019-07-20T00:00:00",
          "2019-07-20T00:00:00",
          "2019-07-21T00:00:00",
          "2019-07-25T00:00:00",
          "2019-07-26T00:00:00",
          "2019-07-29T00:00:00",
          "2019-07-29T00:00:00",
          "2019-07-30T00:00:00",
          "2019-07-31T00:00:00",
          "2019-08-01T00:00:00",
          "2019-08-03T00:00:00",
          "2019-08-05T00:00:00",
          "2019-08-06T00:00:00",
          "2019-08-08T00:00:00",
          "2019-08-10T00:00:00",
          "2019-08-10T00:00:00",
          "2019-08-16T00:00:00",
          "2019-08-17T00:00:00",
          "2019-08-17T00:00:00",
          "2019-08-18T00:00:00",
          "2019-08-22T00:00:00",
          "2019-08-22T00:00:00",
          "2019-08-24T00:00:00",
          "2019-08-26T00:00:00",
          "2019-08-28T00:00:00",
          "2019-08-29T00:00:00",
          "2019-08-30T00:00:00",
          "2019-09-01T00:00:00",
          "2019-09-06T00:00:00",
          "2019-09-09T00:00:00",
          "2019-09-10T00:00:00",
          "2019-09-11T00:00:00",
          "2019-09-11T00:00:00",
          "2019-09-12T00:00:00",
          "2019-09-13T00:00:00",
          "2019-09-15T00:00:00",
          "2019-09-16T00:00:00",
          "2019-09-16T00:00:00",
          "2019-09-17T00:00:00",
          "2019-09-17T00:00:00",
          "2019-09-18T00:00:00",
          "2019-09-19T00:00:00",
          "2019-09-20T00:00:00",
          "2019-09-22T00:00:00",
          "2019-09-23T00:00:00",
          "2019-09-23T00:00:00",
          "2019-09-27T00:00:00",
          "2019-10-01T00:00:00",
          "2019-10-02T00:00:00",
          "2019-10-03T00:00:00",
          "2019-10-03T00:00:00",
          "2019-10-04T00:00:00",
          "2019-10-05T00:00:00",
          "2019-10-05T00:00:00",
          "2019-10-06T00:00:00",
          "2019-10-08T00:00:00",
          "2019-10-08T00:00:00",
          "2019-10-09T00:00:00",
          "2019-10-10T00:00:00",
          "2019-10-11T00:00:00",
          "2019-10-13T00:00:00",
          "2019-10-13T00:00:00",
          "2019-10-21T00:00:00",
          "2019-10-23T00:00:00",
          "2019-10-25T00:00:00",
          "2019-10-26T00:00:00",
          "2019-10-30T00:00:00",
          "2019-11-02T00:00:00",
          "2019-11-03T00:00:00",
          "2019-11-03T00:00:00",
          "2019-11-03T00:00:00",
          "2019-11-04T00:00:00",
          "2019-11-06T00:00:00",
          "2019-11-08T00:00:00",
          "2019-11-08T00:00:00",
          "2019-11-12T00:00:00",
          "2019-11-15T00:00:00",
          "2019-11-15T00:00:00",
          "2019-11-16T00:00:00",
          "2019-11-17T00:00:00",
          "2019-11-19T00:00:00",
          "2019-11-23T00:00:00",
          "2019-11-24T00:00:00",
          "2019-11-25T00:00:00",
          "2019-11-27T00:00:00",
          "2019-11-28T00:00:00",
          "2019-11-29T00:00:00",
          "2019-11-30T00:00:00",
          "2019-12-01T00:00:00",
          "2019-12-03T00:00:00",
          "2019-12-06T00:00:00",
          "2019-12-06T00:00:00",
          "2019-12-07T00:00:00",
          "2019-12-07T00:00:00",
          "2019-12-09T00:00:00",
          "2019-12-10T00:00:00",
          "2019-12-12T00:00:00",
          "2019-12-15T00:00:00",
          "2019-12-15T00:00:00",
          "2019-12-15T00:00:00",
          "2019-12-16T00:00:00",
          "2019-12-19T00:00:00"
         ],
         "y": [
          6,
          12,
          20,
          4,
          14,
          7,
          16,
          8,
          4,
          3,
          5,
          5,
          8,
          6,
          10,
          6,
          5,
          10,
          7,
          5,
          12,
          4,
          6,
          7,
          4,
          6,
          15,
          13,
          14,
          10,
          22,
          4,
          20,
          18,
          5,
          21,
          7,
          8,
          3,
          6,
          11,
          18,
          6,
          20,
          7,
          20,
          4,
          13,
          5,
          9,
          17,
          16,
          21,
          4,
          20,
          6,
          14,
          20,
          7,
          11,
          9,
          14,
          6,
          7,
          4,
          6,
          9,
          9,
          4,
          9,
          7,
          5,
          5,
          11,
          4,
          9,
          7,
          5,
          4,
          4,
          20,
          4,
          4,
          6,
          22,
          22,
          6,
          19,
          4,
          7,
          5,
          20,
          2,
          4,
          18,
          4,
          2,
          20,
          4,
          21,
          4,
          19,
          19,
          7,
          23,
          5,
          5,
          4,
          21,
          27,
          6,
          4,
          22,
          6,
          6,
          6,
          6,
          6,
          18,
          4,
          4,
          8,
          6,
          10,
          4,
          4,
          18,
          8,
          3,
          3,
          22,
          19,
          5,
          20,
          7,
          6,
          8,
          9,
          21,
          18,
          7,
          5,
          2,
          21,
          4,
          7,
          4,
          3,
          23,
          6,
          3,
          20,
          20,
          16,
          5,
          4,
          7,
          18,
          20,
          20,
          6,
          18,
          5,
          3,
          7,
          22,
          7,
          3,
          9,
          5,
          4,
          20,
          6,
          16,
          3,
          4,
          20,
          7,
          5,
          5,
          7,
          21,
          3,
          7,
          4,
          11,
          17,
          4,
          19,
          18,
          22,
          4,
          5,
          6,
          21,
          19,
          14
         ]
        }
       ],
       "layout": {
        "legend": {
         "tracegroupgap": 0
        },
        "margin": {
         "t": 60
        },
        "template": {
         "data": {
          "bar": [
           {
            "error_x": {
             "color": "#2a3f5f"
            },
            "error_y": {
             "color": "#2a3f5f"
            },
            "marker": {
             "line": {
              "color": "#E5ECF6",
              "width": 0.5
             },
             "pattern": {
              "fillmode": "overlay",
              "size": 10,
              "solidity": 0.2
             }
            },
            "type": "bar"
           }
          ],
          "barpolar": [
           {
            "marker": {
             "line": {
              "color": "#E5ECF6",
              "width": 0.5
             },
             "pattern": {
              "fillmode": "overlay",
              "size": 10,
              "solidity": 0.2
             }
            },
            "type": "barpolar"
           }
          ],
          "carpet": [
           {
            "aaxis": {
             "endlinecolor": "#2a3f5f",
             "gridcolor": "white",
             "linecolor": "white",
             "minorgridcolor": "white",
             "startlinecolor": "#2a3f5f"
            },
            "baxis": {
             "endlinecolor": "#2a3f5f",
             "gridcolor": "white",
             "linecolor": "white",
             "minorgridcolor": "white",
             "startlinecolor": "#2a3f5f"
            },
            "type": "carpet"
           }
          ],
          "choropleth": [
           {
            "colorbar": {
             "outlinewidth": 0,
             "ticks": ""
            },
            "type": "choropleth"
           }
          ],
          "contour": [
           {
            "colorbar": {
             "outlinewidth": 0,
             "ticks": ""
            },
            "colorscale": [
             [
              0,
              "#0d0887"
             ],
             [
              0.1111111111111111,
              "#46039f"
             ],
             [
              0.2222222222222222,
              "#7201a8"
             ],
             [
              0.3333333333333333,
              "#9c179e"
             ],
             [
              0.4444444444444444,
              "#bd3786"
             ],
             [
              0.5555555555555556,
              "#d8576b"
             ],
             [
              0.6666666666666666,
              "#ed7953"
             ],
             [
              0.7777777777777778,
              "#fb9f3a"
             ],
             [
              0.8888888888888888,
              "#fdca26"
             ],
             [
              1,
              "#f0f921"
             ]
            ],
            "type": "contour"
           }
          ],
          "contourcarpet": [
           {
            "colorbar": {
             "outlinewidth": 0,
             "ticks": ""
            },
            "type": "contourcarpet"
           }
          ],
          "heatmap": [
           {
            "colorbar": {
             "outlinewidth": 0,
             "ticks": ""
            },
            "colorscale": [
             [
              0,
              "#0d0887"
             ],
             [
              0.1111111111111111,
              "#46039f"
             ],
             [
              0.2222222222222222,
              "#7201a8"
             ],
             [
              0.3333333333333333,
              "#9c179e"
             ],
             [
              0.4444444444444444,
              "#bd3786"
             ],
             [
              0.5555555555555556,
              "#d8576b"
             ],
             [
              0.6666666666666666,
              "#ed7953"
             ],
             [
              0.7777777777777778,
              "#fb9f3a"
             ],
             [
              0.8888888888888888,
              "#fdca26"
             ],
             [
              1,
              "#f0f921"
             ]
            ],
            "type": "heatmap"
           }
          ],
          "heatmapgl": [
           {
            "colorbar": {
             "outlinewidth": 0,
             "ticks": ""
            },
            "colorscale": [
             [
              0,
              "#0d0887"
             ],
             [
              0.1111111111111111,
              "#46039f"
             ],
             [
              0.2222222222222222,
              "#7201a8"
             ],
             [
              0.3333333333333333,
              "#9c179e"
             ],
             [
              0.4444444444444444,
              "#bd3786"
             ],
             [
              0.5555555555555556,
              "#d8576b"
             ],
             [
              0.6666666666666666,
              "#ed7953"
             ],
             [
              0.7777777777777778,
              "#fb9f3a"
             ],
             [
              0.8888888888888888,
              "#fdca26"
             ],
             [
              1,
              "#f0f921"
             ]
            ],
            "type": "heatmapgl"
           }
          ],
          "histogram": [
           {
            "marker": {
             "pattern": {
              "fillmode": "overlay",
              "size": 10,
              "solidity": 0.2
             }
            },
            "type": "histogram"
           }
          ],
          "histogram2d": [
           {
            "colorbar": {
             "outlinewidth": 0,
             "ticks": ""
            },
            "colorscale": [
             [
              0,
              "#0d0887"
             ],
             [
              0.1111111111111111,
              "#46039f"
             ],
             [
              0.2222222222222222,
              "#7201a8"
             ],
             [
              0.3333333333333333,
              "#9c179e"
             ],
             [
              0.4444444444444444,
              "#bd3786"
             ],
             [
              0.5555555555555556,
              "#d8576b"
             ],
             [
              0.6666666666666666,
              "#ed7953"
             ],
             [
              0.7777777777777778,
              "#fb9f3a"
             ],
             [
              0.8888888888888888,
              "#fdca26"
             ],
             [
              1,
              "#f0f921"
             ]
            ],
            "type": "histogram2d"
           }
          ],
          "histogram2dcontour": [
           {
            "colorbar": {
             "outlinewidth": 0,
             "ticks": ""
            },
            "colorscale": [
             [
              0,
              "#0d0887"
             ],
             [
              0.1111111111111111,
              "#46039f"
             ],
             [
              0.2222222222222222,
              "#7201a8"
             ],
             [
              0.3333333333333333,
              "#9c179e"
             ],
             [
              0.4444444444444444,
              "#bd3786"
             ],
             [
              0.5555555555555556,
              "#d8576b"
             ],
             [
              0.6666666666666666,
              "#ed7953"
             ],
             [
              0.7777777777777778,
              "#fb9f3a"
             ],
             [
              0.8888888888888888,
              "#fdca26"
             ],
             [
              1,
              "#f0f921"
             ]
            ],
            "type": "histogram2dcontour"
           }
          ],
          "mesh3d": [
           {
            "colorbar": {
             "outlinewidth": 0,
             "ticks": ""
            },
            "type": "mesh3d"
           }
          ],
          "parcoords": [
           {
            "line": {
             "colorbar": {
              "outlinewidth": 0,
              "ticks": ""
             }
            },
            "type": "parcoords"
           }
          ],
          "pie": [
           {
            "automargin": true,
            "type": "pie"
           }
          ],
          "scatter": [
           {
            "fillpattern": {
             "fillmode": "overlay",
             "size": 10,
             "solidity": 0.2
            },
            "type": "scatter"
           }
          ],
          "scatter3d": [
           {
            "line": {
             "colorbar": {
              "outlinewidth": 0,
              "ticks": ""
             }
            },
            "marker": {
             "colorbar": {
              "outlinewidth": 0,
              "ticks": ""
             }
            },
            "type": "scatter3d"
           }
          ],
          "scattercarpet": [
           {
            "marker": {
             "colorbar": {
              "outlinewidth": 0,
              "ticks": ""
             }
            },
            "type": "scattercarpet"
           }
          ],
          "scattergeo": [
           {
            "marker": {
             "colorbar": {
              "outlinewidth": 0,
              "ticks": ""
             }
            },
            "type": "scattergeo"
           }
          ],
          "scattergl": [
           {
            "marker": {
             "colorbar": {
              "outlinewidth": 0,
              "ticks": ""
             }
            },
            "type": "scattergl"
           }
          ],
          "scattermapbox": [
           {
            "marker": {
             "colorbar": {
              "outlinewidth": 0,
              "ticks": ""
             }
            },
            "type": "scattermapbox"
           }
          ],
          "scatterpolar": [
           {
            "marker": {
             "colorbar": {
              "outlinewidth": 0,
              "ticks": ""
             }
            },
            "type": "scatterpolar"
           }
          ],
          "scatterpolargl": [
           {
            "marker": {
             "colorbar": {
              "outlinewidth": 0,
              "ticks": ""
             }
            },
            "type": "scatterpolargl"
           }
          ],
          "scatterternary": [
           {
            "marker": {
             "colorbar": {
              "outlinewidth": 0,
              "ticks": ""
             }
            },
            "type": "scatterternary"
           }
          ],
          "surface": [
           {
            "colorbar": {
             "outlinewidth": 0,
             "ticks": ""
            },
            "colorscale": [
             [
              0,
              "#0d0887"
             ],
             [
              0.1111111111111111,
              "#46039f"
             ],
             [
              0.2222222222222222,
              "#7201a8"
             ],
             [
              0.3333333333333333,
              "#9c179e"
             ],
             [
              0.4444444444444444,
              "#bd3786"
             ],
             [
              0.5555555555555556,
              "#d8576b"
             ],
             [
              0.6666666666666666,
              "#ed7953"
             ],
             [
              0.7777777777777778,
              "#fb9f3a"
             ],
             [
              0.8888888888888888,
              "#fdca26"
             ],
             [
              1,
              "#f0f921"
             ]
            ],
            "type": "surface"
           }
          ],
          "table": [
           {
            "cells": {
             "fill": {
              "color": "#EBF0F8"
             },
             "line": {
              "color": "white"
             }
            },
            "header": {
             "fill": {
              "color": "#C8D4E3"
             },
             "line": {
              "color": "white"
             }
            },
            "type": "table"
           }
          ]
         },
         "layout": {
          "annotationdefaults": {
           "arrowcolor": "#2a3f5f",
           "arrowhead": 0,
           "arrowwidth": 1
          },
          "autotypenumbers": "strict",
          "coloraxis": {
           "colorbar": {
            "outlinewidth": 0,
            "ticks": ""
           }
          },
          "colorscale": {
           "diverging": [
            [
             0,
             "#8e0152"
            ],
            [
             0.1,
             "#c51b7d"
            ],
            [
             0.2,
             "#de77ae"
            ],
            [
             0.3,
             "#f1b6da"
            ],
            [
             0.4,
             "#fde0ef"
            ],
            [
             0.5,
             "#f7f7f7"
            ],
            [
             0.6,
             "#e6f5d0"
            ],
            [
             0.7,
             "#b8e186"
            ],
            [
             0.8,
             "#7fbc41"
            ],
            [
             0.9,
             "#4d9221"
            ],
            [
             1,
             "#276419"
            ]
           ],
           "sequential": [
            [
             0,
             "#0d0887"
            ],
            [
             0.1111111111111111,
             "#46039f"
            ],
            [
             0.2222222222222222,
             "#7201a8"
            ],
            [
             0.3333333333333333,
             "#9c179e"
            ],
            [
             0.4444444444444444,
             "#bd3786"
            ],
            [
             0.5555555555555556,
             "#d8576b"
            ],
            [
             0.6666666666666666,
             "#ed7953"
            ],
            [
             0.7777777777777778,
             "#fb9f3a"
            ],
            [
             0.8888888888888888,
             "#fdca26"
            ],
            [
             1,
             "#f0f921"
            ]
           ],
           "sequentialminus": [
            [
             0,
             "#0d0887"
            ],
            [
             0.1111111111111111,
             "#46039f"
            ],
            [
             0.2222222222222222,
             "#7201a8"
            ],
            [
             0.3333333333333333,
             "#9c179e"
            ],
            [
             0.4444444444444444,
             "#bd3786"
            ],
            [
             0.5555555555555556,
             "#d8576b"
            ],
            [
             0.6666666666666666,
             "#ed7953"
            ],
            [
             0.7777777777777778,
             "#fb9f3a"
            ],
            [
             0.8888888888888888,
             "#fdca26"
            ],
            [
             1,
             "#f0f921"
            ]
           ]
          },
          "colorway": [
           "#636efa",
           "#EF553B",
           "#00cc96",
           "#ab63fa",
           "#FFA15A",
           "#19d3f3",
           "#FF6692",
           "#B6E880",
           "#FF97FF",
           "#FECB52"
          ],
          "font": {
           "color": "#2a3f5f"
          },
          "geo": {
           "bgcolor": "white",
           "lakecolor": "white",
           "landcolor": "#E5ECF6",
           "showlakes": true,
           "showland": true,
           "subunitcolor": "white"
          },
          "hoverlabel": {
           "align": "left"
          },
          "hovermode": "closest",
          "mapbox": {
           "style": "light"
          },
          "paper_bgcolor": "white",
          "plot_bgcolor": "#E5ECF6",
          "polar": {
           "angularaxis": {
            "gridcolor": "white",
            "linecolor": "white",
            "ticks": ""
           },
           "bgcolor": "#E5ECF6",
           "radialaxis": {
            "gridcolor": "white",
            "linecolor": "white",
            "ticks": ""
           }
          },
          "scene": {
           "xaxis": {
            "backgroundcolor": "#E5ECF6",
            "gridcolor": "white",
            "gridwidth": 2,
            "linecolor": "white",
            "showbackground": true,
            "ticks": "",
            "zerolinecolor": "white"
           },
           "yaxis": {
            "backgroundcolor": "#E5ECF6",
            "gridcolor": "white",
            "gridwidth": 2,
            "linecolor": "white",
            "showbackground": true,
            "ticks": "",
            "zerolinecolor": "white"
           },
           "zaxis": {
            "backgroundcolor": "#E5ECF6",
            "gridcolor": "white",
            "gridwidth": 2,
            "linecolor": "white",
            "showbackground": true,
            "ticks": "",
            "zerolinecolor": "white"
           }
          },
          "shapedefaults": {
           "line": {
            "color": "#2a3f5f"
           }
          },
          "ternary": {
           "aaxis": {
            "gridcolor": "white",
            "linecolor": "white",
            "ticks": ""
           },
           "baxis": {
            "gridcolor": "white",
            "linecolor": "white",
            "ticks": ""
           },
           "bgcolor": "#E5ECF6",
           "caxis": {
            "gridcolor": "white",
            "linecolor": "white",
            "ticks": ""
           }
          },
          "title": {
           "x": 0.05
          },
          "xaxis": {
           "automargin": true,
           "gridcolor": "white",
           "linecolor": "white",
           "ticks": "",
           "title": {
            "standoff": 15
           },
           "zerolinecolor": "white",
           "zerolinewidth": 2
          },
          "yaxis": {
           "automargin": true,
           "gridcolor": "white",
           "linecolor": "white",
           "ticks": "",
           "title": {
            "standoff": 15
           },
           "zerolinecolor": "white",
           "zerolinewidth": 2
          }
         }
        },
        "xaxis": {
         "anchor": "y",
         "domain": [
          0,
          1
         ]
        },
        "yaxis": {
         "anchor": "x",
         "domain": [
          0,
          1
         ]
        }
       }
      }
     },
     "metadata": {},
     "output_type": "display_data"
    }
   ],
   "source": [
    "import plotly.express as px\n",
    "import plotly.graph_objects as go\n",
    "df_STE_DE_GESTION = df_combined_lgbm[df_combined_lgbm['ANCSCP'] == 5513.0]\n",
    "df_2017 = df_STE_DE_GESTION[df_STE_DE_GESTION['Date'].dt.year == 2019]\n",
    "fig = px.line()\n",
    "fig = go.Figure(fig)\n",
    "df_2017 = df_2017.sort_values(by=\"Date\")\n",
    "\n",
    "\n",
    "fig.add_trace(go.Scatter(x=df_2017['Date'], y=df_2017['y_pred_lgbm_inverted'], \n",
    "                         mode='lines', name='prediction of Client SMBA 5450 in 2017', line=dict(color='red')))\n",
    "fig.add_trace(go.Scatter(x=df_2017['Date'], y=df_2017['Y_inverted_test'], \n",
    "                         mode='lines', name='test of SMBA 5450 in 2017', line=dict(color='blue')))\n",
    "fig.show()\n"
   ]
  },
  {
   "cell_type": "markdown",
   "metadata": {},
   "source": [
    "#### IV Deployment\n"
   ]
  }
 ],
 "metadata": {
  "language_info": {
   "name": "python"
  }
 },
 "nbformat": 4,
 "nbformat_minor": 2
}
