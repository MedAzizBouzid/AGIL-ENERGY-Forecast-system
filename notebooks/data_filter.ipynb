{
 "cells": [
  {
   "cell_type": "code",
   "execution_count": 1,
   "metadata": {},
   "outputs": [],
   "source": [
    "import pandas as pd\n",
    "import matplotlib.pyplot as plt\n",
    "import numpy as np\n",
    "import warnings \n",
    "warnings.filterwarnings('ignore')\n"
   ]
  },
  {
   "cell_type": "code",
   "execution_count": 4,
   "metadata": {},
   "outputs": [],
   "source": [
    "df=pd.read_excel(\"bi2018_2019.xlsx\")"
   ]
  },
  {
   "cell_type": "code",
   "execution_count": 18,
   "metadata": {},
   "outputs": [],
   "source": [
    "dataset = df[df[\"CATPRD\"] == \"CARBURANT\"]\n"
   ]
  },
  {
   "cell_type": "code",
   "execution_count": 19,
   "metadata": {},
   "outputs": [],
   "source": [
    "dataset.to_csv('carburant.csv',index=False)"
   ]
  },
  {
   "cell_type": "code",
   "execution_count": 20,
   "metadata": {},
   "outputs": [],
   "source": [
    "dataset = dataset.drop(df.columns[0], axis=1)"
   ]
  },
  {
   "cell_type": "code",
   "execution_count": 25,
   "metadata": {},
   "outputs": [
    {
     "name": "stdout",
     "output_type": "stream",
     "text": [
      "<class 'pandas.core.frame.DataFrame'>\n",
      "Index: 42696 entries, 0 to 117838\n",
      "Data columns (total 18 columns):\n",
      " #   Column       Non-Null Count  Dtype  \n",
      "---  ------       --------------  -----  \n",
      " 0   CATPRD       42696 non-null  object \n",
      " 1   CODAME       42696 non-null  int64  \n",
      " 2   LIBAME       42696 non-null  object \n",
      " 3   CODDPO       42696 non-null  int64  \n",
      " 4   NOMDPO       42696 non-null  object \n",
      " 5   CODPRD       42696 non-null  int64  \n",
      " 6   CODEMB       42696 non-null  object \n",
      " 7   LIBPRD       42696 non-null  object \n",
      " 8   NUMCPT       42696 non-null  int64  \n",
      " 9   NOMCLI       42696 non-null  object \n",
      " 10  MOIS         42696 non-null  object \n",
      " 11  CODGVR       42696 non-null  int64  \n",
      " 12  LIBGVR       42696 non-null  object \n",
      " 13  CODLOC       42696 non-null  int64  \n",
      " 14  LIBLOC       42696 non-null  object \n",
      " 15  TYPOPE       42696 non-null  object \n",
      " 16  SUM(MNTHT)   42690 non-null  float64\n",
      " 17  SUM(QTEPRD)  42690 non-null  float64\n",
      "dtypes: float64(2), int64(6), object(10)\n",
      "memory usage: 6.2+ MB\n"
     ]
    }
   ],
   "source": [
    "dataset.info()\n"
   ]
  },
  {
   "cell_type": "code",
   "execution_count": 26,
   "metadata": {},
   "outputs": [
    {
     "data": {
      "text/html": [
       "<div>\n",
       "<style scoped>\n",
       "    .dataframe tbody tr th:only-of-type {\n",
       "        vertical-align: middle;\n",
       "    }\n",
       "\n",
       "    .dataframe tbody tr th {\n",
       "        vertical-align: top;\n",
       "    }\n",
       "\n",
       "    .dataframe thead th {\n",
       "        text-align: right;\n",
       "    }\n",
       "</style>\n",
       "<table border=\"1\" class=\"dataframe\">\n",
       "  <thead>\n",
       "    <tr style=\"text-align: right;\">\n",
       "      <th></th>\n",
       "      <th>CODAME</th>\n",
       "      <th>CODDPO</th>\n",
       "      <th>CODPRD</th>\n",
       "      <th>NUMCPT</th>\n",
       "      <th>CODGVR</th>\n",
       "      <th>CODLOC</th>\n",
       "      <th>SUM(MNTHT)</th>\n",
       "      <th>SUM(QTEPRD)</th>\n",
       "    </tr>\n",
       "  </thead>\n",
       "  <tbody>\n",
       "    <tr>\n",
       "      <th>count</th>\n",
       "      <td>42696.000000</td>\n",
       "      <td>42696.000000</td>\n",
       "      <td>42696.000000</td>\n",
       "      <td>42696.000000</td>\n",
       "      <td>42696.000000</td>\n",
       "      <td>42696.000000</td>\n",
       "      <td>4.269000e+04</td>\n",
       "      <td>42690.000000</td>\n",
       "    </tr>\n",
       "    <tr>\n",
       "      <th>mean</th>\n",
       "      <td>549.161139</td>\n",
       "      <td>14.333895</td>\n",
       "      <td>5.561083</td>\n",
       "      <td>227907.324972</td>\n",
       "      <td>11.509345</td>\n",
       "      <td>34.367669</td>\n",
       "      <td>7.127740e+04</td>\n",
       "      <td>57.762679</td>\n",
       "    </tr>\n",
       "    <tr>\n",
       "      <th>std</th>\n",
       "      <td>210.122069</td>\n",
       "      <td>9.669479</td>\n",
       "      <td>3.075224</td>\n",
       "      <td>132105.732568</td>\n",
       "      <td>7.005996</td>\n",
       "      <td>24.416098</td>\n",
       "      <td>1.364189e+05</td>\n",
       "      <td>125.730991</td>\n",
       "    </tr>\n",
       "    <tr>\n",
       "      <th>min</th>\n",
       "      <td>100.000000</td>\n",
       "      <td>1.000000</td>\n",
       "      <td>3.000000</td>\n",
       "      <td>150300.000000</td>\n",
       "      <td>1.000000</td>\n",
       "      <td>1.000000</td>\n",
       "      <td>-1.717861e+06</td>\n",
       "      <td>-140.000000</td>\n",
       "    </tr>\n",
       "    <tr>\n",
       "      <th>25%</th>\n",
       "      <td>402.000000</td>\n",
       "      <td>1.000000</td>\n",
       "      <td>4.000000</td>\n",
       "      <td>154100.000000</td>\n",
       "      <td>4.000000</td>\n",
       "      <td>15.000000</td>\n",
       "      <td>1.088531e+04</td>\n",
       "      <td>8.000000</td>\n",
       "    </tr>\n",
       "    <tr>\n",
       "      <th>50%</th>\n",
       "      <td>700.000000</td>\n",
       "      <td>20.000000</td>\n",
       "      <td>4.000000</td>\n",
       "      <td>155720.000000</td>\n",
       "      <td>13.000000</td>\n",
       "      <td>30.000000</td>\n",
       "      <td>2.661946e+04</td>\n",
       "      <td>21.000000</td>\n",
       "    </tr>\n",
       "    <tr>\n",
       "      <th>75%</th>\n",
       "      <td>700.000000</td>\n",
       "      <td>20.000000</td>\n",
       "      <td>6.000000</td>\n",
       "      <td>218501.000000</td>\n",
       "      <td>17.000000</td>\n",
       "      <td>47.000000</td>\n",
       "      <td>7.619716e+04</td>\n",
       "      <td>59.000000</td>\n",
       "    </tr>\n",
       "    <tr>\n",
       "      <th>max</th>\n",
       "      <td>999.000000</td>\n",
       "      <td>70.000000</td>\n",
       "      <td>20.000000</td>\n",
       "      <td>677402.000000</td>\n",
       "      <td>24.000000</td>\n",
       "      <td>99.000000</td>\n",
       "      <td>3.378307e+06</td>\n",
       "      <td>3386.460000</td>\n",
       "    </tr>\n",
       "  </tbody>\n",
       "</table>\n",
       "</div>"
      ],
      "text/plain": [
       "             CODAME        CODDPO        CODPRD         NUMCPT        CODGVR  \\\n",
       "count  42696.000000  42696.000000  42696.000000   42696.000000  42696.000000   \n",
       "mean     549.161139     14.333895      5.561083  227907.324972     11.509345   \n",
       "std      210.122069      9.669479      3.075224  132105.732568      7.005996   \n",
       "min      100.000000      1.000000      3.000000  150300.000000      1.000000   \n",
       "25%      402.000000      1.000000      4.000000  154100.000000      4.000000   \n",
       "50%      700.000000     20.000000      4.000000  155720.000000     13.000000   \n",
       "75%      700.000000     20.000000      6.000000  218501.000000     17.000000   \n",
       "max      999.000000     70.000000     20.000000  677402.000000     24.000000   \n",
       "\n",
       "             CODLOC    SUM(MNTHT)   SUM(QTEPRD)  \n",
       "count  42696.000000  4.269000e+04  42690.000000  \n",
       "mean      34.367669  7.127740e+04     57.762679  \n",
       "std       24.416098  1.364189e+05    125.730991  \n",
       "min        1.000000 -1.717861e+06   -140.000000  \n",
       "25%       15.000000  1.088531e+04      8.000000  \n",
       "50%       30.000000  2.661946e+04     21.000000  \n",
       "75%       47.000000  7.619716e+04     59.000000  \n",
       "max       99.000000  3.378307e+06   3386.460000  "
      ]
     },
     "execution_count": 26,
     "metadata": {},
     "output_type": "execute_result"
    }
   ],
   "source": [
    "dataset.describe()"
   ]
  },
  {
   "cell_type": "code",
   "execution_count": 27,
   "metadata": {},
   "outputs": [
    {
     "name": "stdout",
     "output_type": "stream",
     "text": [
      "This Dataset has missing values. \n",
      "             missing_count  missing_percentage\n",
      "SUM(MNTHT)               6            0.014053\n",
      "SUM(QTEPRD)              6            0.014053\n",
      "----------------------------------------------------------\n"
     ]
    }
   ],
   "source": [
    "if(dataset.isnull().values.any()):\n",
    "    print(\"This Dataset has missing values. \")\n",
    "    missing_percentage = dataset.isnull().sum()*100/len(dataset)\n",
    "    missing_value_df = pd.DataFrame({'missing_count': dataset.isnull().sum(),'missing_percentage': missing_percentage})\n",
    "\n",
    "    print(  missing_value_df[missing_value_df.missing_count != 0])\n",
    "print(\"----------------------------------------------------------\")\n",
    "if dataset.duplicated().any():\n",
    "     print(\"This Dataset has duplicated values.\")\n",
    "   "
   ]
  },
  {
   "cell_type": "code",
   "execution_count": 28,
   "metadata": {},
   "outputs": [],
   "source": [
    "dataset=dataset.dropna()"
   ]
  },
  {
   "cell_type": "code",
   "execution_count": 32,
   "metadata": {},
   "outputs": [
    {
     "data": {
      "text/plain": [
       "NOMDPO\n",
       "SKHIRA                  16576\n",
       "GOULETTE                14251\n",
       "BIZERTE CARBURANT        9688\n",
       "ZARZIS                   2050\n",
       "GERANT POIT DE VENTE       49\n",
       "DJERBA                     46\n",
       "TABARKA                    22\n",
       "TUNIS CARTHAGE              8\n",
       "Name: count, dtype: int64"
      ]
     },
     "execution_count": 32,
     "metadata": {},
     "output_type": "execute_result"
    }
   ],
   "source": [
    "dataset['NOMDPO'].value_counts()"
   ]
  },
  {
   "cell_type": "markdown",
   "metadata": {},
   "source": [
    "# run only once this cell\n"
   ]
  },
  {
   "cell_type": "code",
   "execution_count": 68,
   "metadata": {},
   "outputs": [],
   "source": [
    "#dataset = dataset.drop(\"CODPRD\", axis=1)\n",
    "#dataset = dataset.drop(\"CODEMB\", axis=1)\n",
    "#dataset = dataset.drop(\"CODAME\", axis=1)\n",
    "#dataset = dataset.drop(\"CODDPO\", axis=1)\n",
    "#dataset = dataset.drop(\"TYPOPE\", axis=1)\n",
    "#dataset = dataset.drop(\"NOMCLI\", axis=1)\n",
    "#dataset = dataset.drop(\"LIBGVR\", axis=1)\n",
    "#dataset = dataset.drop(\"LIBLOC\", axis=1)\n",
    "#dataset = dataset.drop(\"LIBAME\", axis=1)\n",
    "\n"
   ]
  },
  {
   "cell_type": "markdown",
   "metadata": {},
   "source": [
    "# csv file contenant les gvr et ses code"
   ]
  },
  {
   "cell_type": "code",
   "execution_count": 64,
   "metadata": {},
   "outputs": [
    {
     "name": "stdout",
     "output_type": "stream",
     "text": [
      "[(2, 'ARIANA'), (17, 'SFAX'), (11, 'KAIROUAN'), (21, 'GABES'), (23, 'TATAOUINE'), (16, 'MAHDIA'), (24, 'MANOUBA'), (15, 'MONASTIR'), (19, 'TOZEUR'), (8, 'JENDOUBA'), (9, 'LE KEF'), (20, 'KEBILI'), (14, 'SOUSSE'), (22, 'MEDENINE'), (5, 'ZAGHOUAN'), (18, 'GAFSA'), (6, 'BIZERTE'), (7, 'BEJA'), (10, 'SILIANA'), (4, 'NABEUL'), (1, 'TUNIS'), (12, 'KASSERINE'), (13, 'SIDI BOUZID'), (3, 'BEN AROUS')]\n"
     ]
    }
   ],
   "source": [
    "# tableau=[]\n",
    "# for index, row in df.iterrows():\n",
    "#     tableau.append((row[\"CODGVR\"], row[\"LIBGVR\"]))\n",
    "# ensemble = set(tableau)\n",
    "\n",
    "# # Convertir l'ensemble en tableau\n",
    "# tableau_sans_doublons = list(ensemble)\n",
    "\n",
    "# # Afficher le tableau sans doublons\n",
    "# print(tableau_sans_doublons)\n",
    "# import csv\n",
    "\n",
    "# # Ouvrir le fichier CSV en mode écriture\n",
    "# with open(\"gouvernorat et ses codes.csv\", \"w\", newline=\"\") as csvfile:\n",
    "#     # Créer un objet writer\n",
    "#     writer = csv.writer(csvfile)\n",
    "\n",
    "#     # Écrire l'en-tête du fichier CSV (facultatif)\n",
    "#     writer.writerow([\"CODGVR\", \"LIBGVR\"])\n",
    "\n",
    "#     # Écrire chaque tuple du tableau dans le fichier CSV\n",
    "#     for row in tableau_sans_doublons:\n",
    "#         writer.writerow(row)"
   ]
  },
  {
   "cell_type": "markdown",
   "metadata": {},
   "source": [
    "# csv file contenant les loc et ses code"
   ]
  },
  {
   "cell_type": "code",
   "execution_count": 63,
   "metadata": {},
   "outputs": [
    {
     "name": "stdout",
     "output_type": "stream",
     "text": [
      "[(14, 'SIDI BOU ROUIS'), (79, 'D.M.A MENZ.BOURGUIBA'), (68, 'MENZEL EL HABIB'), (21, 'SIDI ALI BEN ABID'), (2, 'EL HAOUARIA'), (11, 'MENZEL TEMIME'), (21, 'A definir'), (8, 'GHAR EL MELEH'), (53, 'OUED ABID'), (10, 'MORNAGUIA'), (55, 'CHEBIKA'), (58, 'CITE ELKHADRA'), (49, 'CHORBANE'), (34, 'EL HICHERI'), (27, 'CHERARDA'), (44, 'MAHRES'), (21, 'FAIEDH'), (32, 'MESSADINE'), (28, 'CHENINI GABES'), (69, 'OUM CHIAH'), (65, 'EL ATAYA(KERKENNAH)'), (21, 'KORBA'), (51, 'ESSAIDA'), (97, 'BIR EL KASSAA'), (78, 'EL KRATEN KERKENNAH'), (85, 'BAGUEL'), (39, 'GHAR DIMAOU'), (39, 'OUED ELLIL'), (16, 'SEMENJA'), (48, 'EL MAZZOUNA'), (36, 'SAKIET EZZIT'), (79, 'RTE DE SALTANIA'), (51, 'MENZEL HACHED'), (44, 'BAHRA'), (28, 'MOKNINE'), (88, 'DJEBEL GROUZ'), (38, 'TEBOURSOUK'), (22, 'BICHKA'), (54, 'EL KETF'), (80, 'DHIBA'), (28, 'BIR EL HFAY'), (36, 'OUED EL GHAR'), (75, 'GREMDA'), (58, 'MELLITA KERKENNAH'), (60, 'REGIME MATOUG'), (66, 'LE KRAM'), (27, 'SIDI BEN NOUR'), (23, 'SBIBA'), (12, 'CABELET OUELED ASKER'), (98, 'EL OMRANE'), (28, 'OUED ZERGA'), (22, 'EL HAMMA'), (20, 'TUNIS CARTHAGE'), (13, 'KSOUR ESSAF'), (99, 'FONDOUK CHOUCHA'), (12, 'ARIANA'), (90, 'ADAM 18M3'), (3, 'JORF'), (39, 'SOUK DJEDID'), (10, 'KALAAT EL ANDALOUS'), (70, 'BORJ HFAIEDH'), (11, 'CHOTT MARIEM'), (15, 'RADES'), (23, 'BENI HASSEN'), (34, 'MERKEZ ABBES'), (25, 'BIR EL MALLOULI'), (93, 'OUED ZAR HAMMOUDA'), (19, 'EL FAHS'), (2, 'GHANNOUCHE'), (22, 'SOLIMAN'), (4, 'JEDAIDA'), (80, '61 REGIMENT DE GENIE'), (10, 'EL ATTAR'), (34, 'GAFSA'), (40, 'ZARZOUNA'), (54, 'MEGRINE'), (2, 'MAHDIA'), (17, 'MENZEL HORR'), (23, 'FONDOK DJEDID'), (15, 'SIDI ALOUANE'), (18, 'OULED HAFFOUZ'), (57, 'OUED MELLIZ'), (70, 'CHAAL'), (1, 'TABARKA'), (42, 'DOUGGA'), (11, 'MENZEL ENNOUR'), (1, 'HOUMT SOUK'), (1, 'ENFIDAVILLE'), (5, 'TEBOURBA'), (28, 'TURKI'), (25, 'MELLOULECH'), (37, 'BOUHJAR'), (3, 'BOUCHEMMA'), (19, 'ERREGUEB'), (22, 'BOUMHAL'), (7, 'OUECHTATA'), (21, 'ERRCHARCHA'), (36, 'SIDI BOUBAKER'), (1, 'CHAOUAT'), (28, 'SOUSSE'), (4, 'EL OUERDANINE'), (42, \"AIN M'DAKHER\"), (24, 'BARGOU'), (69, 'EZZAOUIA'), (92, 'CHERGUIA 1'), (2, 'SAHLINE'), (45, 'DEGACHE'), (59, 'EDDOULEB'), (12, 'FEJJA'), (23, 'BEJA'), (73, 'KEF EDDOUR OUEST'), (79, 'KSAR SAID'), (45, 'UTIQUE'), (56, 'EL AZIB'), (8, 'DAHMANI'), (36, 'FOUCHANA'), (39, 'SIDI MANSOUR'), (47, 'MAAMOURA'), (4, 'SBIKHA'), (38, 'REDAYEF'), (60, 'NEFZA'), (11, 'LA MARSA'), (47, 'BEN GUERDENE'), (78, 'OUED GUERIANA'), (35, 'AIN DJELLOULA'), (19, 'FERIANA'), (8, 'BEMBLA'), (29, 'TESTOUR'), (3, 'SAHEB EL JEBEL'), (62, 'REMADA'), (6, 'OUESLATIA'), (41, 'BAB SAADOUN'), (20, 'MAGEL BEL ABBES'), (5, 'TOZGRANE'), (65, 'EL AOUINA'), (21, 'SIDI ALI HATTAB'), (15, 'KASSERINE'), (74, 'DJERISSA'), (93, 'RAOUED'), (52, 'ZANNOUCHE'), (1, 'FETISSE'), (55, 'SKHIRA'), (8, 'MORNAGUIA'), (15, 'FERNANA'), (10, 'EL ALIA'), (39, 'SOMAA'), (25, \"M'SAKEN\"), (56, 'MUTUELLE VILLE'), (82, 'ZAHROUNI'), (25, 'ZARZIS'), (15, 'TAJEROUINE'), (88, 'ZAAFRAN'), (38, 'NAASEN'), (1, 'JBENIANA'), (42, 'EL ALA'), (42, 'KESRA'), (10, 'EL KRIB'), (69, 'KAF CHFAIER'), (59, 'BEL OUM'), (74, 'HAMMAM BOURGUIBA'), (57, 'SAIDANE'), (61, 'EL BIBENE'), (16, 'HAMMAM-LIF'), (18, 'MENZEL CHAKER'), (30, 'BOUARGOUB'), (68, 'CHIHIA'), (67, 'SFAX'), (13, 'LA GOULETTE'), (90, 'GAMMARTH'), (93, 'LIMAYA'), (42, 'BAB ALIOUA'), (81, 'HASOUA'), (26, 'GROMBALIA'), (28, 'SBEITLA'), (5, 'MESJED AISSA'), (22, 'SIDI IICH'), (73, 'KHAMMOUDA'), (8, 'HAMMAM EL GHAZEZ'), (38, 'BEJAOUA'), (9, 'MENZEL SALEM'), (44, 'SIDI DAOUD'), (56, 'EL HOUAREB'), (74, 'KERKOUANE'), (18, 'OUM ALI'), (33, 'SAOUAF'), (44, 'LA KASBA'), (8, 'REJICHE'), (33, 'JENDOUBA'), (39, 'SIDI KHLIFA'), (57, 'BELVEDERE'), (12, 'DJEBEL EL OUEST'), (53, 'EL AKARIT'), (16, 'JANHOURA'), (96, 'HASSI AMOR'), (42, 'SIDI THABET'), (29, 'BEKALTA'), (17, 'BORJ EL AMRI'), (58, 'BEZMA'), (50, 'JEBEL JELLOUD'), (48, 'DAR ALLOUCHE'), (27, 'ETTAOUILA'), (25, 'SIDI BOUZID'), (14, 'SALAKTA'), (19, 'AMDOUN'), (91, 'OUED ZAR HAMMOUDA 18'), (33, 'ELFAOUAR'), (22, 'KALAAT DJERDA KHASBA'), (15, 'REGUADA'), (98, 'JERBA'), (26, 'CHRAHIL'), (80, 'EZZITOUNA'), (62, 'EL KSOUR'), (17, 'ZERAMDINE'), (75, 'LE BARDO'), (3, 'MENZEL  JEMIL'), (62, 'SOUK LAHAD'), (37, 'MOULARES'), (29, 'TEBOULBOU'), (43, 'MEKNASSY'), (9, 'BORJ EL AMRI'), (70, 'KAF EDDOUR'), (56, 'SMAR'), (49, 'MARETH'), (33, 'MEDJEZ EL BAB'), (74, 'EL HICHA'), (15, 'TAKELSA'), (46, 'ZARKINE'), (67, 'SALAMBO'), (83, 'MIDOUNE'), (41, 'DAR CHAABEN EL FEHRI'), (15, 'SIDI MAKHLOUF'), (52, 'BEN AROUS'), (16, 'BOUGHRARA'), (19, 'SIDI DHAHER'), (75, 'LAKTAB'), (17, 'BORJ CEDRIA'), (1, 'THALA'), (78, '51 R.A.A'), (50, 'HAJEB EL AYOUN'), (47, 'KABARIA'), (2, 'DENDEN'), (5, 'RAS DJEBEL'), (13, 'ENNASR'), (28, 'SIDI ALI BEN NASRALL'), (36, 'NABEUL'), (46, 'KORBOUS'), (40, 'BAB JEBLI'), (73, 'B.A SIDI AHMED'), (42, 'DOUALA'), (89, 'NEBEUR'), (10, 'MENZEL HARB'), (1, 'MONASTIR'), (46, 'TINJA'), (4, 'METOUIA'), (46, 'EL OUARDIA'), (71, 'JALLABIA'), (48, 'MONTFLEURY'), (6, 'JELMA'), (41, 'SOUKRA'), (34, 'CARTHAGE'), (5, 'OUEDHREF'), (19, 'KALAA SGHIRA'), (18, 'MOGRANE'), (36, 'LAMTA'), (36, 'ROUISSET'), (2, 'MENZEL ABDERRAHMAN'), (31, 'DOUZ'), (1, 'BIZERTE'), (46, 'NEFTA'), (30, 'TEBOULBA'), (30, 'SNED'), (46, 'BIR ALI BEN KHELIFA'), (40, 'TAZARKA'), (29, \"MENZEL M'HIRI\"), (68, 'KAMMOUR'), (2, 'BATEN EL GHAZEL'), (3, 'BOUARADA'), (11, 'SIDI ALI HATTAB'), (49, 'EL GUETAR'), (50, 'EL MORRA'), (99, 'BENI KHEDACHE'), (22, 'BOUSALEM'), (34, 'I D E N'), (24, 'EL GARAA NAAM'), (59, 'EL MENZAH'), (77, 'FOUSSANA'), (81, 'G.F.F ROUMMADIA'), (9, 'AIN DRAHEM'), (29, 'AKOUDA'), (38, 'SOUASSI'), (1, 'A definir'), (38, 'KSAR HELLAL'), (98, 'TOUZA'), (24, 'LESSOUDA'), (35, 'HAMMAMET'), (14, 'KALAA KBIRA'), (4, 'METLINE'), (27, 'HAMMAM SOUSSE'), (37, 'TATAOUINE'), (83, 'EZZOUHOUR'), (19, 'MOHAMADIA'), (72, 'B.A KHARROUBA'), (61, 'BORJ LOUZIR'), (1, 'MZINDA'), (61, 'KERKENAH'), (86, 'NAKTA'), (50, 'LE SERS'), (50, 'SOUK HBIRA'), (72, 'MAJEL DRAJ'), (34, 'GHOMRASSEN'), (31, 'KERKER'), (65, 'EL BORMA'), (77, 'BOUSLIM'), (75, 'B.A JBEL EL KBIR'), (68, 'BELLI'), (16, 'BOUJARBOU'), (3, 'HAIDRA'), (21, 'SIDI AMOR BOUHAJLA'), (44, 'EZZAHRA'), (39, 'EL AYOUN'), (1, 'CHEBBA'), (37, 'SAKIET ED-DAIER'), (95, 'KOUTINE'), (44, 'TOZEUR'), (53, 'EL MOUROUJ'), (19, 'JAMMEL'), (75, 'DOUAR HICHER'), (1, 'MANNOUBA'), (7, 'GAAFOUR'), (40, 'SIDI BOUSAID'), (74, 'DENDEN'), (74, 'E.T.A.T'), (37, 'KETTANA'), (38, 'EL BDARNA'), (49, 'DUBOSVILLE'), (18, 'EL MIDA'), (19, 'JEMNA'), (15, 'KEBILI'), (81, 'SIDI SMAIL'), (12, 'OUM ESSOUMAA'), (26, 'BALTA'), (31, 'SAYADA'), (35, 'EL JEM'), (71, 'ECOLE DES S.OFFICIER'), (76, 'THELEPTE'), (97, 'BIR AMIR'), (15, 'MENZEL BOURGUIBA'), (48, 'ROUHIA'), (15, 'A definir'), (8, 'AJIM'), (49, 'EL HECHIM'), (10, 'KELIBIA'), (24, 'BENI-KHALED'), (6, 'MENZEL DAR BEL OUAER'), (51, 'SIDI FATHALLAH'), (12, 'SEDJOUMI'), (25, 'HAMMAM ZRIBA'), (32, 'GOUBELLAT'), (96, 'KSAR GHILANE'), (17, 'BOUTHADI'), (8, 'BEN BECHIR'), (77, 'ACADEMIE NATIONALE'), (35, 'MAKTHAR'), (34, 'NADOUR'), (49, 'KSAR MHIRA'), (91, \"M'NIHLA\"), (8, 'HERGLA'), (13, 'BIR MCHERGUA'), (48, \"M'DHILLA\"), (69, 'THIARET'), (50, 'ZEOUAOUINE'), (13, 'KONDAR'), (4, 'CHEOUIGUI'), (3, 'TEBOURBA'), (94, 'CEBALET B AMMAR'), (16, 'MENZEL EL HAYET'), (11, 'FEJJA'), (30, 'AGAREB'), (74, 'SIDI SALAH'), (5, 'LE KEF'), (1, 'GABES'), (51, 'SIDI SAAD'), (43, 'TUNIS VILLE'), (72, 'BEN GHILOUF'), (53, 'HAFFOUZ'), (38, 'BENI KHIAR'), (37, 'ZAGHOUAN'), (14, 'MEDENINE'), (53, 'MORNAGUIA'), (20, 'MENZEL BOUZELFA'), (75, 'EL AOUINET'), (44, 'OULED CHAMEKH'), (40, 'MATMATA'), (7, 'KHENIS'), (95, 'BIR LAHMAR'), (21, 'SIDI EL HENI'), (31, 'SILIANA'), (63, 'BERGES DU LAC'), (38, 'BOUFICHA'), (40, 'OUDHNA'), (17, 'MATEUR'), (62, 'KHETMINE'), (7, 'RAF RAF'), (40, 'MENZEL BOUZAIENE'), (33, 'BENNENE'), (42, 'ZHENA'), (18, 'JOUMINE'), (4, 'SAKIET SIDI YOUSSEF'), (38, 'SEJNENE'), (42, 'METLAOUI'), (34, 'BOURJINE'), (29, 'TINA'), (45, 'GHREIBA'), (18, 'KALAAT  SENAN'), (58, 'THIBAR'), (13, 'EL AMRA'), (64, 'SEHIB'), (22, 'EL KANTRA'), (13, 'KAIROUAN'), (63, 'CHOTRANA'), (5, 'HENCHA'), (41, 'CHEBIKA'), (34, 'BIR BOURAGBA'), (30, 'BOUMARDES'), (81, 'MELLASINE'), (9, 'LOUZA'), (11, 'HZEG'), (57, 'SLOUGUIA'), (28, 'GARGOUR'), (58, 'JBEL EL KEBIR'), (29, 'BEN AOUN'), (6, 'AZMOUR'), (47, 'EZZARAT'), (14, 'MANOUBA'), (81, 'ENNAOURA'), (21, 'MORNAG'), (54, 'EL BATEN'), (9, 'SIDI BOU ALI'), (35, 'KSIBET EL MADIOUNI')]\n"
     ]
    }
   ],
   "source": [
    "# tableau=[]\n",
    "# for index, row in df.iterrows():\n",
    "#     tableau.append((row[\"CODLOC\"], row[\"LIBLOC\"]))\n",
    "# ensemble = set(tableau)\n",
    "\n",
    "# # Convertir l'ensemble en tableau\n",
    "# tableau_sans_doublons = list(ensemble)\n",
    "\n",
    "# # Afficher le tableau sans doublons\n",
    "# print(tableau_sans_doublons)\n",
    "# import csv\n",
    "\n",
    "# # Ouvrir le fichier CSV en mode écriture\n",
    "# with open(\"localisation et ses codes.csv\", \"w\", newline=\"\") as csvfile:\n",
    "#     # Créer un objet writer\n",
    "#     writer = csv.writer(csvfile)\n",
    "\n",
    "#     # Écrire l'en-tête du fichier CSV (facultatif)\n",
    "#     writer.writerow([\"CODLOC\", \"LIBLOC\"])\n",
    "\n",
    "#     # Écrire chaque tuple du tableau dans le fichier CSV\n",
    "#     for row in tableau_sans_doublons:\n",
    "#         writer.writerow(row)"
   ]
  },
  {
   "cell_type": "code",
   "execution_count": 70,
   "metadata": {},
   "outputs": [
    {
     "data": {
      "text/html": [
       "<div>\n",
       "<style scoped>\n",
       "    .dataframe tbody tr th:only-of-type {\n",
       "        vertical-align: middle;\n",
       "    }\n",
       "\n",
       "    .dataframe tbody tr th {\n",
       "        vertical-align: top;\n",
       "    }\n",
       "\n",
       "    .dataframe thead th {\n",
       "        text-align: right;\n",
       "    }\n",
       "</style>\n",
       "<table border=\"1\" class=\"dataframe\">\n",
       "  <thead>\n",
       "    <tr style=\"text-align: right;\">\n",
       "      <th></th>\n",
       "      <th>CATPRD</th>\n",
       "      <th>NOMDPO</th>\n",
       "      <th>LIBPRD</th>\n",
       "      <th>NUMCPT</th>\n",
       "      <th>MOIS</th>\n",
       "      <th>CODGVR</th>\n",
       "      <th>CODLOC</th>\n",
       "      <th>SUM(MNTHT)</th>\n",
       "      <th>SUM(QTEPRD)</th>\n",
       "    </tr>\n",
       "  </thead>\n",
       "  <tbody>\n",
       "    <tr>\n",
       "      <th>0</th>\n",
       "      <td>CARBURANT</td>\n",
       "      <td>GOULETTE</td>\n",
       "      <td>GASOIL</td>\n",
       "      <td>151140</td>\n",
       "      <td>02/18</td>\n",
       "      <td>1</td>\n",
       "      <td>75</td>\n",
       "      <td>28077.686</td>\n",
       "      <td>26.0</td>\n",
       "    </tr>\n",
       "    <tr>\n",
       "      <th>2</th>\n",
       "      <td>CARBURANT</td>\n",
       "      <td>SKHIRA</td>\n",
       "      <td>GASOIL</td>\n",
       "      <td>211311</td>\n",
       "      <td>01/18</td>\n",
       "      <td>23</td>\n",
       "      <td>91</td>\n",
       "      <td>65156.482</td>\n",
       "      <td>62.0</td>\n",
       "    </tr>\n",
       "    <tr>\n",
       "      <th>6</th>\n",
       "      <td>CARBURANT</td>\n",
       "      <td>BIZERTE CARBURANT</td>\n",
       "      <td>GASOIL</td>\n",
       "      <td>153660</td>\n",
       "      <td>01/18</td>\n",
       "      <td>6</td>\n",
       "      <td>15</td>\n",
       "      <td>82073.236</td>\n",
       "      <td>76.0</td>\n",
       "    </tr>\n",
       "    <tr>\n",
       "      <th>7</th>\n",
       "      <td>CARBURANT</td>\n",
       "      <td>GOULETTE</td>\n",
       "      <td>SSP SUPER SANS PLOMB</td>\n",
       "      <td>154730</td>\n",
       "      <td>02/18</td>\n",
       "      <td>14</td>\n",
       "      <td>14</td>\n",
       "      <td>55151.072</td>\n",
       "      <td>38.0</td>\n",
       "    </tr>\n",
       "    <tr>\n",
       "      <th>8</th>\n",
       "      <td>CARBURANT</td>\n",
       "      <td>GOULETTE</td>\n",
       "      <td>SSP SUPER SANS PLOMB</td>\n",
       "      <td>155330</td>\n",
       "      <td>02/18</td>\n",
       "      <td>1</td>\n",
       "      <td>90</td>\n",
       "      <td>134974.992</td>\n",
       "      <td>93.0</td>\n",
       "    </tr>\n",
       "    <tr>\n",
       "      <th>...</th>\n",
       "      <td>...</td>\n",
       "      <td>...</td>\n",
       "      <td>...</td>\n",
       "      <td>...</td>\n",
       "      <td>...</td>\n",
       "      <td>...</td>\n",
       "      <td>...</td>\n",
       "      <td>...</td>\n",
       "      <td>...</td>\n",
       "    </tr>\n",
       "    <tr>\n",
       "      <th>117834</th>\n",
       "      <td>CARBURANT</td>\n",
       "      <td>SKHIRA</td>\n",
       "      <td>SSP SUPER SANS PLOMB</td>\n",
       "      <td>563741</td>\n",
       "      <td>12/19</td>\n",
       "      <td>20</td>\n",
       "      <td>15</td>\n",
       "      <td>16687.390</td>\n",
       "      <td>10.0</td>\n",
       "    </tr>\n",
       "    <tr>\n",
       "      <th>117835</th>\n",
       "      <td>CARBURANT</td>\n",
       "      <td>SKHIRA</td>\n",
       "      <td>GASOIL</td>\n",
       "      <td>205541</td>\n",
       "      <td>12/19</td>\n",
       "      <td>14</td>\n",
       "      <td>28</td>\n",
       "      <td>24893.287</td>\n",
       "      <td>19.0</td>\n",
       "    </tr>\n",
       "    <tr>\n",
       "      <th>117836</th>\n",
       "      <td>CARBURANT</td>\n",
       "      <td>SKHIRA</td>\n",
       "      <td>GASOIL</td>\n",
       "      <td>566001</td>\n",
       "      <td>12/19</td>\n",
       "      <td>13</td>\n",
       "      <td>43</td>\n",
       "      <td>3992.919</td>\n",
       "      <td>3.0</td>\n",
       "    </tr>\n",
       "    <tr>\n",
       "      <th>117837</th>\n",
       "      <td>CARBURANT</td>\n",
       "      <td>SKHIRA</td>\n",
       "      <td>GASOIL</td>\n",
       "      <td>241330</td>\n",
       "      <td>12/19</td>\n",
       "      <td>23</td>\n",
       "      <td>91</td>\n",
       "      <td>41260.163</td>\n",
       "      <td>31.0</td>\n",
       "    </tr>\n",
       "    <tr>\n",
       "      <th>117838</th>\n",
       "      <td>CARBURANT</td>\n",
       "      <td>SKHIRA</td>\n",
       "      <td>GASOIL</td>\n",
       "      <td>216961</td>\n",
       "      <td>12/19</td>\n",
       "      <td>18</td>\n",
       "      <td>34</td>\n",
       "      <td>9225.811</td>\n",
       "      <td>7.0</td>\n",
       "    </tr>\n",
       "  </tbody>\n",
       "</table>\n",
       "<p>42690 rows × 9 columns</p>\n",
       "</div>"
      ],
      "text/plain": [
       "           CATPRD             NOMDPO                LIBPRD  NUMCPT   MOIS  \\\n",
       "0       CARBURANT           GOULETTE                GASOIL  151140  02/18   \n",
       "2       CARBURANT             SKHIRA                GASOIL  211311  01/18   \n",
       "6       CARBURANT  BIZERTE CARBURANT                GASOIL  153660  01/18   \n",
       "7       CARBURANT           GOULETTE  SSP SUPER SANS PLOMB  154730  02/18   \n",
       "8       CARBURANT           GOULETTE  SSP SUPER SANS PLOMB  155330  02/18   \n",
       "...           ...                ...                   ...     ...    ...   \n",
       "117834  CARBURANT             SKHIRA  SSP SUPER SANS PLOMB  563741  12/19   \n",
       "117835  CARBURANT             SKHIRA                GASOIL  205541  12/19   \n",
       "117836  CARBURANT             SKHIRA                GASOIL  566001  12/19   \n",
       "117837  CARBURANT             SKHIRA                GASOIL  241330  12/19   \n",
       "117838  CARBURANT             SKHIRA                GASOIL  216961  12/19   \n",
       "\n",
       "        CODGVR  CODLOC  SUM(MNTHT)  SUM(QTEPRD)  \n",
       "0            1      75   28077.686         26.0  \n",
       "2           23      91   65156.482         62.0  \n",
       "6            6      15   82073.236         76.0  \n",
       "7           14      14   55151.072         38.0  \n",
       "8            1      90  134974.992         93.0  \n",
       "...        ...     ...         ...          ...  \n",
       "117834      20      15   16687.390         10.0  \n",
       "117835      14      28   24893.287         19.0  \n",
       "117836      13      43    3992.919          3.0  \n",
       "117837      23      91   41260.163         31.0  \n",
       "117838      18      34    9225.811          7.0  \n",
       "\n",
       "[42690 rows x 9 columns]"
      ]
     },
     "execution_count": 70,
     "metadata": {},
     "output_type": "execute_result"
    }
   ],
   "source": [
    "dataset"
   ]
  },
  {
   "cell_type": "code",
   "execution_count": 1,
   "metadata": {},
   "outputs": [
    {
     "ename": "NameError",
     "evalue": "name 'dataset' is not defined",
     "output_type": "error",
     "traceback": [
      "\u001b[1;31m---------------------------------------------------------------------------\u001b[0m",
      "\u001b[1;31mNameError\u001b[0m                                 Traceback (most recent call last)",
      "Cell \u001b[1;32mIn[1], line 1\u001b[0m\n\u001b[1;32m----> 1\u001b[0m dataset\u001b[39m.\u001b[39mto_csv(\u001b[39m'\u001b[39m\u001b[39mcarburant_cleaned.csv\u001b[39m\u001b[39m'\u001b[39m)\n",
      "\u001b[1;31mNameError\u001b[0m: name 'dataset' is not defined"
     ]
    }
   ],
   "source": [
    "dataset.to_csv('carburant_cleaned.csv')"
   ]
  },
  {
   "cell_type": "markdown",
   "metadata": {},
   "source": []
  }
 ],
 "metadata": {
  "language_info": {
   "name": "python"
  }
 },
 "nbformat": 4,
 "nbformat_minor": 2
}
